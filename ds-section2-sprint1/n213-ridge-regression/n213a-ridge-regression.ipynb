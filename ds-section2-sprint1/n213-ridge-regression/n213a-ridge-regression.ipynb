{
  "cells": [
    {
      "cell_type": "markdown",
      "source": [
        "<img align=\"right\" src=\"https://ds-cs-images.s3.ap-northeast-2.amazonaws.com/Codestates_Fulllogo_Color.png\" width=100>\n",
        "\n",
        "## *AIB / SECTION 2 / SPRINT 1 / NOTE 3*\n",
        "\n",
        "# 📝 Assignment\n",
        "---"
      ],
      "metadata": {
        "id": "W0UI9OD-bT19"
      }
    },
    {
      "cell_type": "markdown",
      "source": [
        "# Ridge Regression\n",
        "\n",
        "이번 모듈에서 배운 내용을 조금 다른 데이터를 통해 복습해 봅시다. 데이터에 대한 정보는 다음 링크를 참조해 주세요.\n",
        "\n",
        "- [Melbourne Housing Market]('https://www.kaggle.com/anthonypino/melbourne-housing-market')\n",
        "\n",
        "이번에도 Price 변수를 target으로 정하고 모델을 구성해 봅시다."
      ],
      "metadata": {
        "id": "7IXUfiQ2UKj6"
      }
    },
    {
      "cell_type": "code",
      "execution_count": 1,
      "source": [
        "import pandas as pd\n",
        "from pandas_profiling import ProfileReport\n",
        "from sklearn.model_selection import train_test_split\n",
        "\n",
        "# get data\n",
        "df = pd.read_csv('https://ds-lecture-data.s3.ap-northeast-2.amazonaws.com/melbourne_house_prices/MELBOURNE_HOUSE_PRICES_LESS.csv')\n",
        "\n",
        "# drop high cardinality cols\n",
        "df.drop(columns=['Suburb','Address','SellerG','Date'], inplace=True)\n",
        "\n",
        "# drop na values in Price\n",
        "df.dropna(subset=['Price'], inplace=True)\n",
        "\n",
        "# drop duplicated rows\n",
        "df.drop_duplicates(inplace=True)\n",
        "\n"
      ],
      "outputs": [],
      "metadata": {
        "id": "QJBD4ruICm1m"
      }
    },
    {
      "cell_type": "markdown",
      "source": [
        "### 1) 데이터의 특성을 파악하기 위해 pandas_profiling을 사용해 보세요.\n",
        "- **(Urclass Quiz) 범주형 특성으로 원핫인코딩을 할 수 있는 특성의 전체 개수를 제출하세요.**"
      ],
      "metadata": {
        "id": "yEvRkMJ7bT2E"
      }
    },
    {
      "cell_type": "code",
      "execution_count": null,
      "source": [
        "df.profile_report()"
      ],
      "outputs": [],
      "metadata": {
        "id": "7ZZ2AHlCbT2F"
      }
    },
    {
      "cell_type": "code",
      "source": [
        "df.dtypes"
      ],
      "metadata": {
        "id": "v2EQHUw1b7Xx",
        "outputId": "78a474ea-93d4-4b2a-80cb-6cd2dcba3529",
        "colab": {
          "base_uri": "https://localhost:8080/"
        }
      },
      "execution_count": 2,
      "outputs": [
        {
          "output_type": "execute_result",
          "data": {
            "text/plain": [
              "Rooms              int64\n",
              "Type              object\n",
              "Price            float64\n",
              "Method            object\n",
              "Postcode           int64\n",
              "Regionname        object\n",
              "Propertycount      int64\n",
              "Distance         float64\n",
              "CouncilArea       object\n",
              "dtype: object"
            ]
          },
          "metadata": {},
          "execution_count": 2
        }
      ]
    },
    {
      "cell_type": "code",
      "source": [
        "# Type, Method, Regionname, CoucilArea : 4가지"
      ],
      "metadata": {
        "id": "1Bwa-j0Bb9dm"
      },
      "execution_count": null,
      "outputs": []
    },
    {
      "cell_type": "markdown",
      "source": [
        "### 2) 범주형 변수들에 대해 one-hot encoding(category_encoders)을 수행하고 데이터를 train/test 셋으로 무작위로 나누어 주세요.(train/test = 80%/20%)\n",
        "- [category_encoders.one_hot.OneHotEncoder](https://contrib.scikit-learn.org/category_encoders/onehot.html#one-hot), 파라미터는 use_cat_names = True 사용\n",
        "- 데이터 분리는 [sklearn.model_selection.train_test_split](https://scikit-learn.org/stable/modules/generated/sklearn.model_selection.train_test_split.html?highlight=train%20test%20split#sklearn-model-selection-train-test-split) 을 사용해 주세요. 사용해야 하는 파라미터는 test_size, train_size, random_state=2 입니다. 나머지는 default 사용합니다.\n",
        "- **(Urclass Quiz) 분리된 학습데이터의 첫번째 샘플의 인덱스 값를 제출하세요.**\n"
      ],
      "metadata": {
        "id": "Qzklp9QibT2F"
      }
    },
    {
      "cell_type": "code",
      "execution_count": 6,
      "source": [
        "from category_encoders import OneHotEncoder\n",
        "\n",
        "encoder = OneHotEncoder(use_cat_names = True)\n",
        "df = encoder.fit_transform(df)\n",
        "\n",
        "train, test = train_test_split(df, train_size = 0.8, test_size = 0.2, random_state = 2)\n",
        "train"
      ],
      "outputs": [
        {
          "output_type": "stream",
          "name": "stdout",
          "text": [
            "Warning: No categorical columns found. Calling 'transform' will only return input data.\n"
          ]
        },
        {
          "output_type": "execute_result",
          "data": {
            "text/plain": [
              "       Rooms  Type_h  Type_t  Type_u      Price  Method_S  Method_SP  \\\n",
              "602        4       1       0       0  1750000.0         1          0   \n",
              "40851      5       1       0       0   900000.0         1          0   \n",
              "57233      4       1       0       0   530000.0         0          0   \n",
              "8816       4       1       0       0   975000.0         1          0   \n",
              "3481       3       1       0       0   556000.0         1          0   \n",
              "...      ...     ...     ...     ...        ...       ...        ...   \n",
              "44542      3       1       0       0   695000.0         1          0   \n",
              "43399      2       0       0       1   490000.0         1          0   \n",
              "8789       6       1       0       0   830000.0         0          0   \n",
              "51700      3       1       0       0   380000.0         0          0   \n",
              "33935      3       1       0       0  1516000.0         1          0   \n",
              "\n",
              "       Method_VB  Method_PI  Method_SA  ...  \\\n",
              "602            0          0          0  ...   \n",
              "40851          0          0          0  ...   \n",
              "57233          1          0          0  ...   \n",
              "8816           0          0          0  ...   \n",
              "3481           0          0          0  ...   \n",
              "...          ...        ...        ...  ...   \n",
              "44542          0          0          0  ...   \n",
              "43399          0          0          0  ...   \n",
              "8789           0          1          0  ...   \n",
              "51700          0          1          0  ...   \n",
              "33935          0          0          0  ...   \n",
              "\n",
              "       CouncilArea_Nillumbik Shire Council  \\\n",
              "602                                      0   \n",
              "40851                                    0   \n",
              "57233                                    0   \n",
              "8816                                     0   \n",
              "3481                                     0   \n",
              "...                                    ...   \n",
              "44542                                    0   \n",
              "43399                                    0   \n",
              "8789                                     0   \n",
              "51700                                    0   \n",
              "33935                                    0   \n",
              "\n",
              "       CouncilArea_Whittlesea City Council  CouncilArea_Knox City Council  \\\n",
              "602                                      0                              0   \n",
              "40851                                    0                              0   \n",
              "57233                                    0                              0   \n",
              "8816                                     0                              0   \n",
              "3481                                     1                              0   \n",
              "...                                    ...                            ...   \n",
              "44542                                    0                              0   \n",
              "43399                                    0                              0   \n",
              "8789                                     0                              0   \n",
              "51700                                    0                              0   \n",
              "33935                                    0                              0   \n",
              "\n",
              "       CouncilArea_Wyndham City Council  \\\n",
              "602                                   0   \n",
              "40851                                 0   \n",
              "57233                                 0   \n",
              "8816                                  0   \n",
              "3481                                  0   \n",
              "...                                 ...   \n",
              "44542                                 0   \n",
              "43399                                 0   \n",
              "8789                                  0   \n",
              "51700                                 0   \n",
              "33935                                 0   \n",
              "\n",
              "       CouncilArea_Yarra Ranges Shire Council  \\\n",
              "602                                         0   \n",
              "40851                                       0   \n",
              "57233                                       0   \n",
              "8816                                        0   \n",
              "3481                                        0   \n",
              "...                                       ...   \n",
              "44542                                       0   \n",
              "43399                                       0   \n",
              "8789                                        0   \n",
              "51700                                       0   \n",
              "33935                                       0   \n",
              "\n",
              "       CouncilArea_Cardinia Shire Council  \\\n",
              "602                                     0   \n",
              "40851                                   0   \n",
              "57233                                   0   \n",
              "8816                                    0   \n",
              "3481                                    0   \n",
              "...                                   ...   \n",
              "44542                                   0   \n",
              "43399                                   0   \n",
              "8789                                    0   \n",
              "51700                                   0   \n",
              "33935                                   0   \n",
              "\n",
              "       CouncilArea_Macedon Ranges Shire Council  \\\n",
              "602                                           0   \n",
              "40851                                         0   \n",
              "57233                                         0   \n",
              "8816                                          0   \n",
              "3481                                          0   \n",
              "...                                         ...   \n",
              "44542                                         0   \n",
              "43399                                         0   \n",
              "8789                                          0   \n",
              "51700                                         0   \n",
              "33935                                         0   \n",
              "\n",
              "       CouncilArea_Mitchell Shire Council  \\\n",
              "602                                     0   \n",
              "40851                                   0   \n",
              "57233                                   0   \n",
              "8816                                    0   \n",
              "3481                                    0   \n",
              "...                                   ...   \n",
              "44542                                   0   \n",
              "43399                                   0   \n",
              "8789                                    0   \n",
              "51700                                   0   \n",
              "33935                                   0   \n",
              "\n",
              "       CouncilArea_Moorabool Shire Council  \\\n",
              "602                                      0   \n",
              "40851                                    0   \n",
              "57233                                    0   \n",
              "8816                                     0   \n",
              "3481                                     0   \n",
              "...                                    ...   \n",
              "44542                                    0   \n",
              "43399                                    0   \n",
              "8789                                     0   \n",
              "51700                                    0   \n",
              "33935                                    0   \n",
              "\n",
              "       CouncilArea_Murrindindi Shire Council  \n",
              "602                                        0  \n",
              "40851                                      0  \n",
              "57233                                      0  \n",
              "8816                                       0  \n",
              "3481                                       0  \n",
              "...                                      ...  \n",
              "44542                                      0  \n",
              "43399                                      0  \n",
              "8789                                       0  \n",
              "51700                                      0  \n",
              "33935                                      0  \n",
              "\n",
              "[34012 rows x 55 columns]"
            ],
            "text/html": [
              "\n",
              "  <div id=\"df-f886a609-d98a-4d93-a416-594f7f509aae\">\n",
              "    <div class=\"colab-df-container\">\n",
              "      <div>\n",
              "<style scoped>\n",
              "    .dataframe tbody tr th:only-of-type {\n",
              "        vertical-align: middle;\n",
              "    }\n",
              "\n",
              "    .dataframe tbody tr th {\n",
              "        vertical-align: top;\n",
              "    }\n",
              "\n",
              "    .dataframe thead th {\n",
              "        text-align: right;\n",
              "    }\n",
              "</style>\n",
              "<table border=\"1\" class=\"dataframe\">\n",
              "  <thead>\n",
              "    <tr style=\"text-align: right;\">\n",
              "      <th></th>\n",
              "      <th>Rooms</th>\n",
              "      <th>Type_h</th>\n",
              "      <th>Type_t</th>\n",
              "      <th>Type_u</th>\n",
              "      <th>Price</th>\n",
              "      <th>Method_S</th>\n",
              "      <th>Method_SP</th>\n",
              "      <th>Method_VB</th>\n",
              "      <th>Method_PI</th>\n",
              "      <th>Method_SA</th>\n",
              "      <th>...</th>\n",
              "      <th>CouncilArea_Nillumbik Shire Council</th>\n",
              "      <th>CouncilArea_Whittlesea City Council</th>\n",
              "      <th>CouncilArea_Knox City Council</th>\n",
              "      <th>CouncilArea_Wyndham City Council</th>\n",
              "      <th>CouncilArea_Yarra Ranges Shire Council</th>\n",
              "      <th>CouncilArea_Cardinia Shire Council</th>\n",
              "      <th>CouncilArea_Macedon Ranges Shire Council</th>\n",
              "      <th>CouncilArea_Mitchell Shire Council</th>\n",
              "      <th>CouncilArea_Moorabool Shire Council</th>\n",
              "      <th>CouncilArea_Murrindindi Shire Council</th>\n",
              "    </tr>\n",
              "  </thead>\n",
              "  <tbody>\n",
              "    <tr>\n",
              "      <th>602</th>\n",
              "      <td>4</td>\n",
              "      <td>1</td>\n",
              "      <td>0</td>\n",
              "      <td>0</td>\n",
              "      <td>1750000.0</td>\n",
              "      <td>1</td>\n",
              "      <td>0</td>\n",
              "      <td>0</td>\n",
              "      <td>0</td>\n",
              "      <td>0</td>\n",
              "      <td>...</td>\n",
              "      <td>0</td>\n",
              "      <td>0</td>\n",
              "      <td>0</td>\n",
              "      <td>0</td>\n",
              "      <td>0</td>\n",
              "      <td>0</td>\n",
              "      <td>0</td>\n",
              "      <td>0</td>\n",
              "      <td>0</td>\n",
              "      <td>0</td>\n",
              "    </tr>\n",
              "    <tr>\n",
              "      <th>40851</th>\n",
              "      <td>5</td>\n",
              "      <td>1</td>\n",
              "      <td>0</td>\n",
              "      <td>0</td>\n",
              "      <td>900000.0</td>\n",
              "      <td>1</td>\n",
              "      <td>0</td>\n",
              "      <td>0</td>\n",
              "      <td>0</td>\n",
              "      <td>0</td>\n",
              "      <td>...</td>\n",
              "      <td>0</td>\n",
              "      <td>0</td>\n",
              "      <td>0</td>\n",
              "      <td>0</td>\n",
              "      <td>0</td>\n",
              "      <td>0</td>\n",
              "      <td>0</td>\n",
              "      <td>0</td>\n",
              "      <td>0</td>\n",
              "      <td>0</td>\n",
              "    </tr>\n",
              "    <tr>\n",
              "      <th>57233</th>\n",
              "      <td>4</td>\n",
              "      <td>1</td>\n",
              "      <td>0</td>\n",
              "      <td>0</td>\n",
              "      <td>530000.0</td>\n",
              "      <td>0</td>\n",
              "      <td>0</td>\n",
              "      <td>1</td>\n",
              "      <td>0</td>\n",
              "      <td>0</td>\n",
              "      <td>...</td>\n",
              "      <td>0</td>\n",
              "      <td>0</td>\n",
              "      <td>0</td>\n",
              "      <td>0</td>\n",
              "      <td>0</td>\n",
              "      <td>0</td>\n",
              "      <td>0</td>\n",
              "      <td>0</td>\n",
              "      <td>0</td>\n",
              "      <td>0</td>\n",
              "    </tr>\n",
              "    <tr>\n",
              "      <th>8816</th>\n",
              "      <td>4</td>\n",
              "      <td>1</td>\n",
              "      <td>0</td>\n",
              "      <td>0</td>\n",
              "      <td>975000.0</td>\n",
              "      <td>1</td>\n",
              "      <td>0</td>\n",
              "      <td>0</td>\n",
              "      <td>0</td>\n",
              "      <td>0</td>\n",
              "      <td>...</td>\n",
              "      <td>0</td>\n",
              "      <td>0</td>\n",
              "      <td>0</td>\n",
              "      <td>0</td>\n",
              "      <td>0</td>\n",
              "      <td>0</td>\n",
              "      <td>0</td>\n",
              "      <td>0</td>\n",
              "      <td>0</td>\n",
              "      <td>0</td>\n",
              "    </tr>\n",
              "    <tr>\n",
              "      <th>3481</th>\n",
              "      <td>3</td>\n",
              "      <td>1</td>\n",
              "      <td>0</td>\n",
              "      <td>0</td>\n",
              "      <td>556000.0</td>\n",
              "      <td>1</td>\n",
              "      <td>0</td>\n",
              "      <td>0</td>\n",
              "      <td>0</td>\n",
              "      <td>0</td>\n",
              "      <td>...</td>\n",
              "      <td>0</td>\n",
              "      <td>1</td>\n",
              "      <td>0</td>\n",
              "      <td>0</td>\n",
              "      <td>0</td>\n",
              "      <td>0</td>\n",
              "      <td>0</td>\n",
              "      <td>0</td>\n",
              "      <td>0</td>\n",
              "      <td>0</td>\n",
              "    </tr>\n",
              "    <tr>\n",
              "      <th>...</th>\n",
              "      <td>...</td>\n",
              "      <td>...</td>\n",
              "      <td>...</td>\n",
              "      <td>...</td>\n",
              "      <td>...</td>\n",
              "      <td>...</td>\n",
              "      <td>...</td>\n",
              "      <td>...</td>\n",
              "      <td>...</td>\n",
              "      <td>...</td>\n",
              "      <td>...</td>\n",
              "      <td>...</td>\n",
              "      <td>...</td>\n",
              "      <td>...</td>\n",
              "      <td>...</td>\n",
              "      <td>...</td>\n",
              "      <td>...</td>\n",
              "      <td>...</td>\n",
              "      <td>...</td>\n",
              "      <td>...</td>\n",
              "      <td>...</td>\n",
              "    </tr>\n",
              "    <tr>\n",
              "      <th>44542</th>\n",
              "      <td>3</td>\n",
              "      <td>1</td>\n",
              "      <td>0</td>\n",
              "      <td>0</td>\n",
              "      <td>695000.0</td>\n",
              "      <td>1</td>\n",
              "      <td>0</td>\n",
              "      <td>0</td>\n",
              "      <td>0</td>\n",
              "      <td>0</td>\n",
              "      <td>...</td>\n",
              "      <td>0</td>\n",
              "      <td>0</td>\n",
              "      <td>0</td>\n",
              "      <td>0</td>\n",
              "      <td>0</td>\n",
              "      <td>0</td>\n",
              "      <td>0</td>\n",
              "      <td>0</td>\n",
              "      <td>0</td>\n",
              "      <td>0</td>\n",
              "    </tr>\n",
              "    <tr>\n",
              "      <th>43399</th>\n",
              "      <td>2</td>\n",
              "      <td>0</td>\n",
              "      <td>0</td>\n",
              "      <td>1</td>\n",
              "      <td>490000.0</td>\n",
              "      <td>1</td>\n",
              "      <td>0</td>\n",
              "      <td>0</td>\n",
              "      <td>0</td>\n",
              "      <td>0</td>\n",
              "      <td>...</td>\n",
              "      <td>0</td>\n",
              "      <td>0</td>\n",
              "      <td>0</td>\n",
              "      <td>0</td>\n",
              "      <td>0</td>\n",
              "      <td>0</td>\n",
              "      <td>0</td>\n",
              "      <td>0</td>\n",
              "      <td>0</td>\n",
              "      <td>0</td>\n",
              "    </tr>\n",
              "    <tr>\n",
              "      <th>8789</th>\n",
              "      <td>6</td>\n",
              "      <td>1</td>\n",
              "      <td>0</td>\n",
              "      <td>0</td>\n",
              "      <td>830000.0</td>\n",
              "      <td>0</td>\n",
              "      <td>0</td>\n",
              "      <td>0</td>\n",
              "      <td>1</td>\n",
              "      <td>0</td>\n",
              "      <td>...</td>\n",
              "      <td>0</td>\n",
              "      <td>0</td>\n",
              "      <td>0</td>\n",
              "      <td>0</td>\n",
              "      <td>0</td>\n",
              "      <td>0</td>\n",
              "      <td>0</td>\n",
              "      <td>0</td>\n",
              "      <td>0</td>\n",
              "      <td>0</td>\n",
              "    </tr>\n",
              "    <tr>\n",
              "      <th>51700</th>\n",
              "      <td>3</td>\n",
              "      <td>1</td>\n",
              "      <td>0</td>\n",
              "      <td>0</td>\n",
              "      <td>380000.0</td>\n",
              "      <td>0</td>\n",
              "      <td>0</td>\n",
              "      <td>0</td>\n",
              "      <td>1</td>\n",
              "      <td>0</td>\n",
              "      <td>...</td>\n",
              "      <td>0</td>\n",
              "      <td>0</td>\n",
              "      <td>0</td>\n",
              "      <td>0</td>\n",
              "      <td>0</td>\n",
              "      <td>0</td>\n",
              "      <td>0</td>\n",
              "      <td>0</td>\n",
              "      <td>0</td>\n",
              "      <td>0</td>\n",
              "    </tr>\n",
              "    <tr>\n",
              "      <th>33935</th>\n",
              "      <td>3</td>\n",
              "      <td>1</td>\n",
              "      <td>0</td>\n",
              "      <td>0</td>\n",
              "      <td>1516000.0</td>\n",
              "      <td>1</td>\n",
              "      <td>0</td>\n",
              "      <td>0</td>\n",
              "      <td>0</td>\n",
              "      <td>0</td>\n",
              "      <td>...</td>\n",
              "      <td>0</td>\n",
              "      <td>0</td>\n",
              "      <td>0</td>\n",
              "      <td>0</td>\n",
              "      <td>0</td>\n",
              "      <td>0</td>\n",
              "      <td>0</td>\n",
              "      <td>0</td>\n",
              "      <td>0</td>\n",
              "      <td>0</td>\n",
              "    </tr>\n",
              "  </tbody>\n",
              "</table>\n",
              "<p>34012 rows × 55 columns</p>\n",
              "</div>\n",
              "      <button class=\"colab-df-convert\" onclick=\"convertToInteractive('df-f886a609-d98a-4d93-a416-594f7f509aae')\"\n",
              "              title=\"Convert this dataframe to an interactive table.\"\n",
              "              style=\"display:none;\">\n",
              "        \n",
              "  <svg xmlns=\"http://www.w3.org/2000/svg\" height=\"24px\"viewBox=\"0 0 24 24\"\n",
              "       width=\"24px\">\n",
              "    <path d=\"M0 0h24v24H0V0z\" fill=\"none\"/>\n",
              "    <path d=\"M18.56 5.44l.94 2.06.94-2.06 2.06-.94-2.06-.94-.94-2.06-.94 2.06-2.06.94zm-11 1L8.5 8.5l.94-2.06 2.06-.94-2.06-.94L8.5 2.5l-.94 2.06-2.06.94zm10 10l.94 2.06.94-2.06 2.06-.94-2.06-.94-.94-2.06-.94 2.06-2.06.94z\"/><path d=\"M17.41 7.96l-1.37-1.37c-.4-.4-.92-.59-1.43-.59-.52 0-1.04.2-1.43.59L10.3 9.45l-7.72 7.72c-.78.78-.78 2.05 0 2.83L4 21.41c.39.39.9.59 1.41.59.51 0 1.02-.2 1.41-.59l7.78-7.78 2.81-2.81c.8-.78.8-2.07 0-2.86zM5.41 20L4 18.59l7.72-7.72 1.47 1.35L5.41 20z\"/>\n",
              "  </svg>\n",
              "      </button>\n",
              "      \n",
              "  <style>\n",
              "    .colab-df-container {\n",
              "      display:flex;\n",
              "      flex-wrap:wrap;\n",
              "      gap: 12px;\n",
              "    }\n",
              "\n",
              "    .colab-df-convert {\n",
              "      background-color: #E8F0FE;\n",
              "      border: none;\n",
              "      border-radius: 50%;\n",
              "      cursor: pointer;\n",
              "      display: none;\n",
              "      fill: #1967D2;\n",
              "      height: 32px;\n",
              "      padding: 0 0 0 0;\n",
              "      width: 32px;\n",
              "    }\n",
              "\n",
              "    .colab-df-convert:hover {\n",
              "      background-color: #E2EBFA;\n",
              "      box-shadow: 0px 1px 2px rgba(60, 64, 67, 0.3), 0px 1px 3px 1px rgba(60, 64, 67, 0.15);\n",
              "      fill: #174EA6;\n",
              "    }\n",
              "\n",
              "    [theme=dark] .colab-df-convert {\n",
              "      background-color: #3B4455;\n",
              "      fill: #D2E3FC;\n",
              "    }\n",
              "\n",
              "    [theme=dark] .colab-df-convert:hover {\n",
              "      background-color: #434B5C;\n",
              "      box-shadow: 0px 1px 3px 1px rgba(0, 0, 0, 0.15);\n",
              "      filter: drop-shadow(0px 1px 2px rgba(0, 0, 0, 0.3));\n",
              "      fill: #FFFFFF;\n",
              "    }\n",
              "  </style>\n",
              "\n",
              "      <script>\n",
              "        const buttonEl =\n",
              "          document.querySelector('#df-f886a609-d98a-4d93-a416-594f7f509aae button.colab-df-convert');\n",
              "        buttonEl.style.display =\n",
              "          google.colab.kernel.accessAllowed ? 'block' : 'none';\n",
              "\n",
              "        async function convertToInteractive(key) {\n",
              "          const element = document.querySelector('#df-f886a609-d98a-4d93-a416-594f7f509aae');\n",
              "          const dataTable =\n",
              "            await google.colab.kernel.invokeFunction('convertToInteractive',\n",
              "                                                     [key], {});\n",
              "          if (!dataTable) return;\n",
              "\n",
              "          const docLinkHtml = 'Like what you see? Visit the ' +\n",
              "            '<a target=\"_blank\" href=https://colab.research.google.com/notebooks/data_table.ipynb>data table notebook</a>'\n",
              "            + ' to learn more about interactive tables.';\n",
              "          element.innerHTML = '';\n",
              "          dataTable['output_type'] = 'display_data';\n",
              "          await google.colab.output.renderOutput(dataTable, element);\n",
              "          const docLink = document.createElement('div');\n",
              "          docLink.innerHTML = docLinkHtml;\n",
              "          element.appendChild(docLink);\n",
              "        }\n",
              "      </script>\n",
              "    </div>\n",
              "  </div>\n",
              "  "
            ]
          },
          "metadata": {},
          "execution_count": 6
        }
      ],
      "metadata": {
        "id": "9E5HjfiZbT2G",
        "outputId": "34a5d90a-5b01-4e47-8ffb-f1485027b335",
        "colab": {
          "base_uri": "https://localhost:8080/",
          "height": 540
        }
      }
    },
    {
      "cell_type": "code",
      "source": [
        "target = 'Price'\n",
        "\n",
        "X_train = train.drop(target, axis = 1)\n",
        "y_train = train[target]\n",
        "X_test = test.drop(target, axis = 1)\n",
        "y_test = test[target]"
      ],
      "metadata": {
        "id": "LckOJyqqcuC1"
      },
      "execution_count": 7,
      "outputs": []
    },
    {
      "cell_type": "markdown",
      "source": [
        "### 3) SelectKBest를 사용해서 20개의 특성만 selection 하세요\n",
        "- score_func 에는 f_regression을 사용합니다\n",
        "- **(Urclass Quiz) 가장 스코어(Attributes: scores_ 사용)가 높게 나온 특성의 이름을 제출하세요.**"
      ],
      "metadata": {
        "id": "mAGO17RHbT2H"
      }
    },
    {
      "cell_type": "code",
      "execution_count": 10,
      "source": [
        "from sklearn.feature_selection import f_regression, SelectKBest\n",
        "import numpy as np\n",
        "\n",
        "selector = SelectKBest(score_func = f_regression, k = 20)\n",
        "\n",
        "X_train_selected = selector.fit_transform(X_train, y_train)\n",
        "X_test_selected = selector.transform(X_test)\n",
        "\n",
        "column = df.columns\n",
        "score = selector.scores_\n",
        "idx = np.argmax(score)\n",
        "column[idx]"
      ],
      "outputs": [
        {
          "output_type": "execute_result",
          "data": {
            "text/plain": [
              "'Rooms'"
            ],
            "application/vnd.google.colaboratory.intrinsic+json": {
              "type": "string"
            }
          },
          "metadata": {},
          "execution_count": 10
        }
      ],
      "metadata": {
        "id": "zzcdokMbbT2H",
        "outputId": "4f5e13df-1b0c-4230-8dce-876bb8cb20ea",
        "colab": {
          "base_uri": "https://localhost:8080/",
          "height": 35
        }
      }
    },
    {
      "cell_type": "markdown",
      "source": [
        "### 4) RidgeCV를 사용해서 회귀모델을 만들어 보세요\n",
        "- attribute는 normalize=True, cv=5를 사용하세요. 나머지는 default\n",
        "- **(Urclass Quiz) alphas = [0, 0.001, 0.01, 0.1, 1] 을 시도해보고 가장 좋은 점수가 나온 alpha 값을 제출하세요.**"
      ],
      "metadata": {
        "id": "28xPFn1dbT2I"
      }
    },
    {
      "cell_type": "code",
      "execution_count": null,
      "source": [
        "# 코랩에서 아래와 같은 에러 발생시, sklearn 재설치 진행합니다.\n",
        "# 에러메시지: 'RidgeCV' object has no attribute 'best_score_' (ver.0.23부터 적용됨. 공식문서에서 확인 가능.)\n",
        "# 해결: sklearn 재설치 필요. 버전 0.23 이상\n",
        "# 재설치 방법⇣: \n",
        "\n",
        "# sklearn 버전 확인 -> 0.23보다 낮다면 재설치 진행.\n",
        "import sklearn\n",
        "sklearn.__version__\n",
        "\n",
        "# sklearn 재설치\n",
        "!pip uninstall scikit-learn -y\n",
        "!pip install -U scikit-learn\n",
        "\n",
        "# sklearn 버전 재확인 -> 0.23 이상으로 설치되었는지 확인\n",
        "import sklearn\n",
        "sklearn.__version__"
      ],
      "outputs": [],
      "metadata": {
        "id": "PcXANBA0bT2I"
      }
    },
    {
      "cell_type": "code",
      "execution_count": null,
      "source": [
        "from sklearn.linear_model import RidgeCV\n",
        "\n",
        "alphas = [0,0.001,0.01,0.1,1]\n",
        "\n",
        "ridge = RidgeCV(alphas = alphas, normalize = True, cv = 5)\n",
        "ridge.fit(X_train_selected, y_train)"
      ],
      "outputs": [],
      "metadata": {
        "id": "h0bs1xnqbT2J"
      }
    },
    {
      "cell_type": "code",
      "source": [
        "ridge.alpha_, ridge.best_score_"
      ],
      "metadata": {
        "id": "nQMovNKMfCJC",
        "outputId": "0428ff59-0e28-4580-95d8-017e4720ec2f",
        "colab": {
          "base_uri": "https://localhost:8080/"
        }
      },
      "execution_count": 26,
      "outputs": [
        {
          "output_type": "execute_result",
          "data": {
            "text/plain": [
              "(0.001, 0.5510507608242425)"
            ]
          },
          "metadata": {},
          "execution_count": 26
        }
      ]
    },
    {
      "cell_type": "markdown",
      "source": [
        "### 5) 테스트셋에 대한 MAE 값을 계산하고 모델이 잘 만들어졌는지 확인해 보세요.\n",
        "- **(Urclass Quiz) 테스트셋에 대한 MAE 값을 제출하세요.(소수점 이하 반올림)**"
      ],
      "metadata": {
        "id": "Jsg4bQEsbT2J"
      }
    },
    {
      "cell_type": "code",
      "execution_count": 28,
      "source": [
        "from sklearn.metrics import mean_absolute_error\n",
        "\n",
        "y_pred = ridge.predict(X_test_selected)\n",
        "\n",
        "mae = mean_absolute_error(y_test, y_pred)\n",
        "mae.round(0)"
      ],
      "outputs": [
        {
          "output_type": "execute_result",
          "data": {
            "text/plain": [
              "262857.0"
            ]
          },
          "metadata": {},
          "execution_count": 28
        }
      ],
      "metadata": {
        "id": "7qHTagPobT2K",
        "outputId": "d9bb094a-51c1-4e0d-fa5c-811847297129",
        "colab": {
          "base_uri": "https://localhost:8080/"
        }
      }
    },
    {
      "cell_type": "markdown",
      "source": [
        "## 🔥 도전과제(Github - Discussion)\n",
        "\n",
        "### 공지로 안내드리는 Github - Discussion 페이지에 올려보세요:)"
      ],
      "metadata": {
        "id": "V6k2pSl3bT2K"
      }
    },
    {
      "cell_type": "markdown",
      "source": [
        "### 6) 본인만의 아이디어로 best ridge regression model을 만들어 서로 공유하시고 토론해 보세요. \n",
        "    - 어떤 특성공학을 사용했고, 그 이유와 기대효과는 무엇이었나요? \n",
        "    - 모델 성능 평가 지표는 무엇으로 선정했고, 선정한 이유는 무엇인가요? \n",
        "    - 어떠한 머신러닝 라이브러리를 사용했고, 어떤 튜닝을 진행했나요? 테스트셋의 성능 변화는 어떠한가요? \n",
        "    - 과제 수행 중 부딪혔던 어려움이나 모르는 점이 있었나요? 있었다면 어떻게 해결해 볼 수 있을까요? \n"
      ],
      "metadata": {
        "id": "zy47b_l2bT2K"
      }
    },
    {
      "cell_type": "markdown",
      "source": [
        "### 7) 원핫인코딩에서 모든 범주형 값(unique한)을 컬럼으로 인코딩할 경우 어떤 문제점이 발생할 수 있고, 어떻게 해결할 수 있는지에 대하여 조사한 후 함께 논의해 보세요."
      ],
      "metadata": {
        "id": "7t9PrENObT2L"
      }
    },
    {
      "cell_type": "markdown",
      "source": [
        "### 8) 특성선택(feature selection) 방법들에 대하여 조사한 후 함께 논의해 보세요"
      ],
      "metadata": {
        "id": "ON6qCjUjbT2L"
      }
    }
  ],
  "metadata": {
    "kernelspec": {
      "display_name": "Python 3",
      "language": "python",
      "name": "python3"
    },
    "language_info": {
      "codemirror_mode": {
        "name": "ipython",
        "version": 3
      },
      "file_extension": ".py",
      "mimetype": "text/x-python",
      "name": "python",
      "nbconvert_exporter": "python",
      "pygments_lexer": "ipython3",
      "version": "3.8.8"
    },
    "colab": {
      "name": "n213a-ridge-regression.ipynb",
      "provenance": []
    }
  },
  "nbformat": 4,
  "nbformat_minor": 0
}