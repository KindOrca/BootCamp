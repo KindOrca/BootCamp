{
  "nbformat": 4,
  "nbformat_minor": 0,
  "metadata": {
    "colab": {
      "name": "n112a-EDA(2).ipynb",
      "provenance": [],
      "collapsed_sections": []
    },
    "kernelspec": {
      "name": "python3",
      "display_name": "Python 3"
    },
    "language_info": {
      "name": "python"
    }
  },
  "cells": [
    {
      "cell_type": "markdown",
      "source": [
        "<img src='https://i.imgur.com/RDAD11M.png' width = '200' align = 'right'>\n",
        "\n",
        "## *DATA SCIENCE / SECTION 1 / SPRINT 1 / NOTE 2*\n",
        "\n",
        "---\n",
        "\n",
        "# 📝 Assignment"
      ],
      "metadata": {
        "id": "d7JHSVEHCpcC"
      }
    },
    {
      "cell_type": "markdown",
      "source": [
        "# 1. 일원량분석(Univariate Exploration)\n",
        "\n",
        "- Titanic 데이터셋을 불러옵니다.\n",
        "\n",
        "- `Survived`, `Pclass`, `Sex`, `Age`, `Fare`, `Embarked` column만 사용합니다.\n",
        "  - `Survived` : 생존여부\n",
        "  - `Pclass` : 티켓 등급\n",
        "  - `Sex` : 성별\n",
        "  - `Age` : 나이\n",
        "  - `Fare` : 티켓 금액\n",
        "  - `Embarked` : 탑승 항구 \n",
        "\n",
        "- Continuous Variable에 대하여 시각화를 통해 데이터 분포를 살펴봅니다. \n",
        "\n",
        "- Categorical Variable에 대하여 시각화를 통해 데이터 분포를 살펴봅니다. "
      ],
      "metadata": {
        "id": "Xd81_c0yWEc1"
      }
    },
    {
      "cell_type": "markdown",
      "source": [
        "### Continuous variables\n",
        "- Histogram을 통해 다음 Countinuous variable의 분포를 확인해 보세요. \n",
        "  - `Age`\n",
        "  - `Fare` \n",
        "- `Age` column을 histogram으로 나타낼 때, `np.arange(0, df.Age.max()+bin_size, bin_size)` 에서 bin의 개수가 8이 되도록 bin_size 값을 설정하여 시각화해 보세요. "
      ],
      "metadata": {
        "id": "VwF8NIsAjPBS"
      }
    },
    {
      "cell_type": "code",
      "source": [
        "\b# 이 곳에 답안을 작성해 주세요. "
      ],
      "metadata": {
        "id": "t_50XprlwTgo"
      },
      "execution_count": null,
      "outputs": []
    },
    {
      "cell_type": "markdown",
      "source": [
        "### Categorical Variables\n",
        "- matplotplib이나 Seaborn 라이브러리의 Pie plot 또는 Bar plot을 사용하여 다음 Categorical variable의 분포를 확인해 보세요. \n",
        "  - `Survived`\n",
        "  - `Pclass`\n",
        "  - `Sex`\n",
        "  - `Embarked`"
      ],
      "metadata": {
        "id": "jUfq93U9l2Ht"
      }
    },
    {
      "cell_type": "code",
      "source": [
        "\b# 이 곳에 답안을 작성해 주세요. "
      ],
      "metadata": {
        "id": "VvXfdgUgj0r8"
      },
      "execution_count": null,
      "outputs": []
    },
    {
      "cell_type": "markdown",
      "source": [
        "#2. 이원량분석(Bivariate Exploration)\n",
        "\n",
        "- target인 `Survived`와 feature들 간의 상관관계를 파악합니다. \n",
        "  - 데이터 타입에 따라 적절한 시각화를 구현해 보세요. "
      ],
      "metadata": {
        "id": "0EWv5tqwxUkf"
      }
    },
    {
      "cell_type": "markdown",
      "source": [
        "### Categorical - Continuous\n",
        "matplotlib이나 seaborn 라이브러리의 Violin Plot 또는 Box Plot을 사용하여 다음 두 변수의 상관관계를 살펴보세요.  \n",
        "  - `Survived` & `Age`\n",
        "  - `Survived` & `Fare`"
      ],
      "metadata": {
        "id": "JcVHhIUe886i"
      }
    },
    {
      "cell_type": "code",
      "source": [
        "\b# 이 곳에 답안을 작성해 주세요. "
      ],
      "metadata": {
        "id": "-AKw00MWj5-7"
      },
      "execution_count": null,
      "outputs": []
    },
    {
      "cell_type": "markdown",
      "source": [
        "### Categorical - Categorical \n",
        "- `.crosstab()`을 활용하여 categorical variable과 `Survived`의 빈도를 구합니다. </br>\n",
        "  https://pandas.pydata.org/docs/reference/api/pandas.crosstab.html\n",
        "- seaborn 라이브러리의 Count plot을 사용하여 다음 두 변수의 빈도(frequency)를 비교해 보세요. \n",
        "  - `Survived` & `Sex`\n",
        "  - `Survived` & `Pclass`\n",
        "  - `Survived` & `Embarked`"
      ],
      "metadata": {
        "id": "hGXpXRqx9FNN"
      }
    },
    {
      "cell_type": "code",
      "source": [
        "\b# 이 곳에 답안을 작성해 주세요. "
      ],
      "metadata": {
        "id": "aISWnI3SlQxb"
      },
      "execution_count": null,
      "outputs": []
    },
    {
      "cell_type": "markdown",
      "source": [
        "# 🔥 도전과제 \n",
        "- 위에서 진행한 시각화를 통해 분석한 바를 서술하세요. "
      ],
      "metadata": {
        "id": "8Tdg1acm_Cr5"
      }
    }
  ]
}