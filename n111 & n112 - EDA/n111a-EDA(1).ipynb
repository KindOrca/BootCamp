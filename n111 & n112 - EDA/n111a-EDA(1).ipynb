{
  "nbformat": 4,
  "nbformat_minor": 0,
  "metadata": {
    "colab": {
      "name": "n111a_EDA(1).ipynb",
      "provenance": [],
      "collapsed_sections": [
        "i0DT1hcYYDwo",
        "NKn67n1TBxWy",
        "r6HbK4QN03sB",
        "qV1YYagFMUL6",
        "iLHreBU1RTUD",
        "9t0aTQ0hMYsb"
      ]
    },
    "kernelspec": {
      "name": "python3",
      "display_name": "Python 3"
    },
    "language_info": {
      "name": "python"
    }
  },
  "cells": [
    {
      "cell_type": "markdown",
      "source": [
        "<img src='https://i.imgur.com/RDAD11M.png' width = '200' align = 'right'>\n",
        "\n",
        "## *DATA SCIENCE / SECTION 1 / SPRINT 1 / NOTE 1*\n",
        "\n",
        "---\n",
        "\n",
        "# 📝 Assignment\n",
        "\n"
      ],
      "metadata": {
        "id": "i0DT1hcYYDwo"
      }
    },
    {
      "cell_type": "code",
      "source": [
        "# 설치\n",
        "!sudo apt-get install -y fonts-nanum\n",
        "!sudo fc-cache -fv\n",
        "!rm ~/.cache/matplotlib -rf"
      ],
      "metadata": {
        "id": "G5h99QI2YAUo"
      },
      "execution_count": null,
      "outputs": []
    },
    {
      "cell_type": "code",
      "source": [
        "# 설정\n",
        "import matplotlib.pyplot as plt\n",
        "\n",
        "plt.rc('font', family='NanumBarunGothic')\n",
        "plt.rc('axes', unicode_minus=False)"
      ],
      "metadata": {
        "id": "xrx6151-YJox"
      },
      "execution_count": null,
      "outputs": []
    },
    {
      "cell_type": "markdown",
      "source": [
        "# 1. 데이터셋 불러오기 및 확인 \n",
        "\n",
        "- 다음 url에서 엑셀 파일을 불러오세요. (pandas excel) \n",
        "  - https://ds-lecture-data.s3.ap-northeast-2.amazonaws.com/stocks/Travel.xlsx\n",
        "  - 파일은 2개의 시트로 구성되어 있으며 각각 이름은 008770, 035250 입니다.\n",
        "\n",
        "- 데이터셋 변수의 이름은 df1, df2로 저장하세요.\n",
        "\n",
        "- row가 아닌 column에 '매출액', '영업이익' 이 가도록 데이터를 transpose 하세요.\n",
        "\n",
        "- 이후 아래 링크를 참조하여 첫번째 row를 column name으로 설정하세요.\n",
        "\n",
        "  https://stackoverflow.com/questions/31328861/python-pandas-replacing-header-with-top-row\n",
        "\n",
        "- 데이터의 dimension을 확인하세요.\n",
        "\n",
        "- 데이터의 결측치가 어디에 있는지 확인 후 0으로 대체하세요.\n",
        "\n",
        "- 읽었던 엑셀 파일의 내용을 2개의 csv로 각각 출력하세요. (python export csv) \n",
        "  - 이름은 각각 df1.csv, df2.csv 입니다."
      ],
      "metadata": {
        "id": "NKn67n1TBxWy"
      }
    },
    {
      "cell_type": "code",
      "source": [
        "# 이 곳에 답안을 작성해 주세요. "
      ],
      "metadata": {
        "id": "fdChgGWZYNMd"
      },
      "execution_count": null,
      "outputs": []
    },
    {
      "cell_type": "markdown",
      "source": [
        "# 2. Feature Engineering\n",
        "- 아래 데이터를 참조하여 18/19년도에 대해서 Price to Dream Ratio(PDR)를 계산하세요.\n",
        "\n",
        " ## $\\rm PDR = {시가총액 \\over 해당~기업이~포함된~전체~시장~규모(TAM)~\\times~시장점유율}$\n",
        "  - 변수 이름 `df3`로 데이터프레임을 생성합니다. 아래와 같은 형태이어야 합니다. \n",
        "  - feature 이름은 `PDR`로, `df3['PDR']`을 통해 `~` 값이 확인되어야 합니다. 다음 전제조건을 활용하세요.\n",
        "    - PDR에 100을 곱한 백분율(%)을 구합니다. \n",
        "    - 점유율 (일반 담배 기준) \n",
        "      - 18년 : 62%\n",
        "      - 19년 : 63.5% \n",
        "    - 시장의 규모 \n",
        "      - 18년 : 15조 \n",
        "      - 19년 : 15조\n",
        "\n",
        "||구분|종가|발행주식수|시가총액|시장점유율|PDR|\n",
        "|:-:|:-:|:-:|:-:|:-:|:-:|:-:|\n",
        "|0|18년|101500|137292497|13935188445500|62.0|~|\n",
        "|1|19년|93800|137292497|12878036218600|63.5|~|"
      ],
      "metadata": {
        "id": "r6HbK4QN03sB"
      }
    },
    {
      "cell_type": "code",
      "source": [
        "# 이 곳에 답안을 작성해 주세요. "
      ],
      "metadata": {
        "id": "cwCTrQGICnQ5"
      },
      "execution_count": null,
      "outputs": []
    },
    {
      "cell_type": "markdown",
      "source": [
        "# 3. 중복된 데이터 살펴보기 \n",
        "\n",
        "- 와인 데이터셋을 사용합니다. \n",
        "\n",
        "- 공식문서를 참조하여 중복된 데이터를 모두 확인해 봅니다.\n",
        "\n",
        "  https://pandas.pydata.org/docs/reference/api/pandas.DataFrame.duplicated.html "
      ],
      "metadata": {
        "id": "qV1YYagFMUL6"
      }
    },
    {
      "cell_type": "code",
      "source": [
        "# 이 곳에 답안을 작성해 주세요. "
      ],
      "metadata": {
        "id": "-maZeiDRCrTS"
      },
      "execution_count": null,
      "outputs": []
    }
  ]
}