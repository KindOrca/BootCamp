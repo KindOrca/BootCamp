{
  "cells": [
    {
      "cell_type": "markdown",
      "metadata": {
        "id": "4y4PrNGWe0Kk"
      },
      "source": [
        "<img align=\"right\" src=\"https://ds-cs-images.s3.ap-northeast-2.amazonaws.com/Codestates_Fulllogo_Color.png\" width=100>\n",
        "\n",
        "## *AIB / SECTION 2 / SPRINT 1 / NOTE 4*\n",
        "\n",
        "# 📝 Assignment\n",
        "---"
      ]
    },
    {
      "cell_type": "markdown",
      "metadata": {
        "id": "7IXUfiQ2UKj6"
      },
      "source": [
        "# Logistic Regression\n",
        "\n",
        "이번에는 [**Cardiovascular Disease dataset**](https://www.kaggle.com/sulianova/cardiovascular-disease-dataset) 데이터셋을 사용해 봅시다. 데이터에 대한 설명을 캐글 페이지에서 잘 살펴보시고 과제를 진행해 주세요!"
      ]
    },
    {
      "cell_type": "markdown",
      "metadata": {
        "id": "YdGcrnnYe0Kp"
      },
      "source": [
        "### 1) 데이터를 전처리 하겠습니다.\n",
        "- 데이터를 불러오세요.(read_csv 사용)\n",
        "- missing value를 확인하세요.\n",
        "- 중복된 샘플이 있는지 확인하세요.\n",
        "  - id가 동일하면 중복 샘플입니다. id로 중복 여부를 확인하세요.\n",
        "- 이후 id 칼럼은 drop하세요.\n",
        "- **중복된 샘플을 제거하고 남은 샘플의 수를 제출하세요.**"
      ]
    },
    {
      "cell_type": "code",
      "execution_count": 1,
      "metadata": {
        "id": "dT_keRfGe0Kp"
      },
      "outputs": [],
      "source": [
        "import pandas as pd\n",
        "df = pd.read_csv('https://ds-lecture-data.s3.ap-northeast-2.amazonaws.com/cardio/cardio_train.csv', sep=';')"
      ]
    },
    {
      "cell_type": "code",
      "execution_count": 5,
      "metadata": {
        "id": "EVhBJLlse0Kr",
        "outputId": "b85db441-1470-444a-da51-16ed8657ab97",
        "colab": {
          "base_uri": "https://localhost:8080/"
        }
      },
      "outputs": [
        {
          "output_type": "execute_result",
          "data": {
            "text/plain": [
              "(70000, 12)"
            ]
          },
          "metadata": {},
          "execution_count": 5
        }
      ],
      "source": [
        "df.isnull().sum()\n",
        "df.duplicated('id').sum()\n",
        "df.drop('id', axis = 1, inplace = True)\n",
        "df.shape"
      ]
    },
    {
      "cell_type": "markdown",
      "metadata": {
        "id": "C6o6qPqSe0Kr"
      },
      "source": [
        "### 2) 다운로드 한 훈련 데이터를 훈련/검증/테스트 세트로 나누어 주세요.\n",
        "- 타겟 특성을 확인하고 타겟 변수를 나누어 줍니다.\n",
        "- 먼저, 훈련 세트와 테스트 세트로 나누어 줍니다(train_test_split 사용, train/test = 80/20, random_state=2)\n",
        "- 다시, 훈련 세트를 훈련 세트와 검증 세트로 나누어 줍니다(train_test_split 사용, train/validation = 80/20, random_state=2)\n",
        "- **(Urclass Quiz) 검증 세트(X_val)의 개수를 제출하세요.**"
      ]
    },
    {
      "cell_type": "code",
      "execution_count": 12,
      "metadata": {
        "id": "C2tRcrnSe0Ks"
      },
      "outputs": [],
      "source": [
        "from sklearn.model_selection import train_test_split\n",
        "\n",
        "train, test = train_test_split(df, train_size = 0.8, test_size = 0.2, random_state = 2)\n",
        "train, val = train_test_split(train, train_size = 0.8, test_size = 0.2, random_state = 2)"
      ]
    },
    {
      "cell_type": "markdown",
      "metadata": {
        "id": "_RJOGLrte0Ks"
      },
      "source": [
        "### 3) 사이킷런의 LogisticRegression을 사용해 아래 기준에 맞춰 모델을 만들어 보세요.\n",
        "- 우리가 예측하고자 하는 column은 `cardio`(Presence or absence of cardiovascular disease)입니다.\n",
        "- 모델을 만들기 전에 기준모델을 설정합니다.\n",
        "- 하이퍼파라미터 max_iter=1000을 사용합니다.\n",
        "- **(Urclass Quiz) LogisticRegression 모델을 학습하고 검증세트 정확도를 제출하세요.**"
      ]
    },
    {
      "cell_type": "code",
      "execution_count": 50,
      "metadata": {
        "id": "XrHnwap6e0Kt",
        "outputId": "ab04ad04-c925-4917-c1bd-a448eefc19d8",
        "colab": {
          "base_uri": "https://localhost:8080/"
        }
      },
      "outputs": [
        {
          "output_type": "execute_result",
          "data": {
            "text/plain": [
              "0.7109821428571429"
            ]
          },
          "metadata": {},
          "execution_count": 50
        }
      ],
      "source": [
        "from sklearn.linear_model import LogisticRegression\n",
        "from sklearn.metrics import accuracy_score\n",
        "\n",
        "target = 'cardio'\n",
        "X_train = train.drop(target, axis = 1)\n",
        "y_train = train[target]\n",
        "X_val = val.drop(target, axis = 1)\n",
        "y_val = val[target]\n",
        "X_test = test.drop(target, axis = 1)\n",
        "y_test = test[target]\n",
        "\n",
        "\n",
        "major = train.cardio.mode()[0]\n",
        "predict = [major] * len(X_train)\n",
        "\n",
        "baseline = accuracy_score(y_train, predict)\n",
        "\n",
        "logistic = LogisticRegression(max_iter=1000)\n",
        "logistic.fit(X_train, y_train)\n",
        "\n",
        "logistic.score(X_val, y_val)"
      ]
    },
    {
      "cell_type": "markdown",
      "metadata": {
        "id": "5TH5hob5e0Ku"
      },
      "source": [
        "### 4) 데이터에서 범주형 성질을 지닌 특성을 찾아 원핫인코딩 하세요.\n",
        "- category_encoders를 사용해서 'gender' 특성만 원핫인코딩 하세요.\n",
        "- LogisticRegression 모델을 인코딩된 데이터로 다시 학습합니다. (하이퍼파라미터 max_iter=1000 동일하게 적용)\n",
        "- **(Urclass Quiz) 검증세트 정확도를 제출하세요.**"
      ]
    },
    {
      "cell_type": "code",
      "execution_count": 42,
      "metadata": {
        "id": "wdeuNMCBe0Ku",
        "outputId": "1d4c6b4d-7135-426b-b7a2-d7b81bb645b6",
        "colab": {
          "base_uri": "https://localhost:8080/"
        }
      },
      "outputs": [
        {
          "output_type": "execute_result",
          "data": {
            "text/plain": [
              "0.6983928571428571"
            ]
          },
          "metadata": {},
          "execution_count": 42
        }
      ],
      "source": [
        "from category_encoders import OneHotEncoder\n",
        "\n",
        "encoder = OneHotEncoder(use_cat_names = True, cols = 'gender')\n",
        "X_train = encoder.fit_transform(X_train)\n",
        "X_val = encoder.transform(X_val)\n",
        "X_test = encoder.transform(X_test)\n",
        "\n",
        "logistic = LogisticRegression(max_iter=1000)\n",
        "logistic.fit(X_train, y_train)\n",
        "\n",
        "logistic.score(X_val, y_val)"
      ]
    },
    {
      "cell_type": "markdown",
      "metadata": {
        "id": "3GYF8NOwe0Kv"
      },
      "source": [
        ""
      ]
    },
    {
      "cell_type": "markdown",
      "metadata": {
        "id": "JSNEkMhde0Kv"
      },
      "source": [
        "### 5) 학습한 모델을 검증세트에서 최적화 시킨 후, 테스트세트에서 딱 한 번 정확도를 확인해 보세요.\n",
        "- **(Urclass Quiz) 테스트 세트 정확도를 제출하세요.(0.712 이상)**"
      ]
    },
    {
      "cell_type": "code",
      "execution_count": 43,
      "metadata": {
        "id": "tYb7Tvqce0Kv",
        "outputId": "1a60a010-f6c9-4573-d499-79db26e61e5d",
        "colab": {
          "base_uri": "https://localhost:8080/"
        }
      },
      "outputs": [
        {
          "output_type": "execute_result",
          "data": {
            "text/plain": [
              "0.692"
            ]
          },
          "metadata": {},
          "execution_count": 43
        }
      ],
      "source": [
        "logistic.score(X_test, y_test)"
      ]
    },
    {
      "cell_type": "code",
      "source": [
        "from sklearn.preprocessing import StandardScaler\n",
        "\n",
        "scaler = StandardScaler()\n",
        "X_train = scaler.fit_transform(X_train)\n",
        "X_val = scaler.transform(X_val)\n",
        "X_test = scaler.transform(X_test)\n",
        "\n",
        "logistic_scaled = LogisticRegression(max_iter = 1000)\n",
        "\n",
        "logistic_scaled.fit(X_train, y_train)\n",
        "\n",
        "logistic_scaled.score(X_test, y_test)"
      ],
      "metadata": {
        "id": "bnMbv6opodX_",
        "outputId": "d4984700-4f55-40e4-83c1-57f4d8466865",
        "colab": {
          "base_uri": "https://localhost:8080/"
        }
      },
      "execution_count": 54,
      "outputs": [
        {
          "output_type": "execute_result",
          "data": {
            "text/plain": [
              "0.7241428571428571"
            ]
          },
          "metadata": {},
          "execution_count": 54
        }
      ]
    },
    {
      "cell_type": "markdown",
      "metadata": {
        "id": "nv0HHv2Me0Kw"
      },
      "source": [
        "## 🔥 도전과제:(Github - Discussion)\n",
        "\n",
        "### 공지로 안내드리는 Github - Discussion 페이지에 올려보세요:)"
      ]
    },
    {
      "cell_type": "markdown",
      "metadata": {
        "id": "QKWvCuQEe0Kw"
      },
      "source": [
        "### 6) EDA를 추가적으로 수행하고 아래 질문에 대한 본인만의 근거와 수행결과를 리포트해 보시고 서로 논해 보세요. \n",
        "- 새로운 특성을 만들 수 있다면, 어떤 특성공학을 해 볼 수 있을까요? \n",
        "- 아웃라이어가 있는 특성이 있다면, 어떤 기준으로 제거할 수 있을까요? \n",
        "- [feature scaling](https://scikit-learn.org/stable/modules/preprocessing.html) 문서를 보면 여러가지 종류의 Scalar가 있는데, 각 Scalar는 각각 어떤 상황에 적용하면 좋을까요? 본 데이터에서는 어떤 scalar를 적용해볼 수 있을까요? \n",
        "- 모델 성능을 높이기 위해 어떤 튜닝을 추가해 볼 수 있을까요? \n"
      ]
    }
  ],
  "metadata": {
    "kernelspec": {
      "display_name": "Python 3",
      "language": "python",
      "name": "python3"
    },
    "language_info": {
      "codemirror_mode": {
        "name": "ipython",
        "version": 3
      },
      "file_extension": ".py",
      "mimetype": "text/x-python",
      "name": "python",
      "nbconvert_exporter": "python",
      "pygments_lexer": "ipython3",
      "version": "3.7.7"
    },
    "colab": {
      "name": "n214a-logistic-regression.ipynb",
      "provenance": []
    }
  },
  "nbformat": 4,
  "nbformat_minor": 0
}