{
 "cells": [
  {
   "cell_type": "markdown",
   "id": "0c770e0e",
   "metadata": {},
   "source": [
    "# 확인하세요!\n",
    "\n",
    "### 제출 전에 모든 코드가 순차적으로 잘 작동하는지 확인하세요. \n",
    "- **커널을 다시 시작**한 다음(메뉴바에서 Kernel$\\rightarrow$Restart 선택) **모든 셀을 실행**해 보세요(메뉴바에서 Cell$\\rightarrow$Run All 선택).\n",
    "\n",
    "### 지정 셀의 지정 영역에서만 코드를 작성했는지 확인하세요.\n",
    "- `YOUR CODE HERE`이 적혀 있는 셀에 대한 코드만 채점에 반영됩니다.\n",
    "- `YOUR CODE HERE` ~ `YOUR CODE ENDS HERE` 사이에 본인의 코드를 작성하세요.\n",
    "- 지정 셀 이외에 본인이 코드 실행 결과를 확인하기 위한 용도로 셀을 추가해도 됩니다.\n",
    "    - **제출 시 지정 셀에서는 정답 이외에 결과 확인을 위한 코드 등은 제거하고 제출해 주세요!**\n",
    "    - **기존 셀을 삭제하지 마세요! 채점에 불이익이 있을 수 있습니다.**\n",
    "\n",
    "### 제출 방법\n",
    "- 시간 내에 문제를 풀고, 본인의 github repo에 push 하세요.\n",
    "    - **디렉토리 구조가 변하면 안 됩니다.** `codestates/ds-sc2xx`와 디렉토리 구조가 동일해야 합니다. 답안 파일의 이름을 변경하지 않았는지, 기존에 없던 폴더가 추가되지 않았는지 등을 확인하세요.\n",
    "    - **코드스테이츠 가입 시 연동한 github 계정을 사용해야 합니다.**\n",
    "    - **branch를 변경하여 작업하지 마세요.**\n",
    "        - `master` branch에의 제출 사항에 대해서만 평가합니다.\n",
    "        - 본인의 github repo `master` branch에 제출이 잘 되어 있는지 확인하세요."
   ]
  },
  {
   "cell_type": "markdown",
   "id": "1648390a",
   "metadata": {},
   "source": [
    "---"
   ]
  },
  {
   "cell_type": "markdown",
   "id": "6f4f7cc5",
   "metadata": {
    "deletable": false,
    "editable": false,
    "nbgrader": {
     "cell_type": "markdown",
     "checksum": "5b8da3e1b9baae8ac676b3a0499ac505",
     "grade": false,
     "grade_id": "cell-5b7fa4769535997c",
     "locked": true,
     "schema_version": 3,
     "solution": false,
     "task": false
    }
   },
   "source": [
    "# SC22x\n",
    " \n",
    "### 코비 브라이언트의 슛 성공 여부 예측해보기\n",
    "\n",
    "이번 스프린트 챌린지에서는 故 코비 브라이언트 선수의 NBA 필드 골 시도들이 담긴 데이터셋을 다룹니다 (1996년 11월 3일부터 2016년 4월 13일까지의 정규 시즌과 플레이오프 시즌 기록).\n",
    "\n",
    "여러분은 각 슛의 성공 여부를 슈팅의 대한 정보, 게임에 대한 정보를 통해서 예측해야 합니다. 이것은 상당히 어려운 예측입니다. 해당 데이터셋은 [NBA API]((https://github.com/swar/nba_api) 파이썬 라이브러리를 통해 수집 됐습니다. "
   ]
  },
  {
   "cell_type": "code",
   "execution_count": null,
   "id": "cdad95b2",
   "metadata": {
    "deletable": false,
    "editable": false,
    "nbgrader": {
     "cell_type": "code",
     "checksum": "2cfd24dc4defca04c0836dea326187ce",
     "grade": false,
     "grade_id": "cell-ee764f0e965ac62a",
     "locked": true,
     "schema_version": 3,
     "solution": false,
     "task": false
    }
   },
   "outputs": [],
   "source": [
    "import sys\n",
    "import warnings\n",
    "\n",
    "if \"google.colab\" in sys.modules:\n",
    "    ## Colab에서 실행하는 경우 필요한 라이브러리를 미리 설치합니다.\n",
    "    !pip install category_encoders==2.*\n",
    "    !pip install pandas-profiling==2.*\n",
    "\n",
    "warnings.filterwarnings(\"ignore\")"
   ]
  },
  {
   "cell_type": "code",
   "execution_count": null,
   "id": "3a53a31f",
   "metadata": {
    "deletable": false,
    "editable": false,
    "nbgrader": {
     "cell_type": "code",
     "checksum": "b58ba5b26c7fda6d0c1df2813dc5c31d",
     "grade": false,
     "grade_id": "cell-2602a05446403de0",
     "locked": true,
     "schema_version": 3,
     "solution": false,
     "task": false
    }
   },
   "outputs": [],
   "source": [
    "# 데이터셋을 불러옵니다\n",
    "import pandas as pd\n",
    "\n",
    "url = \"https://ds-lecture-data.s3.ap-northeast-2.amazonaws.com/nba/nba_kobe_bryant.csv\"\n",
    "df = pd.read_csv(url)\n",
    "\n",
    "# 데이터셋이 잘 불러졌는지 확인합니다\n",
    "assert df.shape == (30697, 19)"
   ]
  },
  {
   "cell_type": "code",
   "execution_count": null,
   "id": "f34ba7af",
   "metadata": {
    "deletable": false,
    "editable": false,
    "nbgrader": {
     "cell_type": "code",
     "checksum": "cd76d011425014356e2893c5aa457a2e",
     "grade": false,
     "grade_id": "cell-5588e0945ba113c3",
     "locked": true,
     "schema_version": 3,
     "solution": false,
     "task": false
    }
   },
   "outputs": [],
   "source": [
    "df.head()"
   ]
  },
  {
   "cell_type": "code",
   "execution_count": null,
   "id": "bd4ef052",
   "metadata": {
    "deletable": false,
    "editable": false,
    "nbgrader": {
     "cell_type": "code",
     "checksum": "2ec9ef1e3e41545d309a13f8ad9e96ac",
     "grade": false,
     "grade_id": "cell-2b50543307a8bc30",
     "locked": true,
     "schema_version": 3,
     "solution": false,
     "task": false
    }
   },
   "outputs": [],
   "source": [
    "# 살펴보기\n",
    "df.isnull().sum()"
   ]
  },
  {
   "cell_type": "markdown",
   "id": "6b9c8083",
   "metadata": {
    "deletable": false,
    "editable": false,
    "nbgrader": {
     "cell_type": "markdown",
     "checksum": "96dab9d3b391906d6e6e33edcf985701",
     "grade": false,
     "grade_id": "cell-f75742bcbc000238",
     "locked": true,
     "schema_version": 3,
     "solution": false,
     "task": false
    }
   },
   "source": [
    "# Part 1 - Data Preprocessing"
   ]
  },
  {
   "cell_type": "markdown",
   "id": "317a659c",
   "metadata": {
    "deletable": false,
    "editable": false,
    "nbgrader": {
     "cell_type": "markdown",
     "checksum": "5edd97d97d09e779c6c3d6f845191211",
     "grade": false,
     "grade_id": "cell-78b3370c9bae8d7c",
     "locked": true,
     "schema_version": 3,
     "solution": false,
     "task": false
    }
   },
   "source": [
    "## 1.1 분류를 위한 베이스라인 정확도를 계산하는 `calculate_baseline_score` 함수를 작성하세요.\n",
    "- 예측해야 하는 target은 `shot_made_flag` 입니다. \n",
    "- 전체 데이터를 써서 baseline **accuracy score**를 계산하세요.\n",
    "- 최빈 클래스를 사용하는 baseline을 가정하세요."
   ]
  },
  {
   "cell_type": "code",
   "execution_count": null,
   "id": "9fd4bab4",
   "metadata": {
    "deletable": false,
    "nbgrader": {
     "cell_type": "code",
     "checksum": "d86cec0b776864abff084231a709fa28",
     "grade": false,
     "grade_id": "1-1",
     "locked": false,
     "schema_version": 3,
     "solution": true,
     "task": false
    }
   },
   "outputs": [],
   "source": [
    "def calculate_baseline_score(df):\n",
    "    accuracy_score = 0\n",
    "\n",
    "    # YOUR CODE HERE\n",
    "    \n",
    "    \n",
    "    # YOUR CODE ENDS HERE\n",
    "\n",
    "    return accuracy_score"
   ]
  },
  {
   "cell_type": "code",
   "execution_count": null,
   "id": "e3093d3d",
   "metadata": {
    "deletable": false,
    "editable": false,
    "nbgrader": {
     "cell_type": "code",
     "checksum": "715e83962f65cd40c3a019cd0a631c59",
     "grade": false,
     "grade_id": "cell-58d5cd85e0805e46",
     "locked": true,
     "schema_version": 3,
     "solution": false,
     "task": false
    }
   },
   "outputs": [],
   "source": [
    "baseline_accuracy_score = calculate_baseline_score(df)"
   ]
  },
  {
   "cell_type": "code",
   "execution_count": null,
   "id": "ac7b02b0",
   "metadata": {
    "deletable": false,
    "editable": false,
    "nbgrader": {
     "cell_type": "code",
     "checksum": "92d6a067cb545b792996e838d847bf9a",
     "grade": true,
     "grade_id": "1-1_test",
     "locked": true,
     "points": 0.5,
     "schema_version": 3,
     "solution": false,
     "task": false
    }
   },
   "outputs": [],
   "source": [
    "print(\"baseline accuracy score:\", baseline_accuracy_score)"
   ]
  },
  {
   "cell_type": "markdown",
   "id": "4b7abb2a",
   "metadata": {
    "deletable": false,
    "editable": false,
    "nbgrader": {
     "cell_type": "markdown",
     "checksum": "ebe6acbc6f4a27a5e1f21a3a57708b16",
     "grade": false,
     "grade_id": "cell-379b9354bac4ee0b",
     "locked": true,
     "schema_version": 3,
     "solution": false,
     "task": false
    }
   },
   "source": [
    "## 1.2 데이터셋을 아래의 기준을 사용해서 train/test 셋으로 나누는 `split_data` 함수를 작성하세요.\n",
    "\n",
    "- `test set`: **2014-15** ~ **2015-16** 시즌\n",
    "- NBA 시즌은 **10월**에 시작해서 **6월**에 종료합니다. "
   ]
  },
  {
   "cell_type": "code",
   "execution_count": null,
   "id": "0db6ee42",
   "metadata": {
    "deletable": false,
    "nbgrader": {
     "cell_type": "code",
     "checksum": "0492b692729613e5bfd0caa42832f343",
     "grade": false,
     "grade_id": "1-2",
     "locked": false,
     "schema_version": 3,
     "solution": true,
     "task": false
    }
   },
   "outputs": [],
   "source": [
    "def split_data(df):\n",
    "    train = None\n",
    "    test = None\n",
    "\n",
    "    # YOUR CODE HERE\n",
    "    \n",
    "    \n",
    "    # YOUR CODE ENDS HERE\n",
    "\n",
    "    return train, test"
   ]
  },
  {
   "cell_type": "code",
   "execution_count": null,
   "id": "e90106c9",
   "metadata": {
    "deletable": false,
    "editable": false,
    "nbgrader": {
     "cell_type": "code",
     "checksum": "fd97ea82ae2456a4aee58ddcd54b2779",
     "grade": false,
     "grade_id": "cell-26aeeade23bbb87e",
     "locked": true,
     "schema_version": 3,
     "solution": false,
     "task": false
    }
   },
   "outputs": [],
   "source": [
    "train, test = split_data(df.copy())"
   ]
  },
  {
   "cell_type": "code",
   "execution_count": null,
   "id": "7056dce3",
   "metadata": {
    "deletable": false,
    "editable": false,
    "nbgrader": {
     "cell_type": "code",
     "checksum": "80bd1710efdf43d041bde287db077f4b",
     "grade": true,
     "grade_id": "1-2_test",
     "locked": true,
     "points": 0.5,
     "schema_version": 3,
     "solution": false,
     "task": false
    }
   },
   "outputs": [],
   "source": [
    "train"
   ]
  },
  {
   "cell_type": "markdown",
   "id": "90c22148",
   "metadata": {
    "deletable": false,
    "editable": false,
    "nbgrader": {
     "cell_type": "markdown",
     "checksum": "56fe678e3d413579e925d32cc6454896",
     "grade": false,
     "grade_id": "cell-061f9cf27e568eae",
     "locked": true,
     "schema_version": 3,
     "solution": false,
     "task": false
    }
   },
   "source": [
    "## 1.3 새로운 feature를 만드는 `feature_engineering` 함수를 작성하세요.\n",
    "\n",
    "- 최소 2개 이상의 새로운 feature를 만드세요. 아래의 리스트를 사용하셔도 되고 스스로의 아이디어로 만들어 주셔도 괜찮습니다.\n",
    "    - **Homecourt Advantage**: 홈 팀(`htm`)이 Los Angeles Lakers (`LAL`)인지 여부\n",
    "    - **Opponent**: LA Lakers를 상대하는 팀을 나타내는 feature\n",
    "    - **Seconds remaining in the period**: 피리어드에 남은 총 시간 (분과 초를 합칩니다)\n",
    "    - **Seconds remaining in the game**: 게임에 남은 총 시간 (피리어드와 초를 합칩니다). 농구에서 게임은 총 4개의 피리어드로 이루어져 있습니다 (각 12분)\n",
    "    - **Made previous shot**: 코비 브라이언트의 예전 슛이 성공했는지 여부\n",
    "- 학습에 사용하지 않는 특성은 drop하세요.\n",
    "    "
   ]
  },
  {
   "cell_type": "code",
   "execution_count": null,
   "id": "a85431a9",
   "metadata": {
    "deletable": false,
    "nbgrader": {
     "cell_type": "code",
     "checksum": "cf3c3be617fbfaa735f3ebbd6e8bac4f",
     "grade": false,
     "grade_id": "1-3",
     "locked": false,
     "schema_version": 3,
     "solution": true,
     "task": false
    }
   },
   "outputs": [],
   "source": [
    "def feature_engineering(df):\n",
    "    df_tmp = df.copy()\n",
    "\n",
    "    # YOUR CODE HERE\n",
    "    \n",
    "    \n",
    "    # YOUR CODE ENDS HERE\n",
    "\n",
    "    return df_tmp"
   ]
  },
  {
   "cell_type": "code",
   "execution_count": null,
   "id": "e943da7a",
   "metadata": {
    "deletable": false,
    "editable": false,
    "nbgrader": {
     "cell_type": "code",
     "checksum": "bf8f41ed0107062288cff199a8c111a3",
     "grade": false,
     "grade_id": "cell-15e97fab22fdd400",
     "locked": true,
     "schema_version": 3,
     "solution": false,
     "task": false
    }
   },
   "outputs": [],
   "source": [
    "train_processed = feature_engineering(train)\n",
    "test_processed = feature_engineering(test)"
   ]
  },
  {
   "cell_type": "code",
   "execution_count": null,
   "id": "20ec9b5d",
   "metadata": {
    "deletable": false,
    "editable": false,
    "nbgrader": {
     "cell_type": "code",
     "checksum": "14be208f54414851c5aaab9bcfabd8d2",
     "grade": true,
     "grade_id": "1-3_test",
     "locked": true,
     "points": 1,
     "schema_version": 3,
     "solution": false,
     "task": false
    }
   },
   "outputs": [],
   "source": [
    "train_processed.head()"
   ]
  },
  {
   "cell_type": "code",
   "execution_count": null,
   "id": "e1aff31a",
   "metadata": {
    "deletable": false,
    "editable": false,
    "nbgrader": {
     "cell_type": "code",
     "checksum": "881a58f7fe6465e076c93f8e70722c2c",
     "grade": false,
     "grade_id": "cell-58139b44992fc52b",
     "locked": true,
     "schema_version": 3,
     "solution": false,
     "task": false
    }
   },
   "outputs": [],
   "source": [
    "test_processed.head()"
   ]
  },
  {
   "cell_type": "markdown",
   "id": "49630b73",
   "metadata": {
    "deletable": false,
    "editable": false,
    "nbgrader": {
     "cell_type": "markdown",
     "checksum": "b7cfd67b0072ffa1e3a5a3215fe4fd7c",
     "grade": false,
     "grade_id": "cell-d4f6cbe6a58338c4",
     "locked": true,
     "schema_version": 3,
     "solution": false,
     "task": false
    }
   },
   "source": [
    "## 1.4 train / test 셋을 features(X)와 target(y)으로 각각 나누는 `divide_data` 함수를 작성하세요."
   ]
  },
  {
   "cell_type": "code",
   "execution_count": null,
   "id": "7368b637",
   "metadata": {
    "deletable": false,
    "nbgrader": {
     "cell_type": "code",
     "checksum": "5949da018f02fcf11e69a31cc019a174",
     "grade": false,
     "grade_id": "1-4",
     "locked": false,
     "schema_version": 3,
     "solution": true,
     "task": false
    }
   },
   "outputs": [],
   "source": [
    "def divide_data(df):\n",
    "    X = None\n",
    "    y = None\n",
    "\n",
    "    # YOUR CODE HERE\n",
    "    \n",
    "    \n",
    "    # YOUR CODE ENDS HERE\n",
    "\n",
    "    return X, y"
   ]
  },
  {
   "cell_type": "code",
   "execution_count": null,
   "id": "a9138c66",
   "metadata": {
    "deletable": false,
    "editable": false,
    "nbgrader": {
     "cell_type": "code",
     "checksum": "eacbc5209b67324410e3c6ab8214f793",
     "grade": false,
     "grade_id": "cell-b824b53dc5c901a9",
     "locked": true,
     "schema_version": 3,
     "solution": false,
     "task": false
    }
   },
   "outputs": [],
   "source": [
    "X_train, y_train = divide_data(train_processed)\n",
    "X_test, y_test = divide_data(test_processed)"
   ]
  },
  {
   "cell_type": "code",
   "execution_count": null,
   "id": "a2e3170a",
   "metadata": {
    "deletable": false,
    "editable": false,
    "nbgrader": {
     "cell_type": "code",
     "checksum": "01d0c142022bb1d645ce00c007953efd",
     "grade": true,
     "grade_id": "1-4_test",
     "locked": true,
     "points": 0.5,
     "schema_version": 3,
     "solution": false,
     "task": false
    }
   },
   "outputs": [],
   "source": [
    "X_train.shape, X_test.shape"
   ]
  },
  {
   "cell_type": "markdown",
   "id": "1b9adba0",
   "metadata": {
    "deletable": false,
    "editable": false,
    "nbgrader": {
     "cell_type": "markdown",
     "checksum": "0ead5c4e73d62e484dc1220d6d8d83be",
     "grade": false,
     "grade_id": "cell-6da594998301164d",
     "locked": true,
     "schema_version": 3,
     "solution": false,
     "task": false
    }
   },
   "source": [
    "# Part 2 - Modeling & Evaluation"
   ]
  },
  {
   "cell_type": "markdown",
   "id": "819f167c",
   "metadata": {
    "deletable": false,
    "editable": false,
    "nbgrader": {
     "cell_type": "markdown",
     "checksum": "c75a57bbd8b9b560c104394f29e2ff7a",
     "grade": false,
     "grade_id": "cell-f54c8204c1a466c0",
     "locked": true,
     "schema_version": 3,
     "solution": false,
     "task": false
    }
   },
   "source": [
    "## 2.1 Decision Tree 또는 RandomForest 모델 학습 파이프라인을 생성하고 학습하는 `fit_trees` 함수를 작성하세요. \n",
    "- Scikit-learn의 `pipeline`을 활용하여 범주형 feature의 encoder, imputer, 모델을 포함하는 하나의 학습 파이프라인을 구축하세요.\n",
    "- 구축한 파이프라인에 대해 `RandomizedSearchCV`를 사용해 CV를 진행하세요.\n",
    "    - 적어도 두 개 이상의 하이퍼파라미터에 대해 탐색을 진행하세요.\n",
    "    - F1 score을 최대화하는 하이퍼파라미터 조합을 선택하세요.\n",
    "- RandomForestClassifier, RandomizedSearchCV 등 랜덤성이 포함되는 방법론에 대해 모두 `random_state=42`로 하세요.\n",
    "- cv는 5 이하, n_iter은 10회 이하로 하세요."
   ]
  },
  {
   "cell_type": "code",
   "execution_count": null,
   "id": "5299948c",
   "metadata": {
    "deletable": false,
    "nbgrader": {
     "cell_type": "code",
     "checksum": "8da695c729ae78e18e7384e94257d36a",
     "grade": false,
     "grade_id": "2-1",
     "locked": false,
     "schema_version": 3,
     "solution": true,
     "task": false
    }
   },
   "outputs": [],
   "source": [
    "import sklearn\n",
    "from sklearn.pipeline import make_pipeline, Pipeline\n",
    "from sklearn.model_selection import RandomizedSearchCV\n",
    "from sklearn.metrics import f1_score\n",
    "from sklearn.ensemble import RandomForestClassifier\n",
    "from sklearn.tree import DecisionTreeClassifier\n",
    "from sklearn.impute import SimpleImputer\n",
    "from category_encoders import OrdinalEncoder, OneHotEncoder\n",
    "\n",
    "### IMPORT ANY\n",
    "# YOUR CODE HERE\n",
    "\n",
    "\n",
    "# YOUR CODE ENDS HERE\n",
    "\n",
    "\n",
    "def fit_trees(X_train, y_train):\n",
    "    pipe = None\n",
    "    clf = None\n",
    "\n",
    "    # YOUR CODE HERE\n",
    "    \n",
    "    \n",
    "    # YOUR CODE ENDS HERE\n",
    "\n",
    "    return clf"
   ]
  },
  {
   "cell_type": "code",
   "execution_count": null,
   "id": "d2a7fd98",
   "metadata": {},
   "outputs": [],
   "source": [
    "clf = fit_trees(X_train, y_train)"
   ]
  },
  {
   "cell_type": "code",
   "execution_count": null,
   "id": "07f646a3",
   "metadata": {
    "deletable": false,
    "editable": false,
    "nbgrader": {
     "cell_type": "code",
     "checksum": "4b77588efbab2fb48db9038267fbb515",
     "grade": true,
     "grade_id": "2-1_test",
     "locked": true,
     "points": 1,
     "schema_version": 3,
     "solution": false,
     "task": false
    }
   },
   "outputs": [],
   "source": [
    "print(\"Best CV F1\", clf.best_score_)\n",
    "print(\"Best CV params\", clf.best_params_)"
   ]
  },
  {
   "cell_type": "markdown",
   "id": "762689a6",
   "metadata": {},
   "source": [
    "## 2.2 학습된 모델로부터 feature importance를 계산하는 `get_feature_importances` 함수를 작성하세요. \n",
    "- feature_importances 변수에 RandomForest / Decision Tree의 feature_importances_ 값을 할당하면 됩니다."
   ]
  },
  {
   "cell_type": "code",
   "execution_count": null,
   "id": "c2bba75f",
   "metadata": {
    "deletable": false,
    "nbgrader": {
     "cell_type": "code",
     "checksum": "42bcf5984aaf1a4a6ead35fce9de6adc",
     "grade": false,
     "grade_id": "2-2",
     "locked": false,
     "schema_version": 3,
     "solution": true,
     "task": false
    }
   },
   "outputs": [],
   "source": [
    "import numpy as np\n",
    "\n",
    "\n",
    "def get_feature_importances(pipe, feature_names):\n",
    "    feature_importances = np.zeros(len(feature_names))\n",
    "\n",
    "    # YOUR CODE HERE\n",
    "    \n",
    "    \n",
    "    # YOUR CODE ENDS HERE\n",
    "\n",
    "    return sorted(\n",
    "        list(zip(feature_names, feature_importances)), key=lambda x: x[1], reverse=True\n",
    "    )"
   ]
  },
  {
   "cell_type": "code",
   "execution_count": null,
   "id": "804f1529",
   "metadata": {},
   "outputs": [],
   "source": [
    "feature_importances = get_feature_importances(\n",
    "    clf.best_estimator_, list(X_train.columns)\n",
    ")"
   ]
  },
  {
   "cell_type": "code",
   "execution_count": null,
   "id": "af663180",
   "metadata": {
    "deletable": false,
    "editable": false,
    "nbgrader": {
     "cell_type": "code",
     "checksum": "302dc360d19122871898b3427029daca",
     "grade": true,
     "grade_id": "2-2_test",
     "locked": true,
     "points": 1,
     "schema_version": 3,
     "solution": false,
     "task": false
    }
   },
   "outputs": [],
   "source": [
    "for name, importance in feature_importances:\n",
    "    print(f\"{name}: {importance:.4f}\")"
   ]
  },
  {
   "cell_type": "markdown",
   "id": "93b4000a",
   "metadata": {
    "deletable": false,
    "editable": false,
    "nbgrader": {
     "cell_type": "markdown",
     "checksum": "2b3b42dc02ee7b579bbad0e6f8967830",
     "grade": false,
     "grade_id": "cell-e0056f0b70e3fc27",
     "locked": true,
     "schema_version": 3,
     "solution": false,
     "task": false
    }
   },
   "source": [
    "## 2.3 Test 셋을 사용해 모델의 예측 성능(accuracy score, F1)를 계산하는 `calcuate_score` 함수를 작성하세요.\n",
    "- test_accuracy > 0.6, test_f1 > 0.5를 만족하면 기본 성능점수를 얻습니다.\n",
    "- (도전과제) test_accuracy > 0.68, test_f1 > 0.54을 만족하면 성능점수 만점을 얻습니다.\n",
    "  - 도전과제까지 수행해야 스챌 3점을 얻습니다. \n",
    "  - 1.3으로 돌아가 다양한 특성 조합을 시도해 보세요. \n",
    "    - 그리고 2.2로 돌아와 피쳐 중요도를 계산해 보세요.\n",
    "    - 어떤 피쳐의 중요도가 가장 높나요?\n",
    "    - 중요도가 낮은 피쳐라도 있는 게 좋을까요?\n",
    "  - 2.1로 돌아가 SearchCV에서 다양한 하이퍼파라미터 옵션 조합을 선택해 보세요.\n",
    "    - 본인이 선택한 모델에서, 각 하이퍼파라미터가 어떤 의미를 가지나요?\n",
    "    - SearchCV가 더 다양한 하이퍼파라미터 조합을 시도하도록 하기 위해 SearchCV의 어떤 옵션을 조정해야 할까요?"
   ]
  },
  {
   "cell_type": "code",
   "execution_count": null,
   "id": "55d91bc7",
   "metadata": {
    "deletable": false,
    "nbgrader": {
     "cell_type": "code",
     "checksum": "96679552cbf5928682cb469339e4dcd5",
     "grade": false,
     "grade_id": "2-3",
     "locked": false,
     "schema_version": 3,
     "solution": true,
     "task": false
    }
   },
   "outputs": [],
   "source": [
    "def calculate_score(pipe, X_test, y_test):\n",
    "    test_accuracy = 0\n",
    "    test_f1 = 0\n",
    "\n",
    "    # YOUR CODE HERE\n",
    "    \n",
    "    \n",
    "    # YOUR CODE ENDS HERE\n",
    "\n",
    "    return test_accuracy, test_f1"
   ]
  },
  {
   "cell_type": "code",
   "execution_count": null,
   "id": "2a19e1f1",
   "metadata": {
    "deletable": false,
    "editable": false,
    "nbgrader": {
     "cell_type": "code",
     "checksum": "a68313f924eec21f16dd966bac3b1b49",
     "grade": true,
     "grade_id": "2-3_test_code",
     "locked": true,
     "points": 0.5,
     "schema_version": 3,
     "solution": false,
     "task": false
    }
   },
   "outputs": [],
   "source": [
    "test_accuracy, test_f1 = calculate_score(clf.best_estimator_, X_test, y_test)"
   ]
  },
  {
   "cell_type": "code",
   "execution_count": null,
   "id": "9630b414",
   "metadata": {
    "deletable": false,
    "editable": false,
    "nbgrader": {
     "cell_type": "code",
     "checksum": "94e0f97d16d78f48d920e53ade8ca264",
     "grade": true,
     "grade_id": "2-3_test_performance",
     "locked": true,
     "points": 1,
     "schema_version": 3,
     "solution": false,
     "task": false
    }
   },
   "outputs": [],
   "source": [
    "print(\"test accuracy: \", test_accuracy)\n",
    "print(\"test F1:\", test_f1)"
   ]
  },
  {
   "cell_type": "code",
   "execution_count": null,
   "id": "b68ee47c",
   "metadata": {
    "deletable": false,
    "editable": false,
    "nbgrader": {
     "cell_type": "code",
     "checksum": "f616c48705e48860cdc87c0be104fb28",
     "grade": true,
     "grade_id": "challenge_2-3_test",
     "locked": true,
     "points": 1,
     "schema_version": 3,
     "solution": false,
     "task": false
    }
   },
   "outputs": [],
   "source": [
    "print(\"test accuracy > 0.68?: \", test_accuracy > 0.68)\n",
    "print(\"test F1 > 0.54?:\", test_f1 > 0.54)\n"
   ]
  },
  {
   "cell_type": "markdown",
   "id": "b8f38d05",
   "metadata": {},
   "source": [
    "---"
   ]
  },
  {
   "cell_type": "markdown",
   "id": "c840ed29",
   "metadata": {},
   "source": [
    "# 수고하셨습니다!"
   ]
  }
 ],
 "metadata": {
  "kernelspec": {
   "display_name": "Python 3 (ipykernel)",
   "language": "python",
   "name": "python3"
  },
  "language_info": {
   "codemirror_mode": {
    "name": "ipython",
    "version": 3
   },
   "file_extension": ".py",
   "mimetype": "text/x-python",
   "name": "python",
   "nbconvert_exporter": "python",
   "pygments_lexer": "ipython3",
   "version": "3.8.9"
  }
 },
 "nbformat": 4,
 "nbformat_minor": 5
}
