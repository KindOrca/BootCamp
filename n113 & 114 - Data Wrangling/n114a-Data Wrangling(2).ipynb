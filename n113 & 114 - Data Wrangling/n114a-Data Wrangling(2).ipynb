{
  "nbformat": 4,
  "nbformat_minor": 0,
  "metadata": {
    "colab": {
      "name": "n114a-Data Wrangling(2).ipynb",
      "provenance": [],
      "collapsed_sections": [
        "8miiH1NgR1P4",
        "yt0ZtsnswcSt",
        "pHOk7NOHx6pg",
        "Bamtjddix9Kf"
      ]
    },
    "kernelspec": {
      "name": "python3",
      "display_name": "Python 3"
    },
    "language_info": {
      "name": "python"
    }
  },
  "cells": [
    {
      "cell_type": "markdown",
      "source": [
        "<img src='https://user-images.githubusercontent.com/6457691/89746244-a6e2a200-daf3-11ea-9314-7863d544d73c.png' width = '200' align = 'right'>\n",
        "\n",
        "## *DATA SCIENCE / SECTION 1 / SPRINT 1 / NOTE 4*\n",
        "\n",
        "# 📝 Assignment\n",
        "\n",
        "---"
      ],
      "metadata": {
        "id": "eIGX_69OQ8rv"
      }
    },
    {
      "cell_type": "markdown",
      "source": [
        "**n113a의 데이터셋을 계속 사용합니다.**"
      ],
      "metadata": {
        "id": "BYvIS-1aIako"
      }
    },
    {
      "cell_type": "markdown",
      "source": [
        "# 1. customer 테이블의 데이터 이슈 해결하기 \n",
        "- customer 데이터셋을 불러옵니다. \n",
        "- 마지막 row를 제거합니다. \n",
        "- `customer_id`, `store_id`, `address_id`, `active` 컬럼의 데이터 타입을 int로 변환합니다. \n",
        "- `name`에서 처음 이름은 `first_name` 컬럼에, 다음 이름은 `last_name` 컬럼에 저장합니다. 이후 `name` 컬럼은 제거합니다.\n",
        "- `customer_id` 컬럼에 대하여 오름차순으로 정렬합니다. 이후 `.reset_index()`를 사용하여 인덱스를 재설정 해 주세요. "
      ],
      "metadata": {
        "id": "8miiH1NgR1P4"
      }
    },
    {
      "cell_type": "code",
      "source": [
        "import pandas as pd\n",
        "import numpy as np\n",
        "from google.colab import files\n",
        "file = files.upload()"
      ],
      "metadata": {
        "id": "gIYt_ClByZbY",
        "outputId": "48240890-0498-4e12-aba1-af0083a77182",
        "colab": {
          "resources": {
            "http://localhost:8080/nbextensions/google.colab/files.js": {
              "data": "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",
              "ok": true,
              "headers": [
                [
                  "content-type",
                  "application/javascript"
                ]
              ],
              "status": 200,
              "status_text": ""
            }
          },
          "base_uri": "https://localhost:8080/",
          "height": 148
        }
      },
      "execution_count": 77,
      "outputs": [
        {
          "output_type": "display_data",
          "data": {
            "text/plain": [
              "<IPython.core.display.HTML object>"
            ],
            "text/html": [
              "\n",
              "     <input type=\"file\" id=\"files-f58fa78e-06cd-4894-9817-e22968a74510\" name=\"files[]\" multiple disabled\n",
              "        style=\"border:none\" />\n",
              "     <output id=\"result-f58fa78e-06cd-4894-9817-e22968a74510\">\n",
              "      Upload widget is only available when the cell has been executed in the\n",
              "      current browser session. Please rerun this cell to enable.\n",
              "      </output>\n",
              "      <script src=\"/nbextensions/google.colab/files.js\"></script> "
            ]
          },
          "metadata": {}
        },
        {
          "output_type": "stream",
          "name": "stdout",
          "text": [
            "Saving customer.csv to customer (2).csv\n",
            "Saving payment.csv to payment (2).csv\n",
            "Saving rental.csv to rental (2).csv\n"
          ]
        }
      ]
    },
    {
      "cell_type": "code",
      "source": [
        "# 각 데이터셋 불러오기\n",
        "customer = pd.read_csv('customer.csv')\n",
        "payment = pd.read_csv('payment.csv')\n",
        "rental = pd.read_csv('rental.csv')"
      ],
      "metadata": {
        "id": "jVvK1AnkR571"
      },
      "execution_count": null,
      "outputs": []
    },
    {
      "cell_type": "code",
      "source": [
        "# 마지막 row 제거\n",
        "customer = customer.drop(customer.index.max())\n",
        "\n",
        "# customer_id, store_id, address_id, active 컬럼의 데이터 타입을 int로 변환\n",
        "customer = customer.astype({'customer_id':int, 'store_id':int,'address_id':int,'active':int})\n",
        "\n",
        "# name에서 처음 이름은 first_name 컬럼에, 다음 이름은 last_name 컬럼에 저장 후, name 컬럼은 제거\n",
        "customer['first_name'] = customer['name'].str.split(', ').str[0]\n",
        "customer['last_name'] = customer['name'].str.split(', ').str[1]\n",
        "customer = customer.drop('name', axis = 1)\n",
        "\n",
        "# customer_id 컬럼에 대하여 오름차순으로 정렬 후, .reset_index()를 사용하여 인덱스를 재설정\n",
        "customer = customer.sort_values('customer_id')\n",
        "customer.reset_index()"
      ],
      "metadata": {
        "id": "-4DbBIT9R7gd"
      },
      "execution_count": null,
      "outputs": []
    },
    {
      "cell_type": "markdown",
      "source": [
        "# 2. rental 테이블의 데이터 이슈 해결하기 \n",
        "- rental 데이터셋을 불러옵니다. \n",
        "- 마지막 row를 제거합니다. \n",
        "- `rental_id`, `inventory_id`, `customer_id`, `staff_id` 컬럼의 데이터 타입을 int로 변환합니다. \n",
        "- `customer_id`와 `rental_id` 컬럼에 대하여 오름차순으로 정렬합니다. 이후 `.reset_index()`를 사용하여 인덱스를 재설정 해 주세요. "
      ],
      "metadata": {
        "id": "yt0ZtsnswcSt"
      }
    },
    {
      "cell_type": "code",
      "source": [
        "# 마지막 row 제거\n",
        "rental = rental.drop(rental.index.max(), axis = 0)\n",
        "\n",
        "# rental_id, inventory_id, customer_id, staff_id 컬럼의 데이터 타입을 int로 변환\n",
        "rental = rental.astype({'rental_id':int, 'inventory_id':int, 'customer_id':int, 'staff_id':int})\n",
        "\n",
        "# customer_id와 rental_id 컬럼에 대하여 오름차순으로 정렬 후, .reset_index()를 사용하여 인덱스를 재설정\n",
        "rental = rental.sort_values(by=['customer_id', 'rental_id'])\n",
        "rental.reset_index()"
      ],
      "metadata": {
        "id": "Hnm297EYyd9u"
      },
      "execution_count": null,
      "outputs": []
    },
    {
      "cell_type": "markdown",
      "source": [
        "# 3. payment 테이블의 데이터 이슈 해결하기 \n",
        "- payment 데이터셋을 불러옵니다. \n",
        "- 마지막 row를 제거합니다. \n",
        "- `payment_id`, `customer_id`, `staff_id`, `rental_id` 컬럼의 데이터 타입을 int로 변환합니다. \n",
        "- `amount` 컬럼의 '$'를 제거한 후 데이터 타입을 float으로 변환합니다. \n",
        "- `customer_id`와 `rental_id` 컬럼에 대하여 오름차순으로 정렬합니다. "
      ],
      "metadata": {
        "id": "pHOk7NOHx6pg"
      }
    },
    {
      "cell_type": "code",
      "source": [
        "# 마지막 row 제거\n",
        "payment = payment.drop(payment.index.max())\n",
        "\n",
        "# payment_id, customer_id, staff_id, rental_id 컬럼의 데이터 타입을 int로 변환\n",
        "payment = payment.astype({'payment_id':int, 'customer_id':int, 'staff_id':int, 'rental_id':int})\n",
        "\n",
        "# amount 컬럼의 '$'를 제거한 후 데이터 타입을 float으로 변환\n",
        "payment['amount'] = payment.amount.str.replace('$','')\n",
        "payment = payment.astype({'amount' : float})\n",
        "payment.dtypes\n",
        "\n",
        "# customer_id와 rental_id 컬럼에 대하여 오름차순으로 정렬\n",
        "payment = payment.sort_values(by=['customer_id, rental_id'])"
      ],
      "metadata": {
        "id": "II42XZwsyfvG"
      },
      "execution_count": null,
      "outputs": []
    },
    {
      "cell_type": "markdown",
      "source": [
        "# 4. customer, rental, payment 테이블 합치기 \n",
        "3개의 테이블을 모두 사용하여 분석을 진행하는 것은 비효율적으로 보입니다.\n",
        "- rental 테이블과 payment 테이블의 `staff_id` 컬럼을 각각 제거합니다.  \n",
        "- customer 테이블과 rental 테이블의 `last_update` 컬럼을 각각 제거합니다. \n",
        "- rental 테이블과 payment 테이블을 `customer_id`와 `rental_id`에 대하여 `.merge()`를 사용하여 합치세요. 변수 이름은 `df1`으로 합니다. \n",
        "- `df1`과 customer 테이블을 `customer_id`에 대하여 `.merge()`를 사용하여 합치세요. 변수 이름은 `df2`로 합니다. "
      ],
      "metadata": {
        "id": "Bamtjddix9Kf"
      }
    },
    {
      "cell_type": "code",
      "source": [
        "# 이 곳에 답안을 작성하시기 바랍니다."
      ],
      "metadata": {
        "id": "wi4j5tLGyhZl"
      },
      "execution_count": null,
      "outputs": []
    },
    {
      "cell_type": "markdown",
      "source": [
        "# 🔥 도전 과제\n",
        "\n",
        "**n113a의 도전과제에서 이어집니다.**"
      ],
      "metadata": {
        "id": "HP_pf2XHbF5_"
      }
    },
    {
      "cell_type": "markdown",
      "source": [
        "## Tidy Data\n",
        "\n",
        "- n113a의 도전과제에서 만든 데이터를 다음 예시와 같은 **tidy** 형태로 만드세요.\n",
        "\n",
        "|종목명|Feature|Value|\n",
        "|:-:|:-:|:-:|\n",
        "|하이트진로|매출액|6243|\n",
        "|보해양조|매출액|205|\n",
        "|롯데칠성|매출액|5980|\n",
        "|...|...|...|\n",
        "|마니커|EPS(원)|-61|\n",
        "|이지홀딩스|EPS(원)|1168|\n",
        "|하림|EPS(원)|62|\n",
        "\n",
        "- 다음 코드를 실행했을 때 나오는 box 수를 구하세요. \n",
        "```python\n",
        "sns.boxplot(data = df_tidy, x = '종목명', y = 'value');\n",
        "```"
      ],
      "metadata": {
        "id": "h1tOBIcSbfGA"
      }
    },
    {
      "cell_type": "code",
      "source": [
        "# 이 곳에 답안을 작성하시기 바랍니다. "
      ],
      "metadata": {
        "id": "UnBv92ZEcKY9"
      },
      "execution_count": null,
      "outputs": []
    },
    {
      "cell_type": "markdown",
      "source": [
        "## Join\n",
        "\n",
        "- 여러 데이터셋을 합칠 때에는 `.concat()`이나 `.merge()` 외에 `.join()`이라는 함수를 사용할 수도 있습니다. 공식문서를 통해 `.join()`에 대해 알아보세요.\n",
        "\n",
        "  https://pandas.pydata.org/docs/reference/api/pandas.DataFrame.join.html\n",
        "\n",
        "-  주어진 두 데이터프레임을 `.join()`을 사용하여 다음과 같은 결과물을 만듭니다.\n",
        "\n",
        "\n",
        "|key1|key2x|A|B|key2y|C|D|\n",
        "|:-:|:-:|:-:|:-:|:-:|:-:|:-:|\n",
        "|K1|K0|A2|B2|K0|C0|D0|\n",
        "|K1|K0|A2|B2|K0|C1|D1|\n",
        "|K2|K1|A3|B3|K0|C2|D2|\n",
        "|K3|NaN|NaN|NaN|K0|C3|D3|"
      ],
      "metadata": {
        "id": "J3GBGj-NcCbJ"
      }
    },
    {
      "cell_type": "code",
      "source": [
        "import pandas as pd\n",
        "\n",
        "left = pd.DataFrame({'key1': ['K0', 'K0', 'K1', 'K2'],\n",
        "                     'key2': ['K0', 'K1', 'K0', 'K1'],\n",
        "                     'A': ['A0', 'A1', 'A2', 'A3'],\n",
        "                     'B': ['B0', 'B1', 'B2', 'B3']})\n",
        "\n",
        "right = pd.DataFrame({'key1': ['K1', 'K1', 'K2', 'K3'],\n",
        "                      'key2': ['K0', 'K0', 'K0', 'K0'],\n",
        "                      'C': ['C0', 'C1', 'C2', 'C3'],\n",
        "                      'D': ['D0', 'D1', 'D2', 'D3']})"
      ],
      "metadata": {
        "id": "RlBnXh21SjHt"
      },
      "execution_count": null,
      "outputs": []
    },
    {
      "cell_type": "code",
      "source": [
        "# 이 곳에 답안을 작성하시기 바랍니다. "
      ],
      "metadata": {
        "id": "qO2qf5bodA0Y"
      },
      "execution_count": null,
      "outputs": []
    }
  ]
}