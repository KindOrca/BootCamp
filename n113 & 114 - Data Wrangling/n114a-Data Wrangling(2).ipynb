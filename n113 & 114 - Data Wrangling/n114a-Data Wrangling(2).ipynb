{
  "nbformat": 4,
  "nbformat_minor": 0,
  "metadata": {
    "colab": {
      "name": "n114a-Data Wrangling(2).ipynb",
      "provenance": [],
      "collapsed_sections": [
        "8miiH1NgR1P4",
        "yt0ZtsnswcSt",
        "pHOk7NOHx6pg",
        "Bamtjddix9Kf"
      ]
    },
    "kernelspec": {
      "name": "python3",
      "display_name": "Python 3"
    },
    "language_info": {
      "name": "python"
    }
  },
  "cells": [
    {
      "cell_type": "markdown",
      "source": [
        "<img src='https://user-images.githubusercontent.com/6457691/89746244-a6e2a200-daf3-11ea-9314-7863d544d73c.png' width = '200' align = 'right'>\n",
        "\n",
        "## *DATA SCIENCE / SECTION 1 / SPRINT 1 / NOTE 4*\n",
        "\n",
        "# 📝 Assignment\n",
        "\n",
        "---"
      ],
      "metadata": {
        "id": "eIGX_69OQ8rv"
      }
    },
    {
      "cell_type": "markdown",
      "source": [
        "**n113a의 데이터셋을 계속 사용합니다.**"
      ],
      "metadata": {
        "id": "BYvIS-1aIako"
      }
    },
    {
      "cell_type": "markdown",
      "source": [
        "# 1. customer 테이블의 데이터 이슈 해결하기 \n",
        "- customer 데이터셋을 불러옵니다. \n",
        "- 마지막 row를 제거합니다. \n",
        "- `customer_id`, `store_id`, `address_id`, `active` 컬럼의 데이터 타입을 int로 변환합니다. \n",
        "- `name`에서 처음 이름은 `first_name` 컬럼에, 다음 이름은 `last_name` 컬럼에 저장합니다. 이후 `name` 컬럼은 제거합니다.\n",
        "- `customer_id` 컬럼에 대하여 오름차순으로 정렬합니다. 이후 `.reset_index()`를 사용하여 인덱스를 재설정 해 주세요. "
      ],
      "metadata": {
        "id": "8miiH1NgR1P4"
      }
    },
    {
      "cell_type": "code",
      "source": [
        "# 이 곳에 답안을 작성하세요. "
      ],
      "metadata": {
        "id": "gIYt_ClByZbY"
      },
      "execution_count": null,
      "outputs": []
    },
    {
      "cell_type": "markdown",
      "source": [
        "# 2. rental 테이블의 데이터 이슈 해결하기 \n",
        "- rental 데이터셋을 불러옵니다. \n",
        "- 마지막 row를 제거합니다. \n",
        "- `rental_id`, `inventory_id`, `customer_id`, `staff_id` 컬럼의 데이터 타입을 int로 변환합니다. \n",
        "- `customer_id`와 `rental_id` 컬럼에 대하여 오름차순으로 정렬합니다. 이후 `.reset_index()`를 사용하여 인덱스를 재설정 해 주세요. "
      ],
      "metadata": {
        "id": "yt0ZtsnswcSt"
      }
    },
    {
      "cell_type": "code",
      "source": [
        "# 이 곳에 답안을 작성하세요. "
      ],
      "metadata": {
        "id": "Hnm297EYyd9u"
      },
      "execution_count": null,
      "outputs": []
    },
    {
      "cell_type": "markdown",
      "source": [
        "# 3. payment 테이블의 데이터 이슈 해결하기 \n",
        "- payment 데이터셋을 불러옵니다. \n",
        "- 마지막 row를 제거합니다. \n",
        "- `payment_id`, `customer_id`, `staff_id`, `rental_id` 컬럼의 데이터 타입을 int로 변환합니다. \n",
        "- `amount` 컬럼의 '$'를 제거한 후 데이터 타입을 float으로 변환합니다. \n",
        "- `customer_id`와 `rental_id` 컬럼에 대하여 오름차순으로 정렬합니다. "
      ],
      "metadata": {
        "id": "pHOk7NOHx6pg"
      }
    },
    {
      "cell_type": "code",
      "source": [
        "# 이 곳에 답안을 작성하세요. "
      ],
      "metadata": {
        "id": "II42XZwsyfvG"
      },
      "execution_count": null,
      "outputs": []
    },
    {
      "cell_type": "markdown",
      "source": [
        "# 4. customer, rental, payment 테이블 합치기 \n",
        "3개의 테이블을 모두 사용하여 분석을 진행하는 것은 비효율적으로 보입니다.\n",
        "- rental 테이블과 payment 테이블의 `staff_id` 컬럼을 각각 제거합니다.  \n",
        "- customer 테이블과 rental 테이블의 `last_update` 컬럼을 각각 제거합니다. \n",
        "- rental 테이블과 payment 테이블을 `customer_id`와 `rental_id`에 대하여 `.merge()`를 사용하여 합치세요. 변수 이름은 `df1`으로 합니다. \n",
        "- `df1`과 customer 테이블을 `customer_id`에 대하여 `.merge()`를 사용하여 합치세요. 변수 이름은 `df2`로 합니다. "
      ],
      "metadata": {
        "id": "Bamtjddix9Kf"
      }
    },
    {
      "cell_type": "code",
      "source": [
        "# 이 곳에 답안을 작성하세요. "
      ],
      "metadata": {
        "id": "wi4j5tLGyhZl"
      },
      "execution_count": null,
      "outputs": []
    }
  ]
}