{
  "nbformat": 4,
  "nbformat_minor": 0,
  "metadata": {
    "colab": {
      "name": "n113a-Data Wrangling(1).ipynb",
      "provenance": [],
      "collapsed_sections": [
        "boXn38ONQZZP",
        "iatrxE1oA3-X",
        "-LCiME2aQnw7",
        "ANi0x_3rQytQ"
      ]
    },
    "kernelspec": {
      "name": "python3",
      "display_name": "Python 3"
    },
    "language_info": {
      "name": "python"
    }
  },
  "cells": [
    {
      "cell_type": "markdown",
      "source": [
        "<img src='https://user-images.githubusercontent.com/6457691/89746244-a6e2a200-daf3-11ea-9314-7863d544d73c.png' width = '200' align = 'right'>\n",
        "\n",
        "## *DATA SCIENCE / SECTION 1 / SPRINT 1 / NOTE 3*\n",
        "\n",
        "# 📝 Assignment\n",
        "\n",
        "---"
      ],
      "metadata": {
        "id": "luB5R5m9QSqj"
      }
    },
    {
      "cell_type": "markdown",
      "source": [
        "# 1. Enumerate\n",
        "\n",
        "- \b1 이상 50 이하의 정수 10개를 랜덤으로 생성하여 arr에 저장합니다.\n",
        "  - `np.random.seed(1)`로 설정합니다. \n",
        "\n",
        "- `enumerate`를 사용하여 짝수 번째 수들의 합은 res1에, 홀수 번째 수들의 합은 res2에 저장합니다. "
      ],
      "metadata": {
        "id": "boXn38ONQZZP"
      }
    },
    {
      "cell_type": "code",
      "source": [
        "# 이 곳에 답안을 작성하세요. "
      ],
      "metadata": {
        "id": "dSoaryevtEus"
      },
      "execution_count": null,
      "outputs": []
    },
    {
      "cell_type": "markdown",
      "source": [
        "# 2. Apply\n",
        "\n",
        "- 주어진 url의 데이터셋을 불러옵니다. \n",
        "\n",
        "- 결측치는 0으로 대체합니다. \n",
        "\n",
        "- 데이터셋의 분기를 제외한 모든 feature에 대해서 수치형 데이터(`int`, `float`)로 변환하고, `.describe()`을 통해 summary statistics를 확인하세요. "
      ],
      "metadata": {
        "id": "iatrxE1oA3-X"
      }
    },
    {
      "cell_type": "code",
      "execution_count": null,
      "metadata": {
        "id": "_ttEBvpaAo38"
      },
      "outputs": [],
      "source": [
        "url = 'https://ds-lecture-data.s3.ap-northeast-2.amazonaws.com/kt%26g/kt%26g_0.csv'\n",
        "headers = ['분기', '매출액', '영업이익', '영업이익(발표기준)', '세전계속사업이익',\n",
        "           '당기순이익', '당기순이익(지배)', '당기순이익(비지배)', '자산총계', '부채총계',\n",
        "           '자본총계', '자본총계(지배)', '자본총계(비지배)', '자본금', '영업활동현금흐름',\n",
        "           '투자활동현금흐름', '재무활동현금흐름', '영업이익률', '순이익률', 'ROE(%)',\n",
        "           'ROA(%)', '부채비율', '자본유보율', 'EPS(원)', 'PER(배)']"
      ]
    },
    {
      "cell_type": "code",
      "source": [
        "# 이 곳에 답안을 작성하세요. "
      ],
      "metadata": {
        "id": "OJsU_RtEvCjj"
      },
      "execution_count": null,
      "outputs": []
    },
    {
      "cell_type": "markdown",
      "source": [
        "# 3. Regular Expression (정규표현식) \n",
        "\n",
        "Note3에서 여러 데이터 이슈들을 살펴보았는데, Note4에서는 이러한 이슈들을 해결하기 위한 방법 중 정규표현식을 사용합니다. \n",
        "- 정규표현식에 대하여 찾아보고, 다음 method를 사용하여 문제를 풀어 보세요. \n",
        "  - `search`\n",
        "  - `findall`\n",
        "  - `sub`\n",
        "\n",
        "- 정규 표현식 연습하기 -> 레퍼런스 </br>\n",
        "  https://regexone.com/"
      ],
      "metadata": {
        "id": "-LCiME2aQnw7"
      }
    },
    {
      "cell_type": "code",
      "source": [
        "text = \"The Lord of the Rings 3 : The Return Of The King, by J.R.R. Tolkien - 123\""
      ],
      "metadata": {
        "id": "4zfunP8_gBZd"
      },
      "execution_count": null,
      "outputs": []
    },
    {
      "cell_type": "code",
      "source": [
        "# 다음 결과를 반환하도록 코드를 구현하세요."
      ],
      "metadata": {
        "colab": {
          "base_uri": "https://localhost:8080/"
        },
        "id": "EYGawCYagDMh",
        "outputId": "190df5f6-1d3e-4987-c0d3-88ad2dd96c88"
      },
      "execution_count": null,
      "outputs": [
        {
          "output_type": "execute_result",
          "data": {
            "text/plain": [
              "<re.Match object; span=(0, 3), match='The'>"
            ]
          },
          "metadata": {},
          "execution_count": 95
        }
      ]
    },
    {
      "cell_type": "code",
      "source": [
        "# 다음 결과를 반환하도록 코드를 구현하세요."
      ],
      "metadata": {
        "colab": {
          "base_uri": "https://localhost:8080/"
        },
        "id": "NvKcuMnifkSY",
        "outputId": "926e911c-c888-41d6-801f-e886c6c35ec4"
      },
      "execution_count": null,
      "outputs": [
        {
          "output_type": "execute_result",
          "data": {
            "text/plain": [
              "['The', 'The', 'The']"
            ]
          },
          "metadata": {},
          "execution_count": 96
        }
      ]
    },
    {
      "cell_type": "code",
      "source": [
        "# 다음 결과를 반환하도록 코드를 구현하세요."
      ],
      "metadata": {
        "colab": {
          "base_uri": "https://localhost:8080/"
        },
        "id": "mO5BY2S6fq_7",
        "outputId": "004ae971-29ae-4199-c51d-ccc74827d81e"
      },
      "execution_count": null,
      "outputs": [
        {
          "output_type": "execute_result",
          "data": {
            "text/plain": [
              "<re.Match object; span=(1, 3), match='he'>"
            ]
          },
          "metadata": {},
          "execution_count": 97
        }
      ]
    },
    {
      "cell_type": "code",
      "source": [
        "# 다음 결과를 반환하도록 코드를 구현하세요."
      ],
      "metadata": {
        "colab": {
          "base_uri": "https://localhost:8080/"
        },
        "id": "5tPxE5W8f3Wq",
        "outputId": "12d51780-4073-43b8-cea5-9af1071eb198"
      },
      "execution_count": null,
      "outputs": [
        {
          "output_type": "execute_result",
          "data": {
            "text/plain": [
              "['he',\n",
              " 'ord',\n",
              " 'of',\n",
              " 'the',\n",
              " 'ings',\n",
              " 'he',\n",
              " 'eturn',\n",
              " 'f',\n",
              " 'he',\n",
              " 'ing',\n",
              " 'by',\n",
              " 'olkien']"
            ]
          },
          "metadata": {},
          "execution_count": 98
        }
      ]
    },
    {
      "cell_type": "code",
      "source": [
        "# 다음 결과를 반환하도록 코드를 구현하세요."
      ],
      "metadata": {
        "colab": {
          "base_uri": "https://localhost:8080/"
        },
        "id": "J9tetck2dQv4",
        "outputId": "d8f3dda3-e0f9-4ec2-8c56-3bab9ccac362"
      },
      "execution_count": null,
      "outputs": [
        {
          "output_type": "execute_result",
          "data": {
            "text/plain": [
              "['3', '1', '2', '3']"
            ]
          },
          "metadata": {},
          "execution_count": 99
        }
      ]
    },
    {
      "cell_type": "code",
      "source": [
        "# 다음 결과를 반환하도록 코드를 구현하세요."
      ],
      "metadata": {
        "colab": {
          "base_uri": "https://localhost:8080/"
        },
        "id": "rfeLpl98duqO",
        "outputId": "bf5cb4e4-1f5c-4488-b546-6816d91dad6e"
      },
      "execution_count": null,
      "outputs": [
        {
          "output_type": "execute_result",
          "data": {
            "text/plain": [
              "['3', '123']"
            ]
          },
          "metadata": {},
          "execution_count": 100
        }
      ]
    },
    {
      "cell_type": "code",
      "source": [
        "# 다음 결과를 반환하도록 코드를 구현하세요."
      ],
      "metadata": {
        "colab": {
          "base_uri": "https://localhost:8080/",
          "height": 35
        },
        "id": "aIcZhoqWJHDZ",
        "outputId": "4bbc31fc-59de-4d17-802f-978560508dd1"
      },
      "execution_count": null,
      "outputs": [
        {
          "output_type": "execute_result",
          "data": {
            "application/vnd.google.colaboratory.intrinsic+json": {
              "type": "string"
            },
            "text/plain": [
              "'_he _ord of the _ings 3 : _he _eturn _f _he _ing, by _._._. _olkien - 123'"
            ]
          },
          "metadata": {},
          "execution_count": 101
        }
      ]
    },
    {
      "cell_type": "code",
      "source": [
        "# 다음 결과를 반환하도록 코드를 구현하세요."
      ],
      "metadata": {
        "colab": {
          "base_uri": "https://localhost:8080/",
          "height": 35
        },
        "id": "fHyAm4KEkOkE",
        "outputId": "831e1663-ddee-4536-a7ea-e81d5ef7ff99"
      },
      "execution_count": null,
      "outputs": [
        {
          "output_type": "execute_result",
          "data": {
            "application/vnd.google.colaboratory.intrinsic+json": {
              "type": "string"
            },
            "text/plain": [
              "'The Lord of the Rings 3  The Return Of The King, by J.R.R. Tolkien  123'"
            ]
          },
          "metadata": {},
          "execution_count": 102
        }
      ]
    },
    {
      "cell_type": "markdown",
      "source": [
        "# 4. Data Issue 탐색\n",
        "- 데이터셋(customer, rental, payment)을 불러온 후, 시각적 탐색 혹은 프로그래매틱 탐색 방법으로 데이터 이슈들을 탐색해 보세요. \n",
        "  - 데이터 품질의 문제를 설명해 보세요.\n",
        "    - 결측치, 중복, 부정확한 데이터 등이 있는지 확인합니다. \n",
        "    - 각 column의 데이터 타입을 확인합니다. \n",
        "  - 데이터 구조의 문제를 설명해 보세요. \n",
        "    - 각 변수는 하나의 column을 구성해야 합니다. \n",
        "    - 각 관측치는 하나의 row를 구성해야 합니다.  "
      ],
      "metadata": {
        "id": "ANi0x_3rQytQ"
      }
    },
    {
      "cell_type": "code",
      "source": [
        "# 이 곳에 답안을 작성하세요. "
      ],
      "metadata": {
        "id": "ue62CQ5Ru-9L"
      },
      "execution_count": null,
      "outputs": []
    }
  ]
}