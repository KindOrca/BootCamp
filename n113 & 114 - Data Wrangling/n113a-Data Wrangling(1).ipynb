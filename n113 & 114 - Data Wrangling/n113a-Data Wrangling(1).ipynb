{
  "nbformat": 4,
  "nbformat_minor": 0,
  "metadata": {
    "colab": {
      "name": "n113a-Data Wrangling(1).ipynb",
      "provenance": [],
      "collapsed_sections": [
        "boXn38ONQZZP",
        "iatrxE1oA3-X",
        "-LCiME2aQnw7",
        "ANi0x_3rQytQ"
      ]
    },
    "kernelspec": {
      "name": "python3",
      "display_name": "Python 3"
    },
    "language_info": {
      "name": "python"
    }
  },
  "cells": [
    {
      "cell_type": "markdown",
      "source": [
        "<img src='https://user-images.githubusercontent.com/6457691/89746244-a6e2a200-daf3-11ea-9314-7863d544d73c.png' width = '200' align = 'right'>\n",
        "\n",
        "## *DATA SCIENCE / SECTION 1 / SPRINT 1 / NOTE 3*\n",
        "\n",
        "# 📝 Assignment\n",
        "\n",
        "---"
      ],
      "metadata": {
        "id": "luB5R5m9QSqj"
      }
    },
    {
      "cell_type": "markdown",
      "source": [
        "# 1. Enumerate\n",
        "\n",
        "- \b1 이상 50 이하의 정수 10개를 랜덤으로 생성하여 arr에 저장합니다.\n",
        "  - `np.random.seed(1)`로 설정합니다. \n",
        "\n",
        "- `enumerate`를 사용하여 짝수 번째 수들의 합은 res1에, 홀수 번째 수들의 합은 res2에 저장합니다. "
      ],
      "metadata": {
        "id": "boXn38ONQZZP"
      }
    },
    {
      "cell_type": "code",
      "source": [
        "import pandas as pd\n",
        "import numpy as np\n",
        "\n",
        "np.random.seed(1)\n",
        "\n",
        "arr = np.random.randint(0,51,10)\n",
        "\n",
        "res1 = 0\n",
        "res2 = 0\n",
        "\n",
        "for i in range(5):\n",
        "  res1 += arr[i * 2]\n",
        "  res2 += arr[i * 2 + 1]\n",
        "\n",
        "print(res1, res2)"
      ],
      "metadata": {
        "id": "dSoaryevtEus",
        "outputId": "2bc7e942-bc12-4469-f141-60e01825567e",
        "colab": {
          "base_uri": "https://localhost:8080/"
        }
      },
      "execution_count": 30,
      "outputs": [
        {
          "output_type": "stream",
          "name": "stdout",
          "text": [
            "63 93\n"
          ]
        }
      ]
    },
    {
      "cell_type": "markdown",
      "source": [
        "# 2. Apply\n",
        "\n",
        "- 주어진 url의 데이터셋을 불러옵니다. \n",
        "\n",
        "- 결측치는 0으로 대체합니다. \n",
        "\n",
        "- 데이터셋의 분기를 제외한 모든 feature에 대해서 수치형 데이터(`int`, `float`)로 변환하고, `.describe()`을 통해 summary statistics를 확인하세요. "
      ],
      "metadata": {
        "id": "iatrxE1oA3-X"
      }
    },
    {
      "cell_type": "code",
      "execution_count": 117,
      "metadata": {
        "id": "_ttEBvpaAo38"
      },
      "outputs": [],
      "source": [
        "url = 'https://ds-lecture-data.s3.ap-northeast-2.amazonaws.com/kt%26g/kt%26g_0.csv'\n",
        "headers = ['분기', '매출액', '영업이익', '영업이익(발표기준)', '세전계속사업이익',\n",
        "           '당기순이익', '당기순이익(지배)', '당기순이익(비지배)', '자산총계', '부채총계',\n",
        "           '자본총계', '자본총계(지배)', '자본총계(비지배)', '자본금', '영업활동현금흐름',\n",
        "           '투자활동현금흐름', '재무활동현금흐름', '영업이익률', '순이익률', 'ROE(%)',\n",
        "           'ROA(%)', '부채비율', '자본유보율', 'EPS(원)', 'PER(배)']"
      ]
    },
    {
      "cell_type": "code",
      "source": [
        "# 주어진 url의 데이터셋을 불러오기\n",
        "df1 = pd.read_csv(url)\n",
        "df_first = [list(df1.columns)]\n",
        "df1.columns = headers\n",
        "df = pd.DataFrame(df_first, columns = headers).append(df1.loc[:]).reset_index(drop = True)\n",
        "\n",
        "# 결측치 0으로 대체\n",
        "df.fillna(0, inplace = True)\n",
        "\n",
        "# 데이터셋의 분기를 제외한 모든 feature에 대해서 수치형 데이터(int, float)로 변환\n",
        "changes = [\"매출액\", \"영업이익\", \"영업이익(발표기준)\", \"세전계속사업이익\", \"당기순이익\", \"당기순이익(지배)\", \n",
        "           \"자산총계\", \"부채총계\", \"자본총계\", \"자본총계(지배)\", \"자본금\", \"영업활동현금흐름\", \"투자활동현금흐름\", \n",
        "           \"재무활동현금흐름\", \"EPS(원)\"]\n",
        "\n",
        "def toFloat(string):                          #\n",
        "    return float(string.replace(',',''))      #\n",
        "                                              # 이 부분 다시 공부하기\n",
        "for i in changes:                             #\n",
        "    df[i] = df[i].apply(toFloat)              #\n",
        "\n",
        "df.describe()"
      ],
      "metadata": {
        "id": "OJsU_RtEvCjj",
        "outputId": "f69cdaed-4e48-43c2-f12a-33d20c0f77f3",
        "colab": {
          "base_uri": "https://localhost:8080/",
          "height": 382
        }
      },
      "execution_count": 125,
      "outputs": [
        {
          "output_type": "execute_result",
          "data": {
            "text/plain": [
              "                매출액         영업이익   영업이익(발표기준)     세전계속사업이익        당기순이익  \\\n",
              "count      5.000000     5.000000     5.000000     5.000000     5.000000   \n",
              "mean   12550.800000  3487.200000  3487.220000  3785.000000  2704.600000   \n",
              "std      664.979097   636.931079   636.950855  1131.079131   863.422724   \n",
              "min    11784.000000  2523.000000  2523.000000  1794.000000  1183.000000   \n",
              "25%    11982.000000  3150.000000  3150.000000  4020.000000  2935.000000   \n",
              "50%    12578.000000  3825.000000  3825.000000  4156.000000  2939.000000   \n",
              "75%    13188.000000  3947.000000  3947.000000  4452.000000  3221.000000   \n",
              "max    13222.000000  3991.000000  3991.100000  4503.000000  3245.000000   \n",
              "\n",
              "         당기순이익(지배)           자산총계         부채총계         자본총계      자본총계(지배)  \\\n",
              "count     5.000000       5.000000      5.00000      5.00000      5.000000   \n",
              "mean   2699.000000  108155.000000  22988.20000  85166.80000  84604.000000   \n",
              "std     851.338358    1522.396795   2560.38419   1988.82596   1988.427897   \n",
              "min    1198.000000  106314.000000  20062.00000  82524.00000  81965.000000   \n",
              "25%    2930.000000  107121.000000  20691.00000  83732.00000  83170.000000   \n",
              "50%    2931.000000  108464.000000  23386.00000  85623.00000  85049.000000   \n",
              "75%    3208.000000  108594.000000  24862.00000  86896.00000  86330.000000   \n",
              "max    3228.000000  110282.000000  25940.00000  87059.00000  86506.000000   \n",
              "\n",
              "          자본금     영업활동현금흐름     투자활동현금흐름    재무활동현금흐름       EPS(원)  \n",
              "count     5.0     5.000000     5.000000     5.00000     5.000000  \n",
              "mean   9550.0  2678.200000  -813.600000 -2192.80000  1966.000000  \n",
              "std       0.0  3831.542731   783.981696  2763.51139   619.939513  \n",
              "min    9550.0 -2278.000000 -1878.000000 -5501.00000   873.000000  \n",
              "25%    9550.0   837.000000 -1392.000000 -4919.00000  2134.000000  \n",
              "50%    9550.0  2336.000000  -501.000000  -329.00000  2135.000000  \n",
              "75%    9550.0  4641.000000  -214.000000  -129.00000  2337.000000  \n",
              "max    9550.0  7855.000000   -83.000000   -86.00000  2351.000000  "
            ],
            "text/html": [
              "\n",
              "  <div id=\"df-06058019-a7ae-46e2-8e9c-a9e9bb8d2973\">\n",
              "    <div class=\"colab-df-container\">\n",
              "      <div>\n",
              "<style scoped>\n",
              "    .dataframe tbody tr th:only-of-type {\n",
              "        vertical-align: middle;\n",
              "    }\n",
              "\n",
              "    .dataframe tbody tr th {\n",
              "        vertical-align: top;\n",
              "    }\n",
              "\n",
              "    .dataframe thead th {\n",
              "        text-align: right;\n",
              "    }\n",
              "</style>\n",
              "<table border=\"1\" class=\"dataframe\">\n",
              "  <thead>\n",
              "    <tr style=\"text-align: right;\">\n",
              "      <th></th>\n",
              "      <th>매출액</th>\n",
              "      <th>영업이익</th>\n",
              "      <th>영업이익(발표기준)</th>\n",
              "      <th>세전계속사업이익</th>\n",
              "      <th>당기순이익</th>\n",
              "      <th>당기순이익(지배)</th>\n",
              "      <th>자산총계</th>\n",
              "      <th>부채총계</th>\n",
              "      <th>자본총계</th>\n",
              "      <th>자본총계(지배)</th>\n",
              "      <th>자본금</th>\n",
              "      <th>영업활동현금흐름</th>\n",
              "      <th>투자활동현금흐름</th>\n",
              "      <th>재무활동현금흐름</th>\n",
              "      <th>EPS(원)</th>\n",
              "    </tr>\n",
              "  </thead>\n",
              "  <tbody>\n",
              "    <tr>\n",
              "      <th>count</th>\n",
              "      <td>5.000000</td>\n",
              "      <td>5.000000</td>\n",
              "      <td>5.000000</td>\n",
              "      <td>5.000000</td>\n",
              "      <td>5.000000</td>\n",
              "      <td>5.000000</td>\n",
              "      <td>5.000000</td>\n",
              "      <td>5.00000</td>\n",
              "      <td>5.00000</td>\n",
              "      <td>5.000000</td>\n",
              "      <td>5.0</td>\n",
              "      <td>5.000000</td>\n",
              "      <td>5.000000</td>\n",
              "      <td>5.00000</td>\n",
              "      <td>5.000000</td>\n",
              "    </tr>\n",
              "    <tr>\n",
              "      <th>mean</th>\n",
              "      <td>12550.800000</td>\n",
              "      <td>3487.200000</td>\n",
              "      <td>3487.220000</td>\n",
              "      <td>3785.000000</td>\n",
              "      <td>2704.600000</td>\n",
              "      <td>2699.000000</td>\n",
              "      <td>108155.000000</td>\n",
              "      <td>22988.20000</td>\n",
              "      <td>85166.80000</td>\n",
              "      <td>84604.000000</td>\n",
              "      <td>9550.0</td>\n",
              "      <td>2678.200000</td>\n",
              "      <td>-813.600000</td>\n",
              "      <td>-2192.80000</td>\n",
              "      <td>1966.000000</td>\n",
              "    </tr>\n",
              "    <tr>\n",
              "      <th>std</th>\n",
              "      <td>664.979097</td>\n",
              "      <td>636.931079</td>\n",
              "      <td>636.950855</td>\n",
              "      <td>1131.079131</td>\n",
              "      <td>863.422724</td>\n",
              "      <td>851.338358</td>\n",
              "      <td>1522.396795</td>\n",
              "      <td>2560.38419</td>\n",
              "      <td>1988.82596</td>\n",
              "      <td>1988.427897</td>\n",
              "      <td>0.0</td>\n",
              "      <td>3831.542731</td>\n",
              "      <td>783.981696</td>\n",
              "      <td>2763.51139</td>\n",
              "      <td>619.939513</td>\n",
              "    </tr>\n",
              "    <tr>\n",
              "      <th>min</th>\n",
              "      <td>11784.000000</td>\n",
              "      <td>2523.000000</td>\n",
              "      <td>2523.000000</td>\n",
              "      <td>1794.000000</td>\n",
              "      <td>1183.000000</td>\n",
              "      <td>1198.000000</td>\n",
              "      <td>106314.000000</td>\n",
              "      <td>20062.00000</td>\n",
              "      <td>82524.00000</td>\n",
              "      <td>81965.000000</td>\n",
              "      <td>9550.0</td>\n",
              "      <td>-2278.000000</td>\n",
              "      <td>-1878.000000</td>\n",
              "      <td>-5501.00000</td>\n",
              "      <td>873.000000</td>\n",
              "    </tr>\n",
              "    <tr>\n",
              "      <th>25%</th>\n",
              "      <td>11982.000000</td>\n",
              "      <td>3150.000000</td>\n",
              "      <td>3150.000000</td>\n",
              "      <td>4020.000000</td>\n",
              "      <td>2935.000000</td>\n",
              "      <td>2930.000000</td>\n",
              "      <td>107121.000000</td>\n",
              "      <td>20691.00000</td>\n",
              "      <td>83732.00000</td>\n",
              "      <td>83170.000000</td>\n",
              "      <td>9550.0</td>\n",
              "      <td>837.000000</td>\n",
              "      <td>-1392.000000</td>\n",
              "      <td>-4919.00000</td>\n",
              "      <td>2134.000000</td>\n",
              "    </tr>\n",
              "    <tr>\n",
              "      <th>50%</th>\n",
              "      <td>12578.000000</td>\n",
              "      <td>3825.000000</td>\n",
              "      <td>3825.000000</td>\n",
              "      <td>4156.000000</td>\n",
              "      <td>2939.000000</td>\n",
              "      <td>2931.000000</td>\n",
              "      <td>108464.000000</td>\n",
              "      <td>23386.00000</td>\n",
              "      <td>85623.00000</td>\n",
              "      <td>85049.000000</td>\n",
              "      <td>9550.0</td>\n",
              "      <td>2336.000000</td>\n",
              "      <td>-501.000000</td>\n",
              "      <td>-329.00000</td>\n",
              "      <td>2135.000000</td>\n",
              "    </tr>\n",
              "    <tr>\n",
              "      <th>75%</th>\n",
              "      <td>13188.000000</td>\n",
              "      <td>3947.000000</td>\n",
              "      <td>3947.000000</td>\n",
              "      <td>4452.000000</td>\n",
              "      <td>3221.000000</td>\n",
              "      <td>3208.000000</td>\n",
              "      <td>108594.000000</td>\n",
              "      <td>24862.00000</td>\n",
              "      <td>86896.00000</td>\n",
              "      <td>86330.000000</td>\n",
              "      <td>9550.0</td>\n",
              "      <td>4641.000000</td>\n",
              "      <td>-214.000000</td>\n",
              "      <td>-129.00000</td>\n",
              "      <td>2337.000000</td>\n",
              "    </tr>\n",
              "    <tr>\n",
              "      <th>max</th>\n",
              "      <td>13222.000000</td>\n",
              "      <td>3991.000000</td>\n",
              "      <td>3991.100000</td>\n",
              "      <td>4503.000000</td>\n",
              "      <td>3245.000000</td>\n",
              "      <td>3228.000000</td>\n",
              "      <td>110282.000000</td>\n",
              "      <td>25940.00000</td>\n",
              "      <td>87059.00000</td>\n",
              "      <td>86506.000000</td>\n",
              "      <td>9550.0</td>\n",
              "      <td>7855.000000</td>\n",
              "      <td>-83.000000</td>\n",
              "      <td>-86.00000</td>\n",
              "      <td>2351.000000</td>\n",
              "    </tr>\n",
              "  </tbody>\n",
              "</table>\n",
              "</div>\n",
              "      <button class=\"colab-df-convert\" onclick=\"convertToInteractive('df-06058019-a7ae-46e2-8e9c-a9e9bb8d2973')\"\n",
              "              title=\"Convert this dataframe to an interactive table.\"\n",
              "              style=\"display:none;\">\n",
              "        \n",
              "  <svg xmlns=\"http://www.w3.org/2000/svg\" height=\"24px\"viewBox=\"0 0 24 24\"\n",
              "       width=\"24px\">\n",
              "    <path d=\"M0 0h24v24H0V0z\" fill=\"none\"/>\n",
              "    <path d=\"M18.56 5.44l.94 2.06.94-2.06 2.06-.94-2.06-.94-.94-2.06-.94 2.06-2.06.94zm-11 1L8.5 8.5l.94-2.06 2.06-.94-2.06-.94L8.5 2.5l-.94 2.06-2.06.94zm10 10l.94 2.06.94-2.06 2.06-.94-2.06-.94-.94-2.06-.94 2.06-2.06.94z\"/><path d=\"M17.41 7.96l-1.37-1.37c-.4-.4-.92-.59-1.43-.59-.52 0-1.04.2-1.43.59L10.3 9.45l-7.72 7.72c-.78.78-.78 2.05 0 2.83L4 21.41c.39.39.9.59 1.41.59.51 0 1.02-.2 1.41-.59l7.78-7.78 2.81-2.81c.8-.78.8-2.07 0-2.86zM5.41 20L4 18.59l7.72-7.72 1.47 1.35L5.41 20z\"/>\n",
              "  </svg>\n",
              "      </button>\n",
              "      \n",
              "  <style>\n",
              "    .colab-df-container {\n",
              "      display:flex;\n",
              "      flex-wrap:wrap;\n",
              "      gap: 12px;\n",
              "    }\n",
              "\n",
              "    .colab-df-convert {\n",
              "      background-color: #E8F0FE;\n",
              "      border: none;\n",
              "      border-radius: 50%;\n",
              "      cursor: pointer;\n",
              "      display: none;\n",
              "      fill: #1967D2;\n",
              "      height: 32px;\n",
              "      padding: 0 0 0 0;\n",
              "      width: 32px;\n",
              "    }\n",
              "\n",
              "    .colab-df-convert:hover {\n",
              "      background-color: #E2EBFA;\n",
              "      box-shadow: 0px 1px 2px rgba(60, 64, 67, 0.3), 0px 1px 3px 1px rgba(60, 64, 67, 0.15);\n",
              "      fill: #174EA6;\n",
              "    }\n",
              "\n",
              "    [theme=dark] .colab-df-convert {\n",
              "      background-color: #3B4455;\n",
              "      fill: #D2E3FC;\n",
              "    }\n",
              "\n",
              "    [theme=dark] .colab-df-convert:hover {\n",
              "      background-color: #434B5C;\n",
              "      box-shadow: 0px 1px 3px 1px rgba(0, 0, 0, 0.15);\n",
              "      filter: drop-shadow(0px 1px 2px rgba(0, 0, 0, 0.3));\n",
              "      fill: #FFFFFF;\n",
              "    }\n",
              "  </style>\n",
              "\n",
              "      <script>\n",
              "        const buttonEl =\n",
              "          document.querySelector('#df-06058019-a7ae-46e2-8e9c-a9e9bb8d2973 button.colab-df-convert');\n",
              "        buttonEl.style.display =\n",
              "          google.colab.kernel.accessAllowed ? 'block' : 'none';\n",
              "\n",
              "        async function convertToInteractive(key) {\n",
              "          const element = document.querySelector('#df-06058019-a7ae-46e2-8e9c-a9e9bb8d2973');\n",
              "          const dataTable =\n",
              "            await google.colab.kernel.invokeFunction('convertToInteractive',\n",
              "                                                     [key], {});\n",
              "          if (!dataTable) return;\n",
              "\n",
              "          const docLinkHtml = 'Like what you see? Visit the ' +\n",
              "            '<a target=\"_blank\" href=https://colab.research.google.com/notebooks/data_table.ipynb>data table notebook</a>'\n",
              "            + ' to learn more about interactive tables.';\n",
              "          element.innerHTML = '';\n",
              "          dataTable['output_type'] = 'display_data';\n",
              "          await google.colab.output.renderOutput(dataTable, element);\n",
              "          const docLink = document.createElement('div');\n",
              "          docLink.innerHTML = docLinkHtml;\n",
              "          element.appendChild(docLink);\n",
              "        }\n",
              "      </script>\n",
              "    </div>\n",
              "  </div>\n",
              "  "
            ]
          },
          "metadata": {},
          "execution_count": 125
        }
      ]
    },
    {
      "cell_type": "markdown",
      "source": [
        "# 3. Regular Expression (정규표현식) \n",
        "\n",
        "Note3에서 여러 데이터 이슈들을 살펴보았는데, Note4에서는 이러한 이슈들을 해결하기 위한 방법 중 정규표현식을 사용합니다. \n",
        "- 정규표현식에 대하여 찾아보고, 다음 method를 사용하여 문제를 풀어 보세요. \n",
        "  - `search`\n",
        "  - `findall`\n",
        "  - `sub`"
      ],
      "metadata": {
        "id": "-LCiME2aQnw7"
      }
    },
    {
      "cell_type": "code",
      "source": [
        "import re"
      ],
      "metadata": {
        "id": "SVm7LEjOjzq-"
      },
      "execution_count": 1,
      "outputs": []
    },
    {
      "cell_type": "code",
      "source": [
        "text = \"The Lord of the Rings 3 : The Return Of The King, by J.R.R. Tolkien - 123\""
      ],
      "metadata": {
        "id": "4zfunP8_gBZd"
      },
      "execution_count": 26,
      "outputs": []
    },
    {
      "cell_type": "code",
      "source": [
        "re.search(\"The\", text) "
      ],
      "metadata": {
        "colab": {
          "base_uri": "https://localhost:8080/"
        },
        "id": "EYGawCYagDMh",
        "outputId": "7b8822f3-1333-4aff-eb7a-8f3d98c8669a"
      },
      "execution_count": 6,
      "outputs": [
        {
          "output_type": "execute_result",
          "data": {
            "text/plain": [
              "<re.Match object; span=(0, 3), match='The'>"
            ]
          },
          "metadata": {},
          "execution_count": 6
        }
      ]
    },
    {
      "cell_type": "code",
      "source": [
        "re.findall('The', text)"
      ],
      "metadata": {
        "colab": {
          "base_uri": "https://localhost:8080/"
        },
        "id": "NvKcuMnifkSY",
        "outputId": "a38971d6-d5bc-416e-d73c-1ae9e47d824e"
      },
      "execution_count": 11,
      "outputs": [
        {
          "output_type": "execute_result",
          "data": {
            "text/plain": [
              "['The', 'The', 'The']"
            ]
          },
          "metadata": {},
          "execution_count": 11
        }
      ]
    },
    {
      "cell_type": "code",
      "source": [
        "re.search('he', text)\n",
        "re.search('[a-z]+', text) "
      ],
      "metadata": {
        "colab": {
          "base_uri": "https://localhost:8080/"
        },
        "id": "mO5BY2S6fq_7",
        "outputId": "a3b3158f-2874-4808-db66-09c6afbf093b"
      },
      "execution_count": 16,
      "outputs": [
        {
          "output_type": "execute_result",
          "data": {
            "text/plain": [
              "<re.Match object; span=(1, 3), match='he'>"
            ]
          },
          "metadata": {},
          "execution_count": 16
        }
      ]
    },
    {
      "cell_type": "code",
      "source": [
        "re.findall('[a-z]+', text)"
      ],
      "metadata": {
        "colab": {
          "base_uri": "https://localhost:8080/"
        },
        "id": "5tPxE5W8f3Wq",
        "outputId": "ceed02ab-6f55-4271-96f4-69709ba69707"
      },
      "execution_count": 17,
      "outputs": [
        {
          "output_type": "execute_result",
          "data": {
            "text/plain": [
              "['he',\n",
              " 'ord',\n",
              " 'of',\n",
              " 'the',\n",
              " 'ings',\n",
              " 'he',\n",
              " 'eturn',\n",
              " 'f',\n",
              " 'he',\n",
              " 'ing',\n",
              " 'by',\n",
              " 'olkien']"
            ]
          },
          "metadata": {},
          "execution_count": 17
        }
      ]
    },
    {
      "cell_type": "code",
      "source": [
        "re.findall('[0-9]', text)\n",
        "re.findall('\\d', text)"
      ],
      "metadata": {
        "colab": {
          "base_uri": "https://localhost:8080/"
        },
        "id": "J9tetck2dQv4",
        "outputId": "4578edcb-70f0-4f25-98eb-2ce8f018ab6a"
      },
      "execution_count": 20,
      "outputs": [
        {
          "output_type": "execute_result",
          "data": {
            "text/plain": [
              "['3', '1', '2', '3']"
            ]
          },
          "metadata": {},
          "execution_count": 20
        }
      ]
    },
    {
      "cell_type": "code",
      "source": [
        "re.findall('[0-9]+', text)\n",
        "re.findall('\\d+', text)"
      ],
      "metadata": {
        "colab": {
          "base_uri": "https://localhost:8080/"
        },
        "id": "rfeLpl98duqO",
        "outputId": "21e2c3c0-2cf3-420e-f66c-df3acc2fcc11"
      },
      "execution_count": 22,
      "outputs": [
        {
          "output_type": "execute_result",
          "data": {
            "text/plain": [
              "['3', '123']"
            ]
          },
          "metadata": {},
          "execution_count": 22
        }
      ]
    },
    {
      "cell_type": "code",
      "source": [
        "re.sub('[A-Z]', '_', text)"
      ],
      "metadata": {
        "colab": {
          "base_uri": "https://localhost:8080/",
          "height": 35
        },
        "id": "aIcZhoqWJHDZ",
        "outputId": "d9109ae6-d0dc-4a4a-925e-72ec1031ea58"
      },
      "execution_count": 27,
      "outputs": [
        {
          "output_type": "execute_result",
          "data": {
            "text/plain": [
              "'_he _ord of the _ings 3 : _he _eturn _f _he _ing, by _._._. _olkien - 123'"
            ],
            "application/vnd.google.colaboratory.intrinsic+json": {
              "type": "string"
            }
          },
          "metadata": {},
          "execution_count": 27
        }
      ]
    },
    {
      "cell_type": "code",
      "source": [
        "re.sub('[:-]', '', text)"
      ],
      "metadata": {
        "colab": {
          "base_uri": "https://localhost:8080/",
          "height": 35
        },
        "id": "fHyAm4KEkOkE",
        "outputId": "45190736-22e9-47da-d4c0-12a023256211"
      },
      "execution_count": 29,
      "outputs": [
        {
          "output_type": "execute_result",
          "data": {
            "text/plain": [
              "'The Lord of the Rings 3  The Return Of The King, by J.R.R. Tolkien  123'"
            ],
            "application/vnd.google.colaboratory.intrinsic+json": {
              "type": "string"
            }
          },
          "metadata": {},
          "execution_count": 29
        }
      ]
    },
    {
      "cell_type": "markdown",
      "source": [
        "# 4. Data Issue 탐색\n",
        "- 데이터셋(customer, rental, payment)을 불러온 후, 시각적 탐색 혹은 프로그래매틱 탐색 방법으로 데이터 이슈들을 탐색해 보세요. \n",
        "  - 데이터 품질의 문제를 설명해 보세요.\n",
        "    - 결측치, 중복, 부정확한 데이터 등이 있는지 확인합니다. \n",
        "    - 각 column의 데이터 타입을 확인합니다. \n",
        "  - 데이터 구조의 문제를 설명해 보세요. \n",
        "    - 각 변수는 하나의 column을 구성해야 합니다. \n",
        "    - 각 관측치는 하나의 row를 구성해야 합니다.  "
      ],
      "metadata": {
        "id": "ANi0x_3rQytQ"
      }
    },
    {
      "cell_type": "code",
      "source": [
        "from google.colab import files\n",
        "file = files.upload()"
      ],
      "metadata": {
        "id": "ue62CQ5Ru-9L",
        "outputId": "8a518bb0-5e81-4203-a45a-b429a8c5fff2",
        "colab": {
          "resources": {
            "http://localhost:8080/nbextensions/google.colab/files.js": {
              "data": "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",
              "ok": true,
              "headers": [
                [
                  "content-type",
                  "application/javascript"
                ]
              ],
              "status": 200,
              "status_text": ""
            }
          },
          "base_uri": "https://localhost:8080/",
          "height": 148
        }
      },
      "execution_count": 31,
      "outputs": [
        {
          "output_type": "display_data",
          "data": {
            "text/plain": [
              "<IPython.core.display.HTML object>"
            ],
            "text/html": [
              "\n",
              "     <input type=\"file\" id=\"files-21bc4492-324a-407d-9d04-980e558f71c2\" name=\"files[]\" multiple disabled\n",
              "        style=\"border:none\" />\n",
              "     <output id=\"result-21bc4492-324a-407d-9d04-980e558f71c2\">\n",
              "      Upload widget is only available when the cell has been executed in the\n",
              "      current browser session. Please rerun this cell to enable.\n",
              "      </output>\n",
              "      <script src=\"/nbextensions/google.colab/files.js\"></script> "
            ]
          },
          "metadata": {}
        },
        {
          "output_type": "stream",
          "name": "stdout",
          "text": [
            "Saving customer.csv to customer.csv\n",
            "Saving payment.csv to payment.csv\n",
            "Saving rental.csv to rental.csv\n"
          ]
        }
      ]
    },
    {
      "cell_type": "code",
      "source": [
        "# 데이터셋(customer, rental, payment)을 불러오기\n",
        "df_customer = pd.read_csv('customer.csv', index_col = 'Unnamed: 0')\n",
        "df_payment = pd.read_csv('payment.csv', index_col = 'Unnamed: 0')\n",
        "df_rental = pd.read_csv('rental.csv', index_col = 'Unnamed: 0')"
      ],
      "metadata": {
        "id": "6_eaNT9sn7gK"
      },
      "execution_count": 57,
      "outputs": []
    },
    {
      "cell_type": "code",
      "source": [
        "# customer\n",
        "df_customer.info()\n",
        "df_customer.dropna(axis = 0, inplace = True)\n",
        "df_customer.duplicated().sum()\n",
        "df_customer.loc[523:525]"
      ],
      "metadata": {
        "id": "zQe2-VKWppu-",
        "outputId": "c6f06585-512f-4f9c-e6da-9e9c317997db",
        "colab": {
          "base_uri": "https://localhost:8080/",
          "height": 452
        }
      },
      "execution_count": 48,
      "outputs": [
        {
          "output_type": "stream",
          "name": "stdout",
          "text": [
            "<class 'pandas.core.frame.DataFrame'>\n",
            "Int64Index: 599 entries, 0 to 598\n",
            "Data columns (total 10 columns):\n",
            " #   Column       Non-Null Count  Dtype  \n",
            "---  ------       --------------  -----  \n",
            " 0   Unnamed: 0   599 non-null    int64  \n",
            " 1   customer_id  599 non-null    object \n",
            " 2   store_id     599 non-null    float64\n",
            " 3   email        599 non-null    object \n",
            " 4   address_id   599 non-null    float64\n",
            " 5   activebool   599 non-null    object \n",
            " 6   create_date  599 non-null    object \n",
            " 7   last_update  599 non-null    object \n",
            " 8   active       599 non-null    float64\n",
            " 9   name         599 non-null    object \n",
            "dtypes: float64(3), int64(1), object(6)\n",
            "memory usage: 51.5+ KB\n"
          ]
        },
        {
          "output_type": "execute_result",
          "data": {
            "text/plain": [
              "     Unnamed: 0 customer_id  store_id                               email  \\\n",
              "523         523         523       1.0  harvey.guajardo@sakilacustomer.org   \n",
              "524         524         525       2.0     adrian.clary@sakilacustomer.org   \n",
              "525         525         526       2.0        karl.seal@sakilacustomer.org   \n",
              "\n",
              "     address_id activebool create_date              last_update  active  \\\n",
              "523       529.0          t  2006-02-14  2013-05-26 14:49:45.738     1.0   \n",
              "524       531.0          t  2006-02-14  2013-05-26 14:49:45.738     1.0   \n",
              "525       532.0          t  2006-02-14  2013-05-26 14:49:45.738     1.0   \n",
              "\n",
              "                 name  \n",
              "523  Harvey, Guajardo  \n",
              "524     Adrian, Clary  \n",
              "525        Karl, Seal  "
            ],
            "text/html": [
              "\n",
              "  <div id=\"df-b564eab1-6160-4e29-8fb3-58f01764a3a1\">\n",
              "    <div class=\"colab-df-container\">\n",
              "      <div>\n",
              "<style scoped>\n",
              "    .dataframe tbody tr th:only-of-type {\n",
              "        vertical-align: middle;\n",
              "    }\n",
              "\n",
              "    .dataframe tbody tr th {\n",
              "        vertical-align: top;\n",
              "    }\n",
              "\n",
              "    .dataframe thead th {\n",
              "        text-align: right;\n",
              "    }\n",
              "</style>\n",
              "<table border=\"1\" class=\"dataframe\">\n",
              "  <thead>\n",
              "    <tr style=\"text-align: right;\">\n",
              "      <th></th>\n",
              "      <th>Unnamed: 0</th>\n",
              "      <th>customer_id</th>\n",
              "      <th>store_id</th>\n",
              "      <th>email</th>\n",
              "      <th>address_id</th>\n",
              "      <th>activebool</th>\n",
              "      <th>create_date</th>\n",
              "      <th>last_update</th>\n",
              "      <th>active</th>\n",
              "      <th>name</th>\n",
              "    </tr>\n",
              "  </thead>\n",
              "  <tbody>\n",
              "    <tr>\n",
              "      <th>523</th>\n",
              "      <td>523</td>\n",
              "      <td>523</td>\n",
              "      <td>1.0</td>\n",
              "      <td>harvey.guajardo@sakilacustomer.org</td>\n",
              "      <td>529.0</td>\n",
              "      <td>t</td>\n",
              "      <td>2006-02-14</td>\n",
              "      <td>2013-05-26 14:49:45.738</td>\n",
              "      <td>1.0</td>\n",
              "      <td>Harvey, Guajardo</td>\n",
              "    </tr>\n",
              "    <tr>\n",
              "      <th>524</th>\n",
              "      <td>524</td>\n",
              "      <td>525</td>\n",
              "      <td>2.0</td>\n",
              "      <td>adrian.clary@sakilacustomer.org</td>\n",
              "      <td>531.0</td>\n",
              "      <td>t</td>\n",
              "      <td>2006-02-14</td>\n",
              "      <td>2013-05-26 14:49:45.738</td>\n",
              "      <td>1.0</td>\n",
              "      <td>Adrian, Clary</td>\n",
              "    </tr>\n",
              "    <tr>\n",
              "      <th>525</th>\n",
              "      <td>525</td>\n",
              "      <td>526</td>\n",
              "      <td>2.0</td>\n",
              "      <td>karl.seal@sakilacustomer.org</td>\n",
              "      <td>532.0</td>\n",
              "      <td>t</td>\n",
              "      <td>2006-02-14</td>\n",
              "      <td>2013-05-26 14:49:45.738</td>\n",
              "      <td>1.0</td>\n",
              "      <td>Karl, Seal</td>\n",
              "    </tr>\n",
              "  </tbody>\n",
              "</table>\n",
              "</div>\n",
              "      <button class=\"colab-df-convert\" onclick=\"convertToInteractive('df-b564eab1-6160-4e29-8fb3-58f01764a3a1')\"\n",
              "              title=\"Convert this dataframe to an interactive table.\"\n",
              "              style=\"display:none;\">\n",
              "        \n",
              "  <svg xmlns=\"http://www.w3.org/2000/svg\" height=\"24px\"viewBox=\"0 0 24 24\"\n",
              "       width=\"24px\">\n",
              "    <path d=\"M0 0h24v24H0V0z\" fill=\"none\"/>\n",
              "    <path d=\"M18.56 5.44l.94 2.06.94-2.06 2.06-.94-2.06-.94-.94-2.06-.94 2.06-2.06.94zm-11 1L8.5 8.5l.94-2.06 2.06-.94-2.06-.94L8.5 2.5l-.94 2.06-2.06.94zm10 10l.94 2.06.94-2.06 2.06-.94-2.06-.94-.94-2.06-.94 2.06-2.06.94z\"/><path d=\"M17.41 7.96l-1.37-1.37c-.4-.4-.92-.59-1.43-.59-.52 0-1.04.2-1.43.59L10.3 9.45l-7.72 7.72c-.78.78-.78 2.05 0 2.83L4 21.41c.39.39.9.59 1.41.59.51 0 1.02-.2 1.41-.59l7.78-7.78 2.81-2.81c.8-.78.8-2.07 0-2.86zM5.41 20L4 18.59l7.72-7.72 1.47 1.35L5.41 20z\"/>\n",
              "  </svg>\n",
              "      </button>\n",
              "      \n",
              "  <style>\n",
              "    .colab-df-container {\n",
              "      display:flex;\n",
              "      flex-wrap:wrap;\n",
              "      gap: 12px;\n",
              "    }\n",
              "\n",
              "    .colab-df-convert {\n",
              "      background-color: #E8F0FE;\n",
              "      border: none;\n",
              "      border-radius: 50%;\n",
              "      cursor: pointer;\n",
              "      display: none;\n",
              "      fill: #1967D2;\n",
              "      height: 32px;\n",
              "      padding: 0 0 0 0;\n",
              "      width: 32px;\n",
              "    }\n",
              "\n",
              "    .colab-df-convert:hover {\n",
              "      background-color: #E2EBFA;\n",
              "      box-shadow: 0px 1px 2px rgba(60, 64, 67, 0.3), 0px 1px 3px 1px rgba(60, 64, 67, 0.15);\n",
              "      fill: #174EA6;\n",
              "    }\n",
              "\n",
              "    [theme=dark] .colab-df-convert {\n",
              "      background-color: #3B4455;\n",
              "      fill: #D2E3FC;\n",
              "    }\n",
              "\n",
              "    [theme=dark] .colab-df-convert:hover {\n",
              "      background-color: #434B5C;\n",
              "      box-shadow: 0px 1px 3px 1px rgba(0, 0, 0, 0.15);\n",
              "      filter: drop-shadow(0px 1px 2px rgba(0, 0, 0, 0.3));\n",
              "      fill: #FFFFFF;\n",
              "    }\n",
              "  </style>\n",
              "\n",
              "      <script>\n",
              "        const buttonEl =\n",
              "          document.querySelector('#df-b564eab1-6160-4e29-8fb3-58f01764a3a1 button.colab-df-convert');\n",
              "        buttonEl.style.display =\n",
              "          google.colab.kernel.accessAllowed ? 'block' : 'none';\n",
              "\n",
              "        async function convertToInteractive(key) {\n",
              "          const element = document.querySelector('#df-b564eab1-6160-4e29-8fb3-58f01764a3a1');\n",
              "          const dataTable =\n",
              "            await google.colab.kernel.invokeFunction('convertToInteractive',\n",
              "                                                     [key], {});\n",
              "          if (!dataTable) return;\n",
              "\n",
              "          const docLinkHtml = 'Like what you see? Visit the ' +\n",
              "            '<a target=\"_blank\" href=https://colab.research.google.com/notebooks/data_table.ipynb>data table notebook</a>'\n",
              "            + ' to learn more about interactive tables.';\n",
              "          element.innerHTML = '';\n",
              "          dataTable['output_type'] = 'display_data';\n",
              "          await google.colab.output.renderOutput(dataTable, element);\n",
              "          const docLink = document.createElement('div');\n",
              "          docLink.innerHTML = docLinkHtml;\n",
              "          element.appendChild(docLink);\n",
              "        }\n",
              "      </script>\n",
              "    </div>\n",
              "  </div>\n",
              "  "
            ]
          },
          "metadata": {},
          "execution_count": 48
        }
      ]
    },
    {
      "cell_type": "code",
      "source": [
        "# customer 데이터 문제\n",
        "# 1. 결측치 마지막 행 존재, 중복은 없음\n",
        "# 2. customer_id : object, store_id : float64, email : object, address_id : float64, activebool : object ~\n",
        "# 3. name column에 2개의 변수가 존재"
      ],
      "metadata": {
        "id": "gqqTFY3hqyEm"
      },
      "execution_count": null,
      "outputs": []
    },
    {
      "cell_type": "code",
      "source": [
        "# payment\n",
        "df_payment.info()\n",
        "df_payment.dropna(axis = 0, inplace = True)\n",
        "df_payment.duplicated().sum()\n",
        "df_payment.amount = df_payment.amount.str.replace('$','').astype(float)\n",
        "df_payment"
      ],
      "metadata": {
        "id": "gFcnrcs_tqK9",
        "outputId": "120bb2b9-18f7-4a91-ad84-b1d03f245336",
        "colab": {
          "base_uri": "https://localhost:8080/",
          "height": 716
        }
      },
      "execution_count": 75,
      "outputs": [
        {
          "output_type": "stream",
          "name": "stdout",
          "text": [
            "<class 'pandas.core.frame.DataFrame'>\n",
            "Int64Index: 14596 entries, 0 to 14595\n",
            "Data columns (total 6 columns):\n",
            " #   Column        Non-Null Count  Dtype  \n",
            "---  ------        --------------  -----  \n",
            " 0   payment_id    14596 non-null  object \n",
            " 1   customer_id   14596 non-null  float64\n",
            " 2   staff_id      14596 non-null  float64\n",
            " 3   rental_id     14596 non-null  float64\n",
            " 4   amount        14596 non-null  object \n",
            " 5   payment_date  14596 non-null  object \n",
            "dtypes: float64(3), object(3)\n",
            "memory usage: 798.2+ KB\n"
          ]
        },
        {
          "output_type": "stream",
          "name": "stderr",
          "text": [
            "/usr/local/lib/python3.7/dist-packages/ipykernel_launcher.py:5: FutureWarning: The default value of regex will change from True to False in a future version. In addition, single character regular expressions will *not* be treated as literal strings when regex=True.\n",
            "  \"\"\"\n"
          ]
        },
        {
          "output_type": "execute_result",
          "data": {
            "text/plain": [
              "      payment_id  customer_id  staff_id  rental_id  amount  \\\n",
              "0          17503        341.0       2.0     1520.0    7.99   \n",
              "1          17504        341.0       1.0     1778.0    1.99   \n",
              "2          17505        341.0       1.0     1849.0    7.99   \n",
              "3          17506        341.0       2.0     2829.0    2.99   \n",
              "4          17507        341.0       2.0     3130.0    7.99   \n",
              "...          ...          ...       ...        ...     ...   \n",
              "14591      32094        245.0       2.0    12682.0    2.99   \n",
              "14592      32095        251.0       1.0    14107.0    0.99   \n",
              "14593      32096        252.0       2.0    13756.0    4.99   \n",
              "14594      32097        263.0       1.0    15293.0    0.99   \n",
              "14595      32098        264.0       2.0    14243.0    2.99   \n",
              "\n",
              "                     payment_date  \n",
              "0      2007-02-15 22:25:46.996577  \n",
              "1      2007-02-16 17:23:14.996577  \n",
              "2      2007-02-16 22:41:45.996577  \n",
              "3      2007-02-19 19:39:56.996577  \n",
              "4      2007-02-20 17:31:48.996577  \n",
              "...                           ...  \n",
              "14591  2007-05-14 13:44:29.996577  \n",
              "14592  2007-05-14 13:44:29.996577  \n",
              "14593  2007-05-14 13:44:29.996577  \n",
              "14594  2007-05-14 13:44:29.996577  \n",
              "14595  2007-05-14 13:44:29.996577  \n",
              "\n",
              "[14596 rows x 6 columns]"
            ],
            "text/html": [
              "\n",
              "  <div id=\"df-fa023d0a-ba2f-4612-846d-1875bd2ad062\">\n",
              "    <div class=\"colab-df-container\">\n",
              "      <div>\n",
              "<style scoped>\n",
              "    .dataframe tbody tr th:only-of-type {\n",
              "        vertical-align: middle;\n",
              "    }\n",
              "\n",
              "    .dataframe tbody tr th {\n",
              "        vertical-align: top;\n",
              "    }\n",
              "\n",
              "    .dataframe thead th {\n",
              "        text-align: right;\n",
              "    }\n",
              "</style>\n",
              "<table border=\"1\" class=\"dataframe\">\n",
              "  <thead>\n",
              "    <tr style=\"text-align: right;\">\n",
              "      <th></th>\n",
              "      <th>payment_id</th>\n",
              "      <th>customer_id</th>\n",
              "      <th>staff_id</th>\n",
              "      <th>rental_id</th>\n",
              "      <th>amount</th>\n",
              "      <th>payment_date</th>\n",
              "    </tr>\n",
              "  </thead>\n",
              "  <tbody>\n",
              "    <tr>\n",
              "      <th>0</th>\n",
              "      <td>17503</td>\n",
              "      <td>341.0</td>\n",
              "      <td>2.0</td>\n",
              "      <td>1520.0</td>\n",
              "      <td>7.99</td>\n",
              "      <td>2007-02-15 22:25:46.996577</td>\n",
              "    </tr>\n",
              "    <tr>\n",
              "      <th>1</th>\n",
              "      <td>17504</td>\n",
              "      <td>341.0</td>\n",
              "      <td>1.0</td>\n",
              "      <td>1778.0</td>\n",
              "      <td>1.99</td>\n",
              "      <td>2007-02-16 17:23:14.996577</td>\n",
              "    </tr>\n",
              "    <tr>\n",
              "      <th>2</th>\n",
              "      <td>17505</td>\n",
              "      <td>341.0</td>\n",
              "      <td>1.0</td>\n",
              "      <td>1849.0</td>\n",
              "      <td>7.99</td>\n",
              "      <td>2007-02-16 22:41:45.996577</td>\n",
              "    </tr>\n",
              "    <tr>\n",
              "      <th>3</th>\n",
              "      <td>17506</td>\n",
              "      <td>341.0</td>\n",
              "      <td>2.0</td>\n",
              "      <td>2829.0</td>\n",
              "      <td>2.99</td>\n",
              "      <td>2007-02-19 19:39:56.996577</td>\n",
              "    </tr>\n",
              "    <tr>\n",
              "      <th>4</th>\n",
              "      <td>17507</td>\n",
              "      <td>341.0</td>\n",
              "      <td>2.0</td>\n",
              "      <td>3130.0</td>\n",
              "      <td>7.99</td>\n",
              "      <td>2007-02-20 17:31:48.996577</td>\n",
              "    </tr>\n",
              "    <tr>\n",
              "      <th>...</th>\n",
              "      <td>...</td>\n",
              "      <td>...</td>\n",
              "      <td>...</td>\n",
              "      <td>...</td>\n",
              "      <td>...</td>\n",
              "      <td>...</td>\n",
              "    </tr>\n",
              "    <tr>\n",
              "      <th>14591</th>\n",
              "      <td>32094</td>\n",
              "      <td>245.0</td>\n",
              "      <td>2.0</td>\n",
              "      <td>12682.0</td>\n",
              "      <td>2.99</td>\n",
              "      <td>2007-05-14 13:44:29.996577</td>\n",
              "    </tr>\n",
              "    <tr>\n",
              "      <th>14592</th>\n",
              "      <td>32095</td>\n",
              "      <td>251.0</td>\n",
              "      <td>1.0</td>\n",
              "      <td>14107.0</td>\n",
              "      <td>0.99</td>\n",
              "      <td>2007-05-14 13:44:29.996577</td>\n",
              "    </tr>\n",
              "    <tr>\n",
              "      <th>14593</th>\n",
              "      <td>32096</td>\n",
              "      <td>252.0</td>\n",
              "      <td>2.0</td>\n",
              "      <td>13756.0</td>\n",
              "      <td>4.99</td>\n",
              "      <td>2007-05-14 13:44:29.996577</td>\n",
              "    </tr>\n",
              "    <tr>\n",
              "      <th>14594</th>\n",
              "      <td>32097</td>\n",
              "      <td>263.0</td>\n",
              "      <td>1.0</td>\n",
              "      <td>15293.0</td>\n",
              "      <td>0.99</td>\n",
              "      <td>2007-05-14 13:44:29.996577</td>\n",
              "    </tr>\n",
              "    <tr>\n",
              "      <th>14595</th>\n",
              "      <td>32098</td>\n",
              "      <td>264.0</td>\n",
              "      <td>2.0</td>\n",
              "      <td>14243.0</td>\n",
              "      <td>2.99</td>\n",
              "      <td>2007-05-14 13:44:29.996577</td>\n",
              "    </tr>\n",
              "  </tbody>\n",
              "</table>\n",
              "<p>14596 rows × 6 columns</p>\n",
              "</div>\n",
              "      <button class=\"colab-df-convert\" onclick=\"convertToInteractive('df-fa023d0a-ba2f-4612-846d-1875bd2ad062')\"\n",
              "              title=\"Convert this dataframe to an interactive table.\"\n",
              "              style=\"display:none;\">\n",
              "        \n",
              "  <svg xmlns=\"http://www.w3.org/2000/svg\" height=\"24px\"viewBox=\"0 0 24 24\"\n",
              "       width=\"24px\">\n",
              "    <path d=\"M0 0h24v24H0V0z\" fill=\"none\"/>\n",
              "    <path d=\"M18.56 5.44l.94 2.06.94-2.06 2.06-.94-2.06-.94-.94-2.06-.94 2.06-2.06.94zm-11 1L8.5 8.5l.94-2.06 2.06-.94-2.06-.94L8.5 2.5l-.94 2.06-2.06.94zm10 10l.94 2.06.94-2.06 2.06-.94-2.06-.94-.94-2.06-.94 2.06-2.06.94z\"/><path d=\"M17.41 7.96l-1.37-1.37c-.4-.4-.92-.59-1.43-.59-.52 0-1.04.2-1.43.59L10.3 9.45l-7.72 7.72c-.78.78-.78 2.05 0 2.83L4 21.41c.39.39.9.59 1.41.59.51 0 1.02-.2 1.41-.59l7.78-7.78 2.81-2.81c.8-.78.8-2.07 0-2.86zM5.41 20L4 18.59l7.72-7.72 1.47 1.35L5.41 20z\"/>\n",
              "  </svg>\n",
              "      </button>\n",
              "      \n",
              "  <style>\n",
              "    .colab-df-container {\n",
              "      display:flex;\n",
              "      flex-wrap:wrap;\n",
              "      gap: 12px;\n",
              "    }\n",
              "\n",
              "    .colab-df-convert {\n",
              "      background-color: #E8F0FE;\n",
              "      border: none;\n",
              "      border-radius: 50%;\n",
              "      cursor: pointer;\n",
              "      display: none;\n",
              "      fill: #1967D2;\n",
              "      height: 32px;\n",
              "      padding: 0 0 0 0;\n",
              "      width: 32px;\n",
              "    }\n",
              "\n",
              "    .colab-df-convert:hover {\n",
              "      background-color: #E2EBFA;\n",
              "      box-shadow: 0px 1px 2px rgba(60, 64, 67, 0.3), 0px 1px 3px 1px rgba(60, 64, 67, 0.15);\n",
              "      fill: #174EA6;\n",
              "    }\n",
              "\n",
              "    [theme=dark] .colab-df-convert {\n",
              "      background-color: #3B4455;\n",
              "      fill: #D2E3FC;\n",
              "    }\n",
              "\n",
              "    [theme=dark] .colab-df-convert:hover {\n",
              "      background-color: #434B5C;\n",
              "      box-shadow: 0px 1px 3px 1px rgba(0, 0, 0, 0.15);\n",
              "      filter: drop-shadow(0px 1px 2px rgba(0, 0, 0, 0.3));\n",
              "      fill: #FFFFFF;\n",
              "    }\n",
              "  </style>\n",
              "\n",
              "      <script>\n",
              "        const buttonEl =\n",
              "          document.querySelector('#df-fa023d0a-ba2f-4612-846d-1875bd2ad062 button.colab-df-convert');\n",
              "        buttonEl.style.display =\n",
              "          google.colab.kernel.accessAllowed ? 'block' : 'none';\n",
              "\n",
              "        async function convertToInteractive(key) {\n",
              "          const element = document.querySelector('#df-fa023d0a-ba2f-4612-846d-1875bd2ad062');\n",
              "          const dataTable =\n",
              "            await google.colab.kernel.invokeFunction('convertToInteractive',\n",
              "                                                     [key], {});\n",
              "          if (!dataTable) return;\n",
              "\n",
              "          const docLinkHtml = 'Like what you see? Visit the ' +\n",
              "            '<a target=\"_blank\" href=https://colab.research.google.com/notebooks/data_table.ipynb>data table notebook</a>'\n",
              "            + ' to learn more about interactive tables.';\n",
              "          element.innerHTML = '';\n",
              "          dataTable['output_type'] = 'display_data';\n",
              "          await google.colab.output.renderOutput(dataTable, element);\n",
              "          const docLink = document.createElement('div');\n",
              "          docLink.innerHTML = docLinkHtml;\n",
              "          element.appendChild(docLink);\n",
              "        }\n",
              "      </script>\n",
              "    </div>\n",
              "  </div>\n",
              "  "
            ]
          },
          "metadata": {},
          "execution_count": 75
        }
      ]
    },
    {
      "cell_type": "code",
      "source": [
        "# payment 데이터 문제\n",
        "# 1. 결측치 마지막 행 존재, 중복은 없음\n",
        "# 2. payment_id : object, customer_id : float64, staff_id : float64, rental_id : float64 ~\n",
        "# 3. amount에 $ 존재 , 제거 후 타입 float64로 변환"
      ],
      "metadata": {
        "id": "TiJY2zo1vfl9"
      },
      "execution_count": null,
      "outputs": []
    },
    {
      "cell_type": "code",
      "source": [
        "# rental\n",
        "df_rental.info()\n",
        "df_rental.duplicated().sum()\n",
        "df_rental.dropna(axis = 0, inplace = True)\n",
        "df_rental"
      ],
      "metadata": {
        "id": "1wwill_YvylE",
        "outputId": "305ef04b-da4a-4658-ee21-629abdcc466b",
        "colab": {
          "base_uri": "https://localhost:8080/",
          "height": 678
        }
      },
      "execution_count": 72,
      "outputs": [
        {
          "output_type": "stream",
          "name": "stdout",
          "text": [
            "<class 'pandas.core.frame.DataFrame'>\n",
            "Int64Index: 16044 entries, 0 to 16043\n",
            "Data columns (total 7 columns):\n",
            " #   Column        Non-Null Count  Dtype  \n",
            "---  ------        --------------  -----  \n",
            " 0   rental_id     16044 non-null  object \n",
            " 1   rental_date   16044 non-null  object \n",
            " 2   inventory_id  16044 non-null  float64\n",
            " 3   customer_id   16044 non-null  float64\n",
            " 4   return_date   16044 non-null  object \n",
            " 5   staff_id      16044 non-null  float64\n",
            " 6   last_update   16044 non-null  object \n",
            "dtypes: float64(3), object(4)\n",
            "memory usage: 1002.8+ KB\n"
          ]
        },
        {
          "output_type": "execute_result",
          "data": {
            "text/plain": [
              "      rental_id          rental_date  inventory_id  customer_id  \\\n",
              "0             2  2005-05-24 22:54:33        1525.0        459.0   \n",
              "1             3  2005-05-24 23:03:39        1711.0        408.0   \n",
              "2             4  2005-05-24 23:04:41        2452.0        333.0   \n",
              "3             5  2005-05-24 23:05:21        2079.0        222.0   \n",
              "4             6  2005-05-24 23:08:07        2792.0        549.0   \n",
              "...         ...                  ...           ...          ...   \n",
              "16039     16046  2005-08-23 22:26:47        4364.0         74.0   \n",
              "16040     16047  2005-08-23 22:42:48        2088.0        114.0   \n",
              "16041     16048  2005-08-23 22:43:07        2019.0        103.0   \n",
              "16042     16049  2005-08-23 22:50:12        2666.0        393.0   \n",
              "16043         1  2005-05-24 22:53:30         367.0        130.0   \n",
              "\n",
              "               return_date  staff_id          last_update  \n",
              "0      2005-05-28 19:40:33       1.0  2006-02-16 02:30:53  \n",
              "1      2005-06-01 22:12:39       1.0  2006-02-16 02:30:53  \n",
              "2      2005-06-03 01:43:41       2.0  2006-02-16 02:30:53  \n",
              "3      2005-06-02 04:33:21       1.0  2006-02-16 02:30:53  \n",
              "4      2005-05-27 01:32:07       1.0  2006-02-16 02:30:53  \n",
              "...                    ...       ...                  ...  \n",
              "16039  2005-08-27 18:02:47       2.0  2006-02-16 02:30:53  \n",
              "16040  2005-08-25 02:48:48       2.0  2006-02-16 02:30:53  \n",
              "16041  2005-08-31 21:33:07       1.0  2006-02-16 02:30:53  \n",
              "16042  2005-08-30 01:01:12       2.0  2006-02-16 02:30:53  \n",
              "16043  2005-05-26 22:04:30       1.0  2006-02-15 21:30:53  \n",
              "\n",
              "[16044 rows x 7 columns]"
            ],
            "text/html": [
              "\n",
              "  <div id=\"df-e5f7d71e-52eb-4063-a822-48d29a933e98\">\n",
              "    <div class=\"colab-df-container\">\n",
              "      <div>\n",
              "<style scoped>\n",
              "    .dataframe tbody tr th:only-of-type {\n",
              "        vertical-align: middle;\n",
              "    }\n",
              "\n",
              "    .dataframe tbody tr th {\n",
              "        vertical-align: top;\n",
              "    }\n",
              "\n",
              "    .dataframe thead th {\n",
              "        text-align: right;\n",
              "    }\n",
              "</style>\n",
              "<table border=\"1\" class=\"dataframe\">\n",
              "  <thead>\n",
              "    <tr style=\"text-align: right;\">\n",
              "      <th></th>\n",
              "      <th>rental_id</th>\n",
              "      <th>rental_date</th>\n",
              "      <th>inventory_id</th>\n",
              "      <th>customer_id</th>\n",
              "      <th>return_date</th>\n",
              "      <th>staff_id</th>\n",
              "      <th>last_update</th>\n",
              "    </tr>\n",
              "  </thead>\n",
              "  <tbody>\n",
              "    <tr>\n",
              "      <th>0</th>\n",
              "      <td>2</td>\n",
              "      <td>2005-05-24 22:54:33</td>\n",
              "      <td>1525.0</td>\n",
              "      <td>459.0</td>\n",
              "      <td>2005-05-28 19:40:33</td>\n",
              "      <td>1.0</td>\n",
              "      <td>2006-02-16 02:30:53</td>\n",
              "    </tr>\n",
              "    <tr>\n",
              "      <th>1</th>\n",
              "      <td>3</td>\n",
              "      <td>2005-05-24 23:03:39</td>\n",
              "      <td>1711.0</td>\n",
              "      <td>408.0</td>\n",
              "      <td>2005-06-01 22:12:39</td>\n",
              "      <td>1.0</td>\n",
              "      <td>2006-02-16 02:30:53</td>\n",
              "    </tr>\n",
              "    <tr>\n",
              "      <th>2</th>\n",
              "      <td>4</td>\n",
              "      <td>2005-05-24 23:04:41</td>\n",
              "      <td>2452.0</td>\n",
              "      <td>333.0</td>\n",
              "      <td>2005-06-03 01:43:41</td>\n",
              "      <td>2.0</td>\n",
              "      <td>2006-02-16 02:30:53</td>\n",
              "    </tr>\n",
              "    <tr>\n",
              "      <th>3</th>\n",
              "      <td>5</td>\n",
              "      <td>2005-05-24 23:05:21</td>\n",
              "      <td>2079.0</td>\n",
              "      <td>222.0</td>\n",
              "      <td>2005-06-02 04:33:21</td>\n",
              "      <td>1.0</td>\n",
              "      <td>2006-02-16 02:30:53</td>\n",
              "    </tr>\n",
              "    <tr>\n",
              "      <th>4</th>\n",
              "      <td>6</td>\n",
              "      <td>2005-05-24 23:08:07</td>\n",
              "      <td>2792.0</td>\n",
              "      <td>549.0</td>\n",
              "      <td>2005-05-27 01:32:07</td>\n",
              "      <td>1.0</td>\n",
              "      <td>2006-02-16 02:30:53</td>\n",
              "    </tr>\n",
              "    <tr>\n",
              "      <th>...</th>\n",
              "      <td>...</td>\n",
              "      <td>...</td>\n",
              "      <td>...</td>\n",
              "      <td>...</td>\n",
              "      <td>...</td>\n",
              "      <td>...</td>\n",
              "      <td>...</td>\n",
              "    </tr>\n",
              "    <tr>\n",
              "      <th>16039</th>\n",
              "      <td>16046</td>\n",
              "      <td>2005-08-23 22:26:47</td>\n",
              "      <td>4364.0</td>\n",
              "      <td>74.0</td>\n",
              "      <td>2005-08-27 18:02:47</td>\n",
              "      <td>2.0</td>\n",
              "      <td>2006-02-16 02:30:53</td>\n",
              "    </tr>\n",
              "    <tr>\n",
              "      <th>16040</th>\n",
              "      <td>16047</td>\n",
              "      <td>2005-08-23 22:42:48</td>\n",
              "      <td>2088.0</td>\n",
              "      <td>114.0</td>\n",
              "      <td>2005-08-25 02:48:48</td>\n",
              "      <td>2.0</td>\n",
              "      <td>2006-02-16 02:30:53</td>\n",
              "    </tr>\n",
              "    <tr>\n",
              "      <th>16041</th>\n",
              "      <td>16048</td>\n",
              "      <td>2005-08-23 22:43:07</td>\n",
              "      <td>2019.0</td>\n",
              "      <td>103.0</td>\n",
              "      <td>2005-08-31 21:33:07</td>\n",
              "      <td>1.0</td>\n",
              "      <td>2006-02-16 02:30:53</td>\n",
              "    </tr>\n",
              "    <tr>\n",
              "      <th>16042</th>\n",
              "      <td>16049</td>\n",
              "      <td>2005-08-23 22:50:12</td>\n",
              "      <td>2666.0</td>\n",
              "      <td>393.0</td>\n",
              "      <td>2005-08-30 01:01:12</td>\n",
              "      <td>2.0</td>\n",
              "      <td>2006-02-16 02:30:53</td>\n",
              "    </tr>\n",
              "    <tr>\n",
              "      <th>16043</th>\n",
              "      <td>1</td>\n",
              "      <td>2005-05-24 22:53:30</td>\n",
              "      <td>367.0</td>\n",
              "      <td>130.0</td>\n",
              "      <td>2005-05-26 22:04:30</td>\n",
              "      <td>1.0</td>\n",
              "      <td>2006-02-15 21:30:53</td>\n",
              "    </tr>\n",
              "  </tbody>\n",
              "</table>\n",
              "<p>16044 rows × 7 columns</p>\n",
              "</div>\n",
              "      <button class=\"colab-df-convert\" onclick=\"convertToInteractive('df-e5f7d71e-52eb-4063-a822-48d29a933e98')\"\n",
              "              title=\"Convert this dataframe to an interactive table.\"\n",
              "              style=\"display:none;\">\n",
              "        \n",
              "  <svg xmlns=\"http://www.w3.org/2000/svg\" height=\"24px\"viewBox=\"0 0 24 24\"\n",
              "       width=\"24px\">\n",
              "    <path d=\"M0 0h24v24H0V0z\" fill=\"none\"/>\n",
              "    <path d=\"M18.56 5.44l.94 2.06.94-2.06 2.06-.94-2.06-.94-.94-2.06-.94 2.06-2.06.94zm-11 1L8.5 8.5l.94-2.06 2.06-.94-2.06-.94L8.5 2.5l-.94 2.06-2.06.94zm10 10l.94 2.06.94-2.06 2.06-.94-2.06-.94-.94-2.06-.94 2.06-2.06.94z\"/><path d=\"M17.41 7.96l-1.37-1.37c-.4-.4-.92-.59-1.43-.59-.52 0-1.04.2-1.43.59L10.3 9.45l-7.72 7.72c-.78.78-.78 2.05 0 2.83L4 21.41c.39.39.9.59 1.41.59.51 0 1.02-.2 1.41-.59l7.78-7.78 2.81-2.81c.8-.78.8-2.07 0-2.86zM5.41 20L4 18.59l7.72-7.72 1.47 1.35L5.41 20z\"/>\n",
              "  </svg>\n",
              "      </button>\n",
              "      \n",
              "  <style>\n",
              "    .colab-df-container {\n",
              "      display:flex;\n",
              "      flex-wrap:wrap;\n",
              "      gap: 12px;\n",
              "    }\n",
              "\n",
              "    .colab-df-convert {\n",
              "      background-color: #E8F0FE;\n",
              "      border: none;\n",
              "      border-radius: 50%;\n",
              "      cursor: pointer;\n",
              "      display: none;\n",
              "      fill: #1967D2;\n",
              "      height: 32px;\n",
              "      padding: 0 0 0 0;\n",
              "      width: 32px;\n",
              "    }\n",
              "\n",
              "    .colab-df-convert:hover {\n",
              "      background-color: #E2EBFA;\n",
              "      box-shadow: 0px 1px 2px rgba(60, 64, 67, 0.3), 0px 1px 3px 1px rgba(60, 64, 67, 0.15);\n",
              "      fill: #174EA6;\n",
              "    }\n",
              "\n",
              "    [theme=dark] .colab-df-convert {\n",
              "      background-color: #3B4455;\n",
              "      fill: #D2E3FC;\n",
              "    }\n",
              "\n",
              "    [theme=dark] .colab-df-convert:hover {\n",
              "      background-color: #434B5C;\n",
              "      box-shadow: 0px 1px 3px 1px rgba(0, 0, 0, 0.15);\n",
              "      filter: drop-shadow(0px 1px 2px rgba(0, 0, 0, 0.3));\n",
              "      fill: #FFFFFF;\n",
              "    }\n",
              "  </style>\n",
              "\n",
              "      <script>\n",
              "        const buttonEl =\n",
              "          document.querySelector('#df-e5f7d71e-52eb-4063-a822-48d29a933e98 button.colab-df-convert');\n",
              "        buttonEl.style.display =\n",
              "          google.colab.kernel.accessAllowed ? 'block' : 'none';\n",
              "\n",
              "        async function convertToInteractive(key) {\n",
              "          const element = document.querySelector('#df-e5f7d71e-52eb-4063-a822-48d29a933e98');\n",
              "          const dataTable =\n",
              "            await google.colab.kernel.invokeFunction('convertToInteractive',\n",
              "                                                     [key], {});\n",
              "          if (!dataTable) return;\n",
              "\n",
              "          const docLinkHtml = 'Like what you see? Visit the ' +\n",
              "            '<a target=\"_blank\" href=https://colab.research.google.com/notebooks/data_table.ipynb>data table notebook</a>'\n",
              "            + ' to learn more about interactive tables.';\n",
              "          element.innerHTML = '';\n",
              "          dataTable['output_type'] = 'display_data';\n",
              "          await google.colab.output.renderOutput(dataTable, element);\n",
              "          const docLink = document.createElement('div');\n",
              "          docLink.innerHTML = docLinkHtml;\n",
              "          element.appendChild(docLink);\n",
              "        }\n",
              "      </script>\n",
              "    </div>\n",
              "  </div>\n",
              "  "
            ]
          },
          "metadata": {},
          "execution_count": 72
        }
      ]
    },
    {
      "cell_type": "code",
      "source": [
        "# rental 데이터 문제\n",
        "# 1. 결측치 마지막 행 존재, 중복은 없음\n",
        "# 2. rental_id : object, rental_date : object, inventory_id : float64, customer_id : float64 ~"
      ],
      "metadata": {
        "id": "wm4YOoeiv8GS"
      },
      "execution_count": null,
      "outputs": []
    },
    {
      "cell_type": "markdown",
      "source": [
        "# 🔥 도전과제 \n",
        "\n",
        "**해당 도전과제는 n114의 도전과제로 이어집니다.**"
      ],
      "metadata": {
        "id": "pI7QskrMv7k1"
      }
    },
    {
      "cell_type": "markdown",
      "source": [
        "## concat\n",
        "\n",
        "- 주어진 6개의 데이터에 대하여 다음 업무를 수행합니다. \n",
        "  - 데이터를 transpose 합니다.\n",
        "  - 첫 번째 row를 column name으로 설정합니다. \n",
        "  - `매출액`, `자본총계`, `EPS(원)` column만 사용합니다.\n",
        "  - 제일 최근 분기의 데이터만 사용합니다. \n",
        "\n",
        "- 위의 업무를 모두 수행한 후 6개의 데이터를 `.concat()`을 활용하여 1개로 합칩니다. \n",
        "\n",
        "- 합친 데이터와 `종목명` 데이터를 `.concat()`을 사용하여 합칩니다.\n",
        "  - 다음과 같은 `종목명` 데이터를 생성해야 합니다.\n",
        "\n",
        "||종목명|\n",
        "|:-:|:-:|\n",
        "|0|하이트진로|\n",
        "|1|보해양조|\n",
        "|2|롯데칠성|\n",
        "|3|마니커|\n",
        "|4|이지홀딩스|\n",
        "|5|하림| \n",
        "\n",
        "- 합친 이후의 index는 `분기`로 설정하고, 기존 index는 drop 합니다. \n",
        "  - 다음과 같은 결과가 나와야 합니다. \n",
        "\n",
        "||매출액|자본총계|EPS(원)|종목명|\n",
        "|:-:|:-:|:-:|:-:|:-:|\n",
        "|2020/09|6,243|10,897|453|하이트진로|\n",
        "|...|...|...|...|...|\n",
        "|2020/09|2,613|2,695|62|하림|"
      ],
      "metadata": {
        "id": "yOTS2BTpagsV"
      }
    },
    {
      "cell_type": "code",
      "source": [
        "data1 = 'https://ds-lecture-data.s3.ap-northeast-2.amazonaws.com/stocks/000080.csv'\n",
        "data2 = 'https://ds-lecture-data.s3.ap-northeast-2.amazonaws.com/stocks/000890.csv'\n",
        "data3 = 'https://ds-lecture-data.s3.ap-northeast-2.amazonaws.com/stocks/005300.csv'\n",
        "data4 = 'https://ds-lecture-data.s3.ap-northeast-2.amazonaws.com/stocks/027740.csv'\n",
        "data5 = 'https://ds-lecture-data.s3.ap-northeast-2.amazonaws.com/stocks/035810.csv'\n",
        "data6 = 'https://ds-lecture-data.s3.ap-northeast-2.amazonaws.com/stocks/136480.csv'"
      ],
      "metadata": {
        "id": "vad3qujyuxBY"
      },
      "execution_count": null,
      "outputs": []
    },
    {
      "cell_type": "code",
      "source": [
        "# 이 도전과제는 이어지는 N114에서 ~"
      ],
      "metadata": {
        "id": "h1GfjAC9Zu12"
      },
      "execution_count": null,
      "outputs": []
    }
  ]
}