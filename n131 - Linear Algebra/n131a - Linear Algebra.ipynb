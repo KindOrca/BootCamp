{
  "nbformat": 4,
  "nbformat_minor": 0,
  "metadata": {
    "colab": {
      "name": "n131_Linear_Algebra.ipynb",
      "provenance": [],
      "collapsed_sections": []
    },
    "kernelspec": {
      "name": "python3",
      "display_name": "Python 3"
    },
    "language_info": {
      "name": "python"
    }
  },
  "cells": [
    {
      "cell_type": "markdown",
      "source": [
        "<img src='https://i.imgur.com/RDAD11M.png' width = '200' align = 'right'>\n",
        "\n",
        "## *DATA SCIENCE / SECTION 1 / SPRINT 3 / NOTE 1*\n",
        "\n",
        "# 📝 Assignment"
      ],
      "metadata": {
        "id": "vFDfOciGt_uF"
      }
    },
    {
      "cell_type": "markdown",
      "source": [
        "# 1. Portfolio\n",
        "\n",
        "- `Dot product` & `Matrix Multiplication` 을 이용하여 다음 포트폴리오의 구매자별 구매 총합을 계산하세요.\n",
        "  - People : 구매자\n",
        "  - Name : 제품명\n",
        "  - Price : 제품 개당 가격\n",
        "  - Amount : 제품 구매 갯수\n",
        "- 결과는 `res`에 list 형태로 저장합니다.\n",
        "\n",
        "|People|Name|Price|Amount|\n",
        "|:-:|:-:|:-:|:-:|\n",
        "|X|A|100|35|\n",
        "|X|B|500|10|\n",
        "|X|C|250|25|\n",
        "|X|D|50|40|\n",
        "|Y|A|100|-|\n",
        "|Y|B|500|50|\n",
        "|Y|C|250|50|\n",
        "|Y|D|50|-|\n",
        "|Z|A|100|-|\n",
        "|Z|B|500|-|\n",
        "|Z|C|250|100|\n",
        "|Z|D|50|-|"
      ],
      "metadata": {
        "id": "Hwv5Gm0zuFiN"
      }
    },
    {
      "cell_type": "code",
      "execution_count": 53,
      "metadata": {
        "id": "n1qUAP8vmq8k",
        "outputId": "96919387-2e75-4b4e-9d05-4ef03e1ccacc",
        "colab": {
          "base_uri": "https://localhost:8080/"
        }
      },
      "outputs": [
        {
          "output_type": "execute_result",
          "data": {
            "text/plain": [
              "[16750, 37500, 25000]"
            ]
          },
          "metadata": {},
          "execution_count": 53
        }
      ],
      "source": [
        "import pandas as pd\n",
        "import numpy as np\n",
        "\n",
        "Price = np.array([100, 500, 250, 50])\n",
        "A = np.array([35,10,25,40])\n",
        "B = np.array([0,50,50,0])\n",
        "C = np.array([0,0,100,0])\n",
        "\n",
        "# Dot product\n",
        "res = [np.dot(Price, i) for i in [A,B,C]]\n",
        "\n",
        "# Matrix Multiplication\n",
        "sum = np.array([A,B,C])\n",
        "res = list(np.matmul(sum, Price.T))\n",
        "res"
      ]
    },
    {
      "cell_type": "markdown",
      "source": [
        "# 2. Norms\n",
        "\n",
        "주어진 값 $x_0, x_1, ... x_n$ 를 element로 갖는 벡터 $v$에 대하여 \n",
        "\n",
        "$L_1$ Norm 의 정의는 다음과 같습니다. \n",
        "\n",
        "$|v| = |x_0| + |x_1| + ... + |x_n|$\n",
        "\n",
        "$L_2$ Norm 의 정의는 다음과 같습니다.\n",
        "\n",
        "$||v|| = \\sqrt {{x_0}^2 + {x_1}^2 + ... + {x_n}^2}$\n",
        "\n",
        "이를 참조하여 주어진 벡터에 대해서 $L_2$ Norm 의 값과 $L_1$ Norm 의 값의 차이(절대값)를 계산하는 함수를 만드세요."
      ],
      "metadata": {
        "id": "XtbJrn1v2Yx7"
      }
    },
    {
      "cell_type": "code",
      "source": [
        "def NormDif(v): # v = np.array()\n",
        "  L1_norm = np.sum(np.abs(v))\n",
        "  L2_norm = np.sqrt(np.sum(np.square(v)))\n",
        "  return abs(L1_norm - L2_norm)"
      ],
      "metadata": {
        "id": "kAg9kJIN2YGs"
      },
      "execution_count": 15,
      "outputs": []
    },
    {
      "cell_type": "markdown",
      "source": [
        "# 3. Errors\n",
        "\n",
        "- 2개의 벡터와, error의 타입을 입력받아 그 결과값을 계산하는 함수를 작성하세요.\n",
        "- 여기서 error의 타입은 `MSE`, `MAE` 2가지입니다."
      ],
      "metadata": {
        "id": "ucbXs8Zz2sAo"
      }
    },
    {
      "cell_type": "code",
      "source": [
        "def error(x, y, type) :\n",
        "    if type == 'MSE':\n",
        "      return np.square(x-y).mean() # 평균제곱오차(Mean Squared Error)\n",
        "    else:\n",
        "      return np.abs(x-y).mean()    # 평균절대오차(Mean Absolute Error)"
      ],
      "metadata": {
        "id": "RsQfuBKj2v5S"
      },
      "execution_count": 33,
      "outputs": []
    },
    {
      "cell_type": "markdown",
      "source": [
        "# 4. Span  \n",
        "\n",
        "다음 벡터들의 span과 이것이 의미하는 바를 설명하세요.\n",
        "\\begin{align}\n",
        "g = \\begin{bmatrix} 1 & 3 \\end{bmatrix}\n",
        "\\qquad\n",
        "h = \\begin{bmatrix} 2 & 6 \\end{bmatrix}\n",
        "\\end{align}"
      ],
      "metadata": {
        "id": "jR6NUOL33ng6"
      }
    },
    {
      "cell_type": "code",
      "source": [
        "g = np.array([1,3])\n",
        "h = np.array([2,6])\n",
        "np.linalg.matrix_rank(np.stack((g,h)))\n",
        "\n",
        "# rank = 1 : Linearly Dependent Vectors(선형종속)\n",
        "# 두 벡터가 같은 선상에 있는 경우 : 선형관계\n",
        "# 선형관계에 있는 두 벡터는 조합을 통해서 선 외부의 새로운 벡터를 생성할 수 없다."
      ],
      "metadata": {
        "id": "qTqyGH-MMneN",
        "outputId": "0567aa10-5dda-44ad-d7c5-b9fad9995998",
        "colab": {
          "base_uri": "https://localhost:8080/"
        }
      },
      "execution_count": 28,
      "outputs": [
        {
          "output_type": "execute_result",
          "data": {
            "text/plain": [
              "1"
            ]
          },
          "metadata": {},
          "execution_count": 28
        }
      ]
    },
    {
      "cell_type": "markdown",
      "source": [
        "# 🔥 도전과제 \n",
        "\n",
        "다음 링크의 내용을 참조하여 **Cramer's rule**을 사용해 $x_1$, $x_2$, $x_3$의 값을 구하세요.\n",
        "\n",
        "<https://youtu.be/6StS7VjtuGI>\n",
        "\n",
        "\n",
        "$x_1$ + $2x_3$ = 6\n",
        "\n",
        "$-3x_1$ + $4x_2$ + $6x_3$ = 30\n",
        "\n",
        "$-x_1$ $-2x_2$ + $3x_3$ = 8"
      ],
      "metadata": {
        "id": "xfXDLnPLMrFv"
      }
    },
    {
      "cell_type": "code",
      "source": [
        "A = np.array([[1,0,2],\n",
        "              [-3,4,6],\n",
        "              [-1,-2,3]])\n",
        "B = np.array([6,30,8]).T\n",
        "\n",
        "D_A = np.linalg.det(A)\n",
        "\n",
        "A1, A2, A3 = A.copy(),A.copy(),A.copy()\n",
        "A1[:,0] = B\n",
        "A2[:,1] = B\n",
        "A3[:,2] = B\n",
        "\n",
        "x1 = np.linalg.det(A1) / D_A\n",
        "x2 = np.linalg.det(A2) / D_A\n",
        "x3 = np.linalg.det(A3) / D_A\n",
        "\n",
        "x1, x2, x3"
      ],
      "metadata": {
        "id": "AzxVYUmBM1Or",
        "outputId": "26b31729-ca33-41a0-d0a1-4124bc19cc3d",
        "colab": {
          "base_uri": "https://localhost:8080/"
        }
      },
      "execution_count": 52,
      "outputs": [
        {
          "output_type": "execute_result",
          "data": {
            "text/plain": [
              "(-0.9090909090909088, 1.6363636363636358, 3.4545454545454533)"
            ]
          },
          "metadata": {},
          "execution_count": 52
        }
      ]
    }
  ]
}