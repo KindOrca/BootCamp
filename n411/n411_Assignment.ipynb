{
  "cells": [
    {
      "cell_type": "markdown",
      "metadata": {
        "id": "CzIdLqSrQNwo"
      },
      "source": [
        "<img src='https://user-images.githubusercontent.com/6457691/90080969-0f758d00-dd47-11ea-8191-fa12fd2054a7.png' width = '200' align = 'right'>\n",
        "\n",
        "## *DATA SCIENCE / SECTION 4 / SPRINT 1 / NOTE 1 - assignmnet*\n",
        "\n",
        "---\n",
        "\n",
        "\n",
        "\n",
        "\n",
        "\n",
        "# N411. 퍼셉트론(Perceptron)과 인공신경망(Artificial Neural Networks) 과제"
      ]
    },
    {
      "cell_type": "markdown",
      "metadata": {
        "id": "iK83Orzp6-m_"
      },
      "source": [
        "## 단층 퍼셉트론"
      ]
    },
    {
      "cell_type": "markdown",
      "metadata": {
        "id": "JmC4PcOV6-nA"
      },
      "source": [
        "이진분류 태스크를 위한 예시 데이터를 생성해보겠습니다. X 데이터는 (x좌표, y좌표)로 이루어져 있으며, 타겟 데이터는 0과 1로 이루어져 있습니다.\n",
        "\n",
        "아래의 예시 생성 부분이 당장 이해 안가도 괜찮습니다. 넘파이를 활용해, 이런 다양한 일들을 할 수 있다는 점을 알아두시고, 궁금하신 분은 나중에 더 찾아보세요.\n",
        "\n",
        "- np.append, np.vstack, np.hstack의 각각의 차이점에 대해 더 찾아보세요!"
      ]
    },
    {
      "cell_type": "code",
      "execution_count": 7,
      "metadata": {
        "colab": {
          "base_uri": "https://localhost:8080/",
          "height": 320
        },
        "id": "wCLrVyIQ6-nB",
        "outputId": "5291c380-22be-4a81-8a27-b31f8441c351"
      },
      "outputs": [
        {
          "output_type": "display_data",
          "data": {
            "text/plain": [
              "<Figure size 864x360 with 1 Axes>"
            ],
            "image/png": "[encoded data removed]"
          },
          "metadata": {
            "needs_background": "light"
          }
        }
      ],
      "source": [
        "import numpy as np\n",
        "import matplotlib.pyplot as plt\n",
        "np.random.seed(0)\n",
        "\n",
        "x11 = np.random.uniform(low=0, high=5, size=(50,))\n",
        "x12 = np.random.uniform(low=10, high=15, size=(50,))\n",
        "x21 = np.random.uniform(low=0, high=5, size=(50,))\n",
        "x22 = np.random.uniform(low=10, high=15, size=(50,))\n",
        "\n",
        "\n",
        "x1 = np.append(x11, x12)\n",
        "x2 = np.append(x21, x22)\n",
        "\n",
        "y11 = np.random.uniform(low=10, high=15, size=(50,))\n",
        "y12 = np.random.uniform(low=0, high=5, size=(50,))\n",
        "y21 = np.random.uniform(low=0, high=5, size=(50,))\n",
        "y22 = np.random.uniform(low=10, high=15, size=(50,))\n",
        "\n",
        "y1 = np.append(y11, y12)\n",
        "y2 = np.append(y21, y22)\n",
        "\n",
        "x_1 = np.vstack([x1, y1]).T\n",
        "x_2 = np.vstack([x2, y2]).T\n",
        "y_1 = np.ones_like(x_1[:, 0])\n",
        "y_2 = np.zeros_like(x_2[:, 0])\n",
        "x = np.vstack([x_1, x_2])\n",
        "y = np.hstack([y_1, y_2])\n",
        "\n",
        "\n",
        "fig, ax = plt.subplots(figsize = (12,5))\n",
        "ax.plot(x_1[:, 0], x_1[:,1], 'bo')\n",
        "ax.plot(x_2[:,0], x_2[:,1], 'ro')\n",
        "ax.grid()"
      ]
    },
    {
      "cell_type": "markdown",
      "metadata": {
        "id": "uObsxvwz6-nE"
      },
      "source": [
        "### 문제 1-1"
      ]
    },
    {
      "cell_type": "markdown",
      "metadata": {
        "id": "UPZlxgJC6-nF"
      },
      "source": [
        "단층 퍼셉트론으로 위의 문제를 해결할 수 없음을 확인해보겠습니다. 이진 분류를 위한 단층 퍼셉트론을 구현하기 위해 다음 빈칸에 들어갈 내용으로 알맞은 것은?"
      ]
    },
    {
      "cell_type": "code",
      "execution_count": 8,
      "metadata": {
        "colab": {
          "base_uri": "https://localhost:8080/",
          "height": 682
        },
        "id": "g8qexxtr6-nG",
        "outputId": "3eb2d0b7-532c-4041-b86b-8f4cb2138bff"
      },
      "outputs": [
        {
          "output_type": "stream",
          "name": "stdout",
          "text": [
            "Epoch 1/10\n",
            "7/7 [==============================] - 1s 6ms/step - loss: 3.6020 - accuracy: 0.5000\n",
            "Epoch 2/10\n",
            "7/7 [==============================] - 0s 5ms/step - loss: 1.8664 - accuracy: 0.5000\n",
            "Epoch 3/10\n",
            "7/7 [==============================] - 0s 7ms/step - loss: 0.8921 - accuracy: 0.3950\n",
            "Epoch 4/10\n",
            "7/7 [==============================] - 0s 4ms/step - loss: 0.7795 - accuracy: 0.5750\n",
            "Epoch 5/10\n",
            "7/7 [==============================] - 0s 5ms/step - loss: 0.7318 - accuracy: 0.6100\n",
            "Epoch 6/10\n",
            "7/7 [==============================] - 0s 4ms/step - loss: 0.7133 - accuracy: 0.6950\n",
            "Epoch 7/10\n",
            "7/7 [==============================] - 0s 4ms/step - loss: 0.7047 - accuracy: 0.5650\n",
            "Epoch 8/10\n",
            "7/7 [==============================] - 0s 4ms/step - loss: 0.6995 - accuracy: 0.4850\n",
            "Epoch 9/10\n",
            "7/7 [==============================] - 0s 4ms/step - loss: 0.6948 - accuracy: 0.4650\n",
            "Epoch 10/10\n",
            "7/7 [==============================] - 0s 4ms/step - loss: 0.7036 - accuracy: 0.5950\n"
          ]
        },
        {
          "output_type": "display_data",
          "data": {
            "text/plain": [
              "<Figure size 864x360 with 1 Axes>"
            ],
            "image/png": "[encoded data removed]"
          },
          "metadata": {
            "needs_background": "light"
          }
        }
      ],
      "source": [
        "import tensorflow as tf\n",
        "\n",
        "model = tf.keras.models.Sequential([\n",
        "    tf.keras.layers.Dense(1, activation='sigmoid')\n",
        "])\n",
        "\n",
        "model.compile(optimizer='sgd',\n",
        "              loss='binary_crossentropy',\n",
        "              metrics=['accuracy'])\n",
        "\n",
        "model.fit(x, y, epochs=10)\n",
        "\n",
        "# 각각의 변수 명을 모두 다르게 설정했습니다.\n",
        "# model.predict의 결과값 / preds_1d / pred_class 의 형태(shape)와 값들을 한번 직접 확인해보세요\n",
        "\n",
        "preds = model.predict(x)\n",
        "preds_1d = preds.flatten()\n",
        "pred_class = np.where(preds_1d > 0.5, 1 , 0)\n",
        "\n",
        "y_true = x[pred_class==1]\n",
        "y_false = x[pred_class==0]\n",
        "\n",
        "fig, ax = plt.subplots(figsize = (12,5))\n",
        "ax.plot(y_true[:, 0], y_true[:,1], 'bo')\n",
        "ax.plot(y_false[:,0], y_false[:,1], 'ro')\n",
        "ax.grid()"
      ]
    },
    {
      "cell_type": "markdown",
      "metadata": {
        "id": "NG9onk2H6-nH"
      },
      "source": [
        "### 문제 1-2\n",
        "비선형성이 추가되지 않은 단층 퍼셉트론이 어떠한 결정 경계를 만드나요?"
      ]
    },
    {
      "cell_type": "code",
      "source": [
        "# 직선"
      ],
      "metadata": {
        "id": "-embPqwo1wMC"
      },
      "execution_count": 3,
      "outputs": []
    },
    {
      "cell_type": "markdown",
      "metadata": {
        "id": "SvNvoQJk-xb-"
      },
      "source": [
        "## 문제2. 실제 데이터 과제\n",
        " - 아래 주어진 데이터를 신경망을 이용하여 Classification 문제를 풀어보세요.\n",
        " - 또한 머신러닝에서 배운 방법(배우지 않은 머신러닝 방법론(SVM 등)도 가능)을 이용하여 비교해보세요."
      ]
    },
    {
      "cell_type": "markdown",
      "metadata": {
        "id": "pqOkgM9wnmNu"
      },
      "source": [
        "입력 데이터 샘플과 Features : 1077 샘플 x 69 Features (변수)\n",
        "\n",
        "데이터 label: 다운증후군 (1), 정상군 (2)\n",
        "\n",
        "데이터는 다운증후군과 정상군 마우스 피질의 핵 분획에서 검출 가능한 신호를 생성하는 69 개 단백질의 발현 수준으로 구성되어 있습니다.\n",
        "라벨로는 다운증후군 1, 정상군 2로 할당되어 있습니다.\n"
      ]
    },
    {
      "cell_type": "code",
      "source": [
        "pip install --upgrade xlrd"
      ],
      "metadata": {
        "colab": {
          "base_uri": "https://localhost:8080/"
        },
        "id": "XFtYlpvT26Gi",
        "outputId": "338e8b51-4bbc-4fbd-be04-88dade736455"
      },
      "execution_count": 1,
      "outputs": [
        {
          "output_type": "stream",
          "name": "stdout",
          "text": [
            "Looking in indexes: https://pypi.org/simple, https://us-python.pkg.dev/colab-wheels/public/simple/\n",
            "Requirement already satisfied: xlrd in /usr/local/lib/python3.7/dist-packages (2.0.1)\n"
          ]
        }
      ]
    },
    {
      "cell_type": "code",
      "execution_count": 32,
      "metadata": {
        "id": "gULuO1ETO-6G"
      },
      "outputs": [],
      "source": [
        "import pandas as pd\n",
        "df = pd.read_excel(\"https://ds-lecture-data.s3.ap-northeast-2.amazonaws.com/MouseProtein/mouse_protein_X.xls\", header=None)\n",
        "df_label = pd.read_excel(\"https://ds-lecture-data.s3.ap-northeast-2.amazonaws.com/MouseProtein/mouse_protein_label.xls\", header=None)"
      ]
    },
    {
      "cell_type": "code",
      "execution_count": 33,
      "metadata": {
        "colab": {
          "base_uri": "https://localhost:8080/",
          "height": 279
        },
        "id": "6I-8OQ_APLtG",
        "outputId": "666b5b8c-eef7-4e98-e13a-e6e7b43eccfe"
      },
      "outputs": [
        {
          "output_type": "execute_result",
          "data": {
            "text/plain": [
              "        0        1        2       3       4        5        6       7   \\\n",
              "0  0.50364  0.74719  0.43018  2.8163  5.9902  0.21883  0.17757  2.3737   \n",
              "1  0.51462  0.68906  0.41177  2.7895  5.6850  0.21164  0.17282  2.2921   \n",
              "2  0.50918  0.73025  0.41831  2.6872  5.6221  0.20901  0.17572  2.2833   \n",
              "3  0.44211  0.61708  0.35863  2.4669  4.9795  0.22289  0.17646  2.1523   \n",
              "4  0.43494  0.61743  0.35880  2.3658  4.7187  0.21311  0.17363  2.1340   \n",
              "\n",
              "        8       9   ...       59       60       61      62      63       64  \\\n",
              "0  0.23222  1.7509  ...  0.14276  0.43096  0.24754  1.6033  2.0149  0.10823   \n",
              "1  0.22697  1.5964  ...  0.14204  0.45716  0.25763  1.6717  2.0046  0.10975   \n",
              "2  0.23025  1.5613  ...  0.14244  0.51047  0.25534  1.6635  2.0168  0.10820   \n",
              "3  0.20700  1.5951  ...  0.14507  0.43100  0.25110  1.4846  1.9572  0.11988   \n",
              "4  0.19216  1.5042  ...  0.14087  0.48123  0.25177  1.5348  2.0091  0.11952   \n",
              "\n",
              "        65       66       67      68  \n",
              "0  1.04500  0.83156  0.18885  1.6757  \n",
              "1  1.00990  0.84927  0.20040  1.7436  \n",
              "2  0.99685  0.84671  0.19368  1.9264  \n",
              "3  0.99022  0.83328  0.19211  1.7006  \n",
              "4  0.99777  0.87867  0.20560  1.8397  \n",
              "\n",
              "[5 rows x 69 columns]"
            ],
            "text/html": [
              "\n",
              "  <div id=\"df-9622b4dd-5479-4045-bf61-f32bf759bdaa\">\n",
              "    <div class=\"colab-df-container\">\n",
              "      <div>\n",
              "<style scoped>\n",
              "    .dataframe tbody tr th:only-of-type {\n",
              "        vertical-align: middle;\n",
              "    }\n",
              "\n",
              "    .dataframe tbody tr th {\n",
              "        vertical-align: top;\n",
              "    }\n",
              "\n",
              "    .dataframe thead th {\n",
              "        text-align: right;\n",
              "    }\n",
              "</style>\n",
              "<table border=\"1\" class=\"dataframe\">\n",
              "  <thead>\n",
              "    <tr style=\"text-align: right;\">\n",
              "      <th></th>\n",
              "      <th>0</th>\n",
              "      <th>1</th>\n",
              "      <th>2</th>\n",
              "      <th>3</th>\n",
              "      <th>4</th>\n",
              "      <th>5</th>\n",
              "      <th>6</th>\n",
              "      <th>7</th>\n",
              "      <th>8</th>\n",
              "      <th>9</th>\n",
              "      <th>...</th>\n",
              "      <th>59</th>\n",
              "      <th>60</th>\n",
              "      <th>61</th>\n",
              "      <th>62</th>\n",
              "      <th>63</th>\n",
              "      <th>64</th>\n",
              "      <th>65</th>\n",
              "      <th>66</th>\n",
              "      <th>67</th>\n",
              "      <th>68</th>\n",
              "    </tr>\n",
              "  </thead>\n",
              "  <tbody>\n",
              "    <tr>\n",
              "      <th>0</th>\n",
              "      <td>0.50364</td>\n",
              "      <td>0.74719</td>\n",
              "      <td>0.43018</td>\n",
              "      <td>2.8163</td>\n",
              "      <td>5.9902</td>\n",
              "      <td>0.21883</td>\n",
              "      <td>0.17757</td>\n",
              "      <td>2.3737</td>\n",
              "      <td>0.23222</td>\n",
              "      <td>1.7509</td>\n",
              "      <td>...</td>\n",
              "      <td>0.14276</td>\n",
              "      <td>0.43096</td>\n",
              "      <td>0.24754</td>\n",
              "      <td>1.6033</td>\n",
              "      <td>2.0149</td>\n",
              "      <td>0.10823</td>\n",
              "      <td>1.04500</td>\n",
              "      <td>0.83156</td>\n",
              "      <td>0.18885</td>\n",
              "      <td>1.6757</td>\n",
              "    </tr>\n",
              "    <tr>\n",
              "      <th>1</th>\n",
              "      <td>0.51462</td>\n",
              "      <td>0.68906</td>\n",
              "      <td>0.41177</td>\n",
              "      <td>2.7895</td>\n",
              "      <td>5.6850</td>\n",
              "      <td>0.21164</td>\n",
              "      <td>0.17282</td>\n",
              "      <td>2.2921</td>\n",
              "      <td>0.22697</td>\n",
              "      <td>1.5964</td>\n",
              "      <td>...</td>\n",
              "      <td>0.14204</td>\n",
              "      <td>0.45716</td>\n",
              "      <td>0.25763</td>\n",
              "      <td>1.6717</td>\n",
              "      <td>2.0046</td>\n",
              "      <td>0.10975</td>\n",
              "      <td>1.00990</td>\n",
              "      <td>0.84927</td>\n",
              "      <td>0.20040</td>\n",
              "      <td>1.7436</td>\n",
              "    </tr>\n",
              "    <tr>\n",
              "      <th>2</th>\n",
              "      <td>0.50918</td>\n",
              "      <td>0.73025</td>\n",
              "      <td>0.41831</td>\n",
              "      <td>2.6872</td>\n",
              "      <td>5.6221</td>\n",
              "      <td>0.20901</td>\n",
              "      <td>0.17572</td>\n",
              "      <td>2.2833</td>\n",
              "      <td>0.23025</td>\n",
              "      <td>1.5613</td>\n",
              "      <td>...</td>\n",
              "      <td>0.14244</td>\n",
              "      <td>0.51047</td>\n",
              "      <td>0.25534</td>\n",
              "      <td>1.6635</td>\n",
              "      <td>2.0168</td>\n",
              "      <td>0.10820</td>\n",
              "      <td>0.99685</td>\n",
              "      <td>0.84671</td>\n",
              "      <td>0.19368</td>\n",
              "      <td>1.9264</td>\n",
              "    </tr>\n",
              "    <tr>\n",
              "      <th>3</th>\n",
              "      <td>0.44211</td>\n",
              "      <td>0.61708</td>\n",
              "      <td>0.35863</td>\n",
              "      <td>2.4669</td>\n",
              "      <td>4.9795</td>\n",
              "      <td>0.22289</td>\n",
              "      <td>0.17646</td>\n",
              "      <td>2.1523</td>\n",
              "      <td>0.20700</td>\n",
              "      <td>1.5951</td>\n",
              "      <td>...</td>\n",
              "      <td>0.14507</td>\n",
              "      <td>0.43100</td>\n",
              "      <td>0.25110</td>\n",
              "      <td>1.4846</td>\n",
              "      <td>1.9572</td>\n",
              "      <td>0.11988</td>\n",
              "      <td>0.99022</td>\n",
              "      <td>0.83328</td>\n",
              "      <td>0.19211</td>\n",
              "      <td>1.7006</td>\n",
              "    </tr>\n",
              "    <tr>\n",
              "      <th>4</th>\n",
              "      <td>0.43494</td>\n",
              "      <td>0.61743</td>\n",
              "      <td>0.35880</td>\n",
              "      <td>2.3658</td>\n",
              "      <td>4.7187</td>\n",
              "      <td>0.21311</td>\n",
              "      <td>0.17363</td>\n",
              "      <td>2.1340</td>\n",
              "      <td>0.19216</td>\n",
              "      <td>1.5042</td>\n",
              "      <td>...</td>\n",
              "      <td>0.14087</td>\n",
              "      <td>0.48123</td>\n",
              "      <td>0.25177</td>\n",
              "      <td>1.5348</td>\n",
              "      <td>2.0091</td>\n",
              "      <td>0.11952</td>\n",
              "      <td>0.99777</td>\n",
              "      <td>0.87867</td>\n",
              "      <td>0.20560</td>\n",
              "      <td>1.8397</td>\n",
              "    </tr>\n",
              "  </tbody>\n",
              "</table>\n",
              "<p>5 rows × 69 columns</p>\n",
              "</div>\n",
              "      <button class=\"colab-df-convert\" onclick=\"convertToInteractive('df-9622b4dd-5479-4045-bf61-f32bf759bdaa')\"\n",
              "              title=\"Convert this dataframe to an interactive table.\"\n",
              "              style=\"display:none;\">\n",
              "        \n",
              "  <svg xmlns=\"http://www.w3.org/2000/svg\" height=\"24px\"viewBox=\"0 0 24 24\"\n",
              "       width=\"24px\">\n",
              "    <path d=\"M0 0h24v24H0V0z\" fill=\"none\"/>\n",
              "    <path d=\"M18.56 5.44l.94 2.06.94-2.06 2.06-.94-2.06-.94-.94-2.06-.94 2.06-2.06.94zm-11 1L8.5 8.5l.94-2.06 2.06-.94-2.06-.94L8.5 2.5l-.94 2.06-2.06.94zm10 10l.94 2.06.94-2.06 2.06-.94-2.06-.94-.94-2.06-.94 2.06-2.06.94z\"/><path d=\"M17.41 7.96l-1.37-1.37c-.4-.4-.92-.59-1.43-.59-.52 0-1.04.2-1.43.59L10.3 9.45l-7.72 7.72c-.78.78-.78 2.05 0 2.83L4 21.41c.39.39.9.59 1.41.59.51 0 1.02-.2 1.41-.59l7.78-7.78 2.81-2.81c.8-.78.8-2.07 0-2.86zM5.41 20L4 18.59l7.72-7.72 1.47 1.35L5.41 20z\"/>\n",
              "  </svg>\n",
              "      </button>\n",
              "      \n",
              "  <style>\n",
              "    .colab-df-container {\n",
              "      display:flex;\n",
              "      flex-wrap:wrap;\n",
              "      gap: 12px;\n",
              "    }\n",
              "\n",
              "    .colab-df-convert {\n",
              "      background-color: #E8F0FE;\n",
              "      border: none;\n",
              "      border-radius: 50%;\n",
              "      cursor: pointer;\n",
              "      display: none;\n",
              "      fill: #1967D2;\n",
              "      height: 32px;\n",
              "      padding: 0 0 0 0;\n",
              "      width: 32px;\n",
              "    }\n",
              "\n",
              "    .colab-df-convert:hover {\n",
              "      background-color: #E2EBFA;\n",
              "      box-shadow: 0px 1px 2px rgba(60, 64, 67, 0.3), 0px 1px 3px 1px rgba(60, 64, 67, 0.15);\n",
              "      fill: #174EA6;\n",
              "    }\n",
              "\n",
              "    [theme=dark] .colab-df-convert {\n",
              "      background-color: #3B4455;\n",
              "      fill: #D2E3FC;\n",
              "    }\n",
              "\n",
              "    [theme=dark] .colab-df-convert:hover {\n",
              "      background-color: #434B5C;\n",
              "      box-shadow: 0px 1px 3px 1px rgba(0, 0, 0, 0.15);\n",
              "      filter: drop-shadow(0px 1px 2px rgba(0, 0, 0, 0.3));\n",
              "      fill: #FFFFFF;\n",
              "    }\n",
              "  </style>\n",
              "\n",
              "      <script>\n",
              "        const buttonEl =\n",
              "          document.querySelector('#df-9622b4dd-5479-4045-bf61-f32bf759bdaa button.colab-df-convert');\n",
              "        buttonEl.style.display =\n",
              "          google.colab.kernel.accessAllowed ? 'block' : 'none';\n",
              "\n",
              "        async function convertToInteractive(key) {\n",
              "          const element = document.querySelector('#df-9622b4dd-5479-4045-bf61-f32bf759bdaa');\n",
              "          const dataTable =\n",
              "            await google.colab.kernel.invokeFunction('convertToInteractive',\n",
              "                                                     [key], {});\n",
              "          if (!dataTable) return;\n",
              "\n",
              "          const docLinkHtml = 'Like what you see? Visit the ' +\n",
              "            '<a target=\"_blank\" href=https://colab.research.google.com/notebooks/data_table.ipynb>data table notebook</a>'\n",
              "            + ' to learn more about interactive tables.';\n",
              "          element.innerHTML = '';\n",
              "          dataTable['output_type'] = 'display_data';\n",
              "          await google.colab.output.renderOutput(dataTable, element);\n",
              "          const docLink = document.createElement('div');\n",
              "          docLink.innerHTML = docLinkHtml;\n",
              "          element.appendChild(docLink);\n",
              "        }\n",
              "      </script>\n",
              "    </div>\n",
              "  </div>\n",
              "  "
            ]
          },
          "metadata": {},
          "execution_count": 33
        }
      ],
      "source": [
        "# 샘플당 69개의 특성(feature)을 가진 데이터\n",
        "df.head()"
      ]
    },
    {
      "cell_type": "code",
      "execution_count": 34,
      "metadata": {
        "colab": {
          "base_uri": "https://localhost:8080/"
        },
        "id": "zrIvw52rPdx4",
        "outputId": "6ddbb231-736f-45f2-d380-a87d47c92a75"
      },
      "outputs": [
        {
          "output_type": "stream",
          "name": "stdout",
          "text": [
            "   0\n",
            "0  1\n",
            "1  1\n",
            "2  1\n",
            "3  1\n",
            "4  1\n",
            "      0\n",
            "1072  2\n",
            "1073  2\n",
            "1074  2\n",
            "1075  2\n",
            "1076  2\n"
          ]
        }
      ],
      "source": [
        "print(df_label.head())\n",
        "print(df_label.tail())"
      ]
    },
    {
      "cell_type": "code",
      "source": [
        "df.isnull().sum().sum()"
      ],
      "metadata": {
        "colab": {
          "base_uri": "https://localhost:8080/"
        },
        "id": "s-g1xnBw2nQj",
        "outputId": "764ce5c1-236e-42d9-87a4-fc43fb71c85e"
      },
      "execution_count": 35,
      "outputs": [
        {
          "output_type": "execute_result",
          "data": {
            "text/plain": [
              "0"
            ]
          },
          "metadata": {},
          "execution_count": 35
        }
      ]
    },
    {
      "cell_type": "markdown",
      "metadata": {
        "id": "Yilj1IY3M4Zr"
      },
      "source": [
        "---\n",
        "\n",
        "4-1. 사용한 모델을 입력합니다. \n",
        "\n",
        "4-2. Accuracy를 입력합니다. \n",
        "\n",
        "4-3. Precision 을 입력합니다. \n",
        "\n",
        "4-4. Recall 을 입력합니다.\n",
        "\n",
        "4-5. F1 score 를 입력합니다. "
      ]
    },
    {
      "cell_type": "code",
      "source": [
        "model2 = tf.keras.models.Sequential([\n",
        "    tf.keras.layers.Dense(1, activation='sigmoid')\n",
        "])\n",
        "\n",
        "model2.compile(optimizer='sgd',\n",
        "              loss='binary_crossentropy',\n",
        "              metrics=['accuracy'])"
      ],
      "metadata": {
        "id": "yIYF0hYOZaOB"
      },
      "execution_count": 45,
      "outputs": []
    },
    {
      "cell_type": "code",
      "source": [
        "from sklearn.model_selection import train_test_split\n",
        "\n",
        "X_train, X_test, y_train, y_test = train_test_split(df, (df_label-1)[0], random_state=42)"
      ],
      "metadata": {
        "id": "_1VOqR7Ybyoz"
      },
      "execution_count": 48,
      "outputs": []
    },
    {
      "cell_type": "code",
      "source": [
        "model2.fit(X_train, y_train, epochs=30)"
      ],
      "metadata": {
        "colab": {
          "base_uri": "https://localhost:8080/"
        },
        "id": "ehx0AuuGaAjv",
        "outputId": "9d710a14-66d1-4517-c7ec-e729a9167f0d"
      },
      "execution_count": 52,
      "outputs": [
        {
          "output_type": "stream",
          "name": "stdout",
          "text": [
            "Epoch 1/30\n",
            "26/26 [==============================] - 0s 3ms/step - loss: 0.6420 - accuracy: 0.6258\n",
            "Epoch 2/30\n",
            "26/26 [==============================] - 0s 3ms/step - loss: 0.6415 - accuracy: 0.6196\n",
            "Epoch 3/30\n",
            "26/26 [==============================] - 0s 3ms/step - loss: 0.6394 - accuracy: 0.6159\n",
            "Epoch 4/30\n",
            "26/26 [==============================] - 0s 3ms/step - loss: 0.6403 - accuracy: 0.6208\n",
            "Epoch 5/30\n",
            "26/26 [==============================] - 0s 3ms/step - loss: 0.6381 - accuracy: 0.6320\n",
            "Epoch 6/30\n",
            "26/26 [==============================] - 0s 3ms/step - loss: 0.6363 - accuracy: 0.6295\n",
            "Epoch 7/30\n",
            "26/26 [==============================] - 0s 3ms/step - loss: 0.6352 - accuracy: 0.6109\n",
            "Epoch 8/30\n",
            "26/26 [==============================] - 0s 3ms/step - loss: 0.6339 - accuracy: 0.6344\n",
            "Epoch 9/30\n",
            "26/26 [==============================] - 0s 3ms/step - loss: 0.6325 - accuracy: 0.6307\n",
            "Epoch 10/30\n",
            "26/26 [==============================] - 0s 3ms/step - loss: 0.6303 - accuracy: 0.6221\n",
            "Epoch 11/30\n",
            "26/26 [==============================] - 0s 3ms/step - loss: 0.6316 - accuracy: 0.6332\n",
            "Epoch 12/30\n",
            "26/26 [==============================] - 0s 3ms/step - loss: 0.6289 - accuracy: 0.6233\n",
            "Epoch 13/30\n",
            "26/26 [==============================] - 0s 3ms/step - loss: 0.6293 - accuracy: 0.6270\n",
            "Epoch 14/30\n",
            "26/26 [==============================] - 0s 3ms/step - loss: 0.6267 - accuracy: 0.6444\n",
            "Epoch 15/30\n",
            "26/26 [==============================] - 0s 3ms/step - loss: 0.6255 - accuracy: 0.6419\n",
            "Epoch 16/30\n",
            "26/26 [==============================] - 0s 3ms/step - loss: 0.6236 - accuracy: 0.6344\n",
            "Epoch 17/30\n",
            "26/26 [==============================] - 0s 3ms/step - loss: 0.6241 - accuracy: 0.6332\n",
            "Epoch 18/30\n",
            "26/26 [==============================] - 0s 3ms/step - loss: 0.6226 - accuracy: 0.6394\n",
            "Epoch 19/30\n",
            "26/26 [==============================] - 0s 3ms/step - loss: 0.6200 - accuracy: 0.6431\n",
            "Epoch 20/30\n",
            "26/26 [==============================] - 0s 3ms/step - loss: 0.6203 - accuracy: 0.6394\n",
            "Epoch 21/30\n",
            "26/26 [==============================] - 0s 3ms/step - loss: 0.6187 - accuracy: 0.6654\n",
            "Epoch 22/30\n",
            "26/26 [==============================] - 0s 3ms/step - loss: 0.6196 - accuracy: 0.6444\n",
            "Epoch 23/30\n",
            "26/26 [==============================] - 0s 3ms/step - loss: 0.6167 - accuracy: 0.6406\n",
            "Epoch 24/30\n",
            "26/26 [==============================] - 0s 3ms/step - loss: 0.6170 - accuracy: 0.6394\n",
            "Epoch 25/30\n",
            "26/26 [==============================] - 0s 3ms/step - loss: 0.6162 - accuracy: 0.6419\n",
            "Epoch 26/30\n",
            "26/26 [==============================] - 0s 3ms/step - loss: 0.6174 - accuracy: 0.6283\n",
            "Epoch 27/30\n",
            "26/26 [==============================] - 0s 3ms/step - loss: 0.6143 - accuracy: 0.6419\n",
            "Epoch 28/30\n",
            "26/26 [==============================] - 0s 3ms/step - loss: 0.6141 - accuracy: 0.6382\n",
            "Epoch 29/30\n",
            "26/26 [==============================] - 0s 3ms/step - loss: 0.6119 - accuracy: 0.6357\n",
            "Epoch 30/30\n",
            "26/26 [==============================] - 0s 3ms/step - loss: 0.6117 - accuracy: 0.6518\n"
          ]
        },
        {
          "output_type": "execute_result",
          "data": {
            "text/plain": [
              "<keras.callbacks.History at 0x7f9c5eddbb50>"
            ]
          },
          "metadata": {},
          "execution_count": 52
        }
      ]
    },
    {
      "cell_type": "code",
      "source": [
        "from sklearn.metrics import accuracy_score, f1_score, recall_score, precision_score\n",
        "\n",
        "res = model2.predict([X_test])\n",
        "y_pred = np.where(res>=0.5,1,0)\n",
        "def get_res(X_test, y_test):\n",
        "  return print(\n",
        "    accuracy_score(y_test, y_pred).round(3),\n",
        "    f1_score(y_test, y_pred).round(3),\n",
        "    recall_score(y_test, y_pred).round(3),\n",
        "    precision_score(y_test, y_pred).round(3))\n",
        "\n",
        "get_res(X_test, y_test)"
      ],
      "metadata": {
        "colab": {
          "base_uri": "https://localhost:8080/"
        },
        "id": "hJL1dxk96ZW1",
        "outputId": "0fa5e72f-4558-49a4-e5f7-e0895735375e"
      },
      "execution_count": 67,
      "outputs": [
        {
          "output_type": "stream",
          "name": "stdout",
          "text": [
            "0.641 0.604 0.632 0.578\n"
          ]
        }
      ]
    },
    {
      "cell_type": "code",
      "source": [
        "from xgboost import XGBClassifier\n",
        "\n",
        "model3 = XGBClassifier(random_state=42).fit(X_train, y_train)\n",
        "get_res(y_test, model3.predict(X_test))"
      ],
      "metadata": {
        "colab": {
          "base_uri": "https://localhost:8080/"
        },
        "id": "mCBfGzTd-JMu",
        "outputId": "4b88aa42-fb40-41ff-844a-dc1a2a5aa5bc"
      },
      "execution_count": 69,
      "outputs": [
        {
          "output_type": "stream",
          "name": "stdout",
          "text": [
            "0.656 0.614 0.655 0.578\n"
          ]
        }
      ]
    }
  ],
  "metadata": {
    "colab": {
      "name": "ds_cs_N421a.ipynb",
      "provenance": []
    },
    "kernelspec": {
      "display_name": "Python 3 (ipykernel)",
      "language": "python",
      "name": "python3"
    },
    "language_info": {
      "codemirror_mode": {
        "name": "ipython",
        "version": 3
      },
      "file_extension": ".py",
      "mimetype": "text/x-python",
      "name": "python",
      "nbconvert_exporter": "python",
      "pygments_lexer": "ipython3",
      "version": "3.8.12"
    },
    "accelerator": "GPU",
    "gpuClass": "standard"
  },
  "nbformat": 4,
  "nbformat_minor": 0
}