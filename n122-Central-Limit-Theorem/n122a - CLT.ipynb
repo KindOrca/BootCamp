{
  "nbformat": 4,
  "nbformat_minor": 0,
  "metadata": {
    "colab": {
      "name": "n122a - CLT.ipynb",
      "provenance": [],
      "collapsed_sections": [],
      "authorship_tag": "ABX9TyM2ubJta9o2rhM6kL3GDqlH"
    },
    "kernelspec": {
      "name": "python3",
      "display_name": "Python 3"
    },
    "language_info": {
      "name": "python"
    }
  },
  "cells": [
    {
      "cell_type": "markdown",
      "source": [
        "<img src='https://i.imgur.com/RDAD11M.png' width = '200' align = 'right'>\n",
        "\n",
        "## *DATA SCIENCE / SECTION 1 / SPRINT 2 / NOTE 2*\n",
        "\n",
        "---\n",
        "\n",
        "# 📝 Assignment"
      ],
      "metadata": {
        "id": "hhLTda3cVIHR"
      }
    },
    {
      "cell_type": "markdown",
      "source": [
        "# 1. 데이터셋 불러오기 \n",
        "\n",
        "- 서울시 기간별 시간평균 대기환경 정보 데이터셋을 사용합니다.\n",
        "\n",
        "  https://data.seoul.go.kr/dataList/OA-2221/S/1/datasetView.do\n",
        "\n",
        "- `2020년 3월`의 송파구 데이터만 사용합니다. \n",
        "\n",
        "- 데이터셋을 불러와 변수 `df`에 저장합니다.\n",
        "\n",
        "- `측정일시`, `측정소명`, `오존(ppm)` column만 사용합니다.\n",
        "\n",
        "- index를 초기화합니다."
      ],
      "metadata": {
        "id": "m9DCmR8T-qCP"
      }
    },
    {
      "cell_type": "code",
      "source": [
        "# 이 곳에 답안을 작성하시기 바랍니다."
      ],
      "metadata": {
        "id": "m9TL4h2adJTg"
      },
      "execution_count": null,
      "outputs": []
    },
    {
      "cell_type": "markdown",
      "source": [
        "# 2. 큰 수의 법칙\n",
        "\n",
        "표본 크기가 커질수록 표본평균이 모평균에 가까워지는 것을 확인합니다. \n",
        "\n",
        "- `df['오존(ppm)']`을 모집단으로 하였을 때, 모평균을 `pop_mean`에 저장합니다. \n",
        "\n",
        "- 모집단에서 10개의 데이터를 추출하여 평균을 `sample_10_mean`에 저장합니다.\n",
        "\n",
        "- 모집단에서 200개의 데이터를 추출하여 평균을 `sample_200_mean`에 저장합니다. \n",
        "\n",
        "- `.sample()` 함수를 활용합니다. \n",
        "  - `random_state=42`로 설정합니다. \n",
        "\n",
        "- 다음과 같이 시각화 합니다.  \n",
        "\n",
        "  <img src = 'https://i.imgur.com/jlhzucj.png'>"
      ],
      "metadata": {
        "id": "PR5Hrf4MmFH-"
      }
    },
    {
      "cell_type": "code",
      "source": [
        "# 이 곳에 답안을 작성하시기 바랍니다."
      ],
      "metadata": {
        "id": "zDPP9UognxHH"
      },
      "execution_count": null,
      "outputs": []
    },
    {
      "cell_type": "markdown",
      "source": [
        "# 3. 중심극한정리 \n",
        "\n",
        "표본 평균들의 분포가 정규분포를 이루는지 확인합니다.  \n",
        "\n",
        "- numpy의 `randam.choice()` 함수를 활용하여 `df['오존(ppm)']`에서 20개의 데이터를 추출합니다.\n",
        "\n",
        "- 20개의 데이터의 평균을 계산하여 리스트 `s1`에 저장합니다. \n",
        "\n",
        "- 위 과정을 `for loop`을 이용하여 10,000번 반복합니다. 즉, `s1`에는 10,000번 추출된 20개의 데이터의 평균값이 저장됩니다. \n",
        "\n",
        "- 평균값들의 분포를 `seaborn.kdeplot()`을 활용하여 시각화 하세요.\n",
        "\n",
        "  https://seaborn.pydata.org/generated/seaborn.kdeplot.html"
      ],
      "metadata": {
        "id": "QjjcAoJDAyfq"
      }
    },
    {
      "cell_type": "code",
      "source": [
        "# 이 곳에 답안을 작성하시기 바랍니다."
      ],
      "metadata": {
        "id": "mRzbArj3fz2Q"
      },
      "execution_count": null,
      "outputs": []
    },
    {
      "cell_type": "markdown",
      "source": [
        "# 4. 신뢰구간 \n",
        "\n",
        "2번에서 빌드한 표본 평균 분포에 대하여 모집단의 모수를 포함할 확률이 95%가 되는 구간을 나타냅니다. \n",
        "\n",
        "- 평균은 초록 세로선으로, 신뢰구간 95% 구간은 빨간 세로선으로 나타내세요. "
      ],
      "metadata": {
        "id": "Hy0QfN5tlhAK"
      }
    },
    {
      "cell_type": "code",
      "source": [
        "# 이 곳에 답안을 작성하시기 바랍니다."
      ],
      "metadata": {
        "id": "WqXAXfffL6y7"
      },
      "execution_count": null,
      "outputs": []
    },
    {
      "cell_type": "markdown",
      "source": [
        "# 🔥 도전 과제\n",
        "\n",
        "**2번에서 구한 두 표본 `sample_10`, `sample_200`을 계속 사용합니다.**\n",
        "\n",
        "- 한 표본의 신뢰구간을 수학적으로 다음 식과 같이 나타낼 수 있습니다. \n",
        "\n",
        "  $\\bar{x} ± t \\cdot {s\\over \\sqrt{n}}$\n",
        "\n",
        "  - $\\bar{x}$ : 표본의 평균\n",
        "  - $t$ : t-value\n",
        "  - $s$ : 표본의 표준편차\n",
        "  - $n$ : 데이터 수 \n",
        "\n",
        "- \b위의 신뢰구간 식과 `plt.bar()`를 사용하여 다음과 같은 신뢰구간 시각화를 그리세요. \n",
        "\n",
        "  <img src = 'https://i.imgur.com/E0NkLdl.png'>\n",
        "\n",
        "- 위의 시각화로부터 도출할 수 있는 insight를 설명해 보세요. "
      ],
      "metadata": {
        "id": "skfo2chKkt02"
      }
    }
  ]
}