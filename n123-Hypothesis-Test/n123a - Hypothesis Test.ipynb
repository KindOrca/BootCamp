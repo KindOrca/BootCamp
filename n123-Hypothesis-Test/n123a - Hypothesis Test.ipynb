{
  "cells": [
    {
      "cell_type": "markdown",
      "metadata": {
        "id": "t_U_6S26AuYq"
      },
      "source": [
        "<img src='https://user-images.githubusercontent.com/6457691/89746244-a6e2a200-daf3-11ea-9314-7863d544d73c.png' width = '200' align = 'right'>\n",
        "\n",
        "## *DATA SCIENCE / SECTION 1 / SPRINT 2 / NOTE 3*\n",
        "\n",
        "---\n",
        "\n",
        "# 📝 Assignment"
      ]
    },
    {
      "cell_type": "code",
      "execution_count": 1,
      "metadata": {
        "colab": {
          "base_uri": "https://localhost:8080/"
        },
        "id": "nxI0EC-X2fXp",
        "outputId": "26a048f7-4e10-4ed7-da72-7552b4117a79"
      },
      "outputs": [
        {
          "output_type": "stream",
          "name": "stdout",
          "text": [
            "Looking in indexes: https://pypi.org/simple, https://us-python.pkg.dev/colab-wheels/public/simple/\n",
            "Requirement already satisfied: scipy in /usr/local/lib/python3.7/dist-packages (1.4.1)\n",
            "Collecting scipy\n",
            "  Downloading scipy-1.7.3-cp37-cp37m-manylinux_2_12_x86_64.manylinux2010_x86_64.whl (38.1 MB)\n",
            "\u001b[K     |████████████████████████████████| 38.1 MB 1.4 MB/s \n",
            "\u001b[?25hRequirement already satisfied: numpy<1.23.0,>=1.16.5 in /usr/local/lib/python3.7/dist-packages (from scipy) (1.21.6)\n",
            "Installing collected packages: scipy\n",
            "  Attempting uninstall: scipy\n",
            "    Found existing installation: scipy 1.4.1\n",
            "    Uninstalling scipy-1.4.1:\n",
            "      Successfully uninstalled scipy-1.4.1\n",
            "\u001b[31mERROR: pip's dependency resolver does not currently take into account all the packages that are installed. This behaviour is the source of the following dependency conflicts.\n",
            "albumentations 0.1.12 requires imgaug<0.2.7,>=0.2.5, but you have imgaug 0.2.9 which is incompatible.\u001b[0m\n",
            "Successfully installed scipy-1.7.3\n"
          ]
        }
      ],
      "source": [
        "# 아래의 코드를 실행해 주세요. \n",
        "!pip install scipy --upgrade"
      ]
    },
    {
      "cell_type": "code",
      "execution_count": 49,
      "metadata": {
        "colab": {
          "base_uri": "https://localhost:8080/",
          "height": 35
        },
        "id": "2QLRviTlNmR7",
        "outputId": "d0663c6f-5a37-4229-c19b-b11b2d9abaac"
      },
      "outputs": [
        {
          "output_type": "execute_result",
          "data": {
            "text/plain": [
              "'1.7.3'"
            ],
            "application/vnd.google.colaboratory.intrinsic+json": {
              "type": "string"
            }
          },
          "metadata": {},
          "execution_count": 49
        }
      ],
      "source": [
        "# 버전 확인 \n",
        "import scipy \n",
        "\n",
        "scipy.__version__"
      ]
    },
    {
      "cell_type": "markdown",
      "metadata": {
        "id": "tevnGzYICcze"
      },
      "source": [
        "# 1. One-Sample T-test \n",
        "한 샘플의 평균값과 특정값(모수)을 비교하는 검정 방법입니다.\n",
        "\n",
        "$H_0$ : $\\mu_{sample} = \\mu_{population}$\n",
        "\n",
        "$H_a$ : $\\mu_{sample} ≠ \\mu_{population}$ \n",
        "\n",
        "- 데이터 불러오기 <br>\n",
        "  [서울시 가로수 데이터셋](https://data.seoul.go.kr/dataList/367/S/2/datasetView.do)을 사용합니다. 다음 링크를 참조하세요. <br>\n",
        "<https://ds-lecture-data.s3.ap-northeast-2.amazonaws.com/seoul_tree/seoul_tree.txt>\n",
        "\n",
        "- 서울시 구별 `이팝나무` 데이터를 모집단으로 하였을 때, 10개의 구를 샘플링한 `이팝나무` 수의 평균과 모집단의 평균을 비교하는 가설검정을 시행하세요.   \n",
        "  - `서울시`, `공원녹지사업소`, `시설관리공단` 데이터는 제외합니다. \n",
        "  - 10개의 구를 중복을 허용하여 샘플링합니다. \n",
        "    - seed는 123으로 설정하세요. \n",
        "  - scipy 라이브러리의 `.ttest_1samp()`를 사용합니다. <br>\n",
        "    https://docs.scipy.org/doc/scipy/reference/generated/scipy.stats.ttest_1samp.html\n",
        "  - 가설검정 결과의 p-value 값을 `pv1`에 저장하세요. (`.pvalue`를 사용합니다.)"
      ]
    },
    {
      "cell_type": "code",
      "execution_count": 83,
      "metadata": {
        "id": "93yujFxzQ6yN",
        "outputId": "4609318f-c8f2-47b4-9f37-c95ed9ac2c6d",
        "colab": {
          "base_uri": "https://localhost:8080/"
        }
      },
      "outputs": [
        {
          "output_type": "execute_result",
          "data": {
            "text/plain": [
              "0.09699658599768855"
            ]
          },
          "metadata": {},
          "execution_count": 83
        }
      ],
      "source": [
        "import pandas as pd\n",
        "import numpy as np\n",
        "from google.colab import files\n",
        "from scipy import stats\n",
        "\n",
        "# 데이터 불러오기\n",
        "df = pd.read_csv('https://ds-lecture-data.s3.ap-northeast-2.amazonaws.com/seoul_tree/seoul_tree.txt', on_bad_lines='skip', sep = '\\t', header = 1)\n",
        "df = df.query('자치구 not in [\\'서울시\\', \\'공원녹지사업소\\', \\'시설관리공단\\']')\n",
        "df.reset_index(drop = True, inplace = True)\n",
        "\n",
        "df['이팝나무'] = df['이팝나무'].str.replace(',','').astype(int)\n",
        "pop_mean = df['이팝나무'].mean()\n",
        "sample = df['이팝나무'].sample(10, replace = True, random_state = 123)\n",
        "\n",
        "result = stats.ttest_1samp(sample, pop_mean)\n",
        "pv1 = result.pvalue\n",
        "pv1"
      ]
    },
    {
      "cell_type": "markdown",
      "metadata": {
        "id": "cB3xOGTv2Q8d"
      },
      "source": [
        "# 2. Two-Sample T-test\n",
        "두 샘플의 평균값을 비교하는 검정 방법입니다. \n",
        "\n",
        "$H_0$ : $\\mu_1 = \\mu_2$\n",
        "\n",
        "$H_a$ : $\\mu_1 ≠ \\mu_2$\n",
        "\n",
        "- 단측 검정(One-tailed Test)을 사용하여 평균 `느티나무` 수와 평균 `왕벚나무` 수를 비교하는 가설검정을 시행하세요. \n",
        "  - `서울시`, `공원녹지사업소`, `시설관리공단` 데이터는 제외합니다. \n",
        "  - scipy 라이브러리의 `.ttest_ind()`를 사용합니다.\n",
        "\n",
        "    https://docs.scipy.org/doc/scipy/reference/generated/scipy.stats.ttest_ind.html\n",
        "  - '평균 느티나무 수가 왕벚나무 수보다 통계적으로 유의미하게 크다'는 가설검정 결과의 pvalue 값을 `pv2`에 저장하세요. \n",
        "  - '평균 왕벚나무 수가 느티나무 수보다 통계적으로 유의미하게 크다'는 가설검정 결과의 pvalue 값을 `pv3`에 저장하세요. \n",
        "  - 평균 `느티나무` 수와 평균 `왕벚나무` 수를 비교하는 가설검정 결과를 `ans`에 저장하세요. 이때 `ans`는 다음 세 가지 중 하나입니다. \n",
        "    - 느티나무 (평균 느티나무 수가 왕벚나무 수보다 통계적으로 유의하게 큰 경우)\n",
        "    - 왕벚나무 (평균 왕벚나무 수가 느티나무 수보다 통계적으로 유의하게 큰 경우)\n",
        "    - 같다. (통계적으로 유의미한 차이가 없다.) "
      ]
    },
    {
      "cell_type": "code",
      "execution_count": 84,
      "metadata": {
        "id": "ZbWBvbFaQ-0y"
      },
      "outputs": [],
      "source": [
        "# Data Wrangling\n",
        "df['느티나무'] = df['느티나무'].str.replace(',','').astype(int)\n",
        "df['왕벚나무'] = df['왕벚나무'].str.replace(',','').astype(int)"
      ]
    },
    {
      "cell_type": "code",
      "source": [
        "nt_sample = df['느티나무'].sample(10, random_state = 123, replace = True)\n",
        "wb_sample = df['왕벚나무'].sample(10, random_state = 123, replace = True)\n",
        "pv2 = stats.ttest_ind(nt_sample, wb_sample, alternative='greater').pvalue  # nt >= wb\n",
        "pv3 = stats.ttest_ind(wb_sample, nt_sample, alternative='greater').pvalue\n",
        "print(pv2)\n",
        "print(pv3)\n",
        "nt_sample"
      ],
      "metadata": {
        "id": "Io0d8yvpC8MA",
        "outputId": "8ec3909f-8131-4dff-afed-b29c2a4b56fe",
        "colab": {
          "base_uri": "https://localhost:8080/"
        }
      },
      "execution_count": 88,
      "outputs": [
        {
          "output_type": "stream",
          "name": "stdout",
          "text": [
            "0.2862668590895146\n",
            "0.7137331409104855\n"
          ]
        },
        {
          "output_type": "execute_result",
          "data": {
            "text/plain": [
              "13    3056\n",
              "2      373\n",
              "2      373\n",
              "6      471\n",
              "17     407\n",
              "19    1421\n",
              "10    1165\n",
              "22    2991\n",
              "1      460\n",
              "0      619\n",
              "Name: 느티나무, dtype: int64"
            ]
          },
          "metadata": {},
          "execution_count": 88
        }
      ]
    },
    {
      "cell_type": "markdown",
      "metadata": {
        "id": "O0uBOhE-tej3"
      },
      "source": [
        "# 🔥 도전과제\n",
        "\n",
        "**다음은 대표적인 4가지 sampling 방식을 설명한 것입니다.**\n",
        "\n",
        "- Simple Random Sampling\n",
        "  \n",
        "    : 모집단에서 무작위로 추출하는 방식입니다.\n",
        "\n",
        "    <img src = 'https://i.imgur.com/VveWJJf.png' width=150>\n",
        "- Systematic Sampling\n",
        "\n",
        "    : 모집단에서 규칙을 가지고 추출하는 방식입니다. ex) 1, 6, 11, 16, ... 번째의 데이터 선택 \n",
        "\n",
        "    <img src = 'https://i.imgur.com/u5otXyy.png' width=150> \n",
        "- Stratified Random Sampling\n",
        "\n",
        "    : 모집단을 여러 그룹으로 나누고, 각 그룹에서 무작위로 추출하는 방식입니다. ex) 여론 조사에서 나이대별로 무작위 추출 \n",
        "\n",
        "    <img src = 'https://i.imgur.com/3KPzuDx.png' width=150>\n",
        "- Cluster Sampling\n",
        "\n",
        "    : 모집단을 여러 그룹으로 나누고, 특정 그룹을 무작위로 선택하는 방식입니다. \n",
        "\n",
        "    <img src = 'https://i.imgur.com/m9eJ3nN.png' width=150>"
      ]
    },
    {
      "cell_type": "markdown",
      "metadata": {
        "id": "BMjbHDYiRPBY"
      },
      "source": [
        "## Sampling\n",
        "\n",
        "- 위의 4가지 sampling 방식을 구현해 봅니다.\n",
        "\n",
        "  - 모집단은 1부터 100까지 담은 numpy array이며, Sampling 하는 데이터 수는 20개입니다.\n",
        "\n",
        "  - Stratified Random Sampling을 위한 그룹을 나누는 기준은 1-10, 11-20, ... 과 같은 방식입니다.\n",
        "\n",
        "  - Cluster Sampling에서 그룹을 나누는 기준은 5로 나눴을 때의 나머지 값입니다. (0,1,2,3,4)"
      ]
    },
    {
      "cell_type": "code",
      "execution_count": null,
      "metadata": {
        "id": "s8Q6FblHTnSE"
      },
      "outputs": [],
      "source": [
        "# 이 곳에 답안을 작성하시기 바랍니다. "
      ]
    }
  ],
  "metadata": {
    "colab": {
      "collapsed_sections": [],
      "name": "n123a - Hypothesis Test.ipynb",
      "provenance": []
    },
    "kernelspec": {
      "display_name": "Python 3",
      "name": "python3"
    },
    "language_info": {
      "name": "python"
    }
  },
  "nbformat": 4,
  "nbformat_minor": 0
}