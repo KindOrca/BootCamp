{
  "cells": [
    {
      "cell_type": "markdown",
      "source": [
        "<img align=\"right\" src=\"https://ds-cs-images.s3.ap-northeast-2.amazonaws.com/Codestates_Fulllogo_Color.png\" width=100>\n",
        "\n",
        "## *AIB / SECTION 2 / SPRINT 1 / NOTE 2*\n",
        "\n",
        "# 📝 Assignment\n",
        "---"
      ],
      "metadata": {
        "id": "uzkqSleuin8b"
      }
    },
    {
      "cell_type": "markdown",
      "source": [
        "# 다중선형회귀(Multiple Linear Regression)\n",
        "\n",
        "이번 과제에서도 n211 과제 에서 다루었던 housing price dataset을 가지고 배운 내용을 연습해 보겠습니다.\n",
        "다음 링크에서 다운로드 받아 사용해 주세요. [House Sales in King County, USA](https://www.kaggle.com/harlfoxem/housesalesprediction)"
      ],
      "metadata": {
        "id": "7IXUfiQ2UKj6"
      }
    },
    {
      "cell_type": "code",
      "execution_count": 17,
      "source": [
        "# 데이터는 캐글에서 받으셔도 되고 이 링크에서 불러와도 됩니다.\n",
        "import pandas as pd\n",
        "df = pd.read_csv('https://ds-lecture-data.s3.ap-northeast-2.amazonaws.com/kc_house_data/kc_house_data.csv')\n",
        "df['date'] = df['date'].str.split('T').str[0].astype(int)"
      ],
      "outputs": [],
      "metadata": {
        "id": "1rQFeEYpin8h"
      }
    },
    {
      "cell_type": "code",
      "execution_count": 18,
      "source": [
        "df.columns"
      ],
      "outputs": [
        {
          "output_type": "execute_result",
          "data": {
            "text/plain": [
              "Index(['id', 'date', 'price', 'bedrooms', 'bathrooms', 'sqft_living',\n",
              "       'sqft_lot', 'floors', 'waterfront', 'view', 'condition', 'grade',\n",
              "       'sqft_above', 'sqft_basement', 'yr_built', 'yr_renovated', 'zipcode',\n",
              "       'lat', 'long', 'sqft_living15', 'sqft_lot15'],\n",
              "      dtype='object')"
            ]
          },
          "metadata": {},
          "execution_count": 18
        }
      ],
      "metadata": {
        "id": "TdfMX6P_in8i",
        "outputId": "1e21a4d4-1d00-4e4f-8e29-b550614c9994",
        "colab": {
          "base_uri": "https://localhost:8080/"
        }
      }
    },
    {
      "cell_type": "markdown",
      "source": [
        "### 1) 데이터는 May 2014 ~ May 2015 의 2년치 데이터입니다. 2015-01-01 부터 큰 날짜의 데이터는 테스트, 그 이외의 데이터는 훈련 데이터셋으로 나누어 주세요\n",
        "- **(Urclass Quiz) 훈련데이터 샘플의 갯수를 제출하세요.**"
      ],
      "metadata": {
        "id": "oepYvBbZin8i"
      }
    },
    {
      "cell_type": "code",
      "execution_count": 32,
      "source": [
        "df.sort_values('date', inplace = True)\n",
        "df.reset_index(drop = True, inplace = True)\n",
        "train = df.query('date < 20150101')\n",
        "test = df.drop(train.index)\n",
        "train.shape"
      ],
      "outputs": [
        {
          "output_type": "execute_result",
          "data": {
            "text/plain": [
              "(14633, 21)"
            ]
          },
          "metadata": {},
          "execution_count": 32
        }
      ],
      "metadata": {
        "id": "MzL-L1qVin8j",
        "outputId": "f49ecfd6-37d5-417c-9bd6-ea3e2639bbf0",
        "colab": {
          "base_uri": "https://localhost:8080/"
        }
      }
    },
    {
      "cell_type": "markdown",
      "source": [
        "### 2) 두 특성(bathrooms, sqft_living)을 사용해서 다중선형회귀 모델을 만들어 보세요\n",
        "- 학습시 Parameters는 모두 기본값으로 합니다.\n",
        "- 정규화(normalize) 등 추가적인 데이터처리 없이 진행합니다.\n",
        "- **(Urclass Quiz) 테스트세트의 MAE 값을 제출하세요.(소수점 이하 반올림)**"
      ],
      "metadata": {
        "id": "LDLF0bujin8k"
      }
    },
    {
      "cell_type": "code",
      "execution_count": 37,
      "source": [
        "from sklearn.linear_model import LinearRegression\n",
        "from sklearn.metrics import mean_absolute_error\n",
        "\n",
        "target = 'price'\n",
        "y_train = train[target]\n",
        "y_test = test[target]\n",
        "\n",
        "model = LinearRegression()\n",
        "\n",
        "features = ['bathrooms','sqft_living']\n",
        "X_train = train[features]\n",
        "X_test = test[features]\n",
        "\n",
        "model.fit(X_train, y_train)\n",
        "y_pred = model.predict(X_test)\n",
        "mae = mean_absolute_error(y_test, y_pred)\n",
        "mae.round(0)"
      ],
      "outputs": [
        {
          "output_type": "execute_result",
          "data": {
            "text/plain": [
              "179253.0"
            ]
          },
          "metadata": {},
          "execution_count": 37
        }
      ],
      "metadata": {
        "id": "ZUAsXoDXin8k",
        "outputId": "f2ae602b-400e-403d-f35b-ae74edc97461",
        "colab": {
          "base_uri": "https://localhost:8080/"
        }
      }
    },
    {
      "cell_type": "markdown",
      "source": [
        "### 3) 모델의 회귀계수(coefficients)와 절편(intercept)을 확인해 보세요.\n",
        "- **(Urclass Quiz) sqft_living의 회귀계수를 제출하세요.(소수점 이하 반올림)**"
      ],
      "metadata": {
        "id": "tK3a4jCein8l"
      }
    },
    {
      "cell_type": "code",
      "execution_count": 39,
      "source": [
        "B1, B2 = model.coef_\n",
        "B0 = model.intercept_\n",
        "B2.round(0)"
      ],
      "outputs": [
        {
          "output_type": "execute_result",
          "data": {
            "text/plain": [
              "286.0"
            ]
          },
          "metadata": {},
          "execution_count": 39
        }
      ],
      "metadata": {
        "id": "scH9oK64in8n",
        "outputId": "2199fd3d-6b1b-4e08-d0f4-3fc7bab2eab2",
        "colab": {
          "base_uri": "https://localhost:8080/"
        }
      }
    },
    {
      "cell_type": "markdown",
      "source": [
        "### 4) MSE, MAE, RMSE, $R^2$ 를 훈련/테스트 데이터에 대해 확인해 보세요\n",
        "- **(Urclass Quiz) 테스트 데이터에 대한 MSE, MAE, RMSE, $R^2$ 값을 올바르게 적은 보기를 고르세요.(소수점 두자리수 이하 반올림)**"
      ],
      "metadata": {
        "id": "kkExMNgFin8n"
      }
    },
    {
      "cell_type": "code",
      "execution_count": 42,
      "source": [
        "from sklearn.metrics import  mean_squared_error, mean_absolute_error, r2_score\n",
        "\n",
        "mse = mean_squared_error(y_test, y_pred)\n",
        "mae = mean_absolute_error(y_test, y_pred)\n",
        "rmse = mse ** 0.5\n",
        "r2 = r2_score(y_test, y_pred)\n",
        "(mse.round(1), mae.round(1), rmse.round(1), r2.round(1))"
      ],
      "outputs": [
        {
          "output_type": "execute_result",
          "data": {
            "text/plain": [
              "(71083994178.8, 179252.5, 266615.8, 0.5)"
            ]
          },
          "metadata": {},
          "execution_count": 42
        }
      ],
      "metadata": {
        "id": "FQnL9N47in8n",
        "outputId": "70c030bc-19cc-4331-bf66-ca5ccfa149ec",
        "colab": {
          "base_uri": "https://localhost:8080/"
        }
      }
    },
    {
      "cell_type": "markdown",
      "source": [
        "## 🔥도전과제(Github - Discussion)\n",
        "\n",
        "### 공지로 안내드리는 Github - Discussion 페이지에 올려 보세요:)"
      ],
      "metadata": {
        "id": "65Z-sNuoin8o"
      }
    },
    {
      "cell_type": "markdown",
      "source": [
        "### 5)  EDA를 진행하시고, 두개 이상의 특성을 선택하여 특성공학(feature engineering)을 진행한 후 아래의 질문들에 대한 본인만의 리포트를 작성해보시고 서로 논해 보세요. \n",
        "- 어떤 이유에서 해당 특성공학을 진행하셨나요? 특성공학을 통해 기대하는 효과는 무엇이었나요? 만약 얻고자 하는 효과를 얻지 못했다면 이유는 무엇이며 어떤 액션을 추가할 수 있을까요? \n",
        "- 특성공학을 거친 특성을 포함해 다수의 특성을 사용한 모델을 학습하고 테스트 데이터에 대해 MSE, RMSE, MAE, R2 스코어는 어떠한가요? 해당 결과를 통해 얻을 수 있는 인사이트는 어떤 것이 있었나요? \n",
        "- 만들어진 회귀계수를 사용해 모델을 설명해 본다면? \n",
        "- 만들어진 모델은 과소적합인가요? 과대적합인가요? 일반화가 잘 된 모델을 만들기 위해 추가로 할 수 있는 액션은 어떤 것이 있을까요? \n",
        "\n",
        "※kaggle notebook에서도 힌트를 얻어 보세요. "
      ],
      "metadata": {
        "id": "IWvu_eu3in8o"
      }
    },
    {
      "cell_type": "code",
      "execution_count": null,
      "source": [
        ""
      ],
      "outputs": [],
      "metadata": {
        "id": "W-UrrEECin8o"
      }
    },
    {
      "cell_type": "markdown",
      "source": [
        "## 참고자료\n",
        "* [Feature Engineering](https://en.wikipedia.org/wiki/Feature_engineering)\n",
        "* [\"A Few Useful Things to Know about Machine Learning\"](https://homes.cs.washington.edu/~pedrod/papers/cacm12.pdf)\n",
        "* [Machine Learning and AI via Brain simulations](https://forum.stanford.edu/events/2011/2011slides/plenary/2011plenaryNg.pdf)\n",
        "* [_An Introduction to Statistical Learning_](http://faculty.marshall.usc.edu/gareth-james/ISL/ISLR%20Seventh%20Printing.pdf),  Chapter 3.1, Simple Linear Regression, & Chapter 3.2, Multiple Linear Regression\n",
        "* [Brandon Foltz, Statistics 101: Simple Linear Regression](https://www.youtube.com/watch?v=ZkjP5RJLQF4)"
      ],
      "metadata": {
        "id": "Wgkgnv41in8p"
      }
    }
  ],
  "metadata": {
    "kernelspec": {
      "display_name": "Python 3",
      "language": "python",
      "name": "python3"
    },
    "language_info": {
      "codemirror_mode": {
        "name": "ipython",
        "version": 3
      },
      "file_extension": ".py",
      "mimetype": "text/x-python",
      "name": "python",
      "nbconvert_exporter": "python",
      "pygments_lexer": "ipython3",
      "version": "3.8.8"
    },
    "colab": {
      "name": "n212a-multiple-regression.ipynb",
      "provenance": []
    }
  },
  "nbformat": 4,
  "nbformat_minor": 0
}