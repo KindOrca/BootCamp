{
  "cells": [
    {
      "cell_type": "markdown",
      "id": "73fd4e31",
      "metadata": {
        "id": "73fd4e31"
      },
      "source": [
        "# 확인하세요!\n",
        "\n",
        "### 제출 전에 모든 코드가 순차적으로 잘 작동하는지 확인하세요. \n",
        "- **런타임 다시 시작**한 다음(메뉴바에서 런타임$\\rightarrow$런타임 다시 시작 선택) **모든 셀을 실행**해 보세요(메뉴바에서 런타임$\\rightarrow$모두 실행 선택).\n",
        "\n",
        "### 지정 셀의 지정 영역에서만 코드를 작성했는지 확인하세요.\n",
        "- `YOUR CODE HERE`이 적혀 있는 셀에 대한 코드만 채점에 반영됩니다.\n",
        "- `YOUR CODE HERE` ~ `YOUR CODE ENDS HERE` 사이에 본인의 코드를 작성하세요.\n",
        "- 지정 셀 이외에 본인이 코드 실행 결과를 확인하기 위한 용도로 셀을 추가해도 됩니다.\n",
        "    - **제출 시 지정 셀에서는 정답 이외에 결과 확인을 위한 코드 등은 제거하고 제출해 주세요!**\n",
        "    - **기존 셀을 삭제하지 마세요! 채점에 불이익이 있을 수 있습니다.**\n",
        "\n",
        "### 제출 방법\n",
        "- 시간 내에 문제를 풀고, 본인의 github repo에 push 하세요.\n",
        "    - **디렉토리 구조가 변하면 안 됩니다.** `codestates/ds-sc2xx`와 디렉토리 구조가 동일해야 합니다. 답안 파일의 이름을 변경하지 않았는지, 기존에 없던 폴더가 추가되지 않았는지 등을 확인하세요.\n",
        "    - **코드스테이츠 가입 시 연동한 github 계정을 사용해야 합니다.**\n",
        "    - **branch를 변경하여 작업하지 마세요.**\n",
        "        - `master` branch에의 제출 사항에 대해서만 평가합니다.\n",
        "        - 본인의 github repo `master` branch에 제출이 잘 되어 있는지 확인하세요."
      ]
    },
    {
      "cell_type": "markdown",
      "id": "651fc975",
      "metadata": {
        "id": "651fc975"
      },
      "source": [
        "---"
      ]
    },
    {
      "cell_type": "markdown",
      "id": "6f4f7cc5",
      "metadata": {
        "deletable": false,
        "editable": false,
        "nbgrader": {
          "cell_type": "markdown",
          "checksum": "75d1a96b35e95ad998708dbf4ac9a614",
          "grade": false,
          "grade_id": "cell-5b7fa4769535997c",
          "locked": true,
          "schema_version": 3,
          "solution": false,
          "task": false
        },
        "id": "6f4f7cc5"
      },
      "source": [
        "# SC23x\n",
        " \n",
        "## Applied Predictive Modeling\n",
        "\n",
        " 이번 스프린트 챌린지에서는 시카고에 있는 식당들의 정보와 해당 식당들의 위생 검사 결과에 관한 데이터를 담은 데이터셋을 다루게 됩니다.\n",
        "\n",
        "데이터셋에 관한 설명은 이 [PDF](https://data.cityofchicago.org/api/assets/BAD5301B-681A-4202-9D25-51B2CAE672FF)를 참고해주시길 바랍니다."
      ]
    },
    {
      "cell_type": "markdown",
      "id": "47d7d20d",
      "metadata": {
        "deletable": false,
        "editable": false,
        "nbgrader": {
          "cell_type": "markdown",
          "checksum": "10c83cf610a0d051d3ba4677ce80a614",
          "grade": false,
          "grade_id": "cell-b104eb070075cc6e",
          "locked": true,
          "schema_version": 3,
          "solution": false,
          "task": false
        },
        "id": "47d7d20d"
      },
      "source": [
        "#### 목표: 오늘 여러분은 Chicago시의 공중보건부에서 진행한 레스토랑들의 위생 검사 \"불합격\" 여부를 예측하는 모델을 만들어야 합니다.\n",
        "\n",
        "여러분의 모델이 예측할 target은 `Inspection Fail` 칼럼입니다.   \n",
        "칼럼 값은 아래와 같습니다:\n",
        "- 식당이 위생 검사에 불합격한 경우: **1**\n",
        "- 식당이 검사를 통과한 경우: **0**"
      ]
    },
    {
      "cell_type": "code",
      "execution_count": null,
      "id": "cdad95b2",
      "metadata": {
        "deletable": false,
        "editable": false,
        "nbgrader": {
          "cell_type": "code",
          "checksum": "344a67294d66336d80aef86c689863e7",
          "grade": false,
          "grade_id": "cell-ee764f0e965ac62a",
          "locked": true,
          "schema_version": 3,
          "solution": false,
          "task": false
        },
        "id": "cdad95b2"
      },
      "outputs": [],
      "source": [
        "# Google Colab을 사용하는 경우 해당 셀을 실행하세요\n",
        "import sys\n",
        "import xgboost\n",
        "import warnings\n",
        "\n",
        "\n",
        "if \"google.colab\" in sys.modules:\n",
        "    # Install packages in Colab\n",
        "    !pip install category_encoders==2.*\n",
        "    !pip install eli5\n",
        "    !pip install pandas-profiling==2.*\n",
        "    !pip install pdpbox\n",
        "    !pip install shap\n",
        "\n",
        "warnings.filterwarnings(\"ignore\")\n",
        "# xgboost.config.set_config(verbosity=0)"
      ]
    },
    {
      "cell_type": "code",
      "execution_count": 2,
      "id": "3a53a31f",
      "metadata": {
        "deletable": false,
        "editable": false,
        "nbgrader": {
          "cell_type": "code",
          "checksum": "743d362d5ffa7f2a1c7389693a61c88a",
          "grade": false,
          "grade_id": "cell-2602a05446403de0",
          "locked": true,
          "schema_version": 3,
          "solution": false,
          "task": false
        },
        "id": "3a53a31f"
      },
      "outputs": [],
      "source": [
        "# 데이터셋을 불러오기 위해 판다스 라이브러리를 불러옵니다\n",
        "import pandas as pd\n",
        "\n",
        "train_url = \"https://ds-lecture-data.s3.ap-northeast-2.amazonaws.com/food_inspection_sc23x/food_ins_train.csv\"\n",
        "test_url = \"https://ds-lecture-data.s3.ap-northeast-2.amazonaws.com/food_inspection_sc23x/food_ins_test.csv\"\n",
        "\n",
        "# train, test 데이터셋을 불러옵니다\n",
        "train = pd.read_csv(train_url)\n",
        "test = pd.read_csv(test_url)\n",
        "\n",
        "# 데이터셋 확인\n",
        "assert train.shape == (60000, 17)\n",
        "assert test.shape == (20000, 17)"
      ]
    },
    {
      "cell_type": "code",
      "execution_count": 3,
      "id": "f34ba7af",
      "metadata": {
        "deletable": false,
        "editable": false,
        "nbgrader": {
          "cell_type": "code",
          "checksum": "11755eee8159a394025f4ec9bf02631c",
          "grade": false,
          "grade_id": "cell-5588e0945ba113c3",
          "locked": true,
          "schema_version": 3,
          "solution": false,
          "task": false
        },
        "id": "f34ba7af",
        "outputId": "31ed5347-0ea5-41e2-8fab-3684269520d6",
        "colab": {
          "base_uri": "https://localhost:8080/",
          "height": 582
        }
      },
      "outputs": [
        {
          "output_type": "execute_result",
          "data": {
            "text/plain": [
              "   Inspection ID              DBA Name           AKA Name  License #  \\\n",
              "0        2050629  MY SWEET STATION INC   MY SWEET STATION  2327223.0   \n",
              "1        2078428              OUTTAKES          RED MANGO  2125004.0   \n",
              "2        1591748          JAFFA BAGELS       JAFFA BAGELS  2278918.0   \n",
              "3        1230035      FRANKS 'N' DAWGS   FRANKS 'N' DAWGS  2094329.0   \n",
              "4        1228186           SOUTH COAST  SOUTH COAST SUSHI  1817424.0   \n",
              "\n",
              "  Facility Type             Risk               Address     City State  \\\n",
              "0    Restaurant    Risk 1 (High)   2511 N LINCOLN AVE   CHICAGO    IL   \n",
              "1    Restaurant  Risk 2 (Medium)  10 S DEARBORN ST FL   CHICAGO    IL   \n",
              "2    Restaurant    Risk 1 (High)   225 N MICHIGAN AVE   CHICAGO    IL   \n",
              "3    Restaurant    Risk 1 (High)  1863 N CLYBOURN AVE   CHICAGO    IL   \n",
              "4    Restaurant    Risk 1 (High)  1700 S MICHIGAN AVE   CHICAGO    IL   \n",
              "\n",
              "       Zip Inspection Date Inspection Type  \\\n",
              "0  60614.0      2017-05-18         Canvass   \n",
              "1  60603.0      2017-08-14         Canvass   \n",
              "2  60601.0      2015-12-15       Complaint   \n",
              "3  60614.0      2012-07-10         Canvass   \n",
              "4  60616.0      2013-09-20         Canvass   \n",
              "\n",
              "                                          Violations   Latitude  Longitude  \\\n",
              "0                                                NaN  41.927577 -87.651528   \n",
              "1  34. FLOORS: CONSTRUCTED PER CODE, CLEANED, GOO...  41.881807 -87.629543   \n",
              "2  30. FOOD IN ORIGINAL CONTAINER, PROPERLY LABEL...  41.886377 -87.624382   \n",
              "3  33. FOOD AND NON-FOOD CONTACT EQUIPMENT UTENSI...  41.914990 -87.654994   \n",
              "4                                                NaN  41.858996 -87.624106   \n",
              "\n",
              "                                  Location  Inspection Fail  \n",
              "0  (-87.65152817242594, 41.92757677830966)                0  \n",
              "1  (-87.62954311539407, 41.88180696006542)                0  \n",
              "2  (-87.62438167043969, 41.88637740620821)                0  \n",
              "3  (-87.65499361162448, 41.91498953039437)                0  \n",
              "4  (-87.62410566978502, 41.85899630014676)                0  "
            ],
            "text/html": [
              "\n",
              "  <div id=\"df-a4a55a9f-cabc-4088-9e46-ad1f4b534765\">\n",
              "    <div class=\"colab-df-container\">\n",
              "      <div>\n",
              "<style scoped>\n",
              "    .dataframe tbody tr th:only-of-type {\n",
              "        vertical-align: middle;\n",
              "    }\n",
              "\n",
              "    .dataframe tbody tr th {\n",
              "        vertical-align: top;\n",
              "    }\n",
              "\n",
              "    .dataframe thead th {\n",
              "        text-align: right;\n",
              "    }\n",
              "</style>\n",
              "<table border=\"1\" class=\"dataframe\">\n",
              "  <thead>\n",
              "    <tr style=\"text-align: right;\">\n",
              "      <th></th>\n",
              "      <th>Inspection ID</th>\n",
              "      <th>DBA Name</th>\n",
              "      <th>AKA Name</th>\n",
              "      <th>License #</th>\n",
              "      <th>Facility Type</th>\n",
              "      <th>Risk</th>\n",
              "      <th>Address</th>\n",
              "      <th>City</th>\n",
              "      <th>State</th>\n",
              "      <th>Zip</th>\n",
              "      <th>Inspection Date</th>\n",
              "      <th>Inspection Type</th>\n",
              "      <th>Violations</th>\n",
              "      <th>Latitude</th>\n",
              "      <th>Longitude</th>\n",
              "      <th>Location</th>\n",
              "      <th>Inspection Fail</th>\n",
              "    </tr>\n",
              "  </thead>\n",
              "  <tbody>\n",
              "    <tr>\n",
              "      <th>0</th>\n",
              "      <td>2050629</td>\n",
              "      <td>MY SWEET STATION INC</td>\n",
              "      <td>MY SWEET STATION</td>\n",
              "      <td>2327223.0</td>\n",
              "      <td>Restaurant</td>\n",
              "      <td>Risk 1 (High)</td>\n",
              "      <td>2511 N LINCOLN AVE</td>\n",
              "      <td>CHICAGO</td>\n",
              "      <td>IL</td>\n",
              "      <td>60614.0</td>\n",
              "      <td>2017-05-18</td>\n",
              "      <td>Canvass</td>\n",
              "      <td>NaN</td>\n",
              "      <td>41.927577</td>\n",
              "      <td>-87.651528</td>\n",
              "      <td>(-87.65152817242594, 41.92757677830966)</td>\n",
              "      <td>0</td>\n",
              "    </tr>\n",
              "    <tr>\n",
              "      <th>1</th>\n",
              "      <td>2078428</td>\n",
              "      <td>OUTTAKES</td>\n",
              "      <td>RED MANGO</td>\n",
              "      <td>2125004.0</td>\n",
              "      <td>Restaurant</td>\n",
              "      <td>Risk 2 (Medium)</td>\n",
              "      <td>10 S DEARBORN ST FL</td>\n",
              "      <td>CHICAGO</td>\n",
              "      <td>IL</td>\n",
              "      <td>60603.0</td>\n",
              "      <td>2017-08-14</td>\n",
              "      <td>Canvass</td>\n",
              "      <td>34. FLOORS: CONSTRUCTED PER CODE, CLEANED, GOO...</td>\n",
              "      <td>41.881807</td>\n",
              "      <td>-87.629543</td>\n",
              "      <td>(-87.62954311539407, 41.88180696006542)</td>\n",
              "      <td>0</td>\n",
              "    </tr>\n",
              "    <tr>\n",
              "      <th>2</th>\n",
              "      <td>1591748</td>\n",
              "      <td>JAFFA BAGELS</td>\n",
              "      <td>JAFFA BAGELS</td>\n",
              "      <td>2278918.0</td>\n",
              "      <td>Restaurant</td>\n",
              "      <td>Risk 1 (High)</td>\n",
              "      <td>225 N MICHIGAN AVE</td>\n",
              "      <td>CHICAGO</td>\n",
              "      <td>IL</td>\n",
              "      <td>60601.0</td>\n",
              "      <td>2015-12-15</td>\n",
              "      <td>Complaint</td>\n",
              "      <td>30. FOOD IN ORIGINAL CONTAINER, PROPERLY LABEL...</td>\n",
              "      <td>41.886377</td>\n",
              "      <td>-87.624382</td>\n",
              "      <td>(-87.62438167043969, 41.88637740620821)</td>\n",
              "      <td>0</td>\n",
              "    </tr>\n",
              "    <tr>\n",
              "      <th>3</th>\n",
              "      <td>1230035</td>\n",
              "      <td>FRANKS 'N' DAWGS</td>\n",
              "      <td>FRANKS 'N' DAWGS</td>\n",
              "      <td>2094329.0</td>\n",
              "      <td>Restaurant</td>\n",
              "      <td>Risk 1 (High)</td>\n",
              "      <td>1863 N CLYBOURN AVE</td>\n",
              "      <td>CHICAGO</td>\n",
              "      <td>IL</td>\n",
              "      <td>60614.0</td>\n",
              "      <td>2012-07-10</td>\n",
              "      <td>Canvass</td>\n",
              "      <td>33. FOOD AND NON-FOOD CONTACT EQUIPMENT UTENSI...</td>\n",
              "      <td>41.914990</td>\n",
              "      <td>-87.654994</td>\n",
              "      <td>(-87.65499361162448, 41.91498953039437)</td>\n",
              "      <td>0</td>\n",
              "    </tr>\n",
              "    <tr>\n",
              "      <th>4</th>\n",
              "      <td>1228186</td>\n",
              "      <td>SOUTH COAST</td>\n",
              "      <td>SOUTH COAST SUSHI</td>\n",
              "      <td>1817424.0</td>\n",
              "      <td>Restaurant</td>\n",
              "      <td>Risk 1 (High)</td>\n",
              "      <td>1700 S MICHIGAN AVE</td>\n",
              "      <td>CHICAGO</td>\n",
              "      <td>IL</td>\n",
              "      <td>60616.0</td>\n",
              "      <td>2013-09-20</td>\n",
              "      <td>Canvass</td>\n",
              "      <td>NaN</td>\n",
              "      <td>41.858996</td>\n",
              "      <td>-87.624106</td>\n",
              "      <td>(-87.62410566978502, 41.85899630014676)</td>\n",
              "      <td>0</td>\n",
              "    </tr>\n",
              "  </tbody>\n",
              "</table>\n",
              "</div>\n",
              "      <button class=\"colab-df-convert\" onclick=\"convertToInteractive('df-a4a55a9f-cabc-4088-9e46-ad1f4b534765')\"\n",
              "              title=\"Convert this dataframe to an interactive table.\"\n",
              "              style=\"display:none;\">\n",
              "        \n",
              "  <svg xmlns=\"http://www.w3.org/2000/svg\" height=\"24px\"viewBox=\"0 0 24 24\"\n",
              "       width=\"24px\">\n",
              "    <path d=\"M0 0h24v24H0V0z\" fill=\"none\"/>\n",
              "    <path d=\"M18.56 5.44l.94 2.06.94-2.06 2.06-.94-2.06-.94-.94-2.06-.94 2.06-2.06.94zm-11 1L8.5 8.5l.94-2.06 2.06-.94-2.06-.94L8.5 2.5l-.94 2.06-2.06.94zm10 10l.94 2.06.94-2.06 2.06-.94-2.06-.94-.94-2.06-.94 2.06-2.06.94z\"/><path d=\"M17.41 7.96l-1.37-1.37c-.4-.4-.92-.59-1.43-.59-.52 0-1.04.2-1.43.59L10.3 9.45l-7.72 7.72c-.78.78-.78 2.05 0 2.83L4 21.41c.39.39.9.59 1.41.59.51 0 1.02-.2 1.41-.59l7.78-7.78 2.81-2.81c.8-.78.8-2.07 0-2.86zM5.41 20L4 18.59l7.72-7.72 1.47 1.35L5.41 20z\"/>\n",
              "  </svg>\n",
              "      </button>\n",
              "      \n",
              "  <style>\n",
              "    .colab-df-container {\n",
              "      display:flex;\n",
              "      flex-wrap:wrap;\n",
              "      gap: 12px;\n",
              "    }\n",
              "\n",
              "    .colab-df-convert {\n",
              "      background-color: #E8F0FE;\n",
              "      border: none;\n",
              "      border-radius: 50%;\n",
              "      cursor: pointer;\n",
              "      display: none;\n",
              "      fill: #1967D2;\n",
              "      height: 32px;\n",
              "      padding: 0 0 0 0;\n",
              "      width: 32px;\n",
              "    }\n",
              "\n",
              "    .colab-df-convert:hover {\n",
              "      background-color: #E2EBFA;\n",
              "      box-shadow: 0px 1px 2px rgba(60, 64, 67, 0.3), 0px 1px 3px 1px rgba(60, 64, 67, 0.15);\n",
              "      fill: #174EA6;\n",
              "    }\n",
              "\n",
              "    [theme=dark] .colab-df-convert {\n",
              "      background-color: #3B4455;\n",
              "      fill: #D2E3FC;\n",
              "    }\n",
              "\n",
              "    [theme=dark] .colab-df-convert:hover {\n",
              "      background-color: #434B5C;\n",
              "      box-shadow: 0px 1px 3px 1px rgba(0, 0, 0, 0.15);\n",
              "      filter: drop-shadow(0px 1px 2px rgba(0, 0, 0, 0.3));\n",
              "      fill: #FFFFFF;\n",
              "    }\n",
              "  </style>\n",
              "\n",
              "      <script>\n",
              "        const buttonEl =\n",
              "          document.querySelector('#df-a4a55a9f-cabc-4088-9e46-ad1f4b534765 button.colab-df-convert');\n",
              "        buttonEl.style.display =\n",
              "          google.colab.kernel.accessAllowed ? 'block' : 'none';\n",
              "\n",
              "        async function convertToInteractive(key) {\n",
              "          const element = document.querySelector('#df-a4a55a9f-cabc-4088-9e46-ad1f4b534765');\n",
              "          const dataTable =\n",
              "            await google.colab.kernel.invokeFunction('convertToInteractive',\n",
              "                                                     [key], {});\n",
              "          if (!dataTable) return;\n",
              "\n",
              "          const docLinkHtml = 'Like what you see? Visit the ' +\n",
              "            '<a target=\"_blank\" href=https://colab.research.google.com/notebooks/data_table.ipynb>data table notebook</a>'\n",
              "            + ' to learn more about interactive tables.';\n",
              "          element.innerHTML = '';\n",
              "          dataTable['output_type'] = 'display_data';\n",
              "          await google.colab.output.renderOutput(dataTable, element);\n",
              "          const docLink = document.createElement('div');\n",
              "          docLink.innerHTML = docLinkHtml;\n",
              "          element.appendChild(docLink);\n",
              "        }\n",
              "      </script>\n",
              "    </div>\n",
              "  </div>\n",
              "  "
            ]
          },
          "metadata": {},
          "execution_count": 3
        }
      ],
      "source": [
        "train.head()"
      ]
    },
    {
      "cell_type": "markdown",
      "id": "6b9c8083",
      "metadata": {
        "deletable": false,
        "editable": false,
        "nbgrader": {
          "cell_type": "markdown",
          "checksum": "96dab9d3b391906d6e6e33edcf985701",
          "grade": false,
          "grade_id": "cell-f75742bcbc000238",
          "locked": true,
          "schema_version": 3,
          "solution": false,
          "task": false
        },
        "id": "6b9c8083"
      },
      "source": [
        "# Part 1 - Data Preprocessing"
      ]
    },
    {
      "cell_type": "code",
      "execution_count": 4,
      "id": "a28fd02f",
      "metadata": {
        "deletable": false,
        "editable": false,
        "nbgrader": {
          "cell_type": "code",
          "checksum": "f69ae8b385afc0be745ee2a15a1ebb42",
          "grade": false,
          "grade_id": "cell-13f1ea7d0f6248a1",
          "locked": true,
          "schema_version": 3,
          "solution": false,
          "task": false
        },
        "id": "a28fd02f",
        "outputId": "33ab5154-8895-45c4-de42-63630b6ce3d0",
        "colab": {
          "base_uri": "https://localhost:8080/"
        }
      },
      "outputs": [
        {
          "output_type": "execute_result",
          "data": {
            "text/plain": [
              "0        0\n",
              "1        0\n",
              "2        0\n",
              "3        0\n",
              "4        0\n",
              "        ..\n",
              "19995    0\n",
              "19996    0\n",
              "19997    0\n",
              "19998    0\n",
              "19999    0\n",
              "Name: Inspection Fail, Length: 20000, dtype: int64"
            ]
          },
          "metadata": {},
          "execution_count": 4
        }
      ],
      "source": [
        "test[\"Inspection Fail\"]"
      ]
    },
    {
      "cell_type": "markdown",
      "id": "a94d9ce7",
      "metadata": {
        "deletable": false,
        "editable": false,
        "nbgrader": {
          "cell_type": "markdown",
          "checksum": "394b74d7af30cee0e869e38eb5dcae91",
          "grade": false,
          "grade_id": "cell-2e2530fc1a4e5a3b",
          "locked": true,
          "schema_version": 3,
          "solution": false,
          "task": false
        },
        "id": "a94d9ce7"
      },
      "source": [
        "## 컬럼 설명\n",
        "\n",
        "- **DBA**: 설립 시 서류에 등록한 이름\n",
        "\n",
        "- **AKA**: 대중들에게 알려져 있는 상표 이름\n",
        "\n",
        "- **License number**: 사업자 고유번호 (사업자등록번호)\n",
        "\n",
        "- **Type of facility**: 매장 업종 \n",
        "\n",
        "    bakery, banquet hall, candy store, caterer, coffee shop, day care center (for ages less than 2), day care center (for ages 2 – 6), day care center (combo, for ages less than 2 and 2-6 combined), gas station, Golden Diner, grocery store, hospital, long term care center(nursing home), liquor store, mobile food dispenser, restaurant, paleteria, school, shelter, tavern, social club, wholesaler, or Wrigley Field Rooftop.\n",
        "    \n",
        "    \n",
        "- **Risk**: 위험 시설 분류 카테고리 : 국민 건강에 악영향을 미칠 위험이 얼마나 높은 시설인가? (1이 가장 높고, 3이 가장 낮은 카테고리임. 위험 1 시설이 검사 빈도가 높은 편이고, 위험 3 시설이 검사 빈도가 낮은 편)\n",
        "\n",
        "- **Address, City, State, Zip**: 해당 시설이 위치한 주소 (Full Address)\n",
        "\n",
        "- **Inspection date**: 검사 날짜. (어떤 사업장은 동일한 사업장명에 각기 다른 검사 날짜를 가지고 있을 수도 있음)\n",
        "\n",
        "- **Inspection type**: 검사 유형. (각 이유에 대해 Re-inspection이 붙으면 재검사한 것)\n",
        "    - Canvass : 시설의 위험도와 관련된 가장 이란적인 유형의 검사. \n",
        "    - Consultation : 개업 전 소유자의 요청으로 검사를 수행.\n",
        "    - Complaint : 민원 사항 발생 시 검사를 수행할 때.\n",
        "    - License : 사업장의 영업허가서 발금 요건으로 검사를 할 때.\n",
        "    - Suspect Food Poisoning : 사업장에서 식사 (민원 처리 된 특정 유형의 검사)로 인해 병에 걸렸다고 주장하는 1인 이상에게 검사를 할 때.\n",
        "    - Task-force Inspection : 술집 또는 주점의 검사가 수행된 경우\n",
        "    \n",
        "- **Inspection Fail**: 검사 결과(불합격 여부)\n",
        "    - 실패를 받는다고 해서 반드시 사업장 면허가 정지되는 것은 아님.\n",
        "    \n",
        "- **Violations**: 위반사항. 위반사항을 지칭하는 고유번호와 위반한 사항 및 시정 요건에 대한 설명이 주어짐."
      ]
    },
    {
      "cell_type": "markdown",
      "id": "317a659c",
      "metadata": {
        "deletable": false,
        "editable": false,
        "nbgrader": {
          "cell_type": "markdown",
          "checksum": "2baf983e63c25c7701d1c002ceb81dfa",
          "grade": false,
          "grade_id": "cell-78b3370c9bae8d7c",
          "locked": true,
          "schema_version": 3,
          "solution": false,
          "task": false
        },
        "id": "317a659c"
      },
      "source": [
        "## 1.1 데이터셋을 파악하기 위한 EDA를 진행하세요.\n",
        "- 아래 기본적인 EDA 과정을 위해 필요한 몇몇 함수들을 완성하세요.\n",
        "- 함수의 기능 및 입출력 형태는 함수 내의 주석을 따르세요.\n",
        "- **아래 EDA 과정만으로는 데이터에 대한 통찰을 얻기에 부족합니다. 추가로 본인만의 EDA 과정을 꼭 수행해 보세요.**"
      ]
    },
    {
      "cell_type": "code",
      "execution_count": 16,
      "id": "9fd4bab4",
      "metadata": {
        "deletable": false,
        "nbgrader": {
          "cell_type": "code",
          "checksum": "befe3fdc9607cb8a4c23aa404247badc",
          "grade": false,
          "grade_id": "1-1_feature",
          "locked": false,
          "schema_version": 3,
          "solution": true,
          "task": false
        },
        "id": "9fd4bab4"
      },
      "outputs": [],
      "source": [
        "def analysis_on_features(df):\n",
        "    \"\"\"\n",
        "    - eda_results라고 하는 새로운 데이터프레임에 아래의 정보들을 담아 반환하세요.\n",
        "        - null_count: 입력 Pandas DataFrame의 column별 결측치의 수\n",
        "        - num_unique_values: 입력 Pandas DataFrame의 unique한 값의 수\n",
        "        - eda_results는 df의 column명을 index로 사용하는 데이터프레임입니다.\n",
        "\n",
        "    - 데이터프레임에 중복되는 row가 있지는 않나요?\n",
        "        - duplicated_rows에 중복되는 row 수를 담아 반환하세요.\n",
        "\n",
        "    \"\"\"\n",
        "    eda_results = pd.DataFrame()\n",
        "    eda_results[\"null_count\"] = None\n",
        "    eda_results[\"num_unique_values\"] = None\n",
        "    duplicated_rows = -1\n",
        "\n",
        "    # YOUR CODE HERE\n",
        "    eda_results['null_count'] = df.isnull().sum()\n",
        "    eda_results['num_unique_values'] = df.nunique()\n",
        "    duplicated_rows = df.duplicated().sum()\n",
        "    # YOUR CODE ENDS HERE\n",
        "\n",
        "    return eda_results, duplicated_rows"
      ]
    },
    {
      "cell_type": "code",
      "execution_count": 18,
      "id": "d91dddb4",
      "metadata": {
        "deletable": false,
        "editable": false,
        "nbgrader": {
          "cell_type": "code",
          "checksum": "7d23a59e9adf64e5bde344e5780b2384",
          "grade": false,
          "grade_id": "cell-f0a97a28a84cc7b8",
          "locked": true,
          "schema_version": 3,
          "solution": false,
          "task": false
        },
        "id": "d91dddb4"
      },
      "outputs": [],
      "source": [
        "train_results, train_duplicated_rows = analysis_on_features(train)\n",
        "test_results, test_duplicated_rows = analysis_on_features(test)"
      ]
    },
    {
      "cell_type": "code",
      "execution_count": 19,
      "id": "6d48003a",
      "metadata": {
        "deletable": false,
        "editable": false,
        "nbgrader": {
          "cell_type": "code",
          "checksum": "b4ffc670980b6aa79fc60e0e850ba149",
          "grade": true,
          "grade_id": "1-1_feature_test",
          "locked": true,
          "points": 1,
          "schema_version": 3,
          "solution": false,
          "task": false
        },
        "id": "6d48003a",
        "outputId": "ac7f5419-25cf-4c00-b725-cc53a979f965",
        "colab": {
          "base_uri": "https://localhost:8080/"
        }
      },
      "outputs": [
        {
          "output_type": "stream",
          "name": "stdout",
          "text": [
            "Train df: duplicated? = 0\n",
            "                  null_count  num_unique_values\n",
            "Inspection ID             0              60000\n",
            "DBA Name                  0              20175\n",
            "AKA Name                717              19209\n",
            "License #                 4              25123\n",
            "Facility Type          1427                366\n",
            "Risk                     24                  4\n",
            "Address                   0              15244\n",
            "City                     45                 39\n",
            "State                    15                  3\n",
            "Zip                      13                 86\n",
            "Inspection Date           0               2667\n",
            "Inspection Type           0                 55\n",
            "Violations            15870              44035\n",
            "Latitude                178              14533\n",
            "Longitude               178              14533\n",
            "Location                178              14533\n",
            "Inspection Fail           0                  2 \n",
            "\n",
            "\n",
            "Test df: duplicated? = 0\n",
            "                  null_count  num_unique_values\n",
            "Inspection ID             0              20000\n",
            "DBA Name                  0              11690\n",
            "AKA Name                235              11222\n",
            "License #                 0              13637\n",
            "Facility Type           452                215\n",
            "Risk                      2                  4\n",
            "Address                   0              10357\n",
            "City                     11                 21\n",
            "State                     3                  1\n",
            "Zip                       4                 73\n",
            "Inspection Date           0               2609\n",
            "Inspection Type           0                 33\n",
            "Violations             5336              14654\n",
            "Latitude                 60              10074\n",
            "Longitude                60              10074\n",
            "Location                 60              10074\n",
            "Inspection Fail           0                  2\n"
          ]
        }
      ],
      "source": [
        "print(f\"Train df: duplicated? = {train_duplicated_rows}\\n\", train_results, \"\\n\\n\")\n",
        "print(f\"Test df: duplicated? = {test_duplicated_rows}\\n\", test_results)"
      ]
    },
    {
      "cell_type": "code",
      "execution_count": 29,
      "id": "c49c2c62",
      "metadata": {
        "deletable": false,
        "nbgrader": {
          "cell_type": "code",
          "checksum": "9cfa61c85aabf052efb56e5224bde132",
          "grade": false,
          "grade_id": "1-1_target",
          "locked": false,
          "schema_version": 3,
          "solution": true,
          "task": false
        },
        "id": "c49c2c62"
      },
      "outputs": [],
      "source": [
        "import matplotlib.pyplot as plt\n",
        "\n",
        "\n",
        "def analysis_on_target(df):\n",
        "    \"\"\"\n",
        "    n_zero_label, n_one_label에\n",
        "    각각 label이 0인 데이터의 수, label이 1인 데이터의 수를 담아 반환하세요.\n",
        "    \"\"\"\n",
        "    n_zero_label, n_one_label = -1, -1\n",
        "\n",
        "    # YOUR CODE HERE\n",
        "    n_zero_label = df[df['Inspection Fail'] == 1]['Inspection Fail'].count()\n",
        "    n_one_label = df[df['Inspection Fail'] == 0]['Inspection Fail'].count()\n",
        "    # YOUR CODE ENDS HERE\n",
        "\n",
        "    plt.pie(\n",
        "        (n_zero_label, n_one_label),\n",
        "        labels=(0, 1),\n",
        "        autopct=\"%.2f%%\",\n",
        "        shadow=True,\n",
        "        startangle=90,\n",
        "    )\n",
        "    plt.title(\"Target: Inspection Fail\", size=15)\n",
        "    plt.show()\n",
        "\n",
        "    return n_zero_label, n_one_label"
      ]
    },
    {
      "cell_type": "code",
      "execution_count": 30,
      "id": "10749633",
      "metadata": {
        "deletable": false,
        "editable": false,
        "nbgrader": {
          "cell_type": "code",
          "checksum": "f69ff1fa2d973de521389cb378afe6cc",
          "grade": true,
          "grade_id": "1-1_target_test",
          "locked": true,
          "points": 0.5,
          "schema_version": 3,
          "solution": false,
          "task": false
        },
        "id": "10749633",
        "outputId": "497c466e-52f1-4482-d0d8-f282af172c98",
        "colab": {
          "base_uri": "https://localhost:8080/",
          "height": 515
        }
      },
      "outputs": [
        {
          "output_type": "display_data",
          "data": {
            "text/plain": [
              "<Figure size 432x288 with 1 Axes>"
            ],
            "image/png": "[encoded data removed]"
          },
          "metadata": {}
        },
        {
          "output_type": "display_data",
          "data": {
            "text/plain": [
              "<Figure size 432x288 with 1 Axes>"
            ],
            "image/png": "[encoded data removed]"
          },
          "metadata": {}
        }
      ],
      "source": [
        "train_label_count = analysis_on_target(train)\n",
        "test_label_count = analysis_on_target(test)"
      ]
    },
    {
      "cell_type": "code",
      "execution_count": null,
      "id": "89890e8d",
      "metadata": {
        "deletable": false,
        "editable": false,
        "nbgrader": {
          "cell_type": "code",
          "checksum": "2a594e1d9691d201063cdb75efda797a",
          "grade": false,
          "grade_id": "cell-838a2646713d5494",
          "locked": true,
          "schema_version": 3,
          "solution": false,
          "task": false
        },
        "id": "89890e8d"
      },
      "outputs": [],
      "source": [
        "print(\n",
        "    \"\"\"\n",
        "이 셀에서 추가로 데이터를 자유롭게 분석해 보세요.\n",
        "- 이 셀에서의 작업은 채점하지 않습니다.\n",
        "- 채점 시 이 셀에서 작업한 내용은 전부 무시됩니다.\n",
        "- 제출 전에 이 셀의 내용을 모두 주석 처리한 후 모든 코드가 순차적으로 오류 없이 실행되는지 꼭 확인하세요.\n",
        "\"\"\"\n",
        ")"
      ]
    },
    {
      "cell_type": "markdown",
      "id": "4b7abb2a",
      "metadata": {
        "deletable": false,
        "editable": false,
        "nbgrader": {
          "cell_type": "markdown",
          "checksum": "cbc8a64e876a1cc768c20200e3170928",
          "grade": false,
          "grade_id": "cell-379b9354bac4ee0b",
          "locked": true,
          "schema_version": 3,
          "solution": false,
          "task": false
        },
        "id": "4b7abb2a"
      },
      "source": [
        "## 1.2 EDA의 결과를 토대로 Feature Engineering 및 Preprocessing을 수행하는 함수 `eda_process`를 작성하세요.\n",
        "\n",
        "- 결측치를 적절히 처리하세요.\n",
        "    - **Row를 drop하지 말고, 적절한 값으로 채워넣어 보세요.**\n",
        "    - 전처리가 완료된 train, test 데이터의 크기는 각각 **59947, 19994**입니다.\n",
        "- 새로운 feature를 만드는 작업뿐만이 아니라, 필요한 feature가 적절한 데이터 타입을 가지고 있지 않다면 변환합니다.\n",
        "- 시간 배분을 고려햐여 적절한 수준으로 수행하세요!"
      ]
    },
    {
      "cell_type": "code",
      "source": [
        "train"
      ],
      "metadata": {
        "id": "pw4MlX4_N0YB",
        "outputId": "a1c913db-278a-41ab-d992-de151e642209",
        "colab": {
          "base_uri": "https://localhost:8080/",
          "height": 1000
        }
      },
      "id": "pw4MlX4_N0YB",
      "execution_count": 34,
      "outputs": [
        {
          "output_type": "execute_result",
          "data": {
            "text/plain": [
              "       Inspection ID                            DBA Name  \\\n",
              "0            2050629                MY SWEET STATION INC   \n",
              "1            2078428                            OUTTAKES   \n",
              "2            1591748                        JAFFA BAGELS   \n",
              "3            1230035                    FRANKS 'N' DAWGS   \n",
              "4            1228186                         SOUTH COAST   \n",
              "...              ...                                 ...   \n",
              "59995        2316057  LITTLE GENIUS COMMUNITY DAYCARE 11   \n",
              "59996        1170444              A J FOOD & LIQUOR INC.   \n",
              "59997        1098317             PITCHFORK FOOD & SALOON   \n",
              "59998        1632103                     DATA RESTAURANT   \n",
              "59999        2293426                             THREE D   \n",
              "\n",
              "                              AKA Name  License #          Facility Type  \\\n",
              "0                     MY SWEET STATION  2327223.0             Restaurant   \n",
              "1                            RED MANGO  2125004.0             Restaurant   \n",
              "2                         JAFFA BAGELS  2278918.0             Restaurant   \n",
              "3                     FRANKS 'N' DAWGS  2094329.0             Restaurant   \n",
              "4                    SOUTH COAST SUSHI  1817424.0             Restaurant   \n",
              "...                                ...        ...                    ...   \n",
              "59995  LITTLE GENIUS COMMUNITY DAYCARE  2359451.0  Daycare (2 - 6 Years)   \n",
              "59996              FERAS FOOD & LIQUOR  2157174.0          Grocery Store   \n",
              "59997          PITCHFORK FOOD & SALOON  1271831.0             Restaurant   \n",
              "59998          DAATA DARBAR RESTAURANT  2446971.0             Restaurant   \n",
              "59999           THREE D'S JERK CHICKEN  1172336.0             Restaurant   \n",
              "\n",
              "                  Risk                      Address     City State      Zip  \\\n",
              "0        Risk 1 (High)          2511 N LINCOLN AVE   CHICAGO    IL  60614.0   \n",
              "1      Risk 2 (Medium)         10 S DEARBORN ST FL   CHICAGO    IL  60603.0   \n",
              "2        Risk 1 (High)          225 N MICHIGAN AVE   CHICAGO    IL  60601.0   \n",
              "3        Risk 1 (High)         1863 N CLYBOURN AVE   CHICAGO    IL  60614.0   \n",
              "4        Risk 1 (High)         1700 S MICHIGAN AVE   CHICAGO    IL  60616.0   \n",
              "...                ...                          ...      ...   ...      ...   \n",
              "59995    Risk 1 (High)             1000 W 103RD ST   CHICAGO    IL  60643.0   \n",
              "59996     Risk 3 (Low)            4265 W CERMAK RD   CHICAGO    IL  60623.0   \n",
              "59997    Risk 1 (High)  2922-2924 W IRVING PARK RD   CHICAGO    IL  60618.0   \n",
              "59998    Risk 1 (High)            2306 W DEVON AVE   CHICAGO    IL  60659.0   \n",
              "59999    Risk 1 (High)            5317 W North AVE   CHICAGO    IL  60639.0   \n",
              "\n",
              "      Inspection Date        Inspection Type  \\\n",
              "0          2017-05-18                Canvass   \n",
              "1          2017-08-14                Canvass   \n",
              "2          2015-12-15              Complaint   \n",
              "3          2012-07-10                Canvass   \n",
              "4          2013-09-20                Canvass   \n",
              "...               ...                    ...   \n",
              "59995      2019-10-18                License   \n",
              "59996      2012-08-30  License Re-Inspection   \n",
              "59997      2012-04-03   Short Form Complaint   \n",
              "59998      2016-02-23                License   \n",
              "59999      2019-06-12  Canvass Re-Inspection   \n",
              "\n",
              "                                              Violations   Latitude  \\\n",
              "0                                                    NaN  41.927577   \n",
              "1      34. FLOORS: CONSTRUCTED PER CODE, CLEANED, GOO...  41.881807   \n",
              "2      30. FOOD IN ORIGINAL CONTAINER, PROPERLY LABEL...  41.886377   \n",
              "3      33. FOOD AND NON-FOOD CONTACT EQUIPMENT UTENSI...  41.914990   \n",
              "4                                                    NaN  41.858996   \n",
              "...                                                  ...        ...   \n",
              "59995  55. PHYSICAL FACILITIES INSTALLED, MAINTAINED ...  41.706982   \n",
              "59996  34. FLOORS: CONSTRUCTED PER CODE, CLEANED, GOO...  41.851324   \n",
              "59997  33. FOOD AND NON-FOOD CONTACT EQUIPMENT UTENSI...  41.954067   \n",
              "59998                                                NaN  41.997876   \n",
              "59999  3. MANAGEMENT, FOOD EMPLOYEE AND CONDITIONAL E...  41.909353   \n",
              "\n",
              "       Longitude                                  Location  Inspection Fail  \n",
              "0     -87.651528   (-87.65152817242594, 41.92757677830966)                0  \n",
              "1     -87.629543   (-87.62954311539407, 41.88180696006542)                0  \n",
              "2     -87.624382   (-87.62438167043969, 41.88637740620821)                0  \n",
              "3     -87.654994   (-87.65499361162448, 41.91498953039437)                0  \n",
              "4     -87.624106   (-87.62410566978502, 41.85899630014676)                0  \n",
              "...          ...                                       ...              ...  \n",
              "59995 -87.647758  (-87.64775773310967, 41.706982259265786)                0  \n",
              "59996 -87.732192   (-87.73219217780218, 41.85132422344611)                0  \n",
              "59997 -87.701753  (-87.70175255165984, 41.954066875501354)                0  \n",
              "59998 -87.687764    (-87.6877635508729, 41.99787636318572)                0  \n",
              "59999 -87.758800   (-87.7587999518901, 41.909352603305415)                0  \n",
              "\n",
              "[60000 rows x 17 columns]"
            ],
            "text/html": [
              "\n",
              "  <div id=\"df-039b12ae-139a-44bd-8f62-ea1f8355aaa9\">\n",
              "    <div class=\"colab-df-container\">\n",
              "      <div>\n",
              "<style scoped>\n",
              "    .dataframe tbody tr th:only-of-type {\n",
              "        vertical-align: middle;\n",
              "    }\n",
              "\n",
              "    .dataframe tbody tr th {\n",
              "        vertical-align: top;\n",
              "    }\n",
              "\n",
              "    .dataframe thead th {\n",
              "        text-align: right;\n",
              "    }\n",
              "</style>\n",
              "<table border=\"1\" class=\"dataframe\">\n",
              "  <thead>\n",
              "    <tr style=\"text-align: right;\">\n",
              "      <th></th>\n",
              "      <th>Inspection ID</th>\n",
              "      <th>DBA Name</th>\n",
              "      <th>AKA Name</th>\n",
              "      <th>License #</th>\n",
              "      <th>Facility Type</th>\n",
              "      <th>Risk</th>\n",
              "      <th>Address</th>\n",
              "      <th>City</th>\n",
              "      <th>State</th>\n",
              "      <th>Zip</th>\n",
              "      <th>Inspection Date</th>\n",
              "      <th>Inspection Type</th>\n",
              "      <th>Violations</th>\n",
              "      <th>Latitude</th>\n",
              "      <th>Longitude</th>\n",
              "      <th>Location</th>\n",
              "      <th>Inspection Fail</th>\n",
              "    </tr>\n",
              "  </thead>\n",
              "  <tbody>\n",
              "    <tr>\n",
              "      <th>0</th>\n",
              "      <td>2050629</td>\n",
              "      <td>MY SWEET STATION INC</td>\n",
              "      <td>MY SWEET STATION</td>\n",
              "      <td>2327223.0</td>\n",
              "      <td>Restaurant</td>\n",
              "      <td>Risk 1 (High)</td>\n",
              "      <td>2511 N LINCOLN AVE</td>\n",
              "      <td>CHICAGO</td>\n",
              "      <td>IL</td>\n",
              "      <td>60614.0</td>\n",
              "      <td>2017-05-18</td>\n",
              "      <td>Canvass</td>\n",
              "      <td>NaN</td>\n",
              "      <td>41.927577</td>\n",
              "      <td>-87.651528</td>\n",
              "      <td>(-87.65152817242594, 41.92757677830966)</td>\n",
              "      <td>0</td>\n",
              "    </tr>\n",
              "    <tr>\n",
              "      <th>1</th>\n",
              "      <td>2078428</td>\n",
              "      <td>OUTTAKES</td>\n",
              "      <td>RED MANGO</td>\n",
              "      <td>2125004.0</td>\n",
              "      <td>Restaurant</td>\n",
              "      <td>Risk 2 (Medium)</td>\n",
              "      <td>10 S DEARBORN ST FL</td>\n",
              "      <td>CHICAGO</td>\n",
              "      <td>IL</td>\n",
              "      <td>60603.0</td>\n",
              "      <td>2017-08-14</td>\n",
              "      <td>Canvass</td>\n",
              "      <td>34. FLOORS: CONSTRUCTED PER CODE, CLEANED, GOO...</td>\n",
              "      <td>41.881807</td>\n",
              "      <td>-87.629543</td>\n",
              "      <td>(-87.62954311539407, 41.88180696006542)</td>\n",
              "      <td>0</td>\n",
              "    </tr>\n",
              "    <tr>\n",
              "      <th>2</th>\n",
              "      <td>1591748</td>\n",
              "      <td>JAFFA BAGELS</td>\n",
              "      <td>JAFFA BAGELS</td>\n",
              "      <td>2278918.0</td>\n",
              "      <td>Restaurant</td>\n",
              "      <td>Risk 1 (High)</td>\n",
              "      <td>225 N MICHIGAN AVE</td>\n",
              "      <td>CHICAGO</td>\n",
              "      <td>IL</td>\n",
              "      <td>60601.0</td>\n",
              "      <td>2015-12-15</td>\n",
              "      <td>Complaint</td>\n",
              "      <td>30. FOOD IN ORIGINAL CONTAINER, PROPERLY LABEL...</td>\n",
              "      <td>41.886377</td>\n",
              "      <td>-87.624382</td>\n",
              "      <td>(-87.62438167043969, 41.88637740620821)</td>\n",
              "      <td>0</td>\n",
              "    </tr>\n",
              "    <tr>\n",
              "      <th>3</th>\n",
              "      <td>1230035</td>\n",
              "      <td>FRANKS 'N' DAWGS</td>\n",
              "      <td>FRANKS 'N' DAWGS</td>\n",
              "      <td>2094329.0</td>\n",
              "      <td>Restaurant</td>\n",
              "      <td>Risk 1 (High)</td>\n",
              "      <td>1863 N CLYBOURN AVE</td>\n",
              "      <td>CHICAGO</td>\n",
              "      <td>IL</td>\n",
              "      <td>60614.0</td>\n",
              "      <td>2012-07-10</td>\n",
              "      <td>Canvass</td>\n",
              "      <td>33. FOOD AND NON-FOOD CONTACT EQUIPMENT UTENSI...</td>\n",
              "      <td>41.914990</td>\n",
              "      <td>-87.654994</td>\n",
              "      <td>(-87.65499361162448, 41.91498953039437)</td>\n",
              "      <td>0</td>\n",
              "    </tr>\n",
              "    <tr>\n",
              "      <th>4</th>\n",
              "      <td>1228186</td>\n",
              "      <td>SOUTH COAST</td>\n",
              "      <td>SOUTH COAST SUSHI</td>\n",
              "      <td>1817424.0</td>\n",
              "      <td>Restaurant</td>\n",
              "      <td>Risk 1 (High)</td>\n",
              "      <td>1700 S MICHIGAN AVE</td>\n",
              "      <td>CHICAGO</td>\n",
              "      <td>IL</td>\n",
              "      <td>60616.0</td>\n",
              "      <td>2013-09-20</td>\n",
              "      <td>Canvass</td>\n",
              "      <td>NaN</td>\n",
              "      <td>41.858996</td>\n",
              "      <td>-87.624106</td>\n",
              "      <td>(-87.62410566978502, 41.85899630014676)</td>\n",
              "      <td>0</td>\n",
              "    </tr>\n",
              "    <tr>\n",
              "      <th>...</th>\n",
              "      <td>...</td>\n",
              "      <td>...</td>\n",
              "      <td>...</td>\n",
              "      <td>...</td>\n",
              "      <td>...</td>\n",
              "      <td>...</td>\n",
              "      <td>...</td>\n",
              "      <td>...</td>\n",
              "      <td>...</td>\n",
              "      <td>...</td>\n",
              "      <td>...</td>\n",
              "      <td>...</td>\n",
              "      <td>...</td>\n",
              "      <td>...</td>\n",
              "      <td>...</td>\n",
              "      <td>...</td>\n",
              "      <td>...</td>\n",
              "    </tr>\n",
              "    <tr>\n",
              "      <th>59995</th>\n",
              "      <td>2316057</td>\n",
              "      <td>LITTLE GENIUS COMMUNITY DAYCARE 11</td>\n",
              "      <td>LITTLE GENIUS COMMUNITY DAYCARE</td>\n",
              "      <td>2359451.0</td>\n",
              "      <td>Daycare (2 - 6 Years)</td>\n",
              "      <td>Risk 1 (High)</td>\n",
              "      <td>1000 W 103RD ST</td>\n",
              "      <td>CHICAGO</td>\n",
              "      <td>IL</td>\n",
              "      <td>60643.0</td>\n",
              "      <td>2019-10-18</td>\n",
              "      <td>License</td>\n",
              "      <td>55. PHYSICAL FACILITIES INSTALLED, MAINTAINED ...</td>\n",
              "      <td>41.706982</td>\n",
              "      <td>-87.647758</td>\n",
              "      <td>(-87.64775773310967, 41.706982259265786)</td>\n",
              "      <td>0</td>\n",
              "    </tr>\n",
              "    <tr>\n",
              "      <th>59996</th>\n",
              "      <td>1170444</td>\n",
              "      <td>A J FOOD &amp; LIQUOR INC.</td>\n",
              "      <td>FERAS FOOD &amp; LIQUOR</td>\n",
              "      <td>2157174.0</td>\n",
              "      <td>Grocery Store</td>\n",
              "      <td>Risk 3 (Low)</td>\n",
              "      <td>4265 W CERMAK RD</td>\n",
              "      <td>CHICAGO</td>\n",
              "      <td>IL</td>\n",
              "      <td>60623.0</td>\n",
              "      <td>2012-08-30</td>\n",
              "      <td>License Re-Inspection</td>\n",
              "      <td>34. FLOORS: CONSTRUCTED PER CODE, CLEANED, GOO...</td>\n",
              "      <td>41.851324</td>\n",
              "      <td>-87.732192</td>\n",
              "      <td>(-87.73219217780218, 41.85132422344611)</td>\n",
              "      <td>0</td>\n",
              "    </tr>\n",
              "    <tr>\n",
              "      <th>59997</th>\n",
              "      <td>1098317</td>\n",
              "      <td>PITCHFORK FOOD &amp; SALOON</td>\n",
              "      <td>PITCHFORK FOOD &amp; SALOON</td>\n",
              "      <td>1271831.0</td>\n",
              "      <td>Restaurant</td>\n",
              "      <td>Risk 1 (High)</td>\n",
              "      <td>2922-2924 W IRVING PARK RD</td>\n",
              "      <td>CHICAGO</td>\n",
              "      <td>IL</td>\n",
              "      <td>60618.0</td>\n",
              "      <td>2012-04-03</td>\n",
              "      <td>Short Form Complaint</td>\n",
              "      <td>33. FOOD AND NON-FOOD CONTACT EQUIPMENT UTENSI...</td>\n",
              "      <td>41.954067</td>\n",
              "      <td>-87.701753</td>\n",
              "      <td>(-87.70175255165984, 41.954066875501354)</td>\n",
              "      <td>0</td>\n",
              "    </tr>\n",
              "    <tr>\n",
              "      <th>59998</th>\n",
              "      <td>1632103</td>\n",
              "      <td>DATA RESTAURANT</td>\n",
              "      <td>DAATA DARBAR RESTAURANT</td>\n",
              "      <td>2446971.0</td>\n",
              "      <td>Restaurant</td>\n",
              "      <td>Risk 1 (High)</td>\n",
              "      <td>2306 W DEVON AVE</td>\n",
              "      <td>CHICAGO</td>\n",
              "      <td>IL</td>\n",
              "      <td>60659.0</td>\n",
              "      <td>2016-02-23</td>\n",
              "      <td>License</td>\n",
              "      <td>NaN</td>\n",
              "      <td>41.997876</td>\n",
              "      <td>-87.687764</td>\n",
              "      <td>(-87.6877635508729, 41.99787636318572)</td>\n",
              "      <td>0</td>\n",
              "    </tr>\n",
              "    <tr>\n",
              "      <th>59999</th>\n",
              "      <td>2293426</td>\n",
              "      <td>THREE D</td>\n",
              "      <td>THREE D'S JERK CHICKEN</td>\n",
              "      <td>1172336.0</td>\n",
              "      <td>Restaurant</td>\n",
              "      <td>Risk 1 (High)</td>\n",
              "      <td>5317 W North AVE</td>\n",
              "      <td>CHICAGO</td>\n",
              "      <td>IL</td>\n",
              "      <td>60639.0</td>\n",
              "      <td>2019-06-12</td>\n",
              "      <td>Canvass Re-Inspection</td>\n",
              "      <td>3. MANAGEMENT, FOOD EMPLOYEE AND CONDITIONAL E...</td>\n",
              "      <td>41.909353</td>\n",
              "      <td>-87.758800</td>\n",
              "      <td>(-87.7587999518901, 41.909352603305415)</td>\n",
              "      <td>0</td>\n",
              "    </tr>\n",
              "  </tbody>\n",
              "</table>\n",
              "<p>60000 rows × 17 columns</p>\n",
              "</div>\n",
              "      <button class=\"colab-df-convert\" onclick=\"convertToInteractive('df-039b12ae-139a-44bd-8f62-ea1f8355aaa9')\"\n",
              "              title=\"Convert this dataframe to an interactive table.\"\n",
              "              style=\"display:none;\">\n",
              "        \n",
              "  <svg xmlns=\"http://www.w3.org/2000/svg\" height=\"24px\"viewBox=\"0 0 24 24\"\n",
              "       width=\"24px\">\n",
              "    <path d=\"M0 0h24v24H0V0z\" fill=\"none\"/>\n",
              "    <path d=\"M18.56 5.44l.94 2.06.94-2.06 2.06-.94-2.06-.94-.94-2.06-.94 2.06-2.06.94zm-11 1L8.5 8.5l.94-2.06 2.06-.94-2.06-.94L8.5 2.5l-.94 2.06-2.06.94zm10 10l.94 2.06.94-2.06 2.06-.94-2.06-.94-.94-2.06-.94 2.06-2.06.94z\"/><path d=\"M17.41 7.96l-1.37-1.37c-.4-.4-.92-.59-1.43-.59-.52 0-1.04.2-1.43.59L10.3 9.45l-7.72 7.72c-.78.78-.78 2.05 0 2.83L4 21.41c.39.39.9.59 1.41.59.51 0 1.02-.2 1.41-.59l7.78-7.78 2.81-2.81c.8-.78.8-2.07 0-2.86zM5.41 20L4 18.59l7.72-7.72 1.47 1.35L5.41 20z\"/>\n",
              "  </svg>\n",
              "      </button>\n",
              "      \n",
              "  <style>\n",
              "    .colab-df-container {\n",
              "      display:flex;\n",
              "      flex-wrap:wrap;\n",
              "      gap: 12px;\n",
              "    }\n",
              "\n",
              "    .colab-df-convert {\n",
              "      background-color: #E8F0FE;\n",
              "      border: none;\n",
              "      border-radius: 50%;\n",
              "      cursor: pointer;\n",
              "      display: none;\n",
              "      fill: #1967D2;\n",
              "      height: 32px;\n",
              "      padding: 0 0 0 0;\n",
              "      width: 32px;\n",
              "    }\n",
              "\n",
              "    .colab-df-convert:hover {\n",
              "      background-color: #E2EBFA;\n",
              "      box-shadow: 0px 1px 2px rgba(60, 64, 67, 0.3), 0px 1px 3px 1px rgba(60, 64, 67, 0.15);\n",
              "      fill: #174EA6;\n",
              "    }\n",
              "\n",
              "    [theme=dark] .colab-df-convert {\n",
              "      background-color: #3B4455;\n",
              "      fill: #D2E3FC;\n",
              "    }\n",
              "\n",
              "    [theme=dark] .colab-df-convert:hover {\n",
              "      background-color: #434B5C;\n",
              "      box-shadow: 0px 1px 3px 1px rgba(0, 0, 0, 0.15);\n",
              "      filter: drop-shadow(0px 1px 2px rgba(0, 0, 0, 0.3));\n",
              "      fill: #FFFFFF;\n",
              "    }\n",
              "  </style>\n",
              "\n",
              "      <script>\n",
              "        const buttonEl =\n",
              "          document.querySelector('#df-039b12ae-139a-44bd-8f62-ea1f8355aaa9 button.colab-df-convert');\n",
              "        buttonEl.style.display =\n",
              "          google.colab.kernel.accessAllowed ? 'block' : 'none';\n",
              "\n",
              "        async function convertToInteractive(key) {\n",
              "          const element = document.querySelector('#df-039b12ae-139a-44bd-8f62-ea1f8355aaa9');\n",
              "          const dataTable =\n",
              "            await google.colab.kernel.invokeFunction('convertToInteractive',\n",
              "                                                     [key], {});\n",
              "          if (!dataTable) return;\n",
              "\n",
              "          const docLinkHtml = 'Like what you see? Visit the ' +\n",
              "            '<a target=\"_blank\" href=https://colab.research.google.com/notebooks/data_table.ipynb>data table notebook</a>'\n",
              "            + ' to learn more about interactive tables.';\n",
              "          element.innerHTML = '';\n",
              "          dataTable['output_type'] = 'display_data';\n",
              "          await google.colab.output.renderOutput(dataTable, element);\n",
              "          const docLink = document.createElement('div');\n",
              "          docLink.innerHTML = docLinkHtml;\n",
              "          element.appendChild(docLink);\n",
              "        }\n",
              "      </script>\n",
              "    </div>\n",
              "  </div>\n",
              "  "
            ]
          },
          "metadata": {},
          "execution_count": 34
        }
      ]
    },
    {
      "cell_type": "code",
      "source": [
        "train.dtypes"
      ],
      "metadata": {
        "id": "ufxMVZIXQro5",
        "outputId": "03ad0924-523e-439b-9e75-a63804933886",
        "colab": {
          "base_uri": "https://localhost:8080/"
        }
      },
      "id": "ufxMVZIXQro5",
      "execution_count": 46,
      "outputs": [
        {
          "output_type": "execute_result",
          "data": {
            "text/plain": [
              "Inspection ID        int64\n",
              "DBA Name            object\n",
              "AKA Name            object\n",
              "License #          float64\n",
              "Facility Type       object\n",
              "Risk                object\n",
              "Address             object\n",
              "City                object\n",
              "State               object\n",
              "Zip                float64\n",
              "Inspection Date     object\n",
              "Inspection Type     object\n",
              "Violations          object\n",
              "Latitude           float64\n",
              "Longitude          float64\n",
              "Location            object\n",
              "Inspection Fail      int64\n",
              "dtype: object"
            ]
          },
          "metadata": {},
          "execution_count": 46
        }
      ]
    },
    {
      "cell_type": "code",
      "execution_count": 52,
      "id": "0db6ee42",
      "metadata": {
        "deletable": false,
        "nbgrader": {
          "cell_type": "code",
          "checksum": "fbdd1e318546f5ded4a4de13110416f4",
          "grade": false,
          "grade_id": "1-2",
          "locked": false,
          "schema_version": 3,
          "solution": true,
          "task": false
        },
        "id": "0db6ee42"
      },
      "outputs": [],
      "source": [
        "# import any libraries needed\n",
        "# YOUR CODE HERE\n",
        "\n",
        "# YOUR CODE ENDS HERE\n",
        "\n",
        "\n",
        "def eda_process(df):\n",
        "    # State 컬럼 처리 : 결측치 및 IL이 아닌 row 삭제\n",
        "    df.dropna(subset=[\"State\"], how=\"any\", axis=0, inplace=True)\n",
        "    df = df.query(\"State == 'IL'\")\n",
        "\n",
        "    # Risk : 결측치 및 All 삭제 > 1, 2, 3으로 바꾸어 줌\n",
        "    df.dropna(subset=[\"Risk\"], how=\"any\", axis=0, inplace=True)\n",
        "    df = df.query(\"Risk != 'All'\")\n",
        "    df.replace(\"Risk 1 (High)\", 1, inplace=True)\n",
        "    df.replace(\"Risk 2 (Medium)\", 2, inplace=True)\n",
        "    df.replace(\"Risk 3 (Low)\", 3, inplace=True)\n",
        "\n",
        "    # YOUR CODE HERE\n",
        "    df.fillna({'AKA Name':df['AKA Name'].mode()[0],\\\n",
        "               'Facility Type':df['Facility Type'].mode()[0],\\\n",
        "               'City':df['City'].mode()[0],\\\n",
        "               'Zip':df['Zip'].mode()[0]},inplace=True)\n",
        "    \n",
        "    df = df.drop(columns = ['State', 'Latitude','Longitude','Location'])\n",
        "    # YOUR CODE ENDS HERE\n",
        "\n",
        "    return df"
      ]
    },
    {
      "cell_type": "code",
      "execution_count": 53,
      "id": "e90106c9",
      "metadata": {
        "deletable": false,
        "editable": false,
        "nbgrader": {
          "cell_type": "code",
          "checksum": "c7156e0a4a76317407b3e2639f700b59",
          "grade": true,
          "grade_id": "1-2_test",
          "locked": true,
          "points": 1,
          "schema_version": 3,
          "solution": false,
          "task": false
        },
        "id": "e90106c9",
        "outputId": "f8edf21d-ad27-48ba-be7a-0df906a0ea61",
        "colab": {
          "base_uri": "https://localhost:8080/"
        }
      },
      "outputs": [
        {
          "output_type": "stream",
          "name": "stdout",
          "text": [
            "(59947, 13) (19994, 13)\n"
          ]
        }
      ],
      "source": [
        "train_processed = eda_process(train.copy())\n",
        "test_processed = eda_process(test.copy())\n",
        "print(train_processed.shape, test_processed.shape)\n",
        "assert len(train_processed) == 59947, \"train data 전처리가 잘못되었습니다. 조건을 다시 확인하세요.\"\n",
        "assert len(test_processed) == 19994, \"test data 전처리가 잘못되었습니다. 조건을 다시 확인하세요.\""
      ]
    },
    {
      "cell_type": "markdown",
      "id": "d37ba45b",
      "metadata": {
        "deletable": false,
        "editable": false,
        "nbgrader": {
          "cell_type": "markdown",
          "checksum": "137f3fecacaac450cc5af267124bc4ae",
          "grade": false,
          "grade_id": "cell-830432dc10ec8364",
          "locked": true,
          "schema_version": 3,
          "solution": false,
          "task": false
        },
        "id": "d37ba45b"
      },
      "source": [
        "### 전처리 후 target 분포의 변화를 다시 확인해 보세요."
      ]
    },
    {
      "cell_type": "code",
      "execution_count": 33,
      "id": "1442e4a1",
      "metadata": {
        "deletable": false,
        "editable": false,
        "nbgrader": {
          "cell_type": "code",
          "checksum": "0a1c5c3bce03dfc07374c687f70aa58a",
          "grade": false,
          "grade_id": "cell-3992c9dc381419fe",
          "locked": true,
          "schema_version": 3,
          "solution": false,
          "task": false
        },
        "id": "1442e4a1",
        "outputId": "256c65aa-e5ff-411e-96c5-fb1b407b8927",
        "colab": {
          "base_uri": "https://localhost:8080/",
          "height": 533
        }
      },
      "outputs": [
        {
          "output_type": "display_data",
          "data": {
            "text/plain": [
              "<Figure size 432x288 with 1 Axes>"
            ],
            "image/png": "[encoded data removed]"
          },
          "metadata": {}
        },
        {
          "output_type": "display_data",
          "data": {
            "text/plain": [
              "<Figure size 432x288 with 1 Axes>"
            ],
            "image/png": "[encoded data removed]"
          },
          "metadata": {}
        },
        {
          "output_type": "execute_result",
          "data": {
            "text/plain": [
              "(3898, 16096)"
            ]
          },
          "metadata": {},
          "execution_count": 33
        }
      ],
      "source": [
        "analysis_on_target(train_processed)\n",
        "analysis_on_target(test_processed)"
      ]
    },
    {
      "cell_type": "markdown",
      "id": "90c22148",
      "metadata": {
        "deletable": false,
        "editable": false,
        "nbgrader": {
          "cell_type": "markdown",
          "checksum": "ff9d65d617880cdb3915f9d7530b4b35",
          "grade": false,
          "grade_id": "cell-061f9cf27e568eae",
          "locked": true,
          "schema_version": 3,
          "solution": false,
          "task": false
        },
        "id": "90c22148"
      },
      "source": [
        "# Part 2 - Modeling"
      ]
    },
    {
      "cell_type": "markdown",
      "id": "a003f3e1",
      "metadata": {
        "deletable": false,
        "editable": false,
        "nbgrader": {
          "cell_type": "markdown",
          "checksum": "db2ed4c110814a19df1426a9c2e007c6",
          "grade": false,
          "grade_id": "cell-74769ab837a16066",
          "locked": true,
          "schema_version": 3,
          "solution": false,
          "task": false
        },
        "id": "a003f3e1"
      },
      "source": [
        "## 2.1 데이터를 feature (X), label(y)로 분할하는 `divide_data` 함수를 작성하세요.\n",
        "- Target Column은 `Inspection Fail`입니다."
      ]
    },
    {
      "cell_type": "code",
      "execution_count": 62,
      "id": "a85431a9",
      "metadata": {
        "deletable": false,
        "nbgrader": {
          "cell_type": "code",
          "checksum": "755c04f081e54ada5549c1677d6b100b",
          "grade": false,
          "grade_id": "2-1",
          "locked": false,
          "schema_version": 3,
          "solution": true,
          "task": false
        },
        "id": "a85431a9"
      },
      "outputs": [],
      "source": [
        "def divide_data(df):\n",
        "    X = None\n",
        "    y = None\n",
        "\n",
        "    # YOUR CODE HERE\n",
        "    X = df.drop('Inspection Fail', axis = 1)\n",
        "    y = df['Inspection Fail']\n",
        "    # YOUR CODE ENDS HERE\n",
        "\n",
        "    return X, y"
      ]
    },
    {
      "cell_type": "code",
      "execution_count": 63,
      "id": "20ec9b5d",
      "metadata": {
        "deletable": false,
        "editable": false,
        "nbgrader": {
          "cell_type": "code",
          "checksum": "a97ad7c4d40a86a0201b92d5cc5b6f4f",
          "grade": true,
          "grade_id": "2-1_test",
          "locked": true,
          "points": 0.5,
          "schema_version": 3,
          "solution": false,
          "task": false
        },
        "id": "20ec9b5d",
        "outputId": "5a3eb492-f94e-4ab8-d2dc-639cf7477fad",
        "colab": {
          "base_uri": "https://localhost:8080/"
        }
      },
      "outputs": [
        {
          "output_type": "stream",
          "name": "stdout",
          "text": [
            "(59947, 12) (59947,) (19994, 12) (19994,)\n"
          ]
        }
      ],
      "source": [
        "X_train, y_train = divide_data(train_processed)\n",
        "X_test, y_test = divide_data(test_processed)\n",
        "print(X_train.shape, y_train.shape, X_test.shape, y_test.shape)"
      ]
    },
    {
      "cell_type": "markdown",
      "id": "819f167c",
      "metadata": {
        "deletable": false,
        "editable": false,
        "nbgrader": {
          "cell_type": "markdown",
          "checksum": "b6a426e2a8f1170007d06e405e09ae87",
          "grade": false,
          "grade_id": "cell-f54c8204c1a466c0",
          "locked": true,
          "schema_version": 3,
          "solution": false,
          "task": false
        },
        "id": "819f167c"
      },
      "source": [
        "## 2.2 모델을 생성하고 학습하는 `fit` 함수와 1일 확률을 반환하는 `predict` 함수를 작성하세요. \n",
        "- Scikit-learn의 `pipeline`을 활용하여 학습 파이프라인을 생성하세요.\n",
        "- Boosting 모델을 사용하고자 할 경우 XGBoost를 사용하세요.\n",
        "- `RandomizedSearchCV`를 사용해 CV를 진행하세요.\n",
        "    - 적어도 두 개 이상의 하이퍼파라미터에 대해 탐색을 진행하세요.\n",
        "    - **\bAUC score을 최대화하는 하이퍼파라미터 조합을 선택하세요.**\n",
        "- cv는 5 이하, n_iter은 10회 이하로 하세요."
      ]
    },
    {
      "cell_type": "code",
      "source": [
        "from sklearn.model_selection import RandomizedSearchCV\n",
        "from sklearn.pipeline import make_pipeline\n",
        "from sklearn.metrics import classification_report\n",
        "\n",
        "# import any libraries needed\n",
        "# YOUR CODE HERE\n",
        "from xgboost import XGBClassifier\n",
        "from sklearn.preprocessing import OrdinalEncoder\n",
        "from sklearn.impute import SimpleImputer\n",
        "from sklearn.preprocessing import StandardScaler\n",
        "# YOUR CODE ENDS HERE\n",
        "\n",
        "pipeline = None  # pipeline = make_pipeline(...)\n",
        "clf = None  # clf = RandomizedSearchCV(pipeline, ...)\n",
        "\n",
        "    # YOUR CODE HERE\n",
        "pipe = make_pipeline(\n",
        "        OrdinalEncoder(),\n",
        "        StandardScaler(),\n",
        "        SimpleImputer(strategy='median'),\n",
        "        XGBClassifier(n_estimators=200, \n",
        "                      random_state=2, \n",
        "                      n_jobs=-1, \n",
        "                      max_depth=7, \n",
        "                      learning_rate=0.2\n",
        "                      )\n",
        "        )\n",
        "dists = {'estimator__simpleimputer', 'estimator__xgbclassifier', 'estimator__ordinalencoder__categories'\n",
        "    }\n",
        "clf = RandomizedSearchCV(\n",
        "        pipe, \n",
        "        n_iter=10, \n",
        "        cv=5,\n",
        "        param_distributions = dists, \n",
        "        scoring='neg_mean_absolute_error',\n",
        "        verbose=1,\n",
        "        n_jobs=-1\n",
        "        )\n"
      ],
      "metadata": {
        "id": "WQ3PwvMAcI5C",
        "outputId": "9ad89a1d-909c-41b2-bb76-c2202fac03cc",
        "colab": {
          "base_uri": "https://localhost:8080/"
        }
      },
      "id": "WQ3PwvMAcI5C",
      "execution_count": 96,
      "outputs": [
        {
          "output_type": "execute_result",
          "data": {
            "text/plain": [
              "dict_keys(['cv', 'error_score', 'estimator__memory', 'estimator__steps', 'estimator__verbose', 'estimator__ordinalencoder', 'estimator__standardscaler', 'estimator__simpleimputer', 'estimator__xgbclassifier', 'estimator__ordinalencoder__categories', 'estimator__ordinalencoder__dtype', 'estimator__ordinalencoder__handle_unknown', 'estimator__ordinalencoder__unknown_value', 'estimator__standardscaler__copy', 'estimator__standardscaler__with_mean', 'estimator__standardscaler__with_std', 'estimator__simpleimputer__add_indicator', 'estimator__simpleimputer__copy', 'estimator__simpleimputer__fill_value', 'estimator__simpleimputer__missing_values', 'estimator__simpleimputer__strategy', 'estimator__simpleimputer__verbose', 'estimator__xgbclassifier__base_score', 'estimator__xgbclassifier__booster', 'estimator__xgbclassifier__colsample_bylevel', 'estimator__xgbclassifier__colsample_bynode', 'estimator__xgbclassifier__colsample_bytree', 'estimator__xgbclassifier__gamma', 'estimator__xgbclassifier__learning_rate', 'estimator__xgbclassifier__max_delta_step', 'estimator__xgbclassifier__max_depth', 'estimator__xgbclassifier__min_child_weight', 'estimator__xgbclassifier__missing', 'estimator__xgbclassifier__n_estimators', 'estimator__xgbclassifier__n_jobs', 'estimator__xgbclassifier__nthread', 'estimator__xgbclassifier__objective', 'estimator__xgbclassifier__random_state', 'estimator__xgbclassifier__reg_alpha', 'estimator__xgbclassifier__reg_lambda', 'estimator__xgbclassifier__scale_pos_weight', 'estimator__xgbclassifier__seed', 'estimator__xgbclassifier__silent', 'estimator__xgbclassifier__subsample', 'estimator__xgbclassifier__verbosity', 'estimator', 'n_iter', 'n_jobs', 'param_distributions', 'pre_dispatch', 'random_state', 'refit', 'return_train_score', 'scoring', 'verbose'])"
            ]
          },
          "metadata": {},
          "execution_count": 96
        }
      ]
    },
    {
      "cell_type": "code",
      "source": [
        "from sklearn.model_selection import RandomizedSearchCV\n",
        "from sklearn.pipeline import make_pipeline\n",
        "from sklearn.metrics import classification_report\n",
        "\n",
        "# import any libraries needed\n",
        "# YOUR CODE HERE\n",
        "from xgboost import XGBClassifier\n",
        "from sklearn.preprocessing import OrdinalEncoder\n",
        "from sklearn.impute import SimpleImputer\n",
        "from sklearn.preprocessing import StandardScaler\n",
        "# YOUR CODE ENDS HERE\n",
        "\n",
        "\n",
        "def fit(X_train, y_train):\n",
        "    pipeline = None  # pipeline = make_pipeline(...)\n",
        "    clf = None  # clf = RandomizedSearchCV(pipeline, ...)\n",
        "\n",
        "    # YOUR CODE HERE\n",
        "    pipe = make_pipeline(\n",
        "        OrdinalEncoder(),\n",
        "        StandardScaler(),\n",
        "        SimpleImputer(strategy='median'),\n",
        "        XGBClassifier(n_estimators=200, \n",
        "                      random_state=2, \n",
        "                      n_jobs=-1, \n",
        "                      max_depth=7, \n",
        "                      learning_rate=0.2\n",
        "                      )\n",
        "        )\n",
        "    dists = { 'learning_rate' : [0.05,0.10,0.15,0.20,0.25,0.30],'max_depth' : [ 3, 4, 5, 6, 8, 10, 12, 15]}\n",
        "    clf = RandomizedSearchCV(\n",
        "        pipe, \n",
        "        n_iter=10, \n",
        "        cv=5,\n",
        "        param_distributions = dists, \n",
        "        scoring='neg_mean_absolute_error',\n",
        "        verbose=1,\n",
        "        n_jobs=-1\n",
        "        )\n",
        "    # YOUR CODE ENDS HERE\n",
        "\n",
        "    clf.fit(X_train, y_train)\n",
        "    print(\"Optimal Hyperparameter:\", clf.best_params_)\n",
        "    print(\"AUC:\", clf.best_score_)\n",
        "\n",
        "    return clf\n",
        "\n",
        "\n",
        "def predict(X, y, best_estimator):\n",
        "    y_pred_proba = None\n",
        "\n",
        "    # YOUR CODE HERE\n",
        "    \n",
        "    \n",
        "    # YOUR CODE ENDS HERE\n",
        "\n",
        "    report = classification_report(y, y_pred_proba > 0.5)\n",
        "    return y_pred_proba, report"
      ],
      "metadata": {
        "id": "-larz-fPhFsZ"
      },
      "id": "-larz-fPhFsZ",
      "execution_count": 116,
      "outputs": []
    },
    {
      "cell_type": "code",
      "execution_count": 117,
      "id": "07f646a3",
      "metadata": {
        "deletable": false,
        "editable": false,
        "nbgrader": {
          "cell_type": "code",
          "checksum": "1f09695262cb4bc5f54de07fa74b6f34",
          "grade": false,
          "grade_id": "cell-train",
          "locked": true,
          "schema_version": 3,
          "solution": false,
          "task": false
        },
        "id": "07f646a3",
        "outputId": "a909684c-9165-4fa2-9d93-903986c236e1",
        "colab": {
          "base_uri": "https://localhost:8080/",
          "height": 1000
        }
      },
      "outputs": [
        {
          "output_type": "stream",
          "name": "stdout",
          "text": [
            "Fitting 5 folds for each of 10 candidates, totalling 50 fits\n"
          ]
        },
        {
          "output_type": "error",
          "ename": "ValueError",
          "evalue": "ignored",
          "traceback": [
            "\u001b[0;31m---------------------------------------------------------------------------\u001b[0m",
            "\u001b[0;31m_RemoteTraceback\u001b[0m                          Traceback (most recent call last)",
            "\u001b[0;31m_RemoteTraceback\u001b[0m: \n\"\"\"\nTraceback (most recent call last):\n  File \"/usr/local/lib/python3.7/dist-packages/joblib/externals/loky/process_executor.py\", line 436, in _process_worker\n    r = call_item()\n  File \"/usr/local/lib/python3.7/dist-packages/joblib/externals/loky/process_executor.py\", line 288, in __call__\n    return self.fn(*self.args, **self.kwargs)\n  File \"/usr/local/lib/python3.7/dist-packages/joblib/_parallel_backends.py\", line 595, in __call__\n    return self.func(*args, **kwargs)\n  File \"/usr/local/lib/python3.7/dist-packages/joblib/parallel.py\", line 263, in __call__\n    for func, args, kwargs in self.items]\n  File \"/usr/local/lib/python3.7/dist-packages/joblib/parallel.py\", line 263, in <listcomp>\n    for func, args, kwargs in self.items]\n  File \"/usr/local/lib/python3.7/dist-packages/sklearn/utils/fixes.py\", line 216, in __call__\n    return self.function(*args, **kwargs)\n  File \"/usr/local/lib/python3.7/dist-packages/sklearn/model_selection/_validation.py\", line 668, in _fit_and_score\n    estimator = estimator.set_params(**cloned_parameters)\n  File \"/usr/local/lib/python3.7/dist-packages/sklearn/pipeline.py\", line 188, in set_params\n    self._set_params(\"steps\", **kwargs)\n  File \"/usr/local/lib/python3.7/dist-packages/sklearn/utils/metaestimators.py\", line 54, in _set_params\n    super().set_params(**params)\n  File \"/usr/local/lib/python3.7/dist-packages/sklearn/base.py\", line 248, in set_params\n    \"with `estimator.get_params().keys()`.\" % (key, self)\nValueError: Invalid parameter max_depth for estimator Pipeline(steps=[('ordinalencoder', OrdinalEncoder()),\n                ('standardscaler', StandardScaler()),\n                ('simpleimputer', SimpleImputer(strategy='median')),\n                ('xgbclassifier',\n                 XGBClassifier(learning_rate=0.2, max_depth=7, missing=nan,\n                               n_estimators=200, n_jobs=-1, random_state=2))]). Check the list of available parameters with `estimator.get_params().keys()`.\n\"\"\"",
            "\nThe above exception was the direct cause of the following exception:\n",
            "\u001b[0;31mValueError\u001b[0m                                Traceback (most recent call last)",
            "\u001b[0;32m<ipython-input-117-32cb46039506>\u001b[0m in \u001b[0;36m<module>\u001b[0;34m()\u001b[0m\n\u001b[0;32m----> 1\u001b[0;31m \u001b[0mclf\u001b[0m \u001b[0;34m=\u001b[0m \u001b[0mfit\u001b[0m\u001b[0;34m(\u001b[0m\u001b[0mX_train\u001b[0m\u001b[0;34m,\u001b[0m \u001b[0my_train\u001b[0m\u001b[0;34m)\u001b[0m\u001b[0;34m\u001b[0m\u001b[0;34m\u001b[0m\u001b[0m\n\u001b[0m",
            "\u001b[0;32m<ipython-input-116-4a357ed951d6>\u001b[0m in \u001b[0;36mfit\u001b[0;34m(X_train, y_train)\u001b[0m\n\u001b[1;32m     40\u001b[0m     \u001b[0;31m# YOUR CODE ENDS HERE\u001b[0m\u001b[0;34m\u001b[0m\u001b[0;34m\u001b[0m\u001b[0;34m\u001b[0m\u001b[0m\n\u001b[1;32m     41\u001b[0m \u001b[0;34m\u001b[0m\u001b[0m\n\u001b[0;32m---> 42\u001b[0;31m     \u001b[0mclf\u001b[0m\u001b[0;34m.\u001b[0m\u001b[0mfit\u001b[0m\u001b[0;34m(\u001b[0m\u001b[0mX_train\u001b[0m\u001b[0;34m,\u001b[0m \u001b[0my_train\u001b[0m\u001b[0;34m)\u001b[0m\u001b[0;34m\u001b[0m\u001b[0;34m\u001b[0m\u001b[0m\n\u001b[0m\u001b[1;32m     43\u001b[0m     \u001b[0mprint\u001b[0m\u001b[0;34m(\u001b[0m\u001b[0;34m\"Optimal Hyperparameter:\"\u001b[0m\u001b[0;34m,\u001b[0m \u001b[0mclf\u001b[0m\u001b[0;34m.\u001b[0m\u001b[0mbest_params_\u001b[0m\u001b[0;34m)\u001b[0m\u001b[0;34m\u001b[0m\u001b[0;34m\u001b[0m\u001b[0m\n\u001b[1;32m     44\u001b[0m     \u001b[0mprint\u001b[0m\u001b[0;34m(\u001b[0m\u001b[0;34m\"AUC:\"\u001b[0m\u001b[0;34m,\u001b[0m \u001b[0mclf\u001b[0m\u001b[0;34m.\u001b[0m\u001b[0mbest_score_\u001b[0m\u001b[0;34m)\u001b[0m\u001b[0;34m\u001b[0m\u001b[0;34m\u001b[0m\u001b[0m\n",
            "\u001b[0;32m/usr/local/lib/python3.7/dist-packages/sklearn/model_selection/_search.py\u001b[0m in \u001b[0;36mfit\u001b[0;34m(self, X, y, groups, **fit_params)\u001b[0m\n\u001b[1;32m    889\u001b[0m                 \u001b[0;32mreturn\u001b[0m \u001b[0mresults\u001b[0m\u001b[0;34m\u001b[0m\u001b[0;34m\u001b[0m\u001b[0m\n\u001b[1;32m    890\u001b[0m \u001b[0;34m\u001b[0m\u001b[0m\n\u001b[0;32m--> 891\u001b[0;31m             \u001b[0mself\u001b[0m\u001b[0;34m.\u001b[0m\u001b[0m_run_search\u001b[0m\u001b[0;34m(\u001b[0m\u001b[0mevaluate_candidates\u001b[0m\u001b[0;34m)\u001b[0m\u001b[0;34m\u001b[0m\u001b[0;34m\u001b[0m\u001b[0m\n\u001b[0m\u001b[1;32m    892\u001b[0m \u001b[0;34m\u001b[0m\u001b[0m\n\u001b[1;32m    893\u001b[0m             \u001b[0;31m# multimetric is determined here because in the case of a callable\u001b[0m\u001b[0;34m\u001b[0m\u001b[0;34m\u001b[0m\u001b[0;34m\u001b[0m\u001b[0m\n",
            "\u001b[0;32m/usr/local/lib/python3.7/dist-packages/sklearn/model_selection/_search.py\u001b[0m in \u001b[0;36m_run_search\u001b[0;34m(self, evaluate_candidates)\u001b[0m\n\u001b[1;32m   1766\u001b[0m         evaluate_candidates(\n\u001b[1;32m   1767\u001b[0m             ParameterSampler(\n\u001b[0;32m-> 1768\u001b[0;31m                 \u001b[0mself\u001b[0m\u001b[0;34m.\u001b[0m\u001b[0mparam_distributions\u001b[0m\u001b[0;34m,\u001b[0m \u001b[0mself\u001b[0m\u001b[0;34m.\u001b[0m\u001b[0mn_iter\u001b[0m\u001b[0;34m,\u001b[0m \u001b[0mrandom_state\u001b[0m\u001b[0;34m=\u001b[0m\u001b[0mself\u001b[0m\u001b[0;34m.\u001b[0m\u001b[0mrandom_state\u001b[0m\u001b[0;34m\u001b[0m\u001b[0;34m\u001b[0m\u001b[0m\n\u001b[0m\u001b[1;32m   1769\u001b[0m             )\n\u001b[1;32m   1770\u001b[0m         )\n",
            "\u001b[0;32m/usr/local/lib/python3.7/dist-packages/sklearn/model_selection/_search.py\u001b[0m in \u001b[0;36mevaluate_candidates\u001b[0;34m(candidate_params, cv, more_results)\u001b[0m\n\u001b[1;32m    849\u001b[0m                     )\n\u001b[1;32m    850\u001b[0m                     for (cand_idx, parameters), (split_idx, (train, test)) in product(\n\u001b[0;32m--> 851\u001b[0;31m                         \u001b[0menumerate\u001b[0m\u001b[0;34m(\u001b[0m\u001b[0mcandidate_params\u001b[0m\u001b[0;34m)\u001b[0m\u001b[0;34m,\u001b[0m \u001b[0menumerate\u001b[0m\u001b[0;34m(\u001b[0m\u001b[0mcv\u001b[0m\u001b[0;34m.\u001b[0m\u001b[0msplit\u001b[0m\u001b[0;34m(\u001b[0m\u001b[0mX\u001b[0m\u001b[0;34m,\u001b[0m \u001b[0my\u001b[0m\u001b[0;34m,\u001b[0m \u001b[0mgroups\u001b[0m\u001b[0;34m)\u001b[0m\u001b[0;34m)\u001b[0m\u001b[0;34m\u001b[0m\u001b[0;34m\u001b[0m\u001b[0m\n\u001b[0m\u001b[1;32m    852\u001b[0m                     )\n\u001b[1;32m    853\u001b[0m                 )\n",
            "\u001b[0;32m/usr/local/lib/python3.7/dist-packages/joblib/parallel.py\u001b[0m in \u001b[0;36m__call__\u001b[0;34m(self, iterable)\u001b[0m\n\u001b[1;32m   1054\u001b[0m \u001b[0;34m\u001b[0m\u001b[0m\n\u001b[1;32m   1055\u001b[0m             \u001b[0;32mwith\u001b[0m \u001b[0mself\u001b[0m\u001b[0;34m.\u001b[0m\u001b[0m_backend\u001b[0m\u001b[0;34m.\u001b[0m\u001b[0mretrieval_context\u001b[0m\u001b[0;34m(\u001b[0m\u001b[0;34m)\u001b[0m\u001b[0;34m:\u001b[0m\u001b[0;34m\u001b[0m\u001b[0;34m\u001b[0m\u001b[0m\n\u001b[0;32m-> 1056\u001b[0;31m                 \u001b[0mself\u001b[0m\u001b[0;34m.\u001b[0m\u001b[0mretrieve\u001b[0m\u001b[0;34m(\u001b[0m\u001b[0;34m)\u001b[0m\u001b[0;34m\u001b[0m\u001b[0;34m\u001b[0m\u001b[0m\n\u001b[0m\u001b[1;32m   1057\u001b[0m             \u001b[0;31m# Make sure that we get a last message telling us we are done\u001b[0m\u001b[0;34m\u001b[0m\u001b[0;34m\u001b[0m\u001b[0;34m\u001b[0m\u001b[0m\n\u001b[1;32m   1058\u001b[0m             \u001b[0melapsed_time\u001b[0m \u001b[0;34m=\u001b[0m \u001b[0mtime\u001b[0m\u001b[0;34m.\u001b[0m\u001b[0mtime\u001b[0m\u001b[0;34m(\u001b[0m\u001b[0;34m)\u001b[0m \u001b[0;34m-\u001b[0m \u001b[0mself\u001b[0m\u001b[0;34m.\u001b[0m\u001b[0m_start_time\u001b[0m\u001b[0;34m\u001b[0m\u001b[0;34m\u001b[0m\u001b[0m\n",
            "\u001b[0;32m/usr/local/lib/python3.7/dist-packages/joblib/parallel.py\u001b[0m in \u001b[0;36mretrieve\u001b[0;34m(self)\u001b[0m\n\u001b[1;32m    933\u001b[0m             \u001b[0;32mtry\u001b[0m\u001b[0;34m:\u001b[0m\u001b[0;34m\u001b[0m\u001b[0;34m\u001b[0m\u001b[0m\n\u001b[1;32m    934\u001b[0m                 \u001b[0;32mif\u001b[0m \u001b[0mgetattr\u001b[0m\u001b[0;34m(\u001b[0m\u001b[0mself\u001b[0m\u001b[0;34m.\u001b[0m\u001b[0m_backend\u001b[0m\u001b[0;34m,\u001b[0m \u001b[0;34m'supports_timeout'\u001b[0m\u001b[0;34m,\u001b[0m \u001b[0;32mFalse\u001b[0m\u001b[0;34m)\u001b[0m\u001b[0;34m:\u001b[0m\u001b[0;34m\u001b[0m\u001b[0;34m\u001b[0m\u001b[0m\n\u001b[0;32m--> 935\u001b[0;31m                     \u001b[0mself\u001b[0m\u001b[0;34m.\u001b[0m\u001b[0m_output\u001b[0m\u001b[0;34m.\u001b[0m\u001b[0mextend\u001b[0m\u001b[0;34m(\u001b[0m\u001b[0mjob\u001b[0m\u001b[0;34m.\u001b[0m\u001b[0mget\u001b[0m\u001b[0;34m(\u001b[0m\u001b[0mtimeout\u001b[0m\u001b[0;34m=\u001b[0m\u001b[0mself\u001b[0m\u001b[0;34m.\u001b[0m\u001b[0mtimeout\u001b[0m\u001b[0;34m)\u001b[0m\u001b[0;34m)\u001b[0m\u001b[0;34m\u001b[0m\u001b[0;34m\u001b[0m\u001b[0m\n\u001b[0m\u001b[1;32m    936\u001b[0m                 \u001b[0;32melse\u001b[0m\u001b[0;34m:\u001b[0m\u001b[0;34m\u001b[0m\u001b[0;34m\u001b[0m\u001b[0m\n\u001b[1;32m    937\u001b[0m                     \u001b[0mself\u001b[0m\u001b[0;34m.\u001b[0m\u001b[0m_output\u001b[0m\u001b[0;34m.\u001b[0m\u001b[0mextend\u001b[0m\u001b[0;34m(\u001b[0m\u001b[0mjob\u001b[0m\u001b[0;34m.\u001b[0m\u001b[0mget\u001b[0m\u001b[0;34m(\u001b[0m\u001b[0;34m)\u001b[0m\u001b[0;34m)\u001b[0m\u001b[0;34m\u001b[0m\u001b[0;34m\u001b[0m\u001b[0m\n",
            "\u001b[0;32m/usr/local/lib/python3.7/dist-packages/joblib/_parallel_backends.py\u001b[0m in \u001b[0;36mwrap_future_result\u001b[0;34m(future, timeout)\u001b[0m\n\u001b[1;32m    540\u001b[0m         AsyncResults.get from multiprocessing.\"\"\"\n\u001b[1;32m    541\u001b[0m         \u001b[0;32mtry\u001b[0m\u001b[0;34m:\u001b[0m\u001b[0;34m\u001b[0m\u001b[0;34m\u001b[0m\u001b[0m\n\u001b[0;32m--> 542\u001b[0;31m             \u001b[0;32mreturn\u001b[0m \u001b[0mfuture\u001b[0m\u001b[0;34m.\u001b[0m\u001b[0mresult\u001b[0m\u001b[0;34m(\u001b[0m\u001b[0mtimeout\u001b[0m\u001b[0;34m=\u001b[0m\u001b[0mtimeout\u001b[0m\u001b[0;34m)\u001b[0m\u001b[0;34m\u001b[0m\u001b[0;34m\u001b[0m\u001b[0m\n\u001b[0m\u001b[1;32m    543\u001b[0m         \u001b[0;32mexcept\u001b[0m \u001b[0mCfTimeoutError\u001b[0m \u001b[0;32mas\u001b[0m \u001b[0me\u001b[0m\u001b[0;34m:\u001b[0m\u001b[0;34m\u001b[0m\u001b[0;34m\u001b[0m\u001b[0m\n\u001b[1;32m    544\u001b[0m             \u001b[0;32mraise\u001b[0m \u001b[0mTimeoutError\u001b[0m \u001b[0;32mfrom\u001b[0m \u001b[0me\u001b[0m\u001b[0;34m\u001b[0m\u001b[0;34m\u001b[0m\u001b[0m\n",
            "\u001b[0;32m/usr/lib/python3.7/concurrent/futures/_base.py\u001b[0m in \u001b[0;36mresult\u001b[0;34m(self, timeout)\u001b[0m\n\u001b[1;32m    433\u001b[0m                 \u001b[0;32mraise\u001b[0m \u001b[0mCancelledError\u001b[0m\u001b[0;34m(\u001b[0m\u001b[0;34m)\u001b[0m\u001b[0;34m\u001b[0m\u001b[0;34m\u001b[0m\u001b[0m\n\u001b[1;32m    434\u001b[0m             \u001b[0;32melif\u001b[0m \u001b[0mself\u001b[0m\u001b[0;34m.\u001b[0m\u001b[0m_state\u001b[0m \u001b[0;34m==\u001b[0m \u001b[0mFINISHED\u001b[0m\u001b[0;34m:\u001b[0m\u001b[0;34m\u001b[0m\u001b[0;34m\u001b[0m\u001b[0m\n\u001b[0;32m--> 435\u001b[0;31m                 \u001b[0;32mreturn\u001b[0m \u001b[0mself\u001b[0m\u001b[0;34m.\u001b[0m\u001b[0m__get_result\u001b[0m\u001b[0;34m(\u001b[0m\u001b[0;34m)\u001b[0m\u001b[0;34m\u001b[0m\u001b[0;34m\u001b[0m\u001b[0m\n\u001b[0m\u001b[1;32m    436\u001b[0m             \u001b[0;32melse\u001b[0m\u001b[0;34m:\u001b[0m\u001b[0;34m\u001b[0m\u001b[0;34m\u001b[0m\u001b[0m\n\u001b[1;32m    437\u001b[0m                 \u001b[0;32mraise\u001b[0m \u001b[0mTimeoutError\u001b[0m\u001b[0;34m(\u001b[0m\u001b[0;34m)\u001b[0m\u001b[0;34m\u001b[0m\u001b[0;34m\u001b[0m\u001b[0m\n",
            "\u001b[0;32m/usr/lib/python3.7/concurrent/futures/_base.py\u001b[0m in \u001b[0;36m__get_result\u001b[0;34m(self)\u001b[0m\n\u001b[1;32m    382\u001b[0m     \u001b[0;32mdef\u001b[0m \u001b[0m__get_result\u001b[0m\u001b[0;34m(\u001b[0m\u001b[0mself\u001b[0m\u001b[0;34m)\u001b[0m\u001b[0;34m:\u001b[0m\u001b[0;34m\u001b[0m\u001b[0;34m\u001b[0m\u001b[0m\n\u001b[1;32m    383\u001b[0m         \u001b[0;32mif\u001b[0m \u001b[0mself\u001b[0m\u001b[0;34m.\u001b[0m\u001b[0m_exception\u001b[0m\u001b[0;34m:\u001b[0m\u001b[0;34m\u001b[0m\u001b[0;34m\u001b[0m\u001b[0m\n\u001b[0;32m--> 384\u001b[0;31m             \u001b[0;32mraise\u001b[0m \u001b[0mself\u001b[0m\u001b[0;34m.\u001b[0m\u001b[0m_exception\u001b[0m\u001b[0;34m\u001b[0m\u001b[0;34m\u001b[0m\u001b[0m\n\u001b[0m\u001b[1;32m    385\u001b[0m         \u001b[0;32melse\u001b[0m\u001b[0;34m:\u001b[0m\u001b[0;34m\u001b[0m\u001b[0;34m\u001b[0m\u001b[0m\n\u001b[1;32m    386\u001b[0m             \u001b[0;32mreturn\u001b[0m \u001b[0mself\u001b[0m\u001b[0;34m.\u001b[0m\u001b[0m_result\u001b[0m\u001b[0;34m\u001b[0m\u001b[0;34m\u001b[0m\u001b[0m\n",
            "\u001b[0;31mValueError\u001b[0m: Invalid parameter max_depth for estimator Pipeline(steps=[('ordinalencoder', OrdinalEncoder()),\n                ('standardscaler', StandardScaler()),\n                ('simpleimputer', SimpleImputer(strategy='median')),\n                ('xgbclassifier',\n                 XGBClassifier(learning_rate=0.2, max_depth=7, missing=nan,\n                               n_estimators=200, n_jobs=-1, random_state=2))]). Check the list of available parameters with `estimator.get_params().keys()`."
          ]
        }
      ],
      "source": [
        "clf = fit(X_train, y_train)"
      ]
    },
    {
      "cell_type": "markdown",
      "id": "5f8bd689",
      "metadata": {
        "id": "5f8bd689"
      },
      "source": [
        "### 아래 셀을 실행시켜 모델의 Test score을 확인해 보세요.\n",
        "- auc_score > 0.65을 만족하면 기본 성능점수를 얻습니다.\n",
        "- (도전과제) auc_score > 0.8을 만족하면 성능점수 만점을 얻습니다.\n",
        "    - 도전과제까지 수행해야 스챌 3점을 얻습니다. \n",
        "    - 1.3으로 돌아가 다양한 특성 조합을 시도해 보세요. \n",
        "    - 2.2로 돌아가 SearchCV에서 다양한 하이퍼파라미터 옵션 조합을 선택해 보세요.\n",
        "        - 본인이 선택한 모델에서, 각 하이퍼파라미터가 어떤 의미를 가지나요?\n",
        "        - SearchCV가 더 다양한 하이퍼파라미터 조합을 시도하도록 하기 위해 SearchCV의 어떤 옵션을 조정해야 할까요?"
      ]
    },
    {
      "cell_type": "code",
      "execution_count": null,
      "id": "89861706",
      "metadata": {
        "deletable": false,
        "editable": false,
        "nbgrader": {
          "cell_type": "code",
          "checksum": "a54fe57658ba1c12ddb13a9336b63653",
          "grade": false,
          "grade_id": "cell-get_auc",
          "locked": true,
          "schema_version": 3,
          "solution": false,
          "task": false
        },
        "id": "89861706"
      },
      "outputs": [],
      "source": [
        "from sklearn.metrics import roc_curve, roc_auc_score\n",
        "\n",
        "\n",
        "def plot_roc(y, y_pred_proba):\n",
        "    auc_score = roc_auc_score(y, y_pred_proba)\n",
        "    fpr, tpr, _ = roc_curve(y, y_pred_proba)\n",
        "    baseline_fpr, baseline_tpr, _ = roc_curve(y, [0] * len(y))\n",
        "\n",
        "    plt.style.use(\"ggplot\")\n",
        "    plt.plot(fpr, tpr, label=\"Model\")\n",
        "    plt.plot(baseline_fpr, baseline_tpr, linestyle=\"--\", label=\"Baseline\")\n",
        "    plt.xlabel(\"False Positive Rate\", size=12)\n",
        "    plt.ylabel(\"True Positive Rate\", size=12)\n",
        "    plt.title(\"Receiver Operating Characteristic\")\n",
        "    plt.legend(prop={\"size\": 12})\n",
        "    plt.show()\n",
        "    return auc_score\n",
        "\n",
        "\n",
        "y_test_pred_proba, report = predict(X_test, y_test, clf.best_estimator_)\n",
        "print(report)\n",
        "auc_score = plot_roc(y_test, y_test_pred_proba)"
      ]
    },
    {
      "cell_type": "code",
      "execution_count": null,
      "id": "539e38c1",
      "metadata": {
        "deletable": false,
        "editable": false,
        "nbgrader": {
          "cell_type": "code",
          "checksum": "49a79adcd2c92191781e896457288885",
          "grade": true,
          "grade_id": "2-2_test_performance",
          "locked": true,
          "points": 1,
          "schema_version": 3,
          "solution": false,
          "task": false
        },
        "id": "539e38c1"
      },
      "outputs": [],
      "source": [
        "print(\"Test AUC:\", auc_score)"
      ]
    },
    {
      "cell_type": "code",
      "execution_count": null,
      "id": "f769485e",
      "metadata": {
        "deletable": false,
        "editable": false,
        "nbgrader": {
          "cell_type": "code",
          "checksum": "e51a6068502d2588907b50ac3321425b",
          "grade": true,
          "grade_id": "challenge_2-3_test",
          "locked": true,
          "points": 1,
          "schema_version": 3,
          "solution": false,
          "task": false
        },
        "id": "f769485e"
      },
      "outputs": [],
      "source": [
        "print(\"Test AUC > 0.8?:\", auc_score > 0.8)"
      ]
    },
    {
      "cell_type": "markdown",
      "id": "e6cb7e41",
      "metadata": {
        "deletable": false,
        "editable": false,
        "nbgrader": {
          "cell_type": "markdown",
          "checksum": "ca785473ae0459c3d5c2267f928eabac",
          "grade": false,
          "grade_id": "cell-0b8a22eeb09a60ef",
          "locked": true,
          "schema_version": 3,
          "solution": false,
          "task": false
        },
        "id": "e6cb7e41"
      },
      "source": [
        "# Part 3 - Visualization\n",
        "- `eli5`의 `PermutationImportance`, `pdpbox` 등의 라이브러리에서는 이미 전처리가 완료되어 수치형 자료로 변환된 독립변수들을 입력으로 받습니다.\n",
        "- 따라서, 2.2에서 생성한 pipeline을 **전처리를 위한 부분**과 **예측 모델**로 나눠 주어야 합니다.\n",
        "    - 전처리를 위한 부분을 거친 후에는 모든 특성들이 수치형이어야 합니다. \n",
        "- 아래 셀에서 해당 과정을 수행해 주세요.\n",
        "    1. `pipeline`을 `preprocess_pipeline`과 `model`로 나눠 주세요.\n",
        "    2. `preprocess_pipeline`으로 `X_test`를 transform하여 `X_test_preprocessed`를 생성하세요."
      ]
    },
    {
      "cell_type": "code",
      "execution_count": null,
      "id": "6013dab3",
      "metadata": {
        "deletable": false,
        "nbgrader": {
          "cell_type": "code",
          "checksum": "29601a5ad69784a420bdd3d864156ebb",
          "grade": false,
          "grade_id": "p3_preprocess",
          "locked": false,
          "schema_version": 3,
          "solution": true,
          "task": false
        },
        "id": "6013dab3"
      },
      "outputs": [],
      "source": [
        "pipeline = clf.best_estimator_\n",
        "\n",
        "# TODO: pipeline을 preprocess_pipeline과 model로 나눠 주세요.\n",
        "preprocess_pipeline = None\n",
        "model = None\n",
        "# YOUR CODE HERE\n",
        "\n",
        "\n",
        "# YOUR CODE ENDS HERE\n",
        "\n",
        "# TODO: X_test를 preprocess_pipeline에 통과시켜 X_test_preprocessed를 만드세요.\n",
        "X_test_preprocessed = None\n",
        "# YOUR CODE HERE\n",
        "\n",
        "\n",
        "# YOUR CODE ENDS HERE"
      ]
    },
    {
      "cell_type": "markdown",
      "id": "762689a6",
      "metadata": {
        "deletable": false,
        "editable": false,
        "nbgrader": {
          "cell_type": "markdown",
          "checksum": "fbe0d092dbf107a876b469ef12567988",
          "grade": false,
          "grade_id": "cell-82752ac26d440f73",
          "locked": true,
          "schema_version": 3,
          "solution": false,
          "task": false
        },
        "id": "762689a6"
      },
      "source": [
        "## 3.1 Permutation Importance를 계산하는 `get_permutation_importance` 함수를 작성하세요.\n",
        "- AUC score을 기준으로 Permutation Importance를 계산하는 permuter을 생성, fit하여 반환하세요.\n",
        "- `n_iter=5`로 하세요."
      ]
    },
    {
      "cell_type": "code",
      "execution_count": null,
      "id": "c2bba75f",
      "metadata": {
        "deletable": false,
        "nbgrader": {
          "cell_type": "code",
          "checksum": "f677aec29eb277e214c999f8f47622d6",
          "grade": false,
          "grade_id": "3-1",
          "locked": false,
          "schema_version": 3,
          "solution": true,
          "task": false
        },
        "id": "c2bba75f"
      },
      "outputs": [],
      "source": [
        "import eli5\n",
        "from eli5.sklearn import PermutationImportance\n",
        "\n",
        "\n",
        "def get_permutation_importance(X, y, model):\n",
        "    permuter = None\n",
        "    # permuter = PermutationImportance(..., n_iter=5, random_state=42)\n",
        "\n",
        "    # YOUR CODE HERE\n",
        "    \n",
        "    \n",
        "    # YOUR CODE ENDS HERE\n",
        "    permuter.fit(X, y)\n",
        "\n",
        "    return permuter"
      ]
    },
    {
      "cell_type": "code",
      "execution_count": null,
      "id": "55f96610",
      "metadata": {
        "deletable": false,
        "editable": false,
        "nbgrader": {
          "cell_type": "code",
          "checksum": "82d2aed0210bf3dcdacd74d21f77ef9f",
          "grade": true,
          "grade_id": "3-1_test_code",
          "locked": true,
          "points": 1,
          "schema_version": 3,
          "solution": false,
          "task": false
        },
        "id": "55f96610"
      },
      "outputs": [],
      "source": [
        "permuter = get_permutation_importance(X_test_preprocessed, y_test, model)\n",
        "eli5.show_weights(permuter, top=None, feature_names=X_test.columns.tolist())\n",
        "print(\"Top3 Important Features:\")\n",
        "p_i = sorted(\n",
        "    list(zip(X_test.columns.tolist(), permuter.feature_importances_)),\n",
        "    key=lambda x: x[1],\n",
        "    reverse=True,\n",
        ")\n",
        "print(p_i[:3])"
      ]
    },
    {
      "cell_type": "markdown",
      "id": "2d609bf4",
      "metadata": {
        "deletable": false,
        "editable": false,
        "nbgrader": {
          "cell_type": "markdown",
          "checksum": "4cca45cddb7c9b9ea1a9bbb31bd45755",
          "grade": false,
          "grade_id": "cell-fb46bd888a7b07fa",
          "locked": true,
          "schema_version": 3,
          "solution": false,
          "task": false
        },
        "id": "2d609bf4"
      },
      "source": [
        "### 위 결과를 기반으로, 아래의 질문에 답해 보세요. \n",
        "- 확인할 수 없으면 `\"모름\"`으로 답하세요.\n",
        "- 답이 하나이면 `String`, 여러 개이면 `List`로 답하세요.\n",
        "\n",
        "\n",
        "- **문제 1.** 평균적으로 모델의 성능에 가장 많은 영향을 주는 특성은 무엇인가요?\n",
        "- **문제 2.** 모델의 예측값과 양의 상관관계를 갖는 특성은 무엇인가요?\n",
        "- **문제 3.** 모델의 예측값과 음의 상관관계를 갖는 특성은 무엇인가요?\n"
      ]
    },
    {
      "cell_type": "code",
      "execution_count": null,
      "id": "2512abd9",
      "metadata": {
        "deletable": false,
        "nbgrader": {
          "cell_type": "code",
          "checksum": "c5c72fbc887b7dc1726a0e7ec9f1237a",
          "grade": false,
          "grade_id": "3-1_interpretation",
          "locked": false,
          "schema_version": 3,
          "solution": true,
          "task": false
        },
        "id": "2512abd9"
      },
      "outputs": [],
      "source": [
        "answer_1 = None\n",
        "answer_2 = None\n",
        "answer_3 = None\n",
        "\n",
        "# YOUR CODE HERE\n",
        "\n",
        "\n",
        "# YOUR CODE ENDS HERE"
      ]
    },
    {
      "cell_type": "code",
      "execution_count": null,
      "id": "c1ad3372",
      "metadata": {
        "deletable": false,
        "editable": false,
        "nbgrader": {
          "cell_type": "code",
          "checksum": "0688166f61a756b36fed3e843766b45b",
          "grade": true,
          "grade_id": "3-1_test_interpretation",
          "locked": true,
          "points": 1,
          "schema_version": 3,
          "solution": false,
          "task": false
        },
        "id": "c1ad3372"
      },
      "outputs": [],
      "source": [
        "print(\"A1:\", answer_1)\n",
        "print(\"A2:\", answer_2)\n",
        "print(\"A3:\", answer_3)\n"
      ]
    },
    {
      "cell_type": "markdown",
      "id": "1d422067",
      "metadata": {
        "deletable": false,
        "editable": false,
        "nbgrader": {
          "cell_type": "markdown",
          "checksum": "a31e42784a2ac4b15eeebbb2a3595030",
          "grade": false,
          "grade_id": "cell-9210d46ba9b06c13",
          "locked": true,
          "schema_version": 3,
          "solution": false,
          "task": false
        },
        "id": "1d422067"
      },
      "source": [
        "## 3.2 1변수 PDP Plot을 생성하는 `get_pdp_isolated` 함수를 작성하세요.\n",
        "- `feature`의 특성을 변수로 하는 1변수 PDP Plot을 생성합니다."
      ]
    },
    {
      "cell_type": "code",
      "execution_count": null,
      "id": "fbaed864",
      "metadata": {
        "deletable": false,
        "nbgrader": {
          "cell_type": "code",
          "checksum": "0b3cfb5e55690b59ab816e776ed87321",
          "grade": false,
          "grade_id": "3-2",
          "locked": false,
          "schema_version": 3,
          "solution": true,
          "task": false
        },
        "id": "fbaed864"
      },
      "outputs": [],
      "source": [
        "from pdpbox.pdp import pdp_isolate, pdp_plot\n",
        "\n",
        "\n",
        "def get_pdp_isolated(dataset, model, feature):\n",
        "    pdp_isolated = None\n",
        "\n",
        "    # YOUR CODE HERE\n",
        "    \n",
        "    \n",
        "    # YOUR CODE ENDS HERE\n",
        "\n",
        "    return pdp_isolated"
      ]
    },
    {
      "cell_type": "code",
      "execution_count": null,
      "id": "4938e383",
      "metadata": {
        "deletable": false,
        "editable": false,
        "nbgrader": {
          "cell_type": "code",
          "checksum": "6cf27ae4202841b1f2b901ef4e3ae200",
          "grade": true,
          "grade_id": "3-2_test_code",
          "locked": true,
          "points": 1,
          "schema_version": 3,
          "solution": false,
          "task": false
        },
        "id": "4938e383"
      },
      "outputs": [],
      "source": [
        "X_test_preprocessed_df = pd.DataFrame(X_test_preprocessed, columns=X_test.columns)\n",
        "feature = sorted(p_i, key=lambda x: x[1], reverse=True)[0][0]\n",
        "pdp_isolated = get_pdp_isolated(X_test_preprocessed_df, model, feature)\n",
        "pdp_plot(pdp_isolated, feature_name=feature)"
      ]
    },
    {
      "cell_type": "markdown",
      "id": "e2e68510",
      "metadata": {
        "deletable": false,
        "editable": false,
        "nbgrader": {
          "cell_type": "markdown",
          "checksum": "d3c61fa4d103827da9b6c069b6990d87",
          "grade": false,
          "grade_id": "cell-7060a1b0a5f0cc81",
          "locked": true,
          "schema_version": 3,
          "solution": false,
          "task": false
        },
        "id": "e2e68510"
      },
      "source": [
        "### 위 결과를 기반으로, 아래의 질문에 답해 보세요. \n",
        "- `True`/`False`로 답하고 그 이유를 한 줄로 작성하세요.\n",
        "\n",
        "\n",
        "- **문제 1.** 위 Plot은 해당 특성에 따른 실제 label값의 양상을 나타낸 것이다.\n",
        "- **문제 2.** 위 Plot은 해당 특성에 따른 모델의 label 예측값의 양상을 나타낸 것이다.\n",
        "- **문제 3.** 선형회귀 모델(Linear Regression)에서 isolated PDP는 데이터의 분포와는 무관하게 항상 직선이다.\n",
        "- **문제 4.** 선형회귀 모델(Linear Regression)의 isolated PDP에서 여러 개의 서로 다른 ICE 곡선이 나올 수 있다.\n"
      ]
    },
    {
      "cell_type": "code",
      "execution_count": null,
      "id": "3cd16341",
      "metadata": {
        "deletable": false,
        "nbgrader": {
          "cell_type": "code",
          "checksum": "3ffba2f6720ac2c45b6c365e891609bd",
          "grade": false,
          "grade_id": "3-2_interpretation",
          "locked": false,
          "schema_version": 3,
          "solution": true,
          "task": false
        },
        "id": "3cd16341"
      },
      "outputs": [],
      "source": [
        "answer_1 = False  # True / False\n",
        "reason_1 = \"\"\n",
        "answer_2 = False  # True / False\n",
        "reason_2 = \"\"\n",
        "answer_3 = False  # True / False\n",
        "reason_3 = \"\"\n",
        "answer_4 = False  # True / False\n",
        "reason_4 = \"\"\n",
        "\n",
        "# YOUR CODE HERE\n",
        "\n",
        "\n",
        "# YOUR CODE ENDS HERE"
      ]
    },
    {
      "cell_type": "code",
      "execution_count": null,
      "id": "d180ba2b",
      "metadata": {
        "deletable": false,
        "editable": false,
        "nbgrader": {
          "cell_type": "code",
          "checksum": "8bbc216676c7a58027c11e85bb76693b",
          "grade": true,
          "grade_id": "3-2_test_interpretation",
          "locked": true,
          "points": 1,
          "schema_version": 3,
          "solution": false,
          "task": false
        },
        "id": "d180ba2b"
      },
      "outputs": [],
      "source": [
        "print(\"A1:\", answer_1, \"Why?:\", reason_1)\n",
        "print(\"A2:\", answer_2, \"Why?:\", reason_2)\n",
        "print(\"A3:\", answer_3, \"Why?:\", reason_3)\n",
        "print(\"A4:\", answer_4, \"Why?:\", reason_4)\n"
      ]
    },
    {
      "cell_type": "markdown",
      "id": "61531eeb",
      "metadata": {
        "deletable": false,
        "editable": false,
        "nbgrader": {
          "cell_type": "markdown",
          "checksum": "fa36836884b0c0169c1819131b895f55",
          "grade": false,
          "grade_id": "cell-724d9ce8534e3c8d",
          "locked": true,
          "schema_version": 3,
          "solution": false,
          "task": false
        },
        "id": "61531eeb"
      },
      "source": [
        "## 3.3 2변수 PDP Plot을 생성하는 `get_pdp_interaction` 함수를 작성하세요."
      ]
    },
    {
      "cell_type": "code",
      "execution_count": null,
      "id": "16d17890",
      "metadata": {
        "deletable": false,
        "nbgrader": {
          "cell_type": "code",
          "checksum": "8874910b312630384fab2f9a5cd8571b",
          "grade": false,
          "grade_id": "3-3",
          "locked": false,
          "schema_version": 3,
          "solution": true,
          "task": false
        },
        "id": "16d17890"
      },
      "outputs": [],
      "source": [
        "from pdpbox.pdp import pdp_interact, pdp_interact_plot\n",
        "\n",
        "\n",
        "def get_pdp_interaction(dataset, model, features):\n",
        "    pdp_interaction = None\n",
        "\n",
        "    # YOUR CODE HERE\n",
        "    \n",
        "    \n",
        "    # YOUR CODE ENDS HERE\n",
        "\n",
        "    return pdp_interaction"
      ]
    },
    {
      "cell_type": "code",
      "execution_count": null,
      "id": "572813e8",
      "metadata": {
        "deletable": false,
        "editable": false,
        "nbgrader": {
          "cell_type": "code",
          "checksum": "04809c85a8110e63431c9419cdb9e5ea",
          "grade": true,
          "grade_id": "3-3_test_code",
          "locked": true,
          "points": 1,
          "schema_version": 3,
          "solution": false,
          "task": false
        },
        "id": "572813e8"
      },
      "outputs": [],
      "source": [
        "features = list(map(lambda x: x[0], sorted(p_i, key=lambda x: x[1], reverse=True)))[:2]\n",
        "pdp_interaction = get_pdp_interaction(X_test_preprocessed_df, model, features)\n",
        "pdp_interact_plot(pdp_interaction, feature_names=features, plot_type=\"grid\")"
      ]
    },
    {
      "cell_type": "markdown",
      "id": "0a2fdeb7",
      "metadata": {
        "id": "0a2fdeb7"
      },
      "source": [
        "---"
      ]
    },
    {
      "cell_type": "markdown",
      "id": "d8c06424",
      "metadata": {
        "id": "d8c06424"
      },
      "source": [
        "# 수고하셨습니다!"
      ]
    }
  ],
  "metadata": {
    "kernelspec": {
      "display_name": "Python 3 (ipykernel)",
      "language": "python",
      "name": "python3"
    },
    "language_info": {
      "codemirror_mode": {
        "name": "ipython",
        "version": 3
      },
      "file_extension": ".py",
      "mimetype": "text/x-python",
      "name": "python",
      "nbconvert_exporter": "python",
      "pygments_lexer": "ipython3",
      "version": "3.8.9"
    },
    "colab": {
      "name": "Part1_3.ipynb",
      "provenance": []
    }
  },
  "nbformat": 4,
  "nbformat_minor": 5
}