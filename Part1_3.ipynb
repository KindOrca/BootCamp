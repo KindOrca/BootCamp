{
 "cells": [
  {
   "cell_type": "markdown",
   "id": "747a20dd",
   "metadata": {},
   "source": [
    "# 확인하세요!\n",
    "\n",
    "### 제출 전에 모든 코드가 순차적으로 잘 작동하는지 확인하세요. \n",
    "- **커널을 다시 시작**한 다음(메뉴바에서 Kernel$\\rightarrow$Restart 선택) **모든 셀을 실행**해 보세요(메뉴바에서 Cell$\\rightarrow$Run All 선택).\n",
    "\n",
    "### 지정 셀의 지정 영역에서만 코드를 작성했는지 확인하세요.\n",
    "- `YOUR CODE HERE`이 적혀 있는 셀에 대한 코드만 채점에 반영됩니다.\n",
    "- `YOUR CODE HERE` ~ `YOUR CODE ENDS HERE` 사이에 본인의 코드를 작성하세요.\n",
    "- 지정 셀 이외에 본인이 코드 실행 결과를 확인하기 위한 용도로 셀을 추가해도 됩니다.\n",
    "    - **제출 시 지정 셀에서는 정답 이외에 결과 확인을 위한 코드 등은 제거하고 제출해 주세요!**\n",
    "    - **기존 셀을 삭제하지 마세요! 채점에 불이익이 있을 수 있습니다.**\n",
    "\n",
    "### 제출 방법\n",
    "- 시간 내에 문제를 풀고, 본인의 github repo에 push 하세요.\n",
    "    - **디렉토리 구조가 변하면 안 됩니다.** `codestates/ds-sc2xx`와 디렉토리 구조가 동일해야 합니다. 답안 파일의 이름을 변경하지 않았는지, 기존에 없던 폴더가 추가되지 않았는지 등을 확인하세요.\n",
    "    - **코드스테이츠 가입 시 연동한 github 계정을 사용해야 합니다.**\n",
    "    - **branch를 변경하여 작업하지 마세요.**\n",
    "        - `master` branch에의 제출 사항에 대해서만 평가합니다.\n",
    "        - 본인의 github repo `master` branch에 제출이 잘 되어 있는지 확인하세요."
   ]
  },
  {
   "cell_type": "markdown",
   "id": "6821f545",
   "metadata": {},
   "source": [
    "---"
   ]
  },
  {
   "cell_type": "markdown",
   "id": "6f4f7cc5",
   "metadata": {
    "deletable": false,
    "editable": false,
    "nbgrader": {
     "cell_type": "markdown",
     "checksum": "75d1a96b35e95ad998708dbf4ac9a614",
     "grade": false,
     "grade_id": "cell-5b7fa4769535997c",
     "locked": true,
     "schema_version": 3,
     "solution": false,
     "task": false
    }
   },
   "source": [
    "# SC23x\n",
    " \n",
    "## Applied Predictive Modeling\n",
    "\n",
    " 이번 스프린트 챌린지에서는 시카고에 있는 식당들의 정보와 해당 식당들의 위생 검사 결과에 관한 데이터를 담은 데이터셋을 다루게 됩니다.\n",
    "\n",
    "데이터셋에 관한 설명은 이 [PDF](https://data.cityofchicago.org/api/assets/BAD5301B-681A-4202-9D25-51B2CAE672FF)를 참고해주시길 바랍니다."
   ]
  },
  {
   "cell_type": "markdown",
   "id": "47d7d20d",
   "metadata": {
    "deletable": false,
    "editable": false,
    "nbgrader": {
     "cell_type": "markdown",
     "checksum": "10c83cf610a0d051d3ba4677ce80a614",
     "grade": false,
     "grade_id": "cell-b104eb070075cc6e",
     "locked": true,
     "schema_version": 3,
     "solution": false,
     "task": false
    }
   },
   "source": [
    "#### 목표: 오늘 여러분은 Chicago시의 공중보건부에서 진행한 레스토랑들의 위생 검사 \"불합격\" 여부를 예측하는 모델을 만들어야 합니다.\n",
    "\n",
    "여러분의 모델이 예측할 target은 `Inspection Fail` 칼럼입니다.   \n",
    "칼럼 값은 아래와 같습니다:\n",
    "- 식당이 위생 검사에 불합격한 경우: **1**\n",
    "- 식당이 검사를 통과한 경우: **0**"
   ]
  },
  {
   "cell_type": "code",
   "execution_count": null,
   "id": "cdad95b2",
   "metadata": {
    "deletable": false,
    "editable": false,
    "nbgrader": {
     "cell_type": "code",
     "checksum": "6ccc35d9eb61ec84fdda72e44083b6a2",
     "grade": false,
     "grade_id": "cell-ee764f0e965ac62a",
     "locked": true,
     "schema_version": 3,
     "solution": false,
     "task": false
    }
   },
   "outputs": [],
   "source": [
    "# Google Colab을 사용하는 경우 해당 셀을 실행하세요\n",
    "import sys\n",
    "\n",
    "if \"google.colab\" in sys.modules:\n",
    "    # Install packages in Colab\n",
    "    !pip install category_encoders==2.*\n",
    "    !pip install eli5\n",
    "    !pip install pandas-profiling==2.*\n",
    "    !pip install pdpbox\n",
    "    !pip install shap"
   ]
  },
  {
   "cell_type": "code",
   "execution_count": null,
   "id": "3a53a31f",
   "metadata": {
    "deletable": false,
    "editable": false,
    "nbgrader": {
     "cell_type": "code",
     "checksum": "fcd5d0d9358b0d7734f8070a9c07e2e5",
     "grade": false,
     "grade_id": "cell-2602a05446403de0",
     "locked": true,
     "schema_version": 3,
     "solution": false,
     "task": false
    }
   },
   "outputs": [],
   "source": [
    "# ignore warnings\n",
    "import xgboost\n",
    "import warnings\n",
    "\n",
    "warnings.filterwarnings(\"ignore\")\n",
    "xgboost.config.set_config(verbosity=0)\n",
    "\n",
    "# 데이터셋을 불러오기 위해 판다스 라이브러리를 불러옵니다\n",
    "import pandas as pd\n",
    "\n",
    "train_url = \"https://ds-lecture-data.s3.ap-northeast-2.amazonaws.com/food_inspection_sc23x/food_ins_train.csv\"\n",
    "test_url = \"https://ds-lecture-data.s3.ap-northeast-2.amazonaws.com/food_inspection_sc23x/food_ins_test.csv\"\n",
    "\n",
    "# train, test 데이터셋을 불러옵니다\n",
    "train = pd.read_csv(train_url)\n",
    "test = pd.read_csv(test_url)\n",
    "\n",
    "# 데이터셋 확인\n",
    "assert train.shape == (60000, 17)\n",
    "assert test.shape == (20000, 17)"
   ]
  },
  {
   "cell_type": "code",
   "execution_count": null,
   "id": "f34ba7af",
   "metadata": {
    "deletable": false,
    "editable": false,
    "nbgrader": {
     "cell_type": "code",
     "checksum": "11755eee8159a394025f4ec9bf02631c",
     "grade": false,
     "grade_id": "cell-5588e0945ba113c3",
     "locked": true,
     "schema_version": 3,
     "solution": false,
     "task": false
    }
   },
   "outputs": [],
   "source": [
    "train.head()"
   ]
  },
  {
   "cell_type": "markdown",
   "id": "6b9c8083",
   "metadata": {
    "deletable": false,
    "editable": false,
    "nbgrader": {
     "cell_type": "markdown",
     "checksum": "96dab9d3b391906d6e6e33edcf985701",
     "grade": false,
     "grade_id": "cell-f75742bcbc000238",
     "locked": true,
     "schema_version": 3,
     "solution": false,
     "task": false
    }
   },
   "source": [
    "# Part 1 - Data Preprocessing"
   ]
  },
  {
   "cell_type": "code",
   "execution_count": null,
   "id": "a28fd02f",
   "metadata": {},
   "outputs": [],
   "source": [
    "test[\"Inspection Fail\"]"
   ]
  },
  {
   "cell_type": "markdown",
   "id": "a94d9ce7",
   "metadata": {
    "deletable": false,
    "editable": false,
    "nbgrader": {
     "cell_type": "markdown",
     "checksum": "394b74d7af30cee0e869e38eb5dcae91",
     "grade": false,
     "grade_id": "cell-2e2530fc1a4e5a3b",
     "locked": true,
     "schema_version": 3,
     "solution": false,
     "task": false
    }
   },
   "source": [
    "## 컬럼 설명\n",
    "\n",
    "- **DBA**: 설립 시 서류에 등록한 이름\n",
    "\n",
    "- **AKA**: 대중들에게 알려져 있는 상표 이름\n",
    "\n",
    "- **License number**: 사업자 고유번호 (사업자등록번호)\n",
    "\n",
    "- **Type of facility**: 매장 업종 \n",
    "\n",
    "    bakery, banquet hall, candy store, caterer, coffee shop, day care center (for ages less than 2), day care center (for ages 2 – 6), day care center (combo, for ages less than 2 and 2-6 combined), gas station, Golden Diner, grocery store, hospital, long term care center(nursing home), liquor store, mobile food dispenser, restaurant, paleteria, school, shelter, tavern, social club, wholesaler, or Wrigley Field Rooftop.\n",
    "    \n",
    "    \n",
    "- **Risk**: 위험 시설 분류 카테고리 : 국민 건강에 악영향을 미칠 위험이 얼마나 높은 시설인가? (1이 가장 높고, 3이 가장 낮은 카테고리임. 위험 1 시설이 검사 빈도가 높은 편이고, 위험 3 시설이 검사 빈도가 낮은 편)\n",
    "\n",
    "- **Address, City, State, Zip**: 해당 시설이 위치한 주소 (Full Address)\n",
    "\n",
    "- **Inspection date**: 검사 날짜. (어떤 사업장은 동일한 사업장명에 각기 다른 검사 날짜를 가지고 있을 수도 있음)\n",
    "\n",
    "- **Inspection type**: 검사 유형. (각 이유에 대해 Re-inspection이 붙으면 재검사한 것)\n",
    "    - Canvass : 시설의 위험도와 관련된 가장 이란적인 유형의 검사. \n",
    "    - Consultation : 개업 전 소유자의 요청으로 검사를 수행.\n",
    "    - Complaint : 민원 사항 발생 시 검사를 수행할 때.\n",
    "    - License : 사업장의 영업허가서 발금 요건으로 검사를 할 때.\n",
    "    - Suspect Food Poisoning : 사업장에서 식사 (민원 처리 된 특정 유형의 검사)로 인해 병에 걸렸다고 주장하는 1인 이상에게 검사를 할 때.\n",
    "    - Task-force Inspection : 술집 또는 주점의 검사가 수행된 경우\n",
    "    \n",
    "- **Inspection Fail**: 검사 결과(불합격 여부)\n",
    "    - 실패를 받는다고 해서 반드시 사업장 면허가 정지되는 것은 아님.\n",
    "    \n",
    "- **Violations**: 위반사항. 위반사항을 지칭하는 고유번호와 위반한 사항 및 시정 요건에 대한 설명이 주어짐."
   ]
  },
  {
   "cell_type": "markdown",
   "id": "317a659c",
   "metadata": {
    "deletable": false,
    "editable": false,
    "nbgrader": {
     "cell_type": "markdown",
     "checksum": "2baf983e63c25c7701d1c002ceb81dfa",
     "grade": false,
     "grade_id": "cell-78b3370c9bae8d7c",
     "locked": true,
     "schema_version": 3,
     "solution": false,
     "task": false
    }
   },
   "source": [
    "## 1.1 데이터셋을 파악하기 위한 EDA를 진행하세요.\n",
    "- 아래 기본적인 EDA 과정을 위해 필요한 몇몇 함수들을 완성하세요.\n",
    "- 함수의 기능 및 입출력 형태는 함수 내의 주석을 따르세요.\n",
    "- **아래 EDA 과정만으로는 데이터에 대한 통찰을 얻기에 부족합니다. 추가로 본인만의 EDA 과정을 꼭 수행해 보세요.**"
   ]
  },
  {
   "cell_type": "code",
   "execution_count": null,
   "id": "9fd4bab4",
   "metadata": {
    "deletable": false,
    "nbgrader": {
     "cell_type": "code",
     "checksum": "befe3fdc9607cb8a4c23aa404247badc",
     "grade": false,
     "grade_id": "1-1_feature",
     "locked": false,
     "schema_version": 3,
     "solution": true,
     "task": false
    }
   },
   "outputs": [],
   "source": [
    "def analysis_on_features(df):\n",
    "    \"\"\"\n",
    "    - eda_results라고 하는 새로운 데이터프레임에 아래의 정보들을 담아 반환하세요.\n",
    "        - null_count: 입력 Pandas DataFrame의 column별 결측치의 수\n",
    "        - num_unique_values: 입력 Pandas DataFrame의 unique한 값의 수\n",
    "        - eda_results는 df의 column명을 index로 사용하는 데이터프레임입니다.\n",
    "\n",
    "    - 데이터프레임에 중복되는 row가 있지는 않나요?\n",
    "        - duplicated_rows에 중복되는 row 수를 담아 반환하세요.\n",
    "\n",
    "    \"\"\"\n",
    "    eda_results = pd.DataFrame()\n",
    "    eda_results[\"null_count\"] = None\n",
    "    eda_results[\"num_unique_values\"] = None\n",
    "    duplicated_rows = -1\n",
    "\n",
    "    # YOUR CODE HERE\n",
    "    \n",
    "    \n",
    "    # YOUR CODE ENDS HERE\n",
    "\n",
    "    return eda_results, duplicated_rows"
   ]
  },
  {
   "cell_type": "code",
   "execution_count": null,
   "id": "6d48003a",
   "metadata": {
    "deletable": false,
    "editable": false,
    "nbgrader": {
     "cell_type": "code",
     "checksum": "42ffc93b79421586a583bf89fe8ef8d4",
     "grade": true,
     "grade_id": "1-1_feature_test",
     "locked": true,
     "points": 1,
     "schema_version": 3,
     "solution": false,
     "task": false
    }
   },
   "outputs": [],
   "source": [
    "train_results, train_duplicated_rows = analysis_on_features(train)\n",
    "test_results, test_duplicated_rows = analysis_on_features(test)\n",
    "print(f\"Train df: duplicated? = {train_duplicated_rows}\\n\", train_results, \"\\n\\n\")\n",
    "print(f\"Test df: duplicated? = {test_duplicated_rows}\\n\", test_results)"
   ]
  },
  {
   "cell_type": "code",
   "execution_count": null,
   "id": "c49c2c62",
   "metadata": {
    "deletable": false,
    "nbgrader": {
     "cell_type": "code",
     "checksum": "9cfa61c85aabf052efb56e5224bde132",
     "grade": false,
     "grade_id": "1-1_target",
     "locked": false,
     "schema_version": 3,
     "solution": true,
     "task": false
    }
   },
   "outputs": [],
   "source": [
    "import matplotlib.pyplot as plt\n",
    "\n",
    "\n",
    "def analysis_on_target(df):\n",
    "    \"\"\"\n",
    "    n_zero_label, n_one_label에\n",
    "    각각 label이 0인 데이터의 수, label이 1인 데이터의 수를 담아 반환하세요.\n",
    "    \"\"\"\n",
    "    n_zero_label, n_one_label = -1, -1\n",
    "\n",
    "    # YOUR CODE HERE\n",
    "    \n",
    "    \n",
    "    # YOUR CODE ENDS HERE\n",
    "\n",
    "    plt.pie(\n",
    "        (n_zero_label, n_one_label),\n",
    "        labels=(0, 1),\n",
    "        autopct=\"%.2f%%\",\n",
    "        shadow=True,\n",
    "        startangle=90,\n",
    "    )\n",
    "    plt.title(\"Target: Inspection Fail\", size=15)\n",
    "    plt.show()\n",
    "\n",
    "    return n_zero_label, n_one_label"
   ]
  },
  {
   "cell_type": "code",
   "execution_count": null,
   "id": "10749633",
   "metadata": {
    "deletable": false,
    "editable": false,
    "nbgrader": {
     "cell_type": "code",
     "checksum": "f69ff1fa2d973de521389cb378afe6cc",
     "grade": true,
     "grade_id": "1-1_target_test",
     "locked": true,
     "points": 0.5,
     "schema_version": 3,
     "solution": false,
     "task": false
    }
   },
   "outputs": [],
   "source": [
    "train_label_count = analysis_on_target(train)\n",
    "test_label_count = analysis_on_target(test)"
   ]
  },
  {
   "cell_type": "code",
   "execution_count": null,
   "id": "89890e8d",
   "metadata": {
    "deletable": false,
    "editable": false,
    "nbgrader": {
     "cell_type": "code",
     "checksum": "2a594e1d9691d201063cdb75efda797a",
     "grade": false,
     "grade_id": "cell-838a2646713d5494",
     "locked": true,
     "schema_version": 3,
     "solution": false,
     "task": false
    }
   },
   "outputs": [],
   "source": [
    "print(\n",
    "    \"\"\"\n",
    "이 셀에서 추가로 데이터를 자유롭게 분석해 보세요.\n",
    "- 이 셀에서의 작업은 채점하지 않습니다.\n",
    "- 채점 시 이 셀에서 작업한 내용은 전부 무시됩니다.\n",
    "- 제출 전에 이 셀의 내용을 모두 주석 처리한 후 모든 코드가 순차적으로 오류 없이 실행되는지 꼭 확인하세요.\n",
    "\"\"\"\n",
    ")"
   ]
  },
  {
   "cell_type": "markdown",
   "id": "4b7abb2a",
   "metadata": {
    "deletable": false,
    "editable": false,
    "nbgrader": {
     "cell_type": "markdown",
     "checksum": "cbc8a64e876a1cc768c20200e3170928",
     "grade": false,
     "grade_id": "cell-379b9354bac4ee0b",
     "locked": true,
     "schema_version": 3,
     "solution": false,
     "task": false
    }
   },
   "source": [
    "## 1.2 EDA의 결과를 토대로 Feature Engineering 및 Preprocessing을 수행하는 함수 `eda_process`를 작성하세요.\n",
    "\n",
    "- 결측치를 적절히 처리하세요.\n",
    "    - **Row를 drop하지 말고, 적절한 값으로 채워넣어 보세요.**\n",
    "    - 전처리가 완료된 train, test 데이터의 크기는 각각 **59947, 19994**입니다.\n",
    "- 새로운 feature를 만드는 작업뿐만이 아니라, 필요한 feature가 적절한 데이터 타입을 가지고 있지 않다면 변환합니다.\n",
    "- 시간 배분을 고려햐여 적절한 수준으로 수행하세요!"
   ]
  },
  {
   "cell_type": "code",
   "execution_count": null,
   "id": "0db6ee42",
   "metadata": {
    "deletable": false,
    "nbgrader": {
     "cell_type": "code",
     "checksum": "fbdd1e318546f5ded4a4de13110416f4",
     "grade": false,
     "grade_id": "1-2",
     "locked": false,
     "schema_version": 3,
     "solution": true,
     "task": false
    }
   },
   "outputs": [],
   "source": [
    "# import any libraries needed\n",
    "# YOUR CODE HERE\n",
    "\n",
    "\n",
    "# YOUR CODE ENDS HERE\n",
    "\n",
    "\n",
    "def eda_process(df):\n",
    "    # State 컬럼 처리 : 결측치 및 IL이 아닌 row 삭제\n",
    "    df.dropna(subset=[\"State\"], how=\"any\", axis=0, inplace=True)\n",
    "    df = df.query(\"State == 'IL'\")\n",
    "\n",
    "    # Risk : 결측치 및 All 삭제 > 1, 2, 3으로 바꾸어 줌\n",
    "    df.dropna(subset=[\"Risk\"], how=\"any\", axis=0, inplace=True)\n",
    "    df = df.query(\"Risk != 'All'\")\n",
    "    df.replace(\"Risk 1 (High)\", 1, inplace=True)\n",
    "    df.replace(\"Risk 2 (Medium)\", 2, inplace=True)\n",
    "    df.replace(\"Risk 3 (Low)\", 3, inplace=True)\n",
    "\n",
    "    # YOUR CODE HERE\n",
    "    \n",
    "    \n",
    "    # YOUR CODE ENDS HERE\n",
    "\n",
    "    return df"
   ]
  },
  {
   "cell_type": "code",
   "execution_count": null,
   "id": "e90106c9",
   "metadata": {
    "deletable": false,
    "editable": false,
    "nbgrader": {
     "cell_type": "code",
     "checksum": "932ae72c1adfab9642e0e610d0d94c23",
     "grade": true,
     "grade_id": "1-2_test",
     "locked": true,
     "points": 1,
     "schema_version": 3,
     "solution": false,
     "task": false
    }
   },
   "outputs": [],
   "source": [
    "train_processed = eda_process(train.copy())\n",
    "test_processed = eda_process(test.copy())\n",
    "print(train_processed.shape, test_processed.shape)"
   ]
  },
  {
   "cell_type": "markdown",
   "id": "d37ba45b",
   "metadata": {
    "deletable": false,
    "editable": false,
    "nbgrader": {
     "cell_type": "markdown",
     "checksum": "137f3fecacaac450cc5af267124bc4ae",
     "grade": false,
     "grade_id": "cell-830432dc10ec8364",
     "locked": true,
     "schema_version": 3,
     "solution": false,
     "task": false
    }
   },
   "source": [
    "### 전처리 후 target 분포의 변화를 다시 확인해 보세요."
   ]
  },
  {
   "cell_type": "code",
   "execution_count": null,
   "id": "1442e4a1",
   "metadata": {
    "deletable": false,
    "editable": false,
    "nbgrader": {
     "cell_type": "code",
     "checksum": "0a1c5c3bce03dfc07374c687f70aa58a",
     "grade": false,
     "grade_id": "cell-3992c9dc381419fe",
     "locked": true,
     "schema_version": 3,
     "solution": false,
     "task": false
    }
   },
   "outputs": [],
   "source": [
    "analysis_on_target(train_processed)\n",
    "analysis_on_target(test_processed)"
   ]
  },
  {
   "cell_type": "markdown",
   "id": "90c22148",
   "metadata": {
    "deletable": false,
    "editable": false,
    "nbgrader": {
     "cell_type": "markdown",
     "checksum": "ff9d65d617880cdb3915f9d7530b4b35",
     "grade": false,
     "grade_id": "cell-061f9cf27e568eae",
     "locked": true,
     "schema_version": 3,
     "solution": false,
     "task": false
    }
   },
   "source": [
    "# Part 2 - Modeling"
   ]
  },
  {
   "cell_type": "markdown",
   "id": "a003f3e1",
   "metadata": {
    "deletable": false,
    "editable": false,
    "nbgrader": {
     "cell_type": "markdown",
     "checksum": "cce3f960d1383bd4c8143872634c2627",
     "grade": false,
     "grade_id": "cell-74769ab837a16066",
     "locked": true,
     "schema_version": 3,
     "solution": false,
     "task": false
    }
   },
   "source": [
    "## 2.1 데이터를 feature (X), label(y)로 분할하는 `divide_data` 함수를 작성하세요."
   ]
  },
  {
   "cell_type": "code",
   "execution_count": null,
   "id": "a85431a9",
   "metadata": {
    "deletable": false,
    "nbgrader": {
     "cell_type": "code",
     "checksum": "755c04f081e54ada5549c1677d6b100b",
     "grade": false,
     "grade_id": "2-1",
     "locked": false,
     "schema_version": 3,
     "solution": true,
     "task": false
    }
   },
   "outputs": [],
   "source": [
    "def divide_data(df):\n",
    "    X = None\n",
    "    y = None\n",
    "\n",
    "    # YOUR CODE HERE\n",
    "    \n",
    "    \n",
    "    # YOUR CODE ENDS HERE\n",
    "\n",
    "    return X, y"
   ]
  },
  {
   "cell_type": "code",
   "execution_count": null,
   "id": "20ec9b5d",
   "metadata": {
    "deletable": false,
    "editable": false,
    "nbgrader": {
     "cell_type": "code",
     "checksum": "a97ad7c4d40a86a0201b92d5cc5b6f4f",
     "grade": true,
     "grade_id": "2-1_test",
     "locked": true,
     "points": 0.5,
     "schema_version": 3,
     "solution": false,
     "task": false
    }
   },
   "outputs": [],
   "source": [
    "X_train, y_train = divide_data(train_processed)\n",
    "X_test, y_test = divide_data(test_processed)\n",
    "print(X_train.shape, y_train.shape, X_test.shape, y_test.shape)"
   ]
  },
  {
   "cell_type": "markdown",
   "id": "819f167c",
   "metadata": {
    "deletable": false,
    "editable": false,
    "nbgrader": {
     "cell_type": "markdown",
     "checksum": "80b3786a2510c83c22f8ad523e88471a",
     "grade": false,
     "grade_id": "cell-f54c8204c1a466c0",
     "locked": true,
     "schema_version": 3,
     "solution": false,
     "task": false
    }
   },
   "source": [
    "## 2.2 모델을 생성하고 학습하는 `fit` 함수와 1일 확률을 반환하는 `predict` 함수를 작성하세요. \n",
    "- Scikit-learn의 `pipeline`을 활용하여 학습 파이프라인을 생성하세요.\n",
    "- Boosting 모델을 사용하고자 할 경우 XGBoost를 사용하세요.\n",
    "- `RandomizedSearchCV`를 사용해 CV를 진행하세요.\n",
    "    - 적어도 두 개 이상의 하이퍼파라미터에 대해 탐색을 진행하세요.\n",
    "    - auc score을 최대화하는 하이퍼파라미터 조합을 선택하세요.\n",
    "- cv는 5 이하, n_iter은 10회 이하로 하세요."
   ]
  },
  {
   "cell_type": "code",
   "execution_count": null,
   "id": "5299948c",
   "metadata": {
    "deletable": false,
    "nbgrader": {
     "cell_type": "code",
     "checksum": "a211d7a12373a64339a18eb89622150f",
     "grade": false,
     "grade_id": "2-2",
     "locked": false,
     "schema_version": 3,
     "solution": true,
     "task": false
    }
   },
   "outputs": [],
   "source": [
    "from sklearn.model_selection import RandomizedSearchCV\n",
    "from sklearn.pipeline import make_pipeline\n",
    "from sklearn.metrics import classification_report\n",
    "\n",
    "# import any libraries needed\n",
    "# YOUR CODE HERE\n",
    "\n",
    "\n",
    "# YOUR CODE ENDS HERE\n",
    "\n",
    "\n",
    "def fit(X_train, y_train):\n",
    "    pipeline = None  # pipeline = make_pipeline(...)\n",
    "    clf = None  # clf = RandomizedSearchCV(pipeline, ...)\n",
    "\n",
    "    # YOUR CODE HERE\n",
    "    \n",
    "    \n",
    "    # YOUR CODE ENDS HERE\n",
    "\n",
    "    clf.fit(X_train, y_train)\n",
    "    print(\"Optimal Hyperparameter:\", clf.best_params_)\n",
    "    print(\"AUC:\", clf.best_score_)\n",
    "\n",
    "    return clf\n",
    "\n",
    "\n",
    "def predict(X, y, best_estimator):\n",
    "    y_pred_proba = None\n",
    "\n",
    "    # YOUR CODE HERE\n",
    "    \n",
    "    \n",
    "    # YOUR CODE ENDS HERE\n",
    "\n",
    "    report = classification_report(y, y_pred_proba > 0.5)\n",
    "    return y_pred_proba, report"
   ]
  },
  {
   "cell_type": "code",
   "execution_count": null,
   "id": "07f646a3",
   "metadata": {
    "deletable": false,
    "editable": false,
    "nbgrader": {
     "cell_type": "code",
     "checksum": "59ecbc49ee1f571d6d275caf110fdc02",
     "grade": true,
     "grade_id": "2-2_test_code",
     "locked": true,
     "points": 0,
     "schema_version": 3,
     "solution": false,
     "task": false
    }
   },
   "outputs": [],
   "source": [
    "clf = fit(X_train, y_train)\n",
    "# ignore graded result for this cell."
   ]
  },
  {
   "cell_type": "markdown",
   "id": "5f8bd689",
   "metadata": {},
   "source": [
    "### 아래 셀을 실행시켜 모델의 Test score을 확인해 보세요.\n",
    "- auc_score > 0.65을 만족하면 기본 성능점수를 얻습니다.\n",
    "- (도전과제) auc_score > 0.8을 만족하면 성능점수 만점을 얻습니다.\n",
    "    - 도전과제까지 수행해야 스챌 3점을 얻습니다. \n",
    "    - 1.3으로 돌아가 다양한 특성 조합을 시도해 보세요. \n",
    "    - 2.2로 돌아가 SearchCV에서 다양한 하이퍼파라미터 옵션 조합을 선택해 보세요.\n",
    "        - 본인이 선택한 모델에서, 각 하이퍼파라미터가 어떤 의미를 가지나요?\n",
    "        - SearchCV가 더 다양한 하이퍼파라미터 조합을 시도하도록 하기 위해 SearchCV의 어떤 옵션을 조정해야 할까요?"
   ]
  },
  {
   "cell_type": "code",
   "execution_count": null,
   "id": "89861706",
   "metadata": {
    "deletable": false,
    "editable": false,
    "nbgrader": {
     "cell_type": "code",
     "checksum": "e47c884d927e9911914d9a6c5645a4aa",
     "grade": false,
     "grade_id": "cell-get_auc",
     "locked": true,
     "schema_version": 3,
     "solution": false,
     "task": false
    }
   },
   "outputs": [],
   "source": [
    "import warnings\n",
    "from sklearn.metrics import roc_curve, roc_auc_score\n",
    "\n",
    "warnings.filterwarnings(\"ignore\")\n",
    "\n",
    "\n",
    "def plot_roc(y, y_pred_proba):\n",
    "    auc_score = roc_auc_score(y, y_pred_proba)\n",
    "    fpr, tpr, _ = roc_curve(y, y_pred_proba)\n",
    "    baseline_fpr, baseline_tpr, _ = roc_curve(y, [0] * len(y))\n",
    "\n",
    "    plt.style.use(\"ggplot\")\n",
    "    plt.plot(fpr, tpr, label=\"Model\")\n",
    "    plt.plot(baseline_fpr, baseline_tpr, linestyle=\"--\", label=\"Baseline\")\n",
    "    plt.xlabel(\"False Positive Rate\", size=12)\n",
    "    plt.ylabel(\"True Positive Rate\", size=12)\n",
    "    plt.title(\"Receiver Operating Characteristic\")\n",
    "    plt.legend(prop={\"size\": 12})\n",
    "    plt.show()\n",
    "    return auc_score\n",
    "\n",
    "\n",
    "y_test_pred_proba, report = predict(X_test, y_test, clf.best_estimator_)\n",
    "print(report)\n",
    "auc_score = plot_roc(y_test, y_test_pred_proba)"
   ]
  },
  {
   "cell_type": "code",
   "execution_count": null,
   "id": "539e38c1",
   "metadata": {
    "deletable": false,
    "editable": false,
    "nbgrader": {
     "cell_type": "code",
     "checksum": "49a79adcd2c92191781e896457288885",
     "grade": true,
     "grade_id": "2-2_test_performance",
     "locked": true,
     "points": 1,
     "schema_version": 3,
     "solution": false,
     "task": false
    }
   },
   "outputs": [],
   "source": [
    "print(\"Test AUC:\", auc_score)"
   ]
  },
  {
   "cell_type": "code",
   "execution_count": null,
   "id": "f769485e",
   "metadata": {
    "deletable": false,
    "editable": false,
    "nbgrader": {
     "cell_type": "code",
     "checksum": "e51a6068502d2588907b50ac3321425b",
     "grade": true,
     "grade_id": "challenge_2-3_test",
     "locked": true,
     "points": 1,
     "schema_version": 3,
     "solution": false,
     "task": false
    }
   },
   "outputs": [],
   "source": [
    "print(\"Test AUC > 0.8?:\", auc_score > 0.8)"
   ]
  },
  {
   "cell_type": "markdown",
   "id": "e6cb7e41",
   "metadata": {
    "deletable": false,
    "editable": false,
    "nbgrader": {
     "cell_type": "markdown",
     "checksum": "ca785473ae0459c3d5c2267f928eabac",
     "grade": false,
     "grade_id": "cell-0b8a22eeb09a60ef",
     "locked": true,
     "schema_version": 3,
     "solution": false,
     "task": false
    }
   },
   "source": [
    "# Part 3 - Visualization\n",
    "- `eli5`의 `PermutationImportance`, `pdpbox` 등의 라이브러리에서는 이미 전처리가 완료되어 수치형 자료로 변환된 독립변수들을 입력으로 받습니다.\n",
    "- 따라서, 2.2에서 생성한 pipeline을 **전처리를 위한 부분**과 **예측 모델**로 나눠 주어야 합니다.\n",
    "    - 전처리를 위한 부분을 거친 후에는 모든 특성들이 수치형이어야 합니다. \n",
    "- 아래 셀에서 해당 과정을 수행해 주세요.\n",
    "    1. `pipeline`을 `preprocess_pipeline`과 `model`로 나눠 주세요.\n",
    "    2. `preprocess_pipeline`으로 `X_test`를 transform하여 `X_test_preprocessed`를 생성하세요."
   ]
  },
  {
   "cell_type": "code",
   "execution_count": null,
   "id": "6013dab3",
   "metadata": {
    "deletable": false,
    "nbgrader": {
     "cell_type": "code",
     "checksum": "fea0672ba09f1e0e208139dfb18c8d21",
     "grade": false,
     "grade_id": "p3_preprocess",
     "locked": false,
     "schema_version": 3,
     "solution": true,
     "task": false
    }
   },
   "outputs": [],
   "source": [
    "pipeline = clf.best_estimator_\n",
    "preprocess_pipeline = None\n",
    "model = None\n",
    "\n",
    "# YOUR CODE HERE\n",
    "\n",
    "\n",
    "# YOUR CODE ENDS HERE\n",
    "X_test_preprocessed = None\n",
    "# YOUR CODE HERE\n",
    "\n",
    "\n",
    "# YOUR CODE ENDS HERE"
   ]
  },
  {
   "cell_type": "markdown",
   "id": "762689a6",
   "metadata": {
    "deletable": false,
    "editable": false,
    "nbgrader": {
     "cell_type": "markdown",
     "checksum": "9ed86c952af862e6c922bbe53f276bda",
     "grade": false,
     "grade_id": "cell-82752ac26d440f73",
     "locked": true,
     "schema_version": 3,
     "solution": false,
     "task": false
    }
   },
   "source": [
    "## 3.1 Permutation Importance를 계산하는 `get_permutation_importance` 함수를 작성하세요.\n",
    "- AUC score을 기준으로 Permutation Importance를 계산하는 permuter을 생성, fit하여 반환하세요.\n",
    "- `n_iter=5`, `random_state=42`로 하세요."
   ]
  },
  {
   "cell_type": "code",
   "execution_count": null,
   "id": "c2bba75f",
   "metadata": {
    "deletable": false,
    "nbgrader": {
     "cell_type": "code",
     "checksum": "f677aec29eb277e214c999f8f47622d6",
     "grade": false,
     "grade_id": "3-1",
     "locked": false,
     "schema_version": 3,
     "solution": true,
     "task": false
    }
   },
   "outputs": [],
   "source": [
    "import eli5\n",
    "from eli5.sklearn import PermutationImportance\n",
    "\n",
    "\n",
    "def get_permutation_importance(X, y, model):\n",
    "    permuter = None\n",
    "    # permuter = PermutationImportance(..., n_iter=5, random_state=42)\n",
    "\n",
    "    # YOUR CODE HERE\n",
    "    \n",
    "    \n",
    "    # YOUR CODE ENDS HERE\n",
    "    permuter.fit(X, y)\n",
    "\n",
    "    return permuter"
   ]
  },
  {
   "cell_type": "code",
   "execution_count": null,
   "id": "55f96610",
   "metadata": {
    "deletable": false,
    "editable": false,
    "nbgrader": {
     "cell_type": "code",
     "checksum": "82d2aed0210bf3dcdacd74d21f77ef9f",
     "grade": true,
     "grade_id": "3-1_test_code",
     "locked": true,
     "points": 1,
     "schema_version": 3,
     "solution": false,
     "task": false
    }
   },
   "outputs": [],
   "source": [
    "permuter = get_permutation_importance(X_test_preprocessed, y_test, model)\n",
    "eli5.show_weights(permuter, top=None, feature_names=X_test.columns.tolist())\n",
    "print(\"Top3 Important Features:\")\n",
    "p_i = sorted(\n",
    "    list(zip(X_test.columns.tolist(), permuter.feature_importances_)),\n",
    "    key=lambda x: x[1],\n",
    "    reverse=True,\n",
    ")\n",
    "print(p_i[:3])"
   ]
  },
  {
   "cell_type": "markdown",
   "id": "2d609bf4",
   "metadata": {
    "deletable": false,
    "editable": false,
    "nbgrader": {
     "cell_type": "markdown",
     "checksum": "4cca45cddb7c9b9ea1a9bbb31bd45755",
     "grade": false,
     "grade_id": "cell-fb46bd888a7b07fa",
     "locked": true,
     "schema_version": 3,
     "solution": false,
     "task": false
    }
   },
   "source": [
    "### 위 결과를 기반으로, 아래의 질문에 답해 보세요. \n",
    "- 확인할 수 없으면 `\"모름\"`으로 답하세요.\n",
    "- 답이 하나이면 `String`, 여러 개이면 `List`로 답하세요.\n",
    "\n",
    "\n",
    "- **문제 1.** 평균적으로 모델의 성능에 가장 많은 영향을 주는 특성은 무엇인가요?\n",
    "- **문제 2.** 모델의 예측값과 양의 상관관계를 갖는 특성은 무엇인가요?\n",
    "- **문제 3.** 모델의 예측값과 음의 상관관계를 갖는 특성은 무엇인가요?\n"
   ]
  },
  {
   "cell_type": "code",
   "execution_count": null,
   "id": "2512abd9",
   "metadata": {
    "deletable": false,
    "nbgrader": {
     "cell_type": "code",
     "checksum": "c5c72fbc887b7dc1726a0e7ec9f1237a",
     "grade": false,
     "grade_id": "3-1_interpretation",
     "locked": false,
     "schema_version": 3,
     "solution": true,
     "task": false
    }
   },
   "outputs": [],
   "source": [
    "answer_1 = None\n",
    "answer_2 = None\n",
    "answer_3 = None\n",
    "\n",
    "# YOUR CODE HERE\n",
    "\n",
    "\n",
    "# YOUR CODE ENDS HERE"
   ]
  },
  {
   "cell_type": "code",
   "execution_count": null,
   "id": "c1ad3372",
   "metadata": {
    "deletable": false,
    "editable": false,
    "nbgrader": {
     "cell_type": "code",
     "checksum": "0688166f61a756b36fed3e843766b45b",
     "grade": true,
     "grade_id": "3-1_test_interpretation",
     "locked": true,
     "points": 1,
     "schema_version": 3,
     "solution": false,
     "task": false
    }
   },
   "outputs": [],
   "source": [
    "print(\"A1:\", answer_1)\n",
    "print(\"A2:\", answer_2)\n",
    "print(\"A3:\", answer_3)\n"
   ]
  },
  {
   "cell_type": "markdown",
   "id": "1d422067",
   "metadata": {},
   "source": [
    "## 3.2 1변수 PDP Plot을 생성하는 `get_pdp_isolated` 함수를 작성하세요.\n",
    "- `feature`의 특성을 변수로 하는 1변수 PDP Plot을 생성합니다."
   ]
  },
  {
   "cell_type": "code",
   "execution_count": null,
   "id": "fbaed864",
   "metadata": {
    "deletable": false,
    "nbgrader": {
     "cell_type": "code",
     "checksum": "0b3cfb5e55690b59ab816e776ed87321",
     "grade": false,
     "grade_id": "3-2",
     "locked": false,
     "schema_version": 3,
     "solution": true,
     "task": false
    }
   },
   "outputs": [],
   "source": [
    "from pdpbox.pdp import pdp_isolate, pdp_plot\n",
    "\n",
    "\n",
    "def get_pdp_isolated(dataset, model, feature):\n",
    "    pdp_isolated = None\n",
    "\n",
    "    # YOUR CODE HERE\n",
    "    \n",
    "    \n",
    "    # YOUR CODE ENDS HERE\n",
    "\n",
    "    return pdp_isolated"
   ]
  },
  {
   "cell_type": "code",
   "execution_count": null,
   "id": "4938e383",
   "metadata": {
    "deletable": false,
    "editable": false,
    "nbgrader": {
     "cell_type": "code",
     "checksum": "960b1c3de09494cbdab05cf154d33f6f",
     "grade": true,
     "grade_id": "3-2_test_code",
     "locked": true,
     "points": 1,
     "schema_version": 3,
     "solution": false,
     "task": false
    }
   },
   "outputs": [],
   "source": [
    "X_test_preprocessed_df = pd.DataFrame(X_test_preprocessed, columns=X_test.columns)\n",
    "feature = sorted(p_i, key=lambda x: x[1], reverse=True)[0][0]\n",
    "pdp_isolated = get_pdp_isolated(X_test_preprocessed_df, model, feature)\n",
    "pdp_plot(pdp_isolated, feature_name=feature)\n",
    "### BEGIN HIDDEN STATES\n",
    "from pdpbox.pdp import PDPIsolate\n",
    "\n",
    "assert isinstance(pdp_isolated, PDPIsolate)\n",
    "### END HIDDEN STATES"
   ]
  },
  {
   "cell_type": "markdown",
   "id": "e2e68510",
   "metadata": {
    "deletable": false,
    "editable": false,
    "nbgrader": {
     "cell_type": "markdown",
     "checksum": "b03e8ed09a42a3dea4611776926c8517",
     "grade": false,
     "grade_id": "cell-7060a1b0a5f0cc81",
     "locked": true,
     "schema_version": 3,
     "solution": false,
     "task": false
    }
   },
   "source": [
    "### 위 결과를 기반으로, 아래의 질문에 답해 보세요. \n",
    "- `True`/`False`로 답하고 그 이유를 한 줄로 작성하세요.\n",
    "\n",
    "\n",
    "- **문제 1.** 위 Plot은 해당 특성에 따른 실제 label 값의 분포를 나타낸 것이다.\n",
    "- **문제 2.** 위 Plot은 해당 특성에 따른 모델의 label 예측값의 분포를 나타낸 것이다.\n",
    "- **문제 3.** 선형회귀 모델(Linear Regression)에서 isolated PDP는 데이터의 분포와는 무관하게 항상 직선이다.\n",
    "- **문제 4.** 선형회귀 모델(Linear Regression)의 isolated PDP에서 여러 개의 서로 다른 ICE 곡선이 나올 수 있다.\n"
   ]
  },
  {
   "cell_type": "code",
   "execution_count": null,
   "id": "3cd16341",
   "metadata": {
    "deletable": false,
    "nbgrader": {
     "cell_type": "code",
     "checksum": "48e304e0601de80131ff0be8f3f69ed5",
     "grade": false,
     "grade_id": "3-2_interpretation",
     "locked": false,
     "schema_version": 3,
     "solution": true,
     "task": false
    }
   },
   "outputs": [],
   "source": [
    "answer_1 = None\n",
    "reason_1 = \"\"\n",
    "answer_2 = None\n",
    "reason_2 = \"\"\n",
    "answer_3 = None\n",
    "reason_3 = \"\"\n",
    "answer_4 = None\n",
    "reason_4 = \"\"\n",
    "\n",
    "# YOUR CODE HERE\n",
    "\n",
    "\n",
    "# YOUR CODE ENDS HERE"
   ]
  },
  {
   "cell_type": "code",
   "execution_count": null,
   "id": "d180ba2b",
   "metadata": {
    "deletable": false,
    "editable": false,
    "nbgrader": {
     "cell_type": "code",
     "checksum": "8bbc216676c7a58027c11e85bb76693b",
     "grade": true,
     "grade_id": "3-2_test_interpretation",
     "locked": true,
     "points": 1,
     "schema_version": 3,
     "solution": false,
     "task": false
    }
   },
   "outputs": [],
   "source": [
    "print(\"A1:\", answer_1, \"Why?:\", reason_1)\n",
    "print(\"A2:\", answer_2, \"Why?:\", reason_2)\n",
    "print(\"A3:\", answer_3, \"Why?:\", reason_3)\n",
    "print(\"A4:\", answer_4, \"Why?:\", reason_4)\n"
   ]
  },
  {
   "cell_type": "markdown",
   "id": "61531eeb",
   "metadata": {
    "deletable": false,
    "editable": false,
    "nbgrader": {
     "cell_type": "markdown",
     "checksum": "fa36836884b0c0169c1819131b895f55",
     "grade": false,
     "grade_id": "cell-724d9ce8534e3c8d",
     "locked": true,
     "schema_version": 3,
     "solution": false,
     "task": false
    }
   },
   "source": [
    "## 3.3 2변수 PDP Plot을 생성하는 `get_pdp_interaction` 함수를 작성하세요."
   ]
  },
  {
   "cell_type": "code",
   "execution_count": null,
   "id": "16d17890",
   "metadata": {
    "deletable": false,
    "nbgrader": {
     "cell_type": "code",
     "checksum": "8874910b312630384fab2f9a5cd8571b",
     "grade": false,
     "grade_id": "3-3",
     "locked": false,
     "schema_version": 3,
     "solution": true,
     "task": false
    }
   },
   "outputs": [],
   "source": [
    "from pdpbox.pdp import pdp_interact, pdp_interact_plot\n",
    "\n",
    "\n",
    "def get_pdp_interaction(dataset, model, features):\n",
    "    pdp_interaction = None\n",
    "\n",
    "    # YOUR CODE HERE\n",
    "    \n",
    "    \n",
    "    # YOUR CODE ENDS HERE\n",
    "\n",
    "    return pdp_interaction"
   ]
  },
  {
   "cell_type": "code",
   "execution_count": null,
   "id": "572813e8",
   "metadata": {
    "deletable": false,
    "editable": false,
    "nbgrader": {
     "cell_type": "code",
     "checksum": "04809c85a8110e63431c9419cdb9e5ea",
     "grade": true,
     "grade_id": "3-3_test_code",
     "locked": true,
     "points": 1,
     "schema_version": 3,
     "solution": false,
     "task": false
    }
   },
   "outputs": [],
   "source": [
    "features = list(map(lambda x: x[0], sorted(p_i, key=lambda x: x[1], reverse=True)))[:2]\n",
    "pdp_interaction = get_pdp_interaction(X_test_preprocessed_df, model, features)\n",
    "pdp_interact_plot(pdp_interaction, feature_names=features, plot_type=\"grid\")"
   ]
  },
  {
   "cell_type": "markdown",
   "id": "cae9f0c8",
   "metadata": {},
   "source": [
    "---"
   ]
  },
  {
   "cell_type": "markdown",
   "id": "8d5d4fab",
   "metadata": {},
   "source": [
    "# 수고하셨습니다!"
   ]
  }
 ],
 "metadata": {
  "kernelspec": {
   "display_name": "Python 3 (ipykernel)",
   "language": "python",
   "name": "python3"
  },
  "language_info": {
   "codemirror_mode": {
    "name": "ipython",
    "version": 3
   },
   "file_extension": ".py",
   "mimetype": "text/x-python",
   "name": "python",
   "nbconvert_exporter": "python",
   "pygments_lexer": "ipython3",
   "version": "3.8.9"
  }
 },
 "nbformat": 4,
 "nbformat_minor": 5
}
