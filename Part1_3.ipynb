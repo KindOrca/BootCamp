{
 "cells": [
  {
   "cell_type": "markdown",
   "id": "6f4f7cc5",
   "metadata": {
    "nbgrader": {
     "grade": false,
     "grade_id": "cell-5b7fa4769535997c",
     "locked": true,
     "schema_version": 3,
     "solution": false,
     "task": false
    }
   },
   "source": [
    "# SC23x\n",
    " \n",
    "## Applied Predictive Modeling\n",
    "\n",
    " 이번 스프린트 챌린지에서는 시카고에 있는 식당들의 정보와 해당 식당들의 위생 검사 결과에 관한 데이터를 담은 데이터셋을 다루게 됩니다.\n",
    "\n",
    "데이터셋에 관한 설명은 이 [PDF](https://data.cityofchicago.org/api/assets/BAD5301B-681A-4202-9D25-51B2CAE672FF)를 참고해주시길 바랍니다."
   ]
  },
  {
   "cell_type": "markdown",
   "id": "47d7d20d",
   "metadata": {
    "nbgrader": {
     "grade": false,
     "grade_id": "cell-b104eb070075cc6e",
     "locked": true,
     "schema_version": 3,
     "solution": false,
     "task": false
    }
   },
   "source": [
    "#### 목표: 오늘 여러분은 Chicago시의 공중보건부에서 진행한 레스토랑들의 위생 검사 \"불합격\" 여부를 예측하는 모델을 만들어야 합니다.\n",
    "\n",
    "여러분의 모델이 예측할 target은 `Inspection Fail` 칼럼입니다.   \n",
    "칼럼 값은 아래와 같습니다:\n",
    "- 식당이 위생 검사에 불합격한 경우: **1**\n",
    "- 식당이 검사를 통과한 경우: **0**"
   ]
  },
  {
   "cell_type": "code",
   "execution_count": 1,
   "id": "cdad95b2",
   "metadata": {
    "nbgrader": {
     "grade": false,
     "grade_id": "cell-ee764f0e965ac62a",
     "locked": true,
     "schema_version": 3,
     "solution": false,
     "task": false
    }
   },
   "outputs": [],
   "source": [
    "# Google Colab을 사용하는 경우 해당 셀을 실행하세요\n",
    "import sys\n",
    "import xgboost\n",
    "import warnings\n",
    "\n",
    "\n",
    "if \"google.colab\" in sys.modules:\n",
    "    # Install packages in Colab\n",
    "    !pip install category_encoders==2.*\n",
    "    !pip install eli5\n",
    "    !pip install pandas-profiling==2.*\n",
    "    !pip install pdpbox\n",
    "    !pip install shap\n",
    "\n",
    "warnings.filterwarnings(\"ignore\")\n",
    "# xgboost.config.set_config(verbosity=0)"
   ]
  },
  {
   "cell_type": "code",
   "execution_count": 2,
   "id": "3a53a31f",
   "metadata": {
    "nbgrader": {
     "grade": false,
     "grade_id": "cell-2602a05446403de0",
     "locked": true,
     "schema_version": 3,
     "solution": false,
     "task": false
    }
   },
   "outputs": [],
   "source": [
    "# 데이터셋을 불러오기 위해 판다스 라이브러리를 불러옵니다\n",
    "import pandas as pd\n",
    "\n",
    "train_url = \"https://ds-lecture-data.s3.ap-northeast-2.amazonaws.com/food_inspection_sc23x/food_ins_train.csv\"\n",
    "test_url = \"https://ds-lecture-data.s3.ap-northeast-2.amazonaws.com/food_inspection_sc23x/food_ins_test.csv\"\n",
    "\n",
    "# train, test 데이터셋을 불러옵니다\n",
    "train = pd.read_csv(train_url)\n",
    "test = pd.read_csv(test_url)\n",
    "\n",
    "# 데이터셋 확인\n",
    "assert train.shape == (60000, 17)\n",
    "assert test.shape == (20000, 17)"
   ]
  },
  {
   "cell_type": "code",
   "execution_count": 3,
   "id": "f34ba7af",
   "metadata": {
    "nbgrader": {
     "grade": false,
     "grade_id": "cell-5588e0945ba113c3",
     "locked": true,
     "schema_version": 3,
     "solution": false,
     "task": false
    },
    "scrolled": false
   },
   "outputs": [
    {
     "data": {
      "text/html": [
       "<div>\n",
       "<style scoped>\n",
       "    .dataframe tbody tr th:only-of-type {\n",
       "        vertical-align: middle;\n",
       "    }\n",
       "\n",
       "    .dataframe tbody tr th {\n",
       "        vertical-align: top;\n",
       "    }\n",
       "\n",
       "    .dataframe thead th {\n",
       "        text-align: right;\n",
       "    }\n",
       "</style>\n",
       "<table border=\"1\" class=\"dataframe\">\n",
       "  <thead>\n",
       "    <tr style=\"text-align: right;\">\n",
       "      <th></th>\n",
       "      <th>Inspection ID</th>\n",
       "      <th>DBA Name</th>\n",
       "      <th>AKA Name</th>\n",
       "      <th>License #</th>\n",
       "      <th>Facility Type</th>\n",
       "      <th>Risk</th>\n",
       "      <th>Address</th>\n",
       "      <th>City</th>\n",
       "      <th>State</th>\n",
       "      <th>Zip</th>\n",
       "      <th>Inspection Date</th>\n",
       "      <th>Inspection Type</th>\n",
       "      <th>Violations</th>\n",
       "      <th>Latitude</th>\n",
       "      <th>Longitude</th>\n",
       "      <th>Location</th>\n",
       "      <th>Inspection Fail</th>\n",
       "    </tr>\n",
       "  </thead>\n",
       "  <tbody>\n",
       "    <tr>\n",
       "      <th>0</th>\n",
       "      <td>2050629</td>\n",
       "      <td>MY SWEET STATION INC</td>\n",
       "      <td>MY SWEET STATION</td>\n",
       "      <td>2327223.0</td>\n",
       "      <td>Restaurant</td>\n",
       "      <td>Risk 1 (High)</td>\n",
       "      <td>2511 N LINCOLN AVE</td>\n",
       "      <td>CHICAGO</td>\n",
       "      <td>IL</td>\n",
       "      <td>60614.0</td>\n",
       "      <td>2017-05-18</td>\n",
       "      <td>Canvass</td>\n",
       "      <td>NaN</td>\n",
       "      <td>41.927577</td>\n",
       "      <td>-87.651528</td>\n",
       "      <td>(-87.65152817242594, 41.92757677830966)</td>\n",
       "      <td>0</td>\n",
       "    </tr>\n",
       "    <tr>\n",
       "      <th>1</th>\n",
       "      <td>2078428</td>\n",
       "      <td>OUTTAKES</td>\n",
       "      <td>RED MANGO</td>\n",
       "      <td>2125004.0</td>\n",
       "      <td>Restaurant</td>\n",
       "      <td>Risk 2 (Medium)</td>\n",
       "      <td>10 S DEARBORN ST FL</td>\n",
       "      <td>CHICAGO</td>\n",
       "      <td>IL</td>\n",
       "      <td>60603.0</td>\n",
       "      <td>2017-08-14</td>\n",
       "      <td>Canvass</td>\n",
       "      <td>34. FLOORS: CONSTRUCTED PER CODE, CLEANED, GOO...</td>\n",
       "      <td>41.881807</td>\n",
       "      <td>-87.629543</td>\n",
       "      <td>(-87.62954311539407, 41.88180696006542)</td>\n",
       "      <td>0</td>\n",
       "    </tr>\n",
       "    <tr>\n",
       "      <th>2</th>\n",
       "      <td>1591748</td>\n",
       "      <td>JAFFA BAGELS</td>\n",
       "      <td>JAFFA BAGELS</td>\n",
       "      <td>2278918.0</td>\n",
       "      <td>Restaurant</td>\n",
       "      <td>Risk 1 (High)</td>\n",
       "      <td>225 N MICHIGAN AVE</td>\n",
       "      <td>CHICAGO</td>\n",
       "      <td>IL</td>\n",
       "      <td>60601.0</td>\n",
       "      <td>2015-12-15</td>\n",
       "      <td>Complaint</td>\n",
       "      <td>30. FOOD IN ORIGINAL CONTAINER, PROPERLY LABEL...</td>\n",
       "      <td>41.886377</td>\n",
       "      <td>-87.624382</td>\n",
       "      <td>(-87.62438167043969, 41.88637740620821)</td>\n",
       "      <td>0</td>\n",
       "    </tr>\n",
       "    <tr>\n",
       "      <th>3</th>\n",
       "      <td>1230035</td>\n",
       "      <td>FRANKS 'N' DAWGS</td>\n",
       "      <td>FRANKS 'N' DAWGS</td>\n",
       "      <td>2094329.0</td>\n",
       "      <td>Restaurant</td>\n",
       "      <td>Risk 1 (High)</td>\n",
       "      <td>1863 N CLYBOURN AVE</td>\n",
       "      <td>CHICAGO</td>\n",
       "      <td>IL</td>\n",
       "      <td>60614.0</td>\n",
       "      <td>2012-07-10</td>\n",
       "      <td>Canvass</td>\n",
       "      <td>33. FOOD AND NON-FOOD CONTACT EQUIPMENT UTENSI...</td>\n",
       "      <td>41.914990</td>\n",
       "      <td>-87.654994</td>\n",
       "      <td>(-87.65499361162448, 41.91498953039437)</td>\n",
       "      <td>0</td>\n",
       "    </tr>\n",
       "    <tr>\n",
       "      <th>4</th>\n",
       "      <td>1228186</td>\n",
       "      <td>SOUTH COAST</td>\n",
       "      <td>SOUTH COAST SUSHI</td>\n",
       "      <td>1817424.0</td>\n",
       "      <td>Restaurant</td>\n",
       "      <td>Risk 1 (High)</td>\n",
       "      <td>1700 S MICHIGAN AVE</td>\n",
       "      <td>CHICAGO</td>\n",
       "      <td>IL</td>\n",
       "      <td>60616.0</td>\n",
       "      <td>2013-09-20</td>\n",
       "      <td>Canvass</td>\n",
       "      <td>NaN</td>\n",
       "      <td>41.858996</td>\n",
       "      <td>-87.624106</td>\n",
       "      <td>(-87.62410566978502, 41.85899630014676)</td>\n",
       "      <td>0</td>\n",
       "    </tr>\n",
       "  </tbody>\n",
       "</table>\n",
       "</div>"
      ],
      "text/plain": [
       "   Inspection ID              DBA Name           AKA Name  License #  \\\n",
       "0        2050629  MY SWEET STATION INC   MY SWEET STATION  2327223.0   \n",
       "1        2078428              OUTTAKES          RED MANGO  2125004.0   \n",
       "2        1591748          JAFFA BAGELS       JAFFA BAGELS  2278918.0   \n",
       "3        1230035      FRANKS 'N' DAWGS   FRANKS 'N' DAWGS  2094329.0   \n",
       "4        1228186           SOUTH COAST  SOUTH COAST SUSHI  1817424.0   \n",
       "\n",
       "  Facility Type             Risk               Address     City State  \\\n",
       "0    Restaurant    Risk 1 (High)   2511 N LINCOLN AVE   CHICAGO    IL   \n",
       "1    Restaurant  Risk 2 (Medium)  10 S DEARBORN ST FL   CHICAGO    IL   \n",
       "2    Restaurant    Risk 1 (High)   225 N MICHIGAN AVE   CHICAGO    IL   \n",
       "3    Restaurant    Risk 1 (High)  1863 N CLYBOURN AVE   CHICAGO    IL   \n",
       "4    Restaurant    Risk 1 (High)  1700 S MICHIGAN AVE   CHICAGO    IL   \n",
       "\n",
       "       Zip Inspection Date Inspection Type  \\\n",
       "0  60614.0      2017-05-18         Canvass   \n",
       "1  60603.0      2017-08-14         Canvass   \n",
       "2  60601.0      2015-12-15       Complaint   \n",
       "3  60614.0      2012-07-10         Canvass   \n",
       "4  60616.0      2013-09-20         Canvass   \n",
       "\n",
       "                                          Violations   Latitude  Longitude  \\\n",
       "0                                                NaN  41.927577 -87.651528   \n",
       "1  34. FLOORS: CONSTRUCTED PER CODE, CLEANED, GOO...  41.881807 -87.629543   \n",
       "2  30. FOOD IN ORIGINAL CONTAINER, PROPERLY LABEL...  41.886377 -87.624382   \n",
       "3  33. FOOD AND NON-FOOD CONTACT EQUIPMENT UTENSI...  41.914990 -87.654994   \n",
       "4                                                NaN  41.858996 -87.624106   \n",
       "\n",
       "                                  Location  Inspection Fail  \n",
       "0  (-87.65152817242594, 41.92757677830966)                0  \n",
       "1  (-87.62954311539407, 41.88180696006542)                0  \n",
       "2  (-87.62438167043969, 41.88637740620821)                0  \n",
       "3  (-87.65499361162448, 41.91498953039437)                0  \n",
       "4  (-87.62410566978502, 41.85899630014676)                0  "
      ]
     },
     "execution_count": 3,
     "metadata": {},
     "output_type": "execute_result"
    }
   ],
   "source": [
    "train.head()"
   ]
  },
  {
   "cell_type": "markdown",
   "id": "6b9c8083",
   "metadata": {
    "nbgrader": {
     "grade": false,
     "grade_id": "cell-f75742bcbc000238",
     "locked": true,
     "schema_version": 3,
     "solution": false,
     "task": false
    }
   },
   "source": [
    "# Part 1 - Data Preprocessing"
   ]
  },
  {
   "cell_type": "code",
   "execution_count": 4,
   "id": "a28fd02f",
   "metadata": {
    "nbgrader": {
     "grade": false,
     "grade_id": "cell-13f1ea7d0f6248a1",
     "locked": true,
     "schema_version": 3,
     "solution": false,
     "task": false
    }
   },
   "outputs": [
    {
     "data": {
      "text/plain": [
       "0        0\n",
       "1        0\n",
       "2        0\n",
       "3        0\n",
       "4        0\n",
       "        ..\n",
       "19995    0\n",
       "19996    0\n",
       "19997    0\n",
       "19998    0\n",
       "19999    0\n",
       "Name: Inspection Fail, Length: 20000, dtype: int64"
      ]
     },
     "execution_count": 4,
     "metadata": {},
     "output_type": "execute_result"
    }
   ],
   "source": [
    "test[\"Inspection Fail\"]"
   ]
  },
  {
   "cell_type": "markdown",
   "id": "a94d9ce7",
   "metadata": {
    "nbgrader": {
     "grade": false,
     "grade_id": "cell-2e2530fc1a4e5a3b",
     "locked": true,
     "schema_version": 3,
     "solution": false,
     "task": false
    }
   },
   "source": [
    "## 컬럼 설명\n",
    "\n",
    "- **DBA**: 설립 시 서류에 등록한 이름\n",
    "\n",
    "- **AKA**: 대중들에게 알려져 있는 상표 이름\n",
    "\n",
    "- **License number**: 사업자 고유번호 (사업자등록번호)\n",
    "\n",
    "- **Type of facility**: 매장 업종 \n",
    "\n",
    "    bakery, banquet hall, candy store, caterer, coffee shop, day care center (for ages less than 2), day care center (for ages 2 – 6), day care center (combo, for ages less than 2 and 2-6 combined), gas station, Golden Diner, grocery store, hospital, long term care center(nursing home), liquor store, mobile food dispenser, restaurant, paleteria, school, shelter, tavern, social club, wholesaler, or Wrigley Field Rooftop.\n",
    "    \n",
    "    \n",
    "- **Risk**: 위험 시설 분류 카테고리 : 국민 건강에 악영향을 미칠 위험이 얼마나 높은 시설인가? (1이 가장 높고, 3이 가장 낮은 카테고리임. 위험 1 시설이 검사 빈도가 높은 편이고, 위험 3 시설이 검사 빈도가 낮은 편)\n",
    "\n",
    "- **Address, City, State, Zip**: 해당 시설이 위치한 주소 (Full Address)\n",
    "\n",
    "- **Inspection date**: 검사 날짜. (어떤 사업장은 동일한 사업장명에 각기 다른 검사 날짜를 가지고 있을 수도 있음)\n",
    "\n",
    "- **Inspection type**: 검사 유형. (각 이유에 대해 Re-inspection이 붙으면 재검사한 것)\n",
    "    - Canvass : 시설의 위험도와 관련된 가장 이란적인 유형의 검사. \n",
    "    - Consultation : 개업 전 소유자의 요청으로 검사를 수행.\n",
    "    - Complaint : 민원 사항 발생 시 검사를 수행할 때.\n",
    "    - License : 사업장의 영업허가서 발금 요건으로 검사를 할 때.\n",
    "    - Suspect Food Poisoning : 사업장에서 식사 (민원 처리 된 특정 유형의 검사)로 인해 병에 걸렸다고 주장하는 1인 이상에게 검사를 할 때.\n",
    "    - Task-force Inspection : 술집 또는 주점의 검사가 수행된 경우\n",
    "    \n",
    "- **Inspection Fail**: 검사 결과(불합격 여부)\n",
    "    - 실패를 받는다고 해서 반드시 사업장 면허가 정지되는 것은 아님.\n",
    "    \n",
    "- **Violations**: 위반사항. 위반사항을 지칭하는 고유번호와 위반한 사항 및 시정 요건에 대한 설명이 주어짐."
   ]
  },
  {
   "cell_type": "markdown",
   "id": "317a659c",
   "metadata": {
    "nbgrader": {
     "grade": false,
     "grade_id": "cell-78b3370c9bae8d7c",
     "locked": true,
     "schema_version": 3,
     "solution": false,
     "task": false
    }
   },
   "source": [
    "## 1.1 데이터셋을 파악하기 위한 EDA를 진행하세요.\n",
    "- 아래 기본적인 EDA 과정을 위해 필요한 몇몇 함수들을 완성하세요.\n",
    "- 함수의 기능 및 입출력 형태는 함수 내의 주석을 따르세요.\n",
    "- **아래 EDA 과정만으로는 데이터에 대한 통찰을 얻기에 부족합니다. 추가로 본인만의 EDA 과정을 꼭 수행해 보세요.**"
   ]
  },
  {
   "cell_type": "code",
   "execution_count": 5,
   "id": "9fd4bab4",
   "metadata": {
    "nbgrader": {
     "grade": false,
     "grade_id": "1-1_feature",
     "locked": false,
     "schema_version": 3,
     "solution": true,
     "task": false
    }
   },
   "outputs": [],
   "source": [
    "def analysis_on_features(df):\n",
    "    \"\"\"\n",
    "    - eda_results라고 하는 새로운 데이터프레임에 아래의 정보들을 담아 반환하세요.\n",
    "        - null_count: 입력 Pandas DataFrame의 column별 결측치의 수\n",
    "        - num_unique_values: 입력 Pandas DataFrame의 unique한 값의 수\n",
    "        - eda_results는 df의 column명을 index로 사용하는 데이터프레임입니다.\n",
    "\n",
    "    - 데이터프레임에 중복되는 row가 있지는 않나요?\n",
    "        - duplicated_rows에 중복되는 row 수를 담아 반환하세요.\n",
    "\n",
    "    \"\"\"\n",
    "    eda_results = pd.DataFrame()\n",
    "    eda_results[\"null_count\"] = None\n",
    "    eda_results[\"num_unique_values\"] = None\n",
    "    duplicated_rows = -1\n",
    "\n",
    "    ### BEGIN SOLUTION\n",
    "    eda_results[\"null_count\"] = df.isnull().sum()\n",
    "    eda_results[\"num_unique_values\"] = df.nunique()\n",
    "    duplicated_rows = df.duplicated().sum()\n",
    "    ### END SOLUTION\n",
    "\n",
    "    return eda_results, duplicated_rows"
   ]
  },
  {
   "cell_type": "code",
   "execution_count": 6,
   "id": "d91dddb4",
   "metadata": {
    "nbgrader": {
     "grade": false,
     "grade_id": "cell-f0a97a28a84cc7b8",
     "locked": true,
     "schema_version": 3,
     "solution": false,
     "task": false
    }
   },
   "outputs": [],
   "source": [
    "train_results, train_duplicated_rows = analysis_on_features(train)\n",
    "test_results, test_duplicated_rows = analysis_on_features(test)"
   ]
  },
  {
   "cell_type": "code",
   "execution_count": 7,
   "id": "6d48003a",
   "metadata": {
    "nbgrader": {
     "grade": true,
     "grade_id": "1-1_feature_test",
     "locked": true,
     "points": 1,
     "schema_version": 3,
     "solution": false,
     "task": false
    },
    "scrolled": false
   },
   "outputs": [
    {
     "name": "stdout",
     "output_type": "stream",
     "text": [
      "Train df: duplicated? = 0\n",
      "                  null_count  num_unique_values\n",
      "Inspection ID             0              60000\n",
      "DBA Name                  0              20175\n",
      "AKA Name                717              19209\n",
      "License #                 4              25123\n",
      "Facility Type          1427                366\n",
      "Risk                     24                  4\n",
      "Address                   0              15244\n",
      "City                     45                 39\n",
      "State                    15                  3\n",
      "Zip                      13                 86\n",
      "Inspection Date           0               2667\n",
      "Inspection Type           0                 55\n",
      "Violations            15870              44035\n",
      "Latitude                178              14533\n",
      "Longitude               178              14533\n",
      "Location                178              14533\n",
      "Inspection Fail           0                  2 \n",
      "\n",
      "\n",
      "Test df: duplicated? = 0\n",
      "                  null_count  num_unique_values\n",
      "Inspection ID             0              20000\n",
      "DBA Name                  0              11690\n",
      "AKA Name                235              11222\n",
      "License #                 0              13637\n",
      "Facility Type           452                215\n",
      "Risk                      2                  4\n",
      "Address                   0              10357\n",
      "City                     11                 21\n",
      "State                     3                  1\n",
      "Zip                       4                 73\n",
      "Inspection Date           0               2609\n",
      "Inspection Type           0                 33\n",
      "Violations             5336              14654\n",
      "Latitude                 60              10074\n",
      "Longitude                60              10074\n",
      "Location                 60              10074\n",
      "Inspection Fail           0                  2\n"
     ]
    }
   ],
   "source": [
    "print(f\"Train df: duplicated? = {train_duplicated_rows}\\n\", train_results, \"\\n\\n\")\n",
    "print(f\"Test df: duplicated? = {test_duplicated_rows}\\n\", test_results)\n",
    "### BEGIN HIDDEN TESTS\n",
    "assert all(train_results[\"null_count\"] == train.isnull().sum()), AssertionError(\"pd.DataFrame의 isnull 메서드를 사용해 보세요.\")\n",
    "assert all(train_results[\"num_unique_values\"] == train.nunique()), AssertionError(\"pd.DataFrame의 nunique 메서드를 사용해 보세요.\")\n",
    "assert train_duplicated_rows == train.duplicated().sum(), AssertionError(\"pd.DataFrame의 duplicated 메서드를 사용해 보세요.\")\n",
    "\n",
    "assert all(test_results[\"null_count\"] == test.isnull().sum()), AssertionError(\"pd.DataFrame의 isnull 메서드를 사용해 보세요.\")\n",
    "assert all(test_results[\"num_unique_values\"] == test.nunique()), AssertionError(\"pd.DataFrame의 nunique 메서드를 사용해 보세요.\")\n",
    "assert test_duplicated_rows == test.duplicated().sum(), AssertionError(\"pd.DataFrame의 duplicated 메서드를 사용해 보세요.\")\n",
    "### END HIDDEN TESTS"
   ]
  },
  {
   "cell_type": "code",
   "execution_count": 8,
   "id": "c49c2c62",
   "metadata": {
    "nbgrader": {
     "grade": false,
     "grade_id": "1-1_target",
     "locked": false,
     "schema_version": 3,
     "solution": true,
     "task": false
    }
   },
   "outputs": [],
   "source": [
    "import matplotlib.pyplot as plt\n",
    "\n",
    "\n",
    "def analysis_on_target(df):\n",
    "    \"\"\"\n",
    "    n_zero_label, n_one_label에\n",
    "    각각 label이 0인 데이터의 수, label이 1인 데이터의 수를 담아 반환하세요.\n",
    "    \"\"\"\n",
    "    n_zero_label, n_one_label = -1, -1\n",
    "\n",
    "    ### BEGIN SOLUTION\n",
    "    n_zero_label, n_one_label = df[\"Inspection Fail\"].value_counts().loc[[0, 1]]\n",
    "    ### END SOLUTION\n",
    "\n",
    "    plt.pie(\n",
    "        (n_zero_label, n_one_label),\n",
    "        labels=(0, 1),\n",
    "        autopct=\"%.2f%%\",\n",
    "        shadow=True,\n",
    "        startangle=90,\n",
    "    )\n",
    "    plt.title(\"Target: Inspection Fail\", size=15)\n",
    "    plt.show()\n",
    "\n",
    "    return n_zero_label, n_one_label"
   ]
  },
  {
   "cell_type": "code",
   "execution_count": 9,
   "id": "10749633",
   "metadata": {
    "nbgrader": {
     "grade": true,
     "grade_id": "1-1_target_test",
     "locked": true,
     "points": 0.5,
     "schema_version": 3,
     "solution": false,
     "task": false
    }
   },
   "outputs": [
    {
     "data": {
      "image/png": "[encoded data removed]",
      "text/plain": [
       "<Figure size 432x288 with 1 Axes>"
      ]
     },
     "metadata": {},
     "output_type": "display_data"
    },
    {
     "data": {
      "image/png": "[encoded data removed]",
      "text/plain": [
       "<Figure size 432x288 with 1 Axes>"
      ]
     },
     "metadata": {},
     "output_type": "display_data"
    }
   ],
   "source": [
    "train_label_count = analysis_on_target(train)\n",
    "test_label_count = analysis_on_target(test)\n",
    "### BEGIN HIDDEN TESTS\n",
    "assert train_label_count == tuple(train[\"Inspection Fail\"].value_counts().loc[[0, 1]]), 'train label 분포를 잘못 구했습니다.'\n",
    "assert test_label_count == tuple(test[\"Inspection Fail\"].value_counts().loc[[0, 1]]), 'test label 분포를 잘못 구했습니다.'\n",
    "### END HIDDEN TESTS"
   ]
  },
  {
   "cell_type": "code",
   "execution_count": 10,
   "id": "89890e8d",
   "metadata": {
    "nbgrader": {
     "grade": false,
     "grade_id": "cell-838a2646713d5494",
     "locked": true,
     "schema_version": 3,
     "solution": false,
     "task": false
    }
   },
   "outputs": [
    {
     "name": "stdout",
     "output_type": "stream",
     "text": [
      "\n",
      "이 셀에서 추가로 데이터를 자유롭게 분석해 보세요.\n",
      "- 이 셀에서의 작업은 채점하지 않습니다.\n",
      "- 채점 시 이 셀에서 작업한 내용은 전부 무시됩니다.\n",
      "- 제출 전에 이 셀의 내용을 모두 주석 처리한 후 모든 코드가 순차적으로 오류 없이 실행되는지 꼭 확인하세요.\n",
      "\n"
     ]
    }
   ],
   "source": [
    "print(\n",
    "    \"\"\"\n",
    "이 셀에서 추가로 데이터를 자유롭게 분석해 보세요.\n",
    "- 이 셀에서의 작업은 채점하지 않습니다.\n",
    "- 채점 시 이 셀에서 작업한 내용은 전부 무시됩니다.\n",
    "- 제출 전에 이 셀의 내용을 모두 주석 처리한 후 모든 코드가 순차적으로 오류 없이 실행되는지 꼭 확인하세요.\n",
    "\"\"\"\n",
    ")"
   ]
  },
  {
   "cell_type": "markdown",
   "id": "4b7abb2a",
   "metadata": {
    "nbgrader": {
     "grade": false,
     "grade_id": "cell-379b9354bac4ee0b",
     "locked": true,
     "schema_version": 3,
     "solution": false,
     "task": false
    }
   },
   "source": [
    "## 1.2 EDA의 결과를 토대로 Feature Engineering 및 Preprocessing을 수행하는 함수 `eda_process`를 작성하세요.\n",
    "\n",
    "- 결측치를 적절히 처리하세요.\n",
    "    - **Row를 drop하지 말고, 적절한 값으로 채워넣어 보세요.**\n",
    "    - 전처리가 완료된 train, test 데이터의 크기는 각각 **59947, 19994**입니다.\n",
    "- 새로운 feature를 만드는 작업뿐만이 아니라, 필요한 feature가 적절한 데이터 타입을 가지고 있지 않다면 변환합니다.\n",
    "- 시간 배분을 고려햐여 적절한 수준으로 수행하세요!"
   ]
  },
  {
   "cell_type": "code",
   "execution_count": 11,
   "id": "0db6ee42",
   "metadata": {
    "nbgrader": {
     "grade": false,
     "grade_id": "1-2",
     "locked": false,
     "schema_version": 3,
     "solution": true,
     "task": false
    }
   },
   "outputs": [],
   "source": [
    "# import any libraries needed\n",
    "### BEGIN SOLUTION\n",
    "from collections import Counter\n",
    "\n",
    "### END SOLUTION\n",
    "\n",
    "\n",
    "def eda_process(df):\n",
    "    # State 컬럼 처리 : 결측치 및 IL이 아닌 row 삭제\n",
    "    df.dropna(subset=[\"State\"], how=\"any\", axis=0, inplace=True)\n",
    "    df = df.query(\"State == 'IL'\")\n",
    "\n",
    "    # Risk : 결측치 및 All 삭제 > 1, 2, 3으로 바꾸어 줌\n",
    "    df.dropna(subset=[\"Risk\"], how=\"any\", axis=0, inplace=True)\n",
    "    df = df.query(\"Risk != 'All'\")\n",
    "    df.replace(\"Risk 1 (High)\", 1, inplace=True)\n",
    "    df.replace(\"Risk 2 (Medium)\", 2, inplace=True)\n",
    "    df.replace(\"Risk 3 (Low)\", 3, inplace=True)\n",
    "\n",
    "    ### BEGIN SOLUTION\n",
    "\n",
    "    def get_topk_set(series, topk):\n",
    "        return set(\n",
    "            map(lambda x: x[0], Counter(series[series.notna()]).most_common(topk))\n",
    "        )\n",
    "\n",
    "    # City 컬럼 처리 : Chicago가 맞는 곳과 아닌 곳으로 구분\n",
    "    Chicago_list = {\n",
    "        \"CHICAGO\",\n",
    "        \"312CHICAGO\",\n",
    "        \"CHCICAGO\",\n",
    "        \"CHICAGO.\",\n",
    "        \"CHICAGOI\",\n",
    "        \"CHICAGOCHICAGO\",\n",
    "        \"CCHICAGO\",\n",
    "    }\n",
    "    df[\"City\"] = df[\"City\"].str.upper()\n",
    "    df[\"City_Chicago\"] = df[\"City\"].apply(lambda x: x in Chicago_list)\n",
    "\n",
    "    # Inspection date를 string에서 datetime으로 바꾼 후 연도, 월 추출\n",
    "    df[\"Inspection Date\"] = df[\"Inspection Date\"].apply(pd.to_datetime)\n",
    "    df[\"year\"] = df[\"Inspection Date\"].dt.year\n",
    "    df[\"month\"] = df[\"Inspection Date\"].dt.month\n",
    "\n",
    "    # Cardinality 줄이기 1 : Facility type upper case > value_counts TOP10 이외는 etc로 처리\n",
    "    df[\"Facility Type\"] = df[\"Facility Type\"].str.upper()\n",
    "    facility_top10 = get_topk_set(df[\"Facility Type\"], 10)\n",
    "    df[\"Facility Type\"] = df[\"Facility Type\"].apply(\n",
    "        lambda x: x if x in facility_top10 else \"ETC\"\n",
    "    )\n",
    "\n",
    "    # Cardinality 줄이기 2 : Inspection Type upper case > value_counts TOP10 이외는 etc로 처리\n",
    "    df[\"Inspection Type\"] = df[\"Inspection Type\"].str.upper()\n",
    "    inspection_top10 = get_topk_set(df[\"Inspection Type\"], 10)\n",
    "    df[\"Inspection Type\"] = df[\"Inspection Type\"].apply(\n",
    "        lambda x: x if x in inspection_top10 else \"ETC\"\n",
    "    )\n",
    "\n",
    "    # Cardinality 줄이기 3 : Violations을 위반사항 \"개수\"로 변환\n",
    "    df[\"Violations\"] = df[\"Violations\"].apply(\n",
    "        lambda x: 0 if not isinstance(x, str) else len(x.split(\"| \"))\n",
    "    )\n",
    "\n",
    "    # Cardinality 줄이기 4 : License # > 결측치는 0, 고유번호가 있으면 1\n",
    "    df[\"License #\"].fillna(0, inplace=True)\n",
    "    df[\"License\"] = 1 - (df[\"License #\"] == 0)\n",
    "\n",
    "    # Cardinality 줄이기  5 : Name 정제\n",
    "    df[\"Name\"] = df[\"DBA Name\"].str.upper()\n",
    "    replace_mappings = {\n",
    "        \"MCDONALDS\": \"MCDONALD|MC DONALD\",\n",
    "        \"SUBWAY\": \"SUBWAY\",\n",
    "        \"POTBELLY\": \"POTBELLY\",\n",
    "        \"JIMMYJOHNS\": \"JIMMY JOHN|JIMMYJOHN\",\n",
    "        \"DUNKIN AND BASKIN\": \"DUNKIN DONUTS BASKIN ROBBINS|DUNKIN DONUTS/BASKIN ROBBINS|DUNKIN DONUTS / BASKIN ROBBINS\",\n",
    "        \"KFC\": \"KENTUCKY FRIED CHICKEN|KFC\",\n",
    "        \"WENDY\": \"WENDY\",\n",
    "        \"POPEYE\": \"POPEYE\",\n",
    "        \"DOMINO\": \"DOMINO\",\n",
    "        \"REGGIO\": \"REGGIO\",\n",
    "        \"ELEVEN\": \"7-ELEVEN\",\n",
    "        \"STARBUCKS\": \"STARBUCKS\",\n",
    "        \"PAPA JOHN\": \"PAPA JOHN\",\n",
    "        \"TACO BELL\": \"TACO BELL\",\n",
    "        \"WINGSTOP\": \"WINGSTOP\",\n",
    "        \"SEE THRU CHINESE KITCHEN\": \"SEE THRU CHINESE KITCHEN\",\n",
    "        \"HAROLD\": \"HAROLD'S CHICKEN\",\n",
    "        \"PIZZA HUT\": \"PIZZA HUT\",\n",
    "        \"CHARTWELLS\": \"CHARTWELLS\",\n",
    "    }\n",
    "\n",
    "    for k in replace_mappings:\n",
    "        detected_names = df[\"Name\"][df[\"Name\"].str.contains(replace_mappings[k])]\n",
    "        df.replace(detected_names, k, inplace=True)\n",
    "\n",
    "    # 필요한 features 선택\n",
    "    features = [\n",
    "        \"Name\",\n",
    "        \"year\",\n",
    "        \"month\",\n",
    "        \"License\",\n",
    "        \"Facility Type\",\n",
    "        \"City_Chicago\",\n",
    "        \"Latitude\",\n",
    "        \"Longitude\",\n",
    "        \"Risk\",\n",
    "        \"Inspection Type\",\n",
    "        \"Violations\",\n",
    "        \"Inspection Fail\",\n",
    "    ]\n",
    "    df = df[features]\n",
    "    ### END SOLUTION\n",
    "\n",
    "    return df"
   ]
  },
  {
   "cell_type": "code",
   "execution_count": 12,
   "id": "e90106c9",
   "metadata": {
    "nbgrader": {
     "grade": true,
     "grade_id": "1-2_test",
     "locked": true,
     "points": 1,
     "schema_version": 3,
     "solution": false,
     "task": false
    }
   },
   "outputs": [
    {
     "name": "stdout",
     "output_type": "stream",
     "text": [
      "(59947, 12) (19994, 12)\n"
     ]
    }
   ],
   "source": [
    "train_processed = eda_process(train.copy())\n",
    "test_processed = eda_process(test.copy())\n",
    "print(train_processed.shape, test_processed.shape)\n",
    "assert len(train_processed) == 59947, \"train data 전처리가 잘못되었습니다. 조건을 다시 확인하세요.\"\n",
    "assert len(test_processed) == 19994, \"test data 전처리가 잘못되었습니다. 조건을 다시 확인하세요.\""
   ]
  },
  {
   "cell_type": "markdown",
   "id": "d37ba45b",
   "metadata": {
    "nbgrader": {
     "grade": false,
     "grade_id": "cell-830432dc10ec8364",
     "locked": true,
     "schema_version": 3,
     "solution": false,
     "task": false
    }
   },
   "source": [
    "### 전처리 후 target 분포의 변화를 다시 확인해 보세요."
   ]
  },
  {
   "cell_type": "code",
   "execution_count": 13,
   "id": "1442e4a1",
   "metadata": {
    "nbgrader": {
     "grade": false,
     "grade_id": "cell-3992c9dc381419fe",
     "locked": true,
     "schema_version": 3,
     "solution": false,
     "task": false
    }
   },
   "outputs": [
    {
     "data": {
      "image/png": "[encoded data removed]",
      "text/plain": [
       "<Figure size 432x288 with 1 Axes>"
      ]
     },
     "metadata": {},
     "output_type": "display_data"
    },
    {
     "data": {
      "image/png": "[encoded data removed]",
      "text/plain": [
       "<Figure size 432x288 with 1 Axes>"
      ]
     },
     "metadata": {},
     "output_type": "display_data"
    },
    {
     "data": {
      "text/plain": [
       "(16096, 3898)"
      ]
     },
     "execution_count": 13,
     "metadata": {},
     "output_type": "execute_result"
    }
   ],
   "source": [
    "analysis_on_target(train_processed)\n",
    "analysis_on_target(test_processed)"
   ]
  },
  {
   "cell_type": "markdown",
   "id": "90c22148",
   "metadata": {
    "nbgrader": {
     "grade": false,
     "grade_id": "cell-061f9cf27e568eae",
     "locked": true,
     "schema_version": 3,
     "solution": false,
     "task": false
    }
   },
   "source": [
    "# Part 2 - Modeling"
   ]
  },
  {
   "cell_type": "markdown",
   "id": "a003f3e1",
   "metadata": {
    "nbgrader": {
     "grade": false,
     "grade_id": "cell-74769ab837a16066",
     "locked": true,
     "schema_version": 3,
     "solution": false,
     "task": false
    }
   },
   "source": [
    "## 2.1 데이터를 feature (X), label(y)로 분할하는 `divide_data` 함수를 작성하세요.\n",
    "- Target Column은 `Inspection Fail`입니다."
   ]
  },
  {
   "cell_type": "code",
   "execution_count": 14,
   "id": "a85431a9",
   "metadata": {
    "nbgrader": {
     "grade": false,
     "grade_id": "2-1",
     "locked": false,
     "schema_version": 3,
     "solution": true,
     "task": false
    }
   },
   "outputs": [],
   "source": [
    "def divide_data(df):\n",
    "    X = None\n",
    "    y = None\n",
    "\n",
    "    ### BEGIN SOLUTION\n",
    "    target = \"Inspection Fail\"\n",
    "    y = df[target]\n",
    "    X = df.drop(target, axis=1)\n",
    "    ### END SOLUTION\n",
    "\n",
    "    return X, y"
   ]
  },
  {
   "cell_type": "code",
   "execution_count": 15,
   "id": "20ec9b5d",
   "metadata": {
    "nbgrader": {
     "grade": true,
     "grade_id": "2-1_test",
     "locked": true,
     "points": 0.5,
     "schema_version": 3,
     "solution": false,
     "task": false
    }
   },
   "outputs": [
    {
     "name": "stdout",
     "output_type": "stream",
     "text": [
      "(59947, 11) (59947,) (19994, 11) (19994,)\n"
     ]
    }
   ],
   "source": [
    "X_train, y_train = divide_data(train_processed)\n",
    "X_test, y_test = divide_data(test_processed)\n",
    "print(X_train.shape, y_train.shape, X_test.shape, y_test.shape)\n",
    "### BEGIN HIDDEN TESTS\n",
    "if isinstance(y_train, pd.Series):\n",
    "    assert y_train.name == \"Inspection Fail\", \"Target column을 다시 확인하세요.\"\n",
    "else:\n",
    "    assert isinstance(y_train, pd.DataFrame) & (\n",
    "        set(y_train.columns) == {\"Inspection Fail\"}\n",
    "    ), \"Target column을 다시 확인하세요.\"\n",
    "assert \"Inspection Fail\" not in set(X_train.columns), \"Data에 Target column이 포함되어 있습니다.\"\n",
    "### END HIDDEN TESTS"
   ]
  },
  {
   "cell_type": "markdown",
   "id": "819f167c",
   "metadata": {
    "nbgrader": {
     "grade": false,
     "grade_id": "cell-f54c8204c1a466c0",
     "locked": true,
     "schema_version": 3,
     "solution": false,
     "task": false
    }
   },
   "source": [
    "## 2.2 모델을 생성하고 학습하는 `fit` 함수와 1일 확률을 반환하는 `predict` 함수를 작성하세요. \n",
    "- Scikit-learn의 `pipeline`을 활용하여 학습 파이프라인을 생성하세요.\n",
    "- Boosting 모델을 사용하고자 할 경우 XGBoost를 사용하세요.\n",
    "- `RandomizedSearchCV`를 사용해 CV를 진행하세요.\n",
    "    - 적어도 두 개 이상의 하이퍼파라미터에 대해 탐색을 진행하세요.\n",
    "    - **\bAUC score을 최대화하는 하이퍼파라미터 조합을 선택하세요.**\n",
    "- cv는 5 이하, n_iter은 10회 이하로 하세요."
   ]
  },
  {
   "cell_type": "code",
   "execution_count": 18,
   "id": "5299948c",
   "metadata": {
    "nbgrader": {
     "grade": false,
     "grade_id": "2-2",
     "locked": false,
     "schema_version": 3,
     "solution": true,
     "task": false
    },
    "scrolled": true
   },
   "outputs": [],
   "source": [
    "from sklearn.model_selection import RandomizedSearchCV\n",
    "from sklearn.pipeline import make_pipeline\n",
    "from sklearn.metrics import classification_report\n",
    "\n",
    "# import any libraries needed\n",
    "### BEGIN SOLUTION\n",
    "import sklearn\n",
    "from xgboost import XGBClassifier\n",
    "from sklearn.impute import SimpleImputer\n",
    "from category_encoders import OrdinalEncoder, OneHotEncoder\n",
    "\n",
    "### END SOLUTION\n",
    "\n",
    "\n",
    "def fit(X_train, y_train):\n",
    "    pipeline = None  # pipeline = make_pipeline(...)\n",
    "    clf = None  # clf = RandomizedSearchCV(pipeline, ...)\n",
    "\n",
    "    ### BEGIN SOLUTION\n",
    "    pipeline = make_pipeline(\n",
    "        OrdinalEncoder(),\n",
    "        SimpleImputer(strategy=\"median\"),\n",
    "        XGBClassifier(\n",
    "            n_estimators=1000,\n",
    "            verbosity=0,\n",
    "            max_depth=7,\n",
    "            learning_rate=0.2,\n",
    "            scale_pos_weight=sum(1 - y_train) / sum(y_train),\n",
    "            n_jobs=-1,\n",
    "            random_state=2,\n",
    "        ),\n",
    "    )\n",
    "\n",
    "    dists = {\n",
    "        \"xgbclassifier__n_estimators\": [100, 200, 500, 1000],\n",
    "        \"xgbclassifier__max_depth\": [3, 5, 7, 9],\n",
    "        \"xgbclassifier__learning_rate\": [0.01, 0.05, 0.1, 0.15, 0.2],\n",
    "        \"xgbclassifier__max_delta_step\": [1, 2, 5],\n",
    "    }\n",
    "\n",
    "    clf = RandomizedSearchCV(\n",
    "        pipeline,\n",
    "        param_distributions=dists,\n",
    "        n_iter=3,\n",
    "        scoring=\"roc_auc\",\n",
    "        verbose=1,\n",
    "        n_jobs=-1,\n",
    "    )\n",
    "    ### END SOLUTION\n",
    "\n",
    "    clf.fit(X_train, y_train)\n",
    "    print(\"Optimal Hyperparameter:\", clf.best_params_)\n",
    "    print(\"AUC:\", clf.best_score_)\n",
    "\n",
    "    return clf\n",
    "\n",
    "\n",
    "def predict(X, y, best_estimator):\n",
    "    y_pred_proba = None\n",
    "\n",
    "    ### BEGIN SOLUTION\n",
    "    y_pred_proba = best_estimator.predict_proba(X)[:, 1]\n",
    "    ### END SOLUTION\n",
    "\n",
    "    report = classification_report(y, y_pred_proba > 0.5)\n",
    "    return y_pred_proba, report"
   ]
  },
  {
   "cell_type": "code",
   "execution_count": 19,
   "id": "07f646a3",
   "metadata": {
    "nbgrader": {
     "grade": false,
     "grade_id": "cell-train",
     "locked": true,
     "schema_version": 3,
     "solution": false,
     "task": false
    },
    "scrolled": true
   },
   "outputs": [
    {
     "name": "stdout",
     "output_type": "stream",
     "text": [
      "Fitting 5 folds for each of 3 candidates, totalling 15 fits\n",
      "Optimal Hyperparameter: {'xgbclassifier__n_estimators': 200, 'xgbclassifier__max_depth': 7, 'xgbclassifier__max_delta_step': 5, 'xgbclassifier__learning_rate': 0.1}\n",
      "AUC: 0.8317253488840659\n"
     ]
    }
   ],
   "source": [
    "clf = fit(X_train, y_train)"
   ]
  },
  {
   "cell_type": "markdown",
   "id": "5f8bd689",
   "metadata": {},
   "source": [
    "### 아래 셀을 실행시켜 모델의 Test score을 확인해 보세요.\n",
    "- auc_score > 0.65을 만족하면 기본 성능점수를 얻습니다.\n",
    "- (도전과제) auc_score > 0.8을 만족하면 성능점수 만점을 얻습니다.\n",
    "    - 도전과제까지 수행해야 스챌 3점을 얻습니다. \n",
    "    - 1.3으로 돌아가 다양한 특성 조합을 시도해 보세요. \n",
    "    - 2.2로 돌아가 SearchCV에서 다양한 하이퍼파라미터 옵션 조합을 선택해 보세요.\n",
    "        - 본인이 선택한 모델에서, 각 하이퍼파라미터가 어떤 의미를 가지나요?\n",
    "        - SearchCV가 더 다양한 하이퍼파라미터 조합을 시도하도록 하기 위해 SearchCV의 어떤 옵션을 조정해야 할까요?"
   ]
  },
  {
   "cell_type": "code",
   "execution_count": 20,
   "id": "89861706",
   "metadata": {
    "nbgrader": {
     "grade": false,
     "grade_id": "cell-get_auc",
     "locked": true,
     "schema_version": 3,
     "solution": false,
     "task": false
    },
    "scrolled": true
   },
   "outputs": [
    {
     "name": "stdout",
     "output_type": "stream",
     "text": [
      "              precision    recall  f1-score   support\n",
      "\n",
      "           0       0.91      0.81      0.86     16096\n",
      "           1       0.46      0.69      0.55      3898\n",
      "\n",
      "    accuracy                           0.78     19994\n",
      "   macro avg       0.69      0.75      0.70     19994\n",
      "weighted avg       0.83      0.78      0.80     19994\n",
      "\n"
     ]
    },
    {
     "data": {
      "image/png": "[encoded data removed]",
      "text/plain": [
       "<Figure size 432x288 with 1 Axes>"
      ]
     },
     "metadata": {},
     "output_type": "display_data"
    }
   ],
   "source": [
    "from sklearn.metrics import roc_curve, roc_auc_score\n",
    "\n",
    "\n",
    "def plot_roc(y, y_pred_proba):\n",
    "    auc_score = roc_auc_score(y, y_pred_proba)\n",
    "    fpr, tpr, _ = roc_curve(y, y_pred_proba)\n",
    "    baseline_fpr, baseline_tpr, _ = roc_curve(y, [0] * len(y))\n",
    "\n",
    "    plt.style.use(\"ggplot\")\n",
    "    plt.plot(fpr, tpr, label=\"Model\")\n",
    "    plt.plot(baseline_fpr, baseline_tpr, linestyle=\"--\", label=\"Baseline\")\n",
    "    plt.xlabel(\"False Positive Rate\", size=12)\n",
    "    plt.ylabel(\"True Positive Rate\", size=12)\n",
    "    plt.title(\"Receiver Operating Characteristic\")\n",
    "    plt.legend(prop={\"size\": 12})\n",
    "    plt.show()\n",
    "    return auc_score\n",
    "\n",
    "\n",
    "y_test_pred_proba, report = predict(X_test, y_test, clf.best_estimator_)\n",
    "print(report)\n",
    "auc_score = plot_roc(y_test, y_test_pred_proba)"
   ]
  },
  {
   "cell_type": "code",
   "execution_count": 21,
   "id": "539e38c1",
   "metadata": {
    "nbgrader": {
     "grade": true,
     "grade_id": "2-2_test_performance",
     "locked": true,
     "points": 1,
     "schema_version": 3,
     "solution": false,
     "task": false
    }
   },
   "outputs": [
    {
     "name": "stdout",
     "output_type": "stream",
     "text": [
      "Test AUC: 0.8379578305564255\n"
     ]
    }
   ],
   "source": [
    "print(\"Test AUC:\", auc_score)\n",
    "### BEGIN HIDDEN TESTS\n",
    "assert len(clf.param_distributions.values()) >= 2, \"2개 이상의 하이퍼파라미터에 대해 탐색을 시도하세요.\"\n",
    "assert clf.scoring.lower() == \"roc_auc\", \"AUC score을 최적화하도록 CV를 구성하세요.\"\n",
    "assert auc_score > 0.65, \"AUC <= 0.65입니다.\"\n",
    "### END HIDDEN TESTS"
   ]
  },
  {
   "cell_type": "code",
   "execution_count": 22,
   "id": "f769485e",
   "metadata": {
    "nbgrader": {
     "grade": true,
     "grade_id": "challenge_2-3_test",
     "locked": true,
     "points": 1,
     "schema_version": 3,
     "solution": false,
     "task": false
    }
   },
   "outputs": [
    {
     "name": "stdout",
     "output_type": "stream",
     "text": [
      "Test AUC > 0.8?: True\n"
     ]
    }
   ],
   "source": [
    "print(\"Test AUC > 0.8?:\", auc_score > 0.8)\n",
    "### BEGIN HIDDEN TESTS\n",
    "assert auc_score > 0.8, \"AUC <= 0.8입니다.\"\n",
    "### END HIDDEN TESTS"
   ]
  },
  {
   "cell_type": "markdown",
   "id": "e6cb7e41",
   "metadata": {
    "nbgrader": {
     "grade": false,
     "grade_id": "cell-0b8a22eeb09a60ef",
     "locked": true,
     "schema_version": 3,
     "solution": false,
     "task": false
    }
   },
   "source": [
    "# Part 3 - Visualization\n",
    "- `eli5`의 `PermutationImportance`, `pdpbox` 등의 라이브러리에서는 이미 전처리가 완료되어 수치형 자료로 변환된 독립변수들을 입력으로 받습니다.\n",
    "- 따라서, 2.2에서 생성한 pipeline을 **전처리를 위한 부분**과 **예측 모델**로 나눠 주어야 합니다.\n",
    "    - 전처리를 위한 부분을 거친 후에는 모든 특성들이 수치형이어야 합니다. \n",
    "- 아래 셀에서 해당 과정을 수행해 주세요.\n",
    "    1. `pipeline`을 `preprocess_pipeline`과 `model`로 나눠 주세요.\n",
    "    2. `preprocess_pipeline`으로 `X_test`를 transform하여 `X_test_preprocessed`를 생성하세요."
   ]
  },
  {
   "cell_type": "code",
   "execution_count": 23,
   "id": "6013dab3",
   "metadata": {
    "nbgrader": {
     "grade": false,
     "grade_id": "p3_preprocess",
     "locked": false,
     "schema_version": 3,
     "solution": true,
     "task": false
    }
   },
   "outputs": [],
   "source": [
    "pipeline = clf.best_estimator_\n",
    "\n",
    "# TODO: pipeline을 preprocess_pipeline과 model로 나눠 주세요.\n",
    "preprocess_pipeline = None\n",
    "model = None\n",
    "### BEGIN SOLUTIONS\n",
    "preprocess_pipeline = pipeline[:-1]\n",
    "model = pipeline[-1]\n",
    "### END SOLUTIONS\n",
    "\n",
    "# TODO: X_test를 preprocess_pipeline에 통과시켜 X_test_preprocessed를 만드세요.\n",
    "X_test_preprocessed = None\n",
    "### BEGIN SOLUTIONS\n",
    "X_test_preprocessed = preprocess_pipeline.transform(X_test)\n",
    "### END SOLUTIONS"
   ]
  },
  {
   "cell_type": "markdown",
   "id": "762689a6",
   "metadata": {
    "nbgrader": {
     "grade": false,
     "grade_id": "cell-82752ac26d440f73",
     "locked": true,
     "schema_version": 3,
     "solution": false,
     "task": false
    }
   },
   "source": [
    "## 3.1 Permutation Importance를 계산하는 `get_permutation_importance` 함수를 작성하세요.\n",
    "- AUC score을 기준으로 Permutation Importance를 계산하는 permuter을 생성, fit하여 반환하세요.\n",
    "- `n_iter=5`로 하세요."
   ]
  },
  {
   "cell_type": "code",
   "execution_count": 24,
   "id": "c2bba75f",
   "metadata": {
    "nbgrader": {
     "grade": false,
     "grade_id": "3-1",
     "locked": false,
     "schema_version": 3,
     "solution": true,
     "task": false
    }
   },
   "outputs": [],
   "source": [
    "import eli5\n",
    "from eli5.sklearn import PermutationImportance\n",
    "\n",
    "\n",
    "def get_permutation_importance(X, y, model):\n",
    "    permuter = None\n",
    "    # permuter = PermutationImportance(..., n_iter=5, random_state=42)\n",
    "\n",
    "    ### BEGIN SOLUTION\n",
    "    permuter = PermutationImportance(\n",
    "        model, scoring=\"roc_auc\", n_iter=5, random_state=42\n",
    "    )\n",
    "\n",
    "    ### END SOLUTION\n",
    "    permuter.fit(X, y)\n",
    "\n",
    "    return permuter"
   ]
  },
  {
   "cell_type": "code",
   "execution_count": 27,
   "id": "55f96610",
   "metadata": {
    "nbgrader": {
     "grade": true,
     "grade_id": "3-1_test_code",
     "locked": true,
     "points": 1,
     "schema_version": 3,
     "solution": false,
     "task": false
    },
    "scrolled": true
   },
   "outputs": [
    {
     "name": "stdout",
     "output_type": "stream",
     "text": [
      "Top3 Important Features:\n",
      "[('Violations', 0.2501557611743597), ('Inspection Type', 0.0904135060085868), ('year', 0.04215549602589701)]\n"
     ]
    }
   ],
   "source": [
    "permuter = get_permutation_importance(X_test_preprocessed, y_test, model)\n",
    "eli5.show_weights(permuter, top=None, feature_names=X_test.columns.tolist())\n",
    "print(\"Top3 Important Features:\")\n",
    "p_i = sorted(\n",
    "    list(zip(X_test.columns.tolist(), permuter.feature_importances_)),\n",
    "    key=lambda x: x[1],\n",
    "    reverse=True,\n",
    ")\n",
    "print(p_i[:3])\n",
    "### BEGIN HIDDEN TESTS\n",
    "assert permuter.n_iter == 5, 'n_iter != 5입니다. 조건을 다시 확인하세요.'\n",
    "assert permuter.scoring == \"roc_auc\", 'AUC score을 기준으로 Permutation Importance를 계산하세요.'\n",
    "### END HIDDEN TESTS"
   ]
  },
  {
   "cell_type": "markdown",
   "id": "2d609bf4",
   "metadata": {
    "nbgrader": {
     "grade": false,
     "grade_id": "cell-fb46bd888a7b07fa",
     "locked": true,
     "schema_version": 3,
     "solution": false,
     "task": false
    }
   },
   "source": [
    "### 위 결과를 기반으로, 아래의 질문에 답해 보세요. \n",
    "- 확인할 수 없으면 `\"모름\"`으로 답하세요.\n",
    "- 답이 하나이면 `String`, 여러 개이면 `List`로 답하세요.\n",
    "\n",
    "\n",
    "- **문제 1.** 평균적으로 모델의 성능에 가장 많은 영향을 주는 특성은 무엇인가요?\n",
    "- **문제 2.** 모델의 예측값과 양의 상관관계를 갖는 특성은 무엇인가요?\n",
    "- **문제 3.** 모델의 예측값과 음의 상관관계를 갖는 특성은 무엇인가요?\n"
   ]
  },
  {
   "cell_type": "code",
   "execution_count": 28,
   "id": "2512abd9",
   "metadata": {
    "nbgrader": {
     "grade": false,
     "grade_id": "3-1_interpretation",
     "locked": false,
     "schema_version": 3,
     "solution": true,
     "task": false
    }
   },
   "outputs": [],
   "source": [
    "answer_1 = None\n",
    "answer_2 = None\n",
    "answer_3 = None\n",
    "\n",
    "### BEGIN SOLUTION\n",
    "absmax = sorted(p_i, key=lambda x: abs(x[1]), reverse=True)[0]\n",
    "valmax = sorted(p_i, key=lambda x: x[1], reverse=True)[0]\n",
    "if absmax == valmax:\n",
    "    answer_1 = absmax[0]\n",
    "else:\n",
    "    answer_1 = \"모름\"\n",
    "answer_2 = answer_3 = \"모름\"\n",
    "### END SOLUTION"
   ]
  },
  {
   "cell_type": "code",
   "execution_count": 29,
   "id": "c1ad3372",
   "metadata": {
    "nbgrader": {
     "grade": true,
     "grade_id": "3-1_test_interpretation",
     "locked": true,
     "points": 1,
     "schema_version": 3,
     "solution": false,
     "task": false
    }
   },
   "outputs": [
    {
     "name": "stdout",
     "output_type": "stream",
     "text": [
      "A1: Violations\n",
      "A2: 모름\n",
      "A3: 모름\n"
     ]
    }
   ],
   "source": [
    "print(\"A1:\", answer_1)\n",
    "print(\"A2:\", answer_2)\n",
    "print(\"A3:\", answer_3)\n",
    "\n",
    "### BEGIN HIDDEN TESTS\n",
    "_absmax = sorted(p_i, key=lambda x: abs(x[1]), reverse=True)[0]\n",
    "_valmax = sorted(p_i, key=lambda x: x[1], reverse=True)[0]\n",
    "if _absmax == _valmax:\n",
    "    assert answer_1.lower() == _absmax[0].lower(), 'A1이 틀렸습니다.'\n",
    "else:\n",
    "    assert answer_1 == \"모름\", 'A1이 틀렸습니다.'\n",
    "assert answer_2 == \"모름\", 'A2가 틀렸습니다.'\n",
    "assert answer_3 == \"모름\", 'A3이 틀렸습니다.'\n",
    "### END HIDDEN TESTS"
   ]
  },
  {
   "cell_type": "markdown",
   "id": "1d422067",
   "metadata": {
    "nbgrader": {
     "grade": false,
     "grade_id": "cell-9210d46ba9b06c13",
     "locked": true,
     "schema_version": 3,
     "solution": false,
     "task": false
    }
   },
   "source": [
    "## 3.2 1변수 PDP Plot을 생성하는 `get_pdp_isolated` 함수를 작성하세요.\n",
    "- `feature`의 특성을 변수로 하는 1변수 PDP Plot을 생성합니다."
   ]
  },
  {
   "cell_type": "code",
   "execution_count": 30,
   "id": "fbaed864",
   "metadata": {
    "nbgrader": {
     "grade": false,
     "grade_id": "3-2",
     "locked": false,
     "schema_version": 3,
     "solution": true,
     "task": false
    }
   },
   "outputs": [],
   "source": [
    "from pdpbox.pdp import pdp_isolate, pdp_plot\n",
    "\n",
    "\n",
    "def get_pdp_isolated(dataset, model, feature):\n",
    "    pdp_isolated = None\n",
    "\n",
    "    ### BEGIN SOLUTION\n",
    "    pdp_isolated = pdp_isolate(\n",
    "        model=model,\n",
    "        dataset=dataset,\n",
    "        model_features=dataset.columns,\n",
    "        feature=feature,\n",
    "    )\n",
    "    ### END SOLUTION\n",
    "\n",
    "    return pdp_isolated"
   ]
  },
  {
   "cell_type": "code",
   "execution_count": 31,
   "id": "4938e383",
   "metadata": {
    "nbgrader": {
     "grade": true,
     "grade_id": "3-2_test_code",
     "locked": true,
     "points": 1,
     "schema_version": 3,
     "solution": false,
     "task": false
    }
   },
   "outputs": [
    {
     "data": {
      "image/png": "[encoded data removed]",
      "text/plain": [
       "<Figure size 1080x684 with 2 Axes>"
      ]
     },
     "metadata": {},
     "output_type": "display_data"
    }
   ],
   "source": [
    "X_test_preprocessed_df = pd.DataFrame(X_test_preprocessed, columns=X_test.columns)\n",
    "feature = sorted(p_i, key=lambda x: x[1], reverse=True)[0][0]\n",
    "pdp_isolated = get_pdp_isolated(X_test_preprocessed_df, model, feature)\n",
    "pdp_plot(pdp_isolated, feature_name=feature)\n",
    "### BEGIN HIDDEN TESTS\n",
    "from pdpbox.pdp import PDPIsolate\n",
    "\n",
    "assert isinstance(pdp_isolated, PDPIsolate)\n",
    "### END HIDDEN TESTS"
   ]
  },
  {
   "cell_type": "markdown",
   "id": "e2e68510",
   "metadata": {
    "nbgrader": {
     "grade": false,
     "grade_id": "cell-7060a1b0a5f0cc81",
     "locked": true,
     "schema_version": 3,
     "solution": false,
     "task": false
    }
   },
   "source": [
    "### 위 결과를 기반으로, 아래의 질문에 답해 보세요. \n",
    "- `True`/`False`로 답하고 그 이유를 한 줄로 작성하세요.\n",
    "\n",
    "\n",
    "- **문제 1.** 위 Plot은 해당 특성에 따른 실제 label값의 양상을 나타낸 것이다.\n",
    "- **문제 2.** 위 Plot은 해당 특성에 따른 모델의 label 예측값의 양상을 나타낸 것이다.\n",
    "- **문제 3.** 선형회귀 모델(Linear Regression)에서 isolated PDP는 데이터의 분포와는 무관하게 항상 직선이다.\n",
    "- **문제 4.** 선형회귀 모델(Linear Regression)의 isolated PDP에서 여러 개의 서로 다른 ICE 곡선이 나올 수 있다.\n"
   ]
  },
  {
   "cell_type": "code",
   "execution_count": 32,
   "id": "3cd16341",
   "metadata": {
    "nbgrader": {
     "grade": false,
     "grade_id": "3-2_interpretation",
     "locked": false,
     "schema_version": 3,
     "solution": true,
     "task": false
    }
   },
   "outputs": [],
   "source": [
    "answer_1 = False  # True / False\n",
    "reason_1 = \"\"\n",
    "answer_2 = False  # True / False\n",
    "reason_2 = \"\"\n",
    "answer_3 = False  # True / False\n",
    "reason_3 = \"\"\n",
    "answer_4 = False  # True / False\n",
    "reason_4 = \"\"\n",
    "\n",
    "### BEGIN SOLUTION\n",
    "answer_1 = False\n",
    "answer_2 = True\n",
    "answer_3 = True\n",
    "answer_4 = False\n",
    "### END SOLUTION"
   ]
  },
  {
   "cell_type": "code",
   "execution_count": 33,
   "id": "d180ba2b",
   "metadata": {
    "nbgrader": {
     "grade": true,
     "grade_id": "3-2_test_interpretation",
     "locked": true,
     "points": 1,
     "schema_version": 3,
     "solution": false,
     "task": false
    }
   },
   "outputs": [
    {
     "name": "stdout",
     "output_type": "stream",
     "text": [
      "A1: False Why?: \n",
      "A2: True Why?: \n",
      "A3: True Why?: \n",
      "A4: False Why?: \n"
     ]
    }
   ],
   "source": [
    "print(\"A1:\", answer_1, \"Why?:\", reason_1)\n",
    "print(\"A2:\", answer_2, \"Why?:\", reason_2)\n",
    "print(\"A3:\", answer_3, \"Why?:\", reason_3)\n",
    "print(\"A4:\", answer_4, \"Why?:\", reason_4)\n",
    "\n",
    "### BEGIN HIDDEN TESTS\n",
    "assert answer_1 == False, 'A1이 틀렸습니다.'\n",
    "assert answer_2 == True, 'A2가 틀렸습니다.'\n",
    "assert answer_3 == True, 'A3이 틀렸습니다.'\n",
    "assert answer_4 == False, 'A4가 틀렸습니다.'\n",
    "### END HIDDEN TESTS"
   ]
  },
  {
   "cell_type": "markdown",
   "id": "61531eeb",
   "metadata": {
    "nbgrader": {
     "grade": false,
     "grade_id": "cell-724d9ce8534e3c8d",
     "locked": true,
     "schema_version": 3,
     "solution": false,
     "task": false
    }
   },
   "source": [
    "## 3.3 2변수 PDP Plot을 생성하는 `get_pdp_interaction` 함수를 작성하세요."
   ]
  },
  {
   "cell_type": "code",
   "execution_count": 34,
   "id": "16d17890",
   "metadata": {
    "nbgrader": {
     "grade": false,
     "grade_id": "3-3",
     "locked": false,
     "schema_version": 3,
     "solution": true,
     "task": false
    }
   },
   "outputs": [],
   "source": [
    "from pdpbox.pdp import pdp_interact, pdp_interact_plot\n",
    "\n",
    "\n",
    "def get_pdp_interaction(dataset, model, features):\n",
    "    pdp_interaction = None\n",
    "\n",
    "    ### BEGIN SOLUTION\n",
    "    pdp_interaction = pdp_interact(\n",
    "        model=model,\n",
    "        dataset=dataset,\n",
    "        model_features=dataset.columns,\n",
    "        features=features,\n",
    "    )\n",
    "    ### END SOLUTION\n",
    "\n",
    "    return pdp_interaction"
   ]
  },
  {
   "cell_type": "code",
   "execution_count": 35,
   "id": "572813e8",
   "metadata": {
    "nbgrader": {
     "grade": true,
     "grade_id": "3-3_test_code",
     "locked": true,
     "points": 1,
     "schema_version": 3,
     "solution": false,
     "task": false
    },
    "scrolled": false
   },
   "outputs": [
    {
     "data": {
      "image/png": "[encoded data removed]",
      "text/plain": [
       "<Figure size 540x684 with 3 Axes>"
      ]
     },
     "metadata": {},
     "output_type": "display_data"
    },
    {
     "name": "stderr",
     "output_type": "stream",
     "text": [
      "/Users/codestates/Library/Python/3.8/lib/python/site-packages/xgboost/sklearn.py:1224: UserWarning: The use of label encoder in XGBClassifier is deprecated and will be removed in a future release. To remove this warning, do the following: 1) Pass option use_label_encoder=False when constructing XGBClassifier object; and 2) Encode your labels (y) as integers starting with 0, i.e. 0, 1, 2, ..., [num_class - 1].\n",
      "  warnings.warn(label_encoder_deprecation_msg, UserWarning)\n",
      "/Users/codestates/Library/Python/3.8/lib/python/site-packages/xgboost/sklearn.py:1224: UserWarning: The use of label encoder in XGBClassifier is deprecated and will be removed in a future release. To remove this warning, do the following: 1) Pass option use_label_encoder=False when constructing XGBClassifier object; and 2) Encode your labels (y) as integers starting with 0, i.e. 0, 1, 2, ..., [num_class - 1].\n",
      "  warnings.warn(label_encoder_deprecation_msg, UserWarning)\n",
      "/Users/codestates/Library/Python/3.8/lib/python/site-packages/xgboost/sklearn.py:1224: UserWarning: The use of label encoder in XGBClassifier is deprecated and will be removed in a future release. To remove this warning, do the following: 1) Pass option use_label_encoder=False when constructing XGBClassifier object; and 2) Encode your labels (y) as integers starting with 0, i.e. 0, 1, 2, ..., [num_class - 1].\n",
      "  warnings.warn(label_encoder_deprecation_msg, UserWarning)\n",
      "/Users/codestates/Library/Python/3.8/lib/python/site-packages/xgboost/sklearn.py:1224: UserWarning: The use of label encoder in XGBClassifier is deprecated and will be removed in a future release. To remove this warning, do the following: 1) Pass option use_label_encoder=False when constructing XGBClassifier object; and 2) Encode your labels (y) as integers starting with 0, i.e. 0, 1, 2, ..., [num_class - 1].\n",
      "  warnings.warn(label_encoder_deprecation_msg, UserWarning)\n",
      "/Users/codestates/Library/Python/3.8/lib/python/site-packages/xgboost/sklearn.py:1224: UserWarning: The use of label encoder in XGBClassifier is deprecated and will be removed in a future release. To remove this warning, do the following: 1) Pass option use_label_encoder=False when constructing XGBClassifier object; and 2) Encode your labels (y) as integers starting with 0, i.e. 0, 1, 2, ..., [num_class - 1].\n",
      "  warnings.warn(label_encoder_deprecation_msg, UserWarning)\n",
      "/Users/codestates/Library/Python/3.8/lib/python/site-packages/xgboost/sklearn.py:1224: UserWarning: The use of label encoder in XGBClassifier is deprecated and will be removed in a future release. To remove this warning, do the following: 1) Pass option use_label_encoder=False when constructing XGBClassifier object; and 2) Encode your labels (y) as integers starting with 0, i.e. 0, 1, 2, ..., [num_class - 1].\n",
      "  warnings.warn(label_encoder_deprecation_msg, UserWarning)\n",
      "/Users/codestates/Library/Python/3.8/lib/python/site-packages/xgboost/sklearn.py:1224: UserWarning: The use of label encoder in XGBClassifier is deprecated and will be removed in a future release. To remove this warning, do the following: 1) Pass option use_label_encoder=False when constructing XGBClassifier object; and 2) Encode your labels (y) as integers starting with 0, i.e. 0, 1, 2, ..., [num_class - 1].\n",
      "  warnings.warn(label_encoder_deprecation_msg, UserWarning)\n",
      "/Users/codestates/Library/Python/3.8/lib/python/site-packages/xgboost/sklearn.py:1224: UserWarning: The use of label encoder in XGBClassifier is deprecated and will be removed in a future release. To remove this warning, do the following: 1) Pass option use_label_encoder=False when constructing XGBClassifier object; and 2) Encode your labels (y) as integers starting with 0, i.e. 0, 1, 2, ..., [num_class - 1].\n",
      "  warnings.warn(label_encoder_deprecation_msg, UserWarning)\n",
      "/Users/codestates/Library/Python/3.8/lib/python/site-packages/xgboost/sklearn.py:1224: UserWarning: The use of label encoder in XGBClassifier is deprecated and will be removed in a future release. To remove this warning, do the following: 1) Pass option use_label_encoder=False when constructing XGBClassifier object; and 2) Encode your labels (y) as integers starting with 0, i.e. 0, 1, 2, ..., [num_class - 1].\n",
      "  warnings.warn(label_encoder_deprecation_msg, UserWarning)\n",
      "/Users/codestates/Library/Python/3.8/lib/python/site-packages/xgboost/sklearn.py:1224: UserWarning: The use of label encoder in XGBClassifier is deprecated and will be removed in a future release. To remove this warning, do the following: 1) Pass option use_label_encoder=False when constructing XGBClassifier object; and 2) Encode your labels (y) as integers starting with 0, i.e. 0, 1, 2, ..., [num_class - 1].\n",
      "  warnings.warn(label_encoder_deprecation_msg, UserWarning)\n",
      "/Users/codestates/Library/Python/3.8/lib/python/site-packages/xgboost/sklearn.py:1224: UserWarning: The use of label encoder in XGBClassifier is deprecated and will be removed in a future release. To remove this warning, do the following: 1) Pass option use_label_encoder=False when constructing XGBClassifier object; and 2) Encode your labels (y) as integers starting with 0, i.e. 0, 1, 2, ..., [num_class - 1].\n",
      "  warnings.warn(label_encoder_deprecation_msg, UserWarning)\n",
      "/Users/codestates/Library/Python/3.8/lib/python/site-packages/xgboost/sklearn.py:1224: UserWarning: The use of label encoder in XGBClassifier is deprecated and will be removed in a future release. To remove this warning, do the following: 1) Pass option use_label_encoder=False when constructing XGBClassifier object; and 2) Encode your labels (y) as integers starting with 0, i.e. 0, 1, 2, ..., [num_class - 1].\n",
      "  warnings.warn(label_encoder_deprecation_msg, UserWarning)\n",
      "/Users/codestates/Library/Python/3.8/lib/python/site-packages/xgboost/sklearn.py:1224: UserWarning: The use of label encoder in XGBClassifier is deprecated and will be removed in a future release. To remove this warning, do the following: 1) Pass option use_label_encoder=False when constructing XGBClassifier object; and 2) Encode your labels (y) as integers starting with 0, i.e. 0, 1, 2, ..., [num_class - 1].\n",
      "  warnings.warn(label_encoder_deprecation_msg, UserWarning)\n",
      "/Users/codestates/Library/Python/3.8/lib/python/site-packages/xgboost/sklearn.py:1224: UserWarning: The use of label encoder in XGBClassifier is deprecated and will be removed in a future release. To remove this warning, do the following: 1) Pass option use_label_encoder=False when constructing XGBClassifier object; and 2) Encode your labels (y) as integers starting with 0, i.e. 0, 1, 2, ..., [num_class - 1].\n",
      "  warnings.warn(label_encoder_deprecation_msg, UserWarning)\n",
      "/Users/codestates/Library/Python/3.8/lib/python/site-packages/xgboost/sklearn.py:1224: UserWarning: The use of label encoder in XGBClassifier is deprecated and will be removed in a future release. To remove this warning, do the following: 1) Pass option use_label_encoder=False when constructing XGBClassifier object; and 2) Encode your labels (y) as integers starting with 0, i.e. 0, 1, 2, ..., [num_class - 1].\n",
      "  warnings.warn(label_encoder_deprecation_msg, UserWarning)\n",
      "/Users/codestates/Library/Python/3.8/lib/python/site-packages/xgboost/sklearn.py:1224: UserWarning: The use of label encoder in XGBClassifier is deprecated and will be removed in a future release. To remove this warning, do the following: 1) Pass option use_label_encoder=False when constructing XGBClassifier object; and 2) Encode your labels (y) as integers starting with 0, i.e. 0, 1, 2, ..., [num_class - 1].\n",
      "  warnings.warn(label_encoder_deprecation_msg, UserWarning)\n",
      "/Users/codestates/Library/Python/3.8/lib/python/site-packages/xgboost/sklearn.py:1224: UserWarning: The use of label encoder in XGBClassifier is deprecated and will be removed in a future release. To remove this warning, do the following: 1) Pass option use_label_encoder=False when constructing XGBClassifier object; and 2) Encode your labels (y) as integers starting with 0, i.e. 0, 1, 2, ..., [num_class - 1].\n",
      "  warnings.warn(label_encoder_deprecation_msg, UserWarning)\n",
      "/Users/codestates/Library/Python/3.8/lib/python/site-packages/xgboost/sklearn.py:1224: UserWarning: The use of label encoder in XGBClassifier is deprecated and will be removed in a future release. To remove this warning, do the following: 1) Pass option use_label_encoder=False when constructing XGBClassifier object; and 2) Encode your labels (y) as integers starting with 0, i.e. 0, 1, 2, ..., [num_class - 1].\n",
      "  warnings.warn(label_encoder_deprecation_msg, UserWarning)\n",
      "/Users/codestates/Library/Python/3.8/lib/python/site-packages/xgboost/sklearn.py:1224: UserWarning: The use of label encoder in XGBClassifier is deprecated and will be removed in a future release. To remove this warning, do the following: 1) Pass option use_label_encoder=False when constructing XGBClassifier object; and 2) Encode your labels (y) as integers starting with 0, i.e. 0, 1, 2, ..., [num_class - 1].\n",
      "  warnings.warn(label_encoder_deprecation_msg, UserWarning)\n",
      "/Users/codestates/Library/Python/3.8/lib/python/site-packages/xgboost/sklearn.py:1224: UserWarning: The use of label encoder in XGBClassifier is deprecated and will be removed in a future release. To remove this warning, do the following: 1) Pass option use_label_encoder=False when constructing XGBClassifier object; and 2) Encode your labels (y) as integers starting with 0, i.e. 0, 1, 2, ..., [num_class - 1].\n",
      "  warnings.warn(label_encoder_deprecation_msg, UserWarning)\n"
     ]
    },
    {
     "name": "stderr",
     "output_type": "stream",
     "text": [
      "/Users/codestates/Library/Python/3.8/lib/python/site-packages/xgboost/sklearn.py:1224: UserWarning: The use of label encoder in XGBClassifier is deprecated and will be removed in a future release. To remove this warning, do the following: 1) Pass option use_label_encoder=False when constructing XGBClassifier object; and 2) Encode your labels (y) as integers starting with 0, i.e. 0, 1, 2, ..., [num_class - 1].\n",
      "  warnings.warn(label_encoder_deprecation_msg, UserWarning)\n",
      "/Users/codestates/Library/Python/3.8/lib/python/site-packages/xgboost/sklearn.py:1224: UserWarning: The use of label encoder in XGBClassifier is deprecated and will be removed in a future release. To remove this warning, do the following: 1) Pass option use_label_encoder=False when constructing XGBClassifier object; and 2) Encode your labels (y) as integers starting with 0, i.e. 0, 1, 2, ..., [num_class - 1].\n",
      "  warnings.warn(label_encoder_deprecation_msg, UserWarning)\n",
      "/Users/codestates/Library/Python/3.8/lib/python/site-packages/xgboost/sklearn.py:1224: UserWarning: The use of label encoder in XGBClassifier is deprecated and will be removed in a future release. To remove this warning, do the following: 1) Pass option use_label_encoder=False when constructing XGBClassifier object; and 2) Encode your labels (y) as integers starting with 0, i.e. 0, 1, 2, ..., [num_class - 1].\n",
      "  warnings.warn(label_encoder_deprecation_msg, UserWarning)\n",
      "/Users/codestates/Library/Python/3.8/lib/python/site-packages/xgboost/sklearn.py:1224: UserWarning: The use of label encoder in XGBClassifier is deprecated and will be removed in a future release. To remove this warning, do the following: 1) Pass option use_label_encoder=False when constructing XGBClassifier object; and 2) Encode your labels (y) as integers starting with 0, i.e. 0, 1, 2, ..., [num_class - 1].\n",
      "  warnings.warn(label_encoder_deprecation_msg, UserWarning)\n",
      "/Users/codestates/Library/Python/3.8/lib/python/site-packages/xgboost/sklearn.py:1224: UserWarning: The use of label encoder in XGBClassifier is deprecated and will be removed in a future release. To remove this warning, do the following: 1) Pass option use_label_encoder=False when constructing XGBClassifier object; and 2) Encode your labels (y) as integers starting with 0, i.e. 0, 1, 2, ..., [num_class - 1].\n",
      "  warnings.warn(label_encoder_deprecation_msg, UserWarning)\n",
      "/Users/codestates/Library/Python/3.8/lib/python/site-packages/xgboost/sklearn.py:1224: UserWarning: The use of label encoder in XGBClassifier is deprecated and will be removed in a future release. To remove this warning, do the following: 1) Pass option use_label_encoder=False when constructing XGBClassifier object; and 2) Encode your labels (y) as integers starting with 0, i.e. 0, 1, 2, ..., [num_class - 1].\n",
      "  warnings.warn(label_encoder_deprecation_msg, UserWarning)\n",
      "/Users/codestates/Library/Python/3.8/lib/python/site-packages/xgboost/sklearn.py:1224: UserWarning: The use of label encoder in XGBClassifier is deprecated and will be removed in a future release. To remove this warning, do the following: 1) Pass option use_label_encoder=False when constructing XGBClassifier object; and 2) Encode your labels (y) as integers starting with 0, i.e. 0, 1, 2, ..., [num_class - 1].\n",
      "  warnings.warn(label_encoder_deprecation_msg, UserWarning)\n",
      "/Users/codestates/Library/Python/3.8/lib/python/site-packages/xgboost/sklearn.py:1224: UserWarning: The use of label encoder in XGBClassifier is deprecated and will be removed in a future release. To remove this warning, do the following: 1) Pass option use_label_encoder=False when constructing XGBClassifier object; and 2) Encode your labels (y) as integers starting with 0, i.e. 0, 1, 2, ..., [num_class - 1].\n",
      "  warnings.warn(label_encoder_deprecation_msg, UserWarning)\n",
      "/Users/codestates/Library/Python/3.8/lib/python/site-packages/xgboost/sklearn.py:1224: UserWarning: The use of label encoder in XGBClassifier is deprecated and will be removed in a future release. To remove this warning, do the following: 1) Pass option use_label_encoder=False when constructing XGBClassifier object; and 2) Encode your labels (y) as integers starting with 0, i.e. 0, 1, 2, ..., [num_class - 1].\n",
      "  warnings.warn(label_encoder_deprecation_msg, UserWarning)\n",
      "/Users/codestates/Library/Python/3.8/lib/python/site-packages/xgboost/sklearn.py:1224: UserWarning: The use of label encoder in XGBClassifier is deprecated and will be removed in a future release. To remove this warning, do the following: 1) Pass option use_label_encoder=False when constructing XGBClassifier object; and 2) Encode your labels (y) as integers starting with 0, i.e. 0, 1, 2, ..., [num_class - 1].\n",
      "  warnings.warn(label_encoder_deprecation_msg, UserWarning)\n"
     ]
    }
   ],
   "source": [
    "features = list(map(lambda x: x[0], sorted(p_i, key=lambda x: x[1], reverse=True)))[:2]\n",
    "pdp_interaction = get_pdp_interaction(X_test_preprocessed_df, model, features)\n",
    "pdp_interact_plot(pdp_interaction, feature_names=features, plot_type=\"grid\")\n",
    "### BEGIN HIDDEN TESTS\n",
    "from pdpbox.pdp import PDPInteract\n",
    "\n",
    "assert isinstance(pdp_interaction, PDPInteract)\n",
    "### END HIDDEN TESTS"
   ]
  }
 ],
 "metadata": {
  "celltoolbar": "Create Assignment",
  "kernelspec": {
   "display_name": "Python 3 (ipykernel)",
   "language": "python",
   "name": "python3"
  },
  "language_info": {
   "codemirror_mode": {
    "name": "ipython",
    "version": 3
   },
   "file_extension": ".py",
   "mimetype": "text/x-python",
   "name": "python",
   "nbconvert_exporter": "python",
   "pygments_lexer": "ipython3",
   "version": "3.8.9"
  }
 },
 "nbformat": 4,
 "nbformat_minor": 5
}
