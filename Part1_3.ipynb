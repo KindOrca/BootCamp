{
  "cells": [
    {
      "cell_type": "markdown",
      "id": "73fd4e31",
      "metadata": {
        "id": "73fd4e31"
      },
      "source": [
        "# 확인하세요!\n",
        "\n",
        "### 제출 전에 모든 코드가 순차적으로 잘 작동하는지 확인하세요. \n",
        "- **런타임 다시 시작**한 다음(메뉴바에서 런타임$\\rightarrow$런타임 다시 시작 선택) **모든 셀을 실행**해 보세요(메뉴바에서 런타임$\\rightarrow$모두 실행 선택).\n",
        "\n",
        "### 지정 셀의 지정 영역에서만 코드를 작성했는지 확인하세요.\n",
        "- `YOUR CODE HERE`이 적혀 있는 셀에 대한 코드만 채점에 반영됩니다.\n",
        "- `YOUR CODE HERE` ~ `YOUR CODE ENDS HERE` 사이에 본인의 코드를 작성하세요.\n",
        "- 지정 셀 이외에 본인이 코드 실행 결과를 확인하기 위한 용도로 셀을 추가해도 됩니다.\n",
        "    - **제출 시 지정 셀에서는 정답 이외에 결과 확인을 위한 코드 등은 제거하고 제출해 주세요!**\n",
        "    - **기존 셀을 삭제하지 마세요! 채점에 불이익이 있을 수 있습니다.**\n",
        "\n",
        "### 제출 방법\n",
        "- 시간 내에 문제를 풀고, 본인의 github repo에 push 하세요.\n",
        "    - **디렉토리 구조가 변하면 안 됩니다.** `codestates/ds-sc2xx`와 디렉토리 구조가 동일해야 합니다. 답안 파일의 이름을 변경하지 않았는지, 기존에 없던 폴더가 추가되지 않았는지 등을 확인하세요.\n",
        "    - **코드스테이츠 가입 시 연동한 github 계정을 사용해야 합니다.**\n",
        "    - **branch를 변경하여 작업하지 마세요.**\n",
        "        - `master` branch에의 제출 사항에 대해서만 평가합니다.\n",
        "        - 본인의 github repo `master` branch에 제출이 잘 되어 있는지 확인하세요."
      ]
    },
    {
      "cell_type": "markdown",
      "id": "651fc975",
      "metadata": {
        "id": "651fc975"
      },
      "source": [
        "---"
      ]
    },
    {
      "cell_type": "markdown",
      "id": "6f4f7cc5",
      "metadata": {
        "deletable": false,
        "editable": false,
        "nbgrader": {
          "cell_type": "markdown",
          "checksum": "75d1a96b35e95ad998708dbf4ac9a614",
          "grade": false,
          "grade_id": "cell-5b7fa4769535997c",
          "locked": true,
          "schema_version": 3,
          "solution": false,
          "task": false
        },
        "id": "6f4f7cc5"
      },
      "source": [
        "# SC23x\n",
        " \n",
        "## Applied Predictive Modeling\n",
        "\n",
        " 이번 스프린트 챌린지에서는 시카고에 있는 식당들의 정보와 해당 식당들의 위생 검사 결과에 관한 데이터를 담은 데이터셋을 다루게 됩니다.\n",
        "\n",
        "데이터셋에 관한 설명은 이 [PDF](https://data.cityofchicago.org/api/assets/BAD5301B-681A-4202-9D25-51B2CAE672FF)를 참고해주시길 바랍니다."
      ]
    },
    {
      "cell_type": "markdown",
      "id": "47d7d20d",
      "metadata": {
        "deletable": false,
        "editable": false,
        "nbgrader": {
          "cell_type": "markdown",
          "checksum": "10c83cf610a0d051d3ba4677ce80a614",
          "grade": false,
          "grade_id": "cell-b104eb070075cc6e",
          "locked": true,
          "schema_version": 3,
          "solution": false,
          "task": false
        },
        "id": "47d7d20d"
      },
      "source": [
        "#### 목표: 오늘 여러분은 Chicago시의 공중보건부에서 진행한 레스토랑들의 위생 검사 \"불합격\" 여부를 예측하는 모델을 만들어야 합니다.\n",
        "\n",
        "여러분의 모델이 예측할 target은 `Inspection Fail` 칼럼입니다.   \n",
        "칼럼 값은 아래와 같습니다:\n",
        "- 식당이 위생 검사에 불합격한 경우: **1**\n",
        "- 식당이 검사를 통과한 경우: **0**"
      ]
    },
    {
      "cell_type": "code",
      "execution_count": 77,
      "id": "cdad95b2",
      "metadata": {
        "deletable": false,
        "editable": false,
        "nbgrader": {
          "cell_type": "code",
          "checksum": "344a67294d66336d80aef86c689863e7",
          "grade": false,
          "grade_id": "cell-ee764f0e965ac62a",
          "locked": true,
          "schema_version": 3,
          "solution": false,
          "task": false
        },
        "id": "cdad95b2",
        "outputId": "c8c192dd-e4fd-4e7d-99aa-b8d81365616b",
        "colab": {
          "base_uri": "https://localhost:8080/",
          "height": 1000
        }
      },
      "outputs": [
        {
          "output_type": "stream",
          "name": "stdout",
          "text": [
            "Looking in indexes: https://pypi.org/simple, https://us-python.pkg.dev/colab-wheels/public/simple/\n",
            "Requirement already satisfied: category_encoders==2.* in /usr/local/lib/python3.7/dist-packages (2.5.0)\n",
            "Requirement already satisfied: scikit-learn>=0.20.0 in /usr/local/lib/python3.7/dist-packages (from category_encoders==2.*) (1.0.2)\n",
            "Requirement already satisfied: numpy>=1.14.0 in /usr/local/lib/python3.7/dist-packages (from category_encoders==2.*) (1.21.6)\n",
            "Requirement already satisfied: pandas>=1.0.5 in /usr/local/lib/python3.7/dist-packages (from category_encoders==2.*) (1.3.5)\n",
            "Requirement already satisfied: statsmodels>=0.9.0 in /usr/local/lib/python3.7/dist-packages (from category_encoders==2.*) (0.10.2)\n",
            "Requirement already satisfied: patsy>=0.5.1 in /usr/local/lib/python3.7/dist-packages (from category_encoders==2.*) (0.5.2)\n",
            "Requirement already satisfied: scipy>=1.0.0 in /usr/local/lib/python3.7/dist-packages (from category_encoders==2.*) (1.7.3)\n",
            "Requirement already satisfied: python-dateutil>=2.7.3 in /usr/local/lib/python3.7/dist-packages (from pandas>=1.0.5->category_encoders==2.*) (2.8.2)\n",
            "Requirement already satisfied: pytz>=2017.3 in /usr/local/lib/python3.7/dist-packages (from pandas>=1.0.5->category_encoders==2.*) (2022.1)\n",
            "Requirement already satisfied: six in /usr/local/lib/python3.7/dist-packages (from patsy>=0.5.1->category_encoders==2.*) (1.15.0)\n",
            "Requirement already satisfied: threadpoolctl>=2.0.0 in /usr/local/lib/python3.7/dist-packages (from scikit-learn>=0.20.0->category_encoders==2.*) (3.1.0)\n",
            "Requirement already satisfied: joblib>=0.11 in /usr/local/lib/python3.7/dist-packages (from scikit-learn>=0.20.0->category_encoders==2.*) (1.1.0)\n",
            "Looking in indexes: https://pypi.org/simple, https://us-python.pkg.dev/colab-wheels/public/simple/\n",
            "Requirement already satisfied: eli5 in /usr/local/lib/python3.7/dist-packages (0.13.0)\n",
            "Requirement already satisfied: jinja2>=3.0.0 in /usr/local/lib/python3.7/dist-packages (from eli5) (3.1.2)\n",
            "Requirement already satisfied: attrs>17.1.0 in /usr/local/lib/python3.7/dist-packages (from eli5) (21.4.0)\n",
            "Requirement already satisfied: numpy>=1.9.0 in /usr/local/lib/python3.7/dist-packages (from eli5) (1.21.6)\n",
            "Requirement already satisfied: six in /usr/local/lib/python3.7/dist-packages (from eli5) (1.15.0)\n",
            "Requirement already satisfied: tabulate>=0.7.7 in /usr/local/lib/python3.7/dist-packages (from eli5) (0.8.10)\n",
            "Requirement already satisfied: scipy in /usr/local/lib/python3.7/dist-packages (from eli5) (1.7.3)\n",
            "Requirement already satisfied: graphviz in /usr/local/lib/python3.7/dist-packages (from eli5) (0.10.1)\n",
            "Requirement already satisfied: scikit-learn>=0.20 in /usr/local/lib/python3.7/dist-packages (from eli5) (1.0.2)\n",
            "Requirement already satisfied: MarkupSafe>=2.0 in /usr/local/lib/python3.7/dist-packages (from jinja2>=3.0.0->eli5) (2.0.1)\n",
            "Requirement already satisfied: threadpoolctl>=2.0.0 in /usr/local/lib/python3.7/dist-packages (from scikit-learn>=0.20->eli5) (3.1.0)\n",
            "Requirement already satisfied: joblib>=0.11 in /usr/local/lib/python3.7/dist-packages (from scikit-learn>=0.20->eli5) (1.1.0)\n",
            "Looking in indexes: https://pypi.org/simple, https://us-python.pkg.dev/colab-wheels/public/simple/\n",
            "Requirement already satisfied: pandas-profiling==2.* in /usr/local/lib/python3.7/dist-packages (2.13.0)\n",
            "Requirement already satisfied: visions[type_image_path]==0.7.1 in /usr/local/lib/python3.7/dist-packages (from pandas-profiling==2.*) (0.7.1)\n",
            "Requirement already satisfied: numpy>=1.16.0 in /usr/local/lib/python3.7/dist-packages (from pandas-profiling==2.*) (1.21.6)\n",
            "Requirement already satisfied: tangled-up-in-unicode>=0.0.6 in /usr/local/lib/python3.7/dist-packages (from pandas-profiling==2.*) (0.2.0)\n",
            "Requirement already satisfied: joblib in /usr/local/lib/python3.7/dist-packages (from pandas-profiling==2.*) (1.1.0)\n",
            "Requirement already satisfied: pandas!=1.0.0,!=1.0.1,!=1.0.2,!=1.1.0,>=0.25.3 in /usr/local/lib/python3.7/dist-packages (from pandas-profiling==2.*) (1.3.5)\n",
            "Requirement already satisfied: phik>=0.11.1 in /usr/local/lib/python3.7/dist-packages (from pandas-profiling==2.*) (0.12.2)\n",
            "Requirement already satisfied: jinja2>=2.11.1 in /usr/local/lib/python3.7/dist-packages (from pandas-profiling==2.*) (3.1.2)\n",
            "Requirement already satisfied: htmlmin>=0.1.12 in /usr/local/lib/python3.7/dist-packages (from pandas-profiling==2.*) (0.1.12)\n",
            "Requirement already satisfied: confuse>=1.0.0 in /usr/local/lib/python3.7/dist-packages (from pandas-profiling==2.*) (2.0.0)\n",
            "Requirement already satisfied: scipy>=1.4.1 in /usr/local/lib/python3.7/dist-packages (from pandas-profiling==2.*) (1.7.3)\n",
            "Collecting matplotlib>=3.2.0\n",
            "  Downloading matplotlib-3.5.2-cp37-cp37m-manylinux_2_5_x86_64.manylinux1_x86_64.whl (11.2 MB)\n",
            "\u001b[K     |████████████████████████████████| 11.2 MB 5.2 MB/s \n",
            "\u001b[?25hRequirement already satisfied: seaborn>=0.10.1 in /usr/local/lib/python3.7/dist-packages (from pandas-profiling==2.*) (0.11.2)\n",
            "Requirement already satisfied: missingno>=0.4.2 in /usr/local/lib/python3.7/dist-packages (from pandas-profiling==2.*) (0.5.1)\n",
            "Requirement already satisfied: attrs>=19.3.0 in /usr/local/lib/python3.7/dist-packages (from pandas-profiling==2.*) (21.4.0)\n",
            "Requirement already satisfied: tqdm>=4.48.2 in /usr/local/lib/python3.7/dist-packages (from pandas-profiling==2.*) (4.64.0)\n",
            "Requirement already satisfied: requests>=2.24.0 in /usr/local/lib/python3.7/dist-packages (from pandas-profiling==2.*) (2.28.1)\n",
            "Requirement already satisfied: multimethod==1.4 in /usr/local/lib/python3.7/dist-packages (from visions[type_image_path]==0.7.1->pandas-profiling==2.*) (1.4)\n",
            "Requirement already satisfied: bottleneck in /usr/local/lib/python3.7/dist-packages (from visions[type_image_path]==0.7.1->pandas-profiling==2.*) (1.3.5)\n",
            "Requirement already satisfied: networkx>=2.4 in /usr/local/lib/python3.7/dist-packages (from visions[type_image_path]==0.7.1->pandas-profiling==2.*) (2.6.3)\n",
            "Requirement already satisfied: Pillow in /usr/local/lib/python3.7/dist-packages (from visions[type_image_path]==0.7.1->pandas-profiling==2.*) (7.1.2)\n",
            "Requirement already satisfied: imagehash in /usr/local/lib/python3.7/dist-packages (from visions[type_image_path]==0.7.1->pandas-profiling==2.*) (4.2.1)\n",
            "Requirement already satisfied: pyyaml in /usr/local/lib/python3.7/dist-packages (from confuse>=1.0.0->pandas-profiling==2.*) (3.13)\n",
            "Requirement already satisfied: MarkupSafe>=2.0 in /usr/local/lib/python3.7/dist-packages (from jinja2>=2.11.1->pandas-profiling==2.*) (2.0.1)\n",
            "Requirement already satisfied: pyparsing>=2.2.1 in /usr/local/lib/python3.7/dist-packages (from matplotlib>=3.2.0->pandas-profiling==2.*) (3.0.9)\n",
            "Requirement already satisfied: packaging>=20.0 in /usr/local/lib/python3.7/dist-packages (from matplotlib>=3.2.0->pandas-profiling==2.*) (21.3)\n",
            "Requirement already satisfied: cycler>=0.10 in /usr/local/lib/python3.7/dist-packages (from matplotlib>=3.2.0->pandas-profiling==2.*) (0.11.0)\n",
            "Collecting fonttools>=4.22.0\n",
            "  Downloading fonttools-4.34.4-py3-none-any.whl (944 kB)\n",
            "\u001b[K     |████████████████████████████████| 944 kB 55.8 MB/s \n",
            "\u001b[?25hRequirement already satisfied: python-dateutil>=2.7 in /usr/local/lib/python3.7/dist-packages (from matplotlib>=3.2.0->pandas-profiling==2.*) (2.8.2)\n",
            "Requirement already satisfied: kiwisolver>=1.0.1 in /usr/local/lib/python3.7/dist-packages (from matplotlib>=3.2.0->pandas-profiling==2.*) (1.4.4)\n",
            "Requirement already satisfied: typing-extensions in /usr/local/lib/python3.7/dist-packages (from kiwisolver>=1.0.1->matplotlib>=3.2.0->pandas-profiling==2.*) (4.1.1)\n",
            "Requirement already satisfied: pytz>=2017.3 in /usr/local/lib/python3.7/dist-packages (from pandas!=1.0.0,!=1.0.1,!=1.0.2,!=1.1.0,>=0.25.3->pandas-profiling==2.*) (2022.1)\n",
            "Requirement already satisfied: six>=1.5 in /usr/local/lib/python3.7/dist-packages (from python-dateutil>=2.7->matplotlib>=3.2.0->pandas-profiling==2.*) (1.15.0)\n",
            "Requirement already satisfied: certifi>=2017.4.17 in /usr/local/lib/python3.7/dist-packages (from requests>=2.24.0->pandas-profiling==2.*) (2022.6.15)\n",
            "Requirement already satisfied: urllib3<1.27,>=1.21.1 in /usr/local/lib/python3.7/dist-packages (from requests>=2.24.0->pandas-profiling==2.*) (1.24.3)\n",
            "Requirement already satisfied: idna<4,>=2.5 in /usr/local/lib/python3.7/dist-packages (from requests>=2.24.0->pandas-profiling==2.*) (2.10)\n",
            "Requirement already satisfied: charset-normalizer<3,>=2 in /usr/local/lib/python3.7/dist-packages (from requests>=2.24.0->pandas-profiling==2.*) (2.1.0)\n",
            "Requirement already satisfied: PyWavelets in /usr/local/lib/python3.7/dist-packages (from imagehash->visions[type_image_path]==0.7.1->pandas-profiling==2.*) (1.3.0)\n",
            "Installing collected packages: fonttools, matplotlib\n",
            "  Attempting uninstall: matplotlib\n",
            "    Found existing installation: matplotlib 3.1.1\n",
            "    Uninstalling matplotlib-3.1.1:\n",
            "      Successfully uninstalled matplotlib-3.1.1\n",
            "\u001b[31mERROR: pip's dependency resolver does not currently take into account all the packages that are installed. This behaviour is the source of the following dependency conflicts.\n",
            "pdpbox 0.2.1 requires matplotlib==3.1.1, but you have matplotlib 3.5.2 which is incompatible.\n",
            "albumentations 0.1.12 requires imgaug<0.2.7,>=0.2.5, but you have imgaug 0.2.9 which is incompatible.\u001b[0m\n",
            "Successfully installed fonttools-4.34.4 matplotlib-3.5.2\n"
          ]
        },
        {
          "output_type": "display_data",
          "data": {
            "application/vnd.colab-display-data+json": {
              "pip_warning": {
                "packages": [
                  "matplotlib",
                  "mpl_toolkits"
                ]
              }
            }
          },
          "metadata": {}
        },
        {
          "output_type": "stream",
          "name": "stdout",
          "text": [
            "Looking in indexes: https://pypi.org/simple, https://us-python.pkg.dev/colab-wheels/public/simple/\n",
            "Requirement already satisfied: pdpbox in /usr/local/lib/python3.7/dist-packages (0.2.1)\n",
            "Requirement already satisfied: joblib in /usr/local/lib/python3.7/dist-packages (from pdpbox) (1.1.0)\n",
            "Requirement already satisfied: sklearn in /usr/local/lib/python3.7/dist-packages (from pdpbox) (0.0)\n",
            "Requirement already satisfied: scipy in /usr/local/lib/python3.7/dist-packages (from pdpbox) (1.7.3)\n",
            "Requirement already satisfied: psutil in /usr/local/lib/python3.7/dist-packages (from pdpbox) (5.4.8)\n",
            "Requirement already satisfied: numpy in /usr/local/lib/python3.7/dist-packages (from pdpbox) (1.21.6)\n",
            "Requirement already satisfied: pandas in /usr/local/lib/python3.7/dist-packages (from pdpbox) (1.3.5)\n",
            "Collecting matplotlib==3.1.1\n",
            "  Using cached matplotlib-3.1.1-cp37-cp37m-manylinux1_x86_64.whl (13.1 MB)\n",
            "Requirement already satisfied: cycler>=0.10 in /usr/local/lib/python3.7/dist-packages (from matplotlib==3.1.1->pdpbox) (0.11.0)\n",
            "Requirement already satisfied: kiwisolver>=1.0.1 in /usr/local/lib/python3.7/dist-packages (from matplotlib==3.1.1->pdpbox) (1.4.4)\n",
            "Requirement already satisfied: pyparsing!=2.0.4,!=2.1.2,!=2.1.6,>=2.0.1 in /usr/local/lib/python3.7/dist-packages (from matplotlib==3.1.1->pdpbox) (3.0.9)\n",
            "Requirement already satisfied: python-dateutil>=2.1 in /usr/local/lib/python3.7/dist-packages (from matplotlib==3.1.1->pdpbox) (2.8.2)\n",
            "Requirement already satisfied: typing-extensions in /usr/local/lib/python3.7/dist-packages (from kiwisolver>=1.0.1->matplotlib==3.1.1->pdpbox) (4.1.1)\n",
            "Requirement already satisfied: six>=1.5 in /usr/local/lib/python3.7/dist-packages (from python-dateutil>=2.1->matplotlib==3.1.1->pdpbox) (1.15.0)\n",
            "Requirement already satisfied: pytz>=2017.3 in /usr/local/lib/python3.7/dist-packages (from pandas->pdpbox) (2022.1)\n",
            "Requirement already satisfied: scikit-learn in /usr/local/lib/python3.7/dist-packages (from sklearn->pdpbox) (1.0.2)\n",
            "Requirement already satisfied: threadpoolctl>=2.0.0 in /usr/local/lib/python3.7/dist-packages (from scikit-learn->sklearn->pdpbox) (3.1.0)\n",
            "Installing collected packages: matplotlib\n",
            "  Attempting uninstall: matplotlib\n",
            "    Found existing installation: matplotlib 3.5.2\n",
            "    Uninstalling matplotlib-3.5.2:\n",
            "      Successfully uninstalled matplotlib-3.5.2\n",
            "\u001b[31mERROR: pip's dependency resolver does not currently take into account all the packages that are installed. This behaviour is the source of the following dependency conflicts.\n",
            "pandas-profiling 2.13.0 requires matplotlib>=3.2.0, but you have matplotlib 3.1.1 which is incompatible.\n",
            "albumentations 0.1.12 requires imgaug<0.2.7,>=0.2.5, but you have imgaug 0.2.9 which is incompatible.\u001b[0m\n",
            "Successfully installed matplotlib-3.1.1\n"
          ]
        },
        {
          "output_type": "display_data",
          "data": {
            "application/vnd.colab-display-data+json": {
              "pip_warning": {
                "packages": [
                  "matplotlib",
                  "mpl_toolkits"
                ]
              }
            }
          },
          "metadata": {}
        },
        {
          "output_type": "stream",
          "name": "stdout",
          "text": [
            "Looking in indexes: https://pypi.org/simple, https://us-python.pkg.dev/colab-wheels/public/simple/\n",
            "Requirement already satisfied: shap in /usr/local/lib/python3.7/dist-packages (0.41.0)\n",
            "Requirement already satisfied: numba in /usr/local/lib/python3.7/dist-packages (from shap) (0.51.2)\n",
            "Requirement already satisfied: pandas in /usr/local/lib/python3.7/dist-packages (from shap) (1.3.5)\n",
            "Requirement already satisfied: scipy in /usr/local/lib/python3.7/dist-packages (from shap) (1.7.3)\n",
            "Requirement already satisfied: numpy in /usr/local/lib/python3.7/dist-packages (from shap) (1.21.6)\n",
            "Requirement already satisfied: packaging>20.9 in /usr/local/lib/python3.7/dist-packages (from shap) (21.3)\n",
            "Requirement already satisfied: slicer==0.0.7 in /usr/local/lib/python3.7/dist-packages (from shap) (0.0.7)\n",
            "Requirement already satisfied: cloudpickle in /usr/local/lib/python3.7/dist-packages (from shap) (1.3.0)\n",
            "Requirement already satisfied: scikit-learn in /usr/local/lib/python3.7/dist-packages (from shap) (1.0.2)\n",
            "Requirement already satisfied: tqdm>4.25.0 in /usr/local/lib/python3.7/dist-packages (from shap) (4.64.0)\n",
            "Requirement already satisfied: pyparsing!=3.0.5,>=2.0.2 in /usr/local/lib/python3.7/dist-packages (from packaging>20.9->shap) (3.0.9)\n",
            "Requirement already satisfied: llvmlite<0.35,>=0.34.0.dev0 in /usr/local/lib/python3.7/dist-packages (from numba->shap) (0.34.0)\n",
            "Requirement already satisfied: setuptools in /usr/local/lib/python3.7/dist-packages (from numba->shap) (57.4.0)\n",
            "Requirement already satisfied: python-dateutil>=2.7.3 in /usr/local/lib/python3.7/dist-packages (from pandas->shap) (2.8.2)\n",
            "Requirement already satisfied: pytz>=2017.3 in /usr/local/lib/python3.7/dist-packages (from pandas->shap) (2022.1)\n",
            "Requirement already satisfied: six>=1.5 in /usr/local/lib/python3.7/dist-packages (from python-dateutil>=2.7.3->pandas->shap) (1.15.0)\n",
            "Requirement already satisfied: joblib>=0.11 in /usr/local/lib/python3.7/dist-packages (from scikit-learn->shap) (1.1.0)\n",
            "Requirement already satisfied: threadpoolctl>=2.0.0 in /usr/local/lib/python3.7/dist-packages (from scikit-learn->shap) (3.1.0)\n"
          ]
        }
      ],
      "source": [
        "# Google Colab을 사용하는 경우 해당 셀을 실행하세요\n",
        "import sys\n",
        "import xgboost\n",
        "import warnings\n",
        "\n",
        "\n",
        "if \"google.colab\" in sys.modules:\n",
        "    # Install packages in Colab\n",
        "    !pip install category_encoders==2.*\n",
        "    !pip install eli5\n",
        "    !pip install pandas-profiling==2.*\n",
        "    !pip install pdpbox\n",
        "    !pip install shap\n",
        "\n",
        "warnings.filterwarnings(\"ignore\")\n",
        "# xgboost.config.set_config(verbosity=0)"
      ]
    },
    {
      "cell_type": "code",
      "execution_count": 4,
      "id": "3a53a31f",
      "metadata": {
        "deletable": false,
        "editable": false,
        "nbgrader": {
          "cell_type": "code",
          "checksum": "743d362d5ffa7f2a1c7389693a61c88a",
          "grade": false,
          "grade_id": "cell-2602a05446403de0",
          "locked": true,
          "schema_version": 3,
          "solution": false,
          "task": false
        },
        "id": "3a53a31f"
      },
      "outputs": [],
      "source": [
        "# 데이터셋을 불러오기 위해 판다스 라이브러리를 불러옵니다\n",
        "import pandas as pd\n",
        "\n",
        "train_url = \"https://ds-lecture-data.s3.ap-northeast-2.amazonaws.com/food_inspection_sc23x/food_ins_train.csv\"\n",
        "test_url = \"https://ds-lecture-data.s3.ap-northeast-2.amazonaws.com/food_inspection_sc23x/food_ins_test.csv\"\n",
        "\n",
        "# train, test 데이터셋을 불러옵니다\n",
        "train = pd.read_csv(train_url)\n",
        "test = pd.read_csv(test_url)\n",
        "\n",
        "# 데이터셋 확인\n",
        "assert train.shape == (60000, 17)\n",
        "assert test.shape == (20000, 17)"
      ]
    },
    {
      "cell_type": "code",
      "execution_count": 5,
      "id": "f34ba7af",
      "metadata": {
        "deletable": false,
        "editable": false,
        "nbgrader": {
          "cell_type": "code",
          "checksum": "11755eee8159a394025f4ec9bf02631c",
          "grade": false,
          "grade_id": "cell-5588e0945ba113c3",
          "locked": true,
          "schema_version": 3,
          "solution": false,
          "task": false
        },
        "id": "f34ba7af",
        "outputId": "169fae21-79d9-4551-fcd0-81fd05e5b04c",
        "colab": {
          "base_uri": "https://localhost:8080/",
          "height": 582
        }
      },
      "outputs": [
        {
          "output_type": "execute_result",
          "data": {
            "text/plain": [
              "   Inspection ID              DBA Name           AKA Name  License #  \\\n",
              "0        2050629  MY SWEET STATION INC   MY SWEET STATION  2327223.0   \n",
              "1        2078428              OUTTAKES          RED MANGO  2125004.0   \n",
              "2        1591748          JAFFA BAGELS       JAFFA BAGELS  2278918.0   \n",
              "3        1230035      FRANKS 'N' DAWGS   FRANKS 'N' DAWGS  2094329.0   \n",
              "4        1228186           SOUTH COAST  SOUTH COAST SUSHI  1817424.0   \n",
              "\n",
              "  Facility Type             Risk               Address     City State  \\\n",
              "0    Restaurant    Risk 1 (High)   2511 N LINCOLN AVE   CHICAGO    IL   \n",
              "1    Restaurant  Risk 2 (Medium)  10 S DEARBORN ST FL   CHICAGO    IL   \n",
              "2    Restaurant    Risk 1 (High)   225 N MICHIGAN AVE   CHICAGO    IL   \n",
              "3    Restaurant    Risk 1 (High)  1863 N CLYBOURN AVE   CHICAGO    IL   \n",
              "4    Restaurant    Risk 1 (High)  1700 S MICHIGAN AVE   CHICAGO    IL   \n",
              "\n",
              "       Zip Inspection Date Inspection Type  \\\n",
              "0  60614.0      2017-05-18         Canvass   \n",
              "1  60603.0      2017-08-14         Canvass   \n",
              "2  60601.0      2015-12-15       Complaint   \n",
              "3  60614.0      2012-07-10         Canvass   \n",
              "4  60616.0      2013-09-20         Canvass   \n",
              "\n",
              "                                          Violations   Latitude  Longitude  \\\n",
              "0                                                NaN  41.927577 -87.651528   \n",
              "1  34. FLOORS: CONSTRUCTED PER CODE, CLEANED, GOO...  41.881807 -87.629543   \n",
              "2  30. FOOD IN ORIGINAL CONTAINER, PROPERLY LABEL...  41.886377 -87.624382   \n",
              "3  33. FOOD AND NON-FOOD CONTACT EQUIPMENT UTENSI...  41.914990 -87.654994   \n",
              "4                                                NaN  41.858996 -87.624106   \n",
              "\n",
              "                                  Location  Inspection Fail  \n",
              "0  (-87.65152817242594, 41.92757677830966)                0  \n",
              "1  (-87.62954311539407, 41.88180696006542)                0  \n",
              "2  (-87.62438167043969, 41.88637740620821)                0  \n",
              "3  (-87.65499361162448, 41.91498953039437)                0  \n",
              "4  (-87.62410566978502, 41.85899630014676)                0  "
            ],
            "text/html": [
              "\n",
              "  <div id=\"df-f5e13b74-8fad-434f-bacc-a7f256f0948d\">\n",
              "    <div class=\"colab-df-container\">\n",
              "      <div>\n",
              "<style scoped>\n",
              "    .dataframe tbody tr th:only-of-type {\n",
              "        vertical-align: middle;\n",
              "    }\n",
              "\n",
              "    .dataframe tbody tr th {\n",
              "        vertical-align: top;\n",
              "    }\n",
              "\n",
              "    .dataframe thead th {\n",
              "        text-align: right;\n",
              "    }\n",
              "</style>\n",
              "<table border=\"1\" class=\"dataframe\">\n",
              "  <thead>\n",
              "    <tr style=\"text-align: right;\">\n",
              "      <th></th>\n",
              "      <th>Inspection ID</th>\n",
              "      <th>DBA Name</th>\n",
              "      <th>AKA Name</th>\n",
              "      <th>License #</th>\n",
              "      <th>Facility Type</th>\n",
              "      <th>Risk</th>\n",
              "      <th>Address</th>\n",
              "      <th>City</th>\n",
              "      <th>State</th>\n",
              "      <th>Zip</th>\n",
              "      <th>Inspection Date</th>\n",
              "      <th>Inspection Type</th>\n",
              "      <th>Violations</th>\n",
              "      <th>Latitude</th>\n",
              "      <th>Longitude</th>\n",
              "      <th>Location</th>\n",
              "      <th>Inspection Fail</th>\n",
              "    </tr>\n",
              "  </thead>\n",
              "  <tbody>\n",
              "    <tr>\n",
              "      <th>0</th>\n",
              "      <td>2050629</td>\n",
              "      <td>MY SWEET STATION INC</td>\n",
              "      <td>MY SWEET STATION</td>\n",
              "      <td>2327223.0</td>\n",
              "      <td>Restaurant</td>\n",
              "      <td>Risk 1 (High)</td>\n",
              "      <td>2511 N LINCOLN AVE</td>\n",
              "      <td>CHICAGO</td>\n",
              "      <td>IL</td>\n",
              "      <td>60614.0</td>\n",
              "      <td>2017-05-18</td>\n",
              "      <td>Canvass</td>\n",
              "      <td>NaN</td>\n",
              "      <td>41.927577</td>\n",
              "      <td>-87.651528</td>\n",
              "      <td>(-87.65152817242594, 41.92757677830966)</td>\n",
              "      <td>0</td>\n",
              "    </tr>\n",
              "    <tr>\n",
              "      <th>1</th>\n",
              "      <td>2078428</td>\n",
              "      <td>OUTTAKES</td>\n",
              "      <td>RED MANGO</td>\n",
              "      <td>2125004.0</td>\n",
              "      <td>Restaurant</td>\n",
              "      <td>Risk 2 (Medium)</td>\n",
              "      <td>10 S DEARBORN ST FL</td>\n",
              "      <td>CHICAGO</td>\n",
              "      <td>IL</td>\n",
              "      <td>60603.0</td>\n",
              "      <td>2017-08-14</td>\n",
              "      <td>Canvass</td>\n",
              "      <td>34. FLOORS: CONSTRUCTED PER CODE, CLEANED, GOO...</td>\n",
              "      <td>41.881807</td>\n",
              "      <td>-87.629543</td>\n",
              "      <td>(-87.62954311539407, 41.88180696006542)</td>\n",
              "      <td>0</td>\n",
              "    </tr>\n",
              "    <tr>\n",
              "      <th>2</th>\n",
              "      <td>1591748</td>\n",
              "      <td>JAFFA BAGELS</td>\n",
              "      <td>JAFFA BAGELS</td>\n",
              "      <td>2278918.0</td>\n",
              "      <td>Restaurant</td>\n",
              "      <td>Risk 1 (High)</td>\n",
              "      <td>225 N MICHIGAN AVE</td>\n",
              "      <td>CHICAGO</td>\n",
              "      <td>IL</td>\n",
              "      <td>60601.0</td>\n",
              "      <td>2015-12-15</td>\n",
              "      <td>Complaint</td>\n",
              "      <td>30. FOOD IN ORIGINAL CONTAINER, PROPERLY LABEL...</td>\n",
              "      <td>41.886377</td>\n",
              "      <td>-87.624382</td>\n",
              "      <td>(-87.62438167043969, 41.88637740620821)</td>\n",
              "      <td>0</td>\n",
              "    </tr>\n",
              "    <tr>\n",
              "      <th>3</th>\n",
              "      <td>1230035</td>\n",
              "      <td>FRANKS 'N' DAWGS</td>\n",
              "      <td>FRANKS 'N' DAWGS</td>\n",
              "      <td>2094329.0</td>\n",
              "      <td>Restaurant</td>\n",
              "      <td>Risk 1 (High)</td>\n",
              "      <td>1863 N CLYBOURN AVE</td>\n",
              "      <td>CHICAGO</td>\n",
              "      <td>IL</td>\n",
              "      <td>60614.0</td>\n",
              "      <td>2012-07-10</td>\n",
              "      <td>Canvass</td>\n",
              "      <td>33. FOOD AND NON-FOOD CONTACT EQUIPMENT UTENSI...</td>\n",
              "      <td>41.914990</td>\n",
              "      <td>-87.654994</td>\n",
              "      <td>(-87.65499361162448, 41.91498953039437)</td>\n",
              "      <td>0</td>\n",
              "    </tr>\n",
              "    <tr>\n",
              "      <th>4</th>\n",
              "      <td>1228186</td>\n",
              "      <td>SOUTH COAST</td>\n",
              "      <td>SOUTH COAST SUSHI</td>\n",
              "      <td>1817424.0</td>\n",
              "      <td>Restaurant</td>\n",
              "      <td>Risk 1 (High)</td>\n",
              "      <td>1700 S MICHIGAN AVE</td>\n",
              "      <td>CHICAGO</td>\n",
              "      <td>IL</td>\n",
              "      <td>60616.0</td>\n",
              "      <td>2013-09-20</td>\n",
              "      <td>Canvass</td>\n",
              "      <td>NaN</td>\n",
              "      <td>41.858996</td>\n",
              "      <td>-87.624106</td>\n",
              "      <td>(-87.62410566978502, 41.85899630014676)</td>\n",
              "      <td>0</td>\n",
              "    </tr>\n",
              "  </tbody>\n",
              "</table>\n",
              "</div>\n",
              "      <button class=\"colab-df-convert\" onclick=\"convertToInteractive('df-f5e13b74-8fad-434f-bacc-a7f256f0948d')\"\n",
              "              title=\"Convert this dataframe to an interactive table.\"\n",
              "              style=\"display:none;\">\n",
              "        \n",
              "  <svg xmlns=\"http://www.w3.org/2000/svg\" height=\"24px\"viewBox=\"0 0 24 24\"\n",
              "       width=\"24px\">\n",
              "    <path d=\"M0 0h24v24H0V0z\" fill=\"none\"/>\n",
              "    <path d=\"M18.56 5.44l.94 2.06.94-2.06 2.06-.94-2.06-.94-.94-2.06-.94 2.06-2.06.94zm-11 1L8.5 8.5l.94-2.06 2.06-.94-2.06-.94L8.5 2.5l-.94 2.06-2.06.94zm10 10l.94 2.06.94-2.06 2.06-.94-2.06-.94-.94-2.06-.94 2.06-2.06.94z\"/><path d=\"M17.41 7.96l-1.37-1.37c-.4-.4-.92-.59-1.43-.59-.52 0-1.04.2-1.43.59L10.3 9.45l-7.72 7.72c-.78.78-.78 2.05 0 2.83L4 21.41c.39.39.9.59 1.41.59.51 0 1.02-.2 1.41-.59l7.78-7.78 2.81-2.81c.8-.78.8-2.07 0-2.86zM5.41 20L4 18.59l7.72-7.72 1.47 1.35L5.41 20z\"/>\n",
              "  </svg>\n",
              "      </button>\n",
              "      \n",
              "  <style>\n",
              "    .colab-df-container {\n",
              "      display:flex;\n",
              "      flex-wrap:wrap;\n",
              "      gap: 12px;\n",
              "    }\n",
              "\n",
              "    .colab-df-convert {\n",
              "      background-color: #E8F0FE;\n",
              "      border: none;\n",
              "      border-radius: 50%;\n",
              "      cursor: pointer;\n",
              "      display: none;\n",
              "      fill: #1967D2;\n",
              "      height: 32px;\n",
              "      padding: 0 0 0 0;\n",
              "      width: 32px;\n",
              "    }\n",
              "\n",
              "    .colab-df-convert:hover {\n",
              "      background-color: #E2EBFA;\n",
              "      box-shadow: 0px 1px 2px rgba(60, 64, 67, 0.3), 0px 1px 3px 1px rgba(60, 64, 67, 0.15);\n",
              "      fill: #174EA6;\n",
              "    }\n",
              "\n",
              "    [theme=dark] .colab-df-convert {\n",
              "      background-color: #3B4455;\n",
              "      fill: #D2E3FC;\n",
              "    }\n",
              "\n",
              "    [theme=dark] .colab-df-convert:hover {\n",
              "      background-color: #434B5C;\n",
              "      box-shadow: 0px 1px 3px 1px rgba(0, 0, 0, 0.15);\n",
              "      filter: drop-shadow(0px 1px 2px rgba(0, 0, 0, 0.3));\n",
              "      fill: #FFFFFF;\n",
              "    }\n",
              "  </style>\n",
              "\n",
              "      <script>\n",
              "        const buttonEl =\n",
              "          document.querySelector('#df-f5e13b74-8fad-434f-bacc-a7f256f0948d button.colab-df-convert');\n",
              "        buttonEl.style.display =\n",
              "          google.colab.kernel.accessAllowed ? 'block' : 'none';\n",
              "\n",
              "        async function convertToInteractive(key) {\n",
              "          const element = document.querySelector('#df-f5e13b74-8fad-434f-bacc-a7f256f0948d');\n",
              "          const dataTable =\n",
              "            await google.colab.kernel.invokeFunction('convertToInteractive',\n",
              "                                                     [key], {});\n",
              "          if (!dataTable) return;\n",
              "\n",
              "          const docLinkHtml = 'Like what you see? Visit the ' +\n",
              "            '<a target=\"_blank\" href=https://colab.research.google.com/notebooks/data_table.ipynb>data table notebook</a>'\n",
              "            + ' to learn more about interactive tables.';\n",
              "          element.innerHTML = '';\n",
              "          dataTable['output_type'] = 'display_data';\n",
              "          await google.colab.output.renderOutput(dataTable, element);\n",
              "          const docLink = document.createElement('div');\n",
              "          docLink.innerHTML = docLinkHtml;\n",
              "          element.appendChild(docLink);\n",
              "        }\n",
              "      </script>\n",
              "    </div>\n",
              "  </div>\n",
              "  "
            ]
          },
          "metadata": {},
          "execution_count": 5
        }
      ],
      "source": [
        "train.head()"
      ]
    },
    {
      "cell_type": "markdown",
      "id": "6b9c8083",
      "metadata": {
        "deletable": false,
        "editable": false,
        "nbgrader": {
          "cell_type": "markdown",
          "checksum": "96dab9d3b391906d6e6e33edcf985701",
          "grade": false,
          "grade_id": "cell-f75742bcbc000238",
          "locked": true,
          "schema_version": 3,
          "solution": false,
          "task": false
        },
        "id": "6b9c8083"
      },
      "source": [
        "# Part 1 - Data Preprocessing"
      ]
    },
    {
      "cell_type": "code",
      "execution_count": 6,
      "id": "a28fd02f",
      "metadata": {
        "deletable": false,
        "editable": false,
        "nbgrader": {
          "cell_type": "code",
          "checksum": "f69ae8b385afc0be745ee2a15a1ebb42",
          "grade": false,
          "grade_id": "cell-13f1ea7d0f6248a1",
          "locked": true,
          "schema_version": 3,
          "solution": false,
          "task": false
        },
        "id": "a28fd02f",
        "outputId": "18484819-ae14-4c25-ef8c-7c619a72ee8a",
        "colab": {
          "base_uri": "https://localhost:8080/"
        }
      },
      "outputs": [
        {
          "output_type": "execute_result",
          "data": {
            "text/plain": [
              "0        0\n",
              "1        0\n",
              "2        0\n",
              "3        0\n",
              "4        0\n",
              "        ..\n",
              "19995    0\n",
              "19996    0\n",
              "19997    0\n",
              "19998    0\n",
              "19999    0\n",
              "Name: Inspection Fail, Length: 20000, dtype: int64"
            ]
          },
          "metadata": {},
          "execution_count": 6
        }
      ],
      "source": [
        "test[\"Inspection Fail\"]"
      ]
    },
    {
      "cell_type": "markdown",
      "id": "a94d9ce7",
      "metadata": {
        "deletable": false,
        "editable": false,
        "nbgrader": {
          "cell_type": "markdown",
          "checksum": "394b74d7af30cee0e869e38eb5dcae91",
          "grade": false,
          "grade_id": "cell-2e2530fc1a4e5a3b",
          "locked": true,
          "schema_version": 3,
          "solution": false,
          "task": false
        },
        "id": "a94d9ce7"
      },
      "source": [
        "## 컬럼 설명\n",
        "\n",
        "- **DBA**: 설립 시 서류에 등록한 이름\n",
        "\n",
        "- **AKA**: 대중들에게 알려져 있는 상표 이름\n",
        "\n",
        "- **License number**: 사업자 고유번호 (사업자등록번호)\n",
        "\n",
        "- **Type of facility**: 매장 업종 \n",
        "\n",
        "    bakery, banquet hall, candy store, caterer, coffee shop, day care center (for ages less than 2), day care center (for ages 2 – 6), day care center (combo, for ages less than 2 and 2-6 combined), gas station, Golden Diner, grocery store, hospital, long term care center(nursing home), liquor store, mobile food dispenser, restaurant, paleteria, school, shelter, tavern, social club, wholesaler, or Wrigley Field Rooftop.\n",
        "    \n",
        "    \n",
        "- **Risk**: 위험 시설 분류 카테고리 : 국민 건강에 악영향을 미칠 위험이 얼마나 높은 시설인가? (1이 가장 높고, 3이 가장 낮은 카테고리임. 위험 1 시설이 검사 빈도가 높은 편이고, 위험 3 시설이 검사 빈도가 낮은 편)\n",
        "\n",
        "- **Address, City, State, Zip**: 해당 시설이 위치한 주소 (Full Address)\n",
        "\n",
        "- **Inspection date**: 검사 날짜. (어떤 사업장은 동일한 사업장명에 각기 다른 검사 날짜를 가지고 있을 수도 있음)\n",
        "\n",
        "- **Inspection type**: 검사 유형. (각 이유에 대해 Re-inspection이 붙으면 재검사한 것)\n",
        "    - Canvass : 시설의 위험도와 관련된 가장 이란적인 유형의 검사. \n",
        "    - Consultation : 개업 전 소유자의 요청으로 검사를 수행.\n",
        "    - Complaint : 민원 사항 발생 시 검사를 수행할 때.\n",
        "    - License : 사업장의 영업허가서 발금 요건으로 검사를 할 때.\n",
        "    - Suspect Food Poisoning : 사업장에서 식사 (민원 처리 된 특정 유형의 검사)로 인해 병에 걸렸다고 주장하는 1인 이상에게 검사를 할 때.\n",
        "    - Task-force Inspection : 술집 또는 주점의 검사가 수행된 경우\n",
        "    \n",
        "- **Inspection Fail**: 검사 결과(불합격 여부)\n",
        "    - 실패를 받는다고 해서 반드시 사업장 면허가 정지되는 것은 아님.\n",
        "    \n",
        "- **Violations**: 위반사항. 위반사항을 지칭하는 고유번호와 위반한 사항 및 시정 요건에 대한 설명이 주어짐."
      ]
    },
    {
      "cell_type": "markdown",
      "id": "317a659c",
      "metadata": {
        "deletable": false,
        "editable": false,
        "nbgrader": {
          "cell_type": "markdown",
          "checksum": "2baf983e63c25c7701d1c002ceb81dfa",
          "grade": false,
          "grade_id": "cell-78b3370c9bae8d7c",
          "locked": true,
          "schema_version": 3,
          "solution": false,
          "task": false
        },
        "id": "317a659c"
      },
      "source": [
        "## 1.1 데이터셋을 파악하기 위한 EDA를 진행하세요.\n",
        "- 아래 기본적인 EDA 과정을 위해 필요한 몇몇 함수들을 완성하세요.\n",
        "- 함수의 기능 및 입출력 형태는 함수 내의 주석을 따르세요.\n",
        "- **아래 EDA 과정만으로는 데이터에 대한 통찰을 얻기에 부족합니다. 추가로 본인만의 EDA 과정을 꼭 수행해 보세요.**"
      ]
    },
    {
      "cell_type": "code",
      "execution_count": 7,
      "id": "9fd4bab4",
      "metadata": {
        "deletable": false,
        "nbgrader": {
          "cell_type": "code",
          "checksum": "befe3fdc9607cb8a4c23aa404247badc",
          "grade": false,
          "grade_id": "1-1_feature",
          "locked": false,
          "schema_version": 3,
          "solution": true,
          "task": false
        },
        "id": "9fd4bab4"
      },
      "outputs": [],
      "source": [
        "def analysis_on_features(df):\n",
        "    \"\"\"\n",
        "    - eda_results라고 하는 새로운 데이터프레임에 아래의 정보들을 담아 반환하세요.\n",
        "        - null_count: 입력 Pandas DataFrame의 column별 결측치의 수\n",
        "        - num_unique_values: 입력 Pandas DataFrame의 unique한 값의 수\n",
        "        - eda_results는 df의 column명을 index로 사용하는 데이터프레임입니다.\n",
        "\n",
        "    - 데이터프레임에 중복되는 row가 있지는 않나요?\n",
        "        - duplicated_rows에 중복되는 row 수를 담아 반환하세요.\n",
        "\n",
        "    \"\"\"\n",
        "    eda_results = pd.DataFrame()\n",
        "    eda_results[\"null_count\"] = None\n",
        "    eda_results[\"num_unique_values\"] = None\n",
        "    duplicated_rows = -1\n",
        "\n",
        "    # YOUR CODE HERE\n",
        "    eda_results['null_count'] = df.isnull().sum()\n",
        "    eda_results['num_unique_values'] = df.nunique()\n",
        "    duplicated_rows = df.duplicated().sum()\n",
        "    # YOUR CODE ENDS HERE\n",
        "\n",
        "    return eda_results, duplicated_rows"
      ]
    },
    {
      "cell_type": "code",
      "execution_count": 8,
      "id": "d91dddb4",
      "metadata": {
        "deletable": false,
        "editable": false,
        "nbgrader": {
          "cell_type": "code",
          "checksum": "7d23a59e9adf64e5bde344e5780b2384",
          "grade": false,
          "grade_id": "cell-f0a97a28a84cc7b8",
          "locked": true,
          "schema_version": 3,
          "solution": false,
          "task": false
        },
        "id": "d91dddb4"
      },
      "outputs": [],
      "source": [
        "train_results, train_duplicated_rows = analysis_on_features(train)\n",
        "test_results, test_duplicated_rows = analysis_on_features(test)"
      ]
    },
    {
      "cell_type": "code",
      "execution_count": 9,
      "id": "6d48003a",
      "metadata": {
        "deletable": false,
        "editable": false,
        "nbgrader": {
          "cell_type": "code",
          "checksum": "b4ffc670980b6aa79fc60e0e850ba149",
          "grade": true,
          "grade_id": "1-1_feature_test",
          "locked": true,
          "points": 1,
          "schema_version": 3,
          "solution": false,
          "task": false
        },
        "id": "6d48003a",
        "outputId": "9850ceae-60bf-40b0-a7b2-e3c19fa8e9dd",
        "colab": {
          "base_uri": "https://localhost:8080/"
        }
      },
      "outputs": [
        {
          "output_type": "stream",
          "name": "stdout",
          "text": [
            "Train df: duplicated? = 0\n",
            "                  null_count  num_unique_values\n",
            "Inspection ID             0              60000\n",
            "DBA Name                  0              20175\n",
            "AKA Name                717              19209\n",
            "License #                 4              25123\n",
            "Facility Type          1427                366\n",
            "Risk                     24                  4\n",
            "Address                   0              15244\n",
            "City                     45                 39\n",
            "State                    15                  3\n",
            "Zip                      13                 86\n",
            "Inspection Date           0               2667\n",
            "Inspection Type           0                 55\n",
            "Violations            15870              44035\n",
            "Latitude                178              14533\n",
            "Longitude               178              14533\n",
            "Location                178              14533\n",
            "Inspection Fail           0                  2 \n",
            "\n",
            "\n",
            "Test df: duplicated? = 0\n",
            "                  null_count  num_unique_values\n",
            "Inspection ID             0              20000\n",
            "DBA Name                  0              11690\n",
            "AKA Name                235              11222\n",
            "License #                 0              13637\n",
            "Facility Type           452                215\n",
            "Risk                      2                  4\n",
            "Address                   0              10357\n",
            "City                     11                 21\n",
            "State                     3                  1\n",
            "Zip                       4                 73\n",
            "Inspection Date           0               2609\n",
            "Inspection Type           0                 33\n",
            "Violations             5336              14654\n",
            "Latitude                 60              10074\n",
            "Longitude                60              10074\n",
            "Location                 60              10074\n",
            "Inspection Fail           0                  2\n"
          ]
        }
      ],
      "source": [
        "print(f\"Train df: duplicated? = {train_duplicated_rows}\\n\", train_results, \"\\n\\n\")\n",
        "print(f\"Test df: duplicated? = {test_duplicated_rows}\\n\", test_results)"
      ]
    },
    {
      "cell_type": "code",
      "execution_count": 10,
      "id": "c49c2c62",
      "metadata": {
        "deletable": false,
        "nbgrader": {
          "cell_type": "code",
          "checksum": "9cfa61c85aabf052efb56e5224bde132",
          "grade": false,
          "grade_id": "1-1_target",
          "locked": false,
          "schema_version": 3,
          "solution": true,
          "task": false
        },
        "id": "c49c2c62"
      },
      "outputs": [],
      "source": [
        "import matplotlib.pyplot as plt\n",
        "\n",
        "\n",
        "def analysis_on_target(df):\n",
        "    \"\"\"\n",
        "    n_zero_label, n_one_label에\n",
        "    각각 label이 0인 데이터의 수, label이 1인 데이터의 수를 담아 반환하세요.\n",
        "    \"\"\"\n",
        "    n_zero_label, n_one_label = -1, -1\n",
        "\n",
        "    # YOUR CODE HERE\n",
        "    n_zero_label = df[df['Inspection Fail'] == 0]['Inspection Fail'].count()\n",
        "    n_one_label = df[df['Inspection Fail'] == 1]['Inspection Fail'].count()\n",
        "    # YOUR CODE ENDS HERE\n",
        "\n",
        "    plt.pie(\n",
        "        (n_zero_label, n_one_label),\n",
        "        labels=(0, 1),\n",
        "        autopct=\"%.2f%%\",\n",
        "        shadow=True,\n",
        "        startangle=90,\n",
        "    )\n",
        "    plt.title(\"Target: Inspection Fail\", size=15)\n",
        "    plt.show()\n",
        "\n",
        "    return n_zero_label, n_one_label"
      ]
    },
    {
      "cell_type": "code",
      "execution_count": 11,
      "id": "10749633",
      "metadata": {
        "deletable": false,
        "editable": false,
        "nbgrader": {
          "cell_type": "code",
          "checksum": "f69ff1fa2d973de521389cb378afe6cc",
          "grade": true,
          "grade_id": "1-1_target_test",
          "locked": true,
          "points": 0.5,
          "schema_version": 3,
          "solution": false,
          "task": false
        },
        "id": "10749633",
        "outputId": "3885703e-bbee-4666-d82f-ca63656f1c2d",
        "colab": {
          "base_uri": "https://localhost:8080/",
          "height": 515
        }
      },
      "outputs": [
        {
          "output_type": "display_data",
          "data": {
            "text/plain": [
              "<Figure size 432x288 with 1 Axes>"
            ],
            "image/png": "[encoded data removed]"
          },
          "metadata": {}
        },
        {
          "output_type": "display_data",
          "data": {
            "text/plain": [
              "<Figure size 432x288 with 1 Axes>"
            ],
            "image/png": "[encoded data removed]"
          },
          "metadata": {}
        }
      ],
      "source": [
        "train_label_count = analysis_on_target(train)\n",
        "test_label_count = analysis_on_target(test)"
      ]
    },
    {
      "cell_type": "markdown",
      "id": "4b7abb2a",
      "metadata": {
        "deletable": false,
        "editable": false,
        "nbgrader": {
          "cell_type": "markdown",
          "checksum": "cbc8a64e876a1cc768c20200e3170928",
          "grade": false,
          "grade_id": "cell-379b9354bac4ee0b",
          "locked": true,
          "schema_version": 3,
          "solution": false,
          "task": false
        },
        "id": "4b7abb2a"
      },
      "source": [
        "## 1.2 EDA의 결과를 토대로 Feature Engineering 및 Preprocessing을 수행하는 함수 `eda_process`를 작성하세요.\n",
        "\n",
        "- 결측치를 적절히 처리하세요.\n",
        "    - **Row를 drop하지 말고, 적절한 값으로 채워넣어 보세요.**\n",
        "    - 전처리가 완료된 train, test 데이터의 크기는 각각 **59947, 19994**입니다.\n",
        "- 새로운 feature를 만드는 작업뿐만이 아니라, 필요한 feature가 적절한 데이터 타입을 가지고 있지 않다면 변환합니다.\n",
        "- 시간 배분을 고려햐여 적절한 수준으로 수행하세요!"
      ]
    },
    {
      "cell_type": "code",
      "source": [
        "train"
      ],
      "metadata": {
        "id": "pw4MlX4_N0YB",
        "outputId": "5e140db9-6f0c-415d-d39f-e3cdfa93f71c",
        "colab": {
          "base_uri": "https://localhost:8080/",
          "height": 1000
        }
      },
      "id": "pw4MlX4_N0YB",
      "execution_count": 12,
      "outputs": [
        {
          "output_type": "execute_result",
          "data": {
            "text/plain": [
              "       Inspection ID                            DBA Name  \\\n",
              "0            2050629                MY SWEET STATION INC   \n",
              "1            2078428                            OUTTAKES   \n",
              "2            1591748                        JAFFA BAGELS   \n",
              "3            1230035                    FRANKS 'N' DAWGS   \n",
              "4            1228186                         SOUTH COAST   \n",
              "...              ...                                 ...   \n",
              "59995        2316057  LITTLE GENIUS COMMUNITY DAYCARE 11   \n",
              "59996        1170444              A J FOOD & LIQUOR INC.   \n",
              "59997        1098317             PITCHFORK FOOD & SALOON   \n",
              "59998        1632103                     DATA RESTAURANT   \n",
              "59999        2293426                             THREE D   \n",
              "\n",
              "                              AKA Name  License #          Facility Type  \\\n",
              "0                     MY SWEET STATION  2327223.0             Restaurant   \n",
              "1                            RED MANGO  2125004.0             Restaurant   \n",
              "2                         JAFFA BAGELS  2278918.0             Restaurant   \n",
              "3                     FRANKS 'N' DAWGS  2094329.0             Restaurant   \n",
              "4                    SOUTH COAST SUSHI  1817424.0             Restaurant   \n",
              "...                                ...        ...                    ...   \n",
              "59995  LITTLE GENIUS COMMUNITY DAYCARE  2359451.0  Daycare (2 - 6 Years)   \n",
              "59996              FERAS FOOD & LIQUOR  2157174.0          Grocery Store   \n",
              "59997          PITCHFORK FOOD & SALOON  1271831.0             Restaurant   \n",
              "59998          DAATA DARBAR RESTAURANT  2446971.0             Restaurant   \n",
              "59999           THREE D'S JERK CHICKEN  1172336.0             Restaurant   \n",
              "\n",
              "                  Risk                      Address     City State      Zip  \\\n",
              "0        Risk 1 (High)          2511 N LINCOLN AVE   CHICAGO    IL  60614.0   \n",
              "1      Risk 2 (Medium)         10 S DEARBORN ST FL   CHICAGO    IL  60603.0   \n",
              "2        Risk 1 (High)          225 N MICHIGAN AVE   CHICAGO    IL  60601.0   \n",
              "3        Risk 1 (High)         1863 N CLYBOURN AVE   CHICAGO    IL  60614.0   \n",
              "4        Risk 1 (High)         1700 S MICHIGAN AVE   CHICAGO    IL  60616.0   \n",
              "...                ...                          ...      ...   ...      ...   \n",
              "59995    Risk 1 (High)             1000 W 103RD ST   CHICAGO    IL  60643.0   \n",
              "59996     Risk 3 (Low)            4265 W CERMAK RD   CHICAGO    IL  60623.0   \n",
              "59997    Risk 1 (High)  2922-2924 W IRVING PARK RD   CHICAGO    IL  60618.0   \n",
              "59998    Risk 1 (High)            2306 W DEVON AVE   CHICAGO    IL  60659.0   \n",
              "59999    Risk 1 (High)            5317 W North AVE   CHICAGO    IL  60639.0   \n",
              "\n",
              "      Inspection Date        Inspection Type  \\\n",
              "0          2017-05-18                Canvass   \n",
              "1          2017-08-14                Canvass   \n",
              "2          2015-12-15              Complaint   \n",
              "3          2012-07-10                Canvass   \n",
              "4          2013-09-20                Canvass   \n",
              "...               ...                    ...   \n",
              "59995      2019-10-18                License   \n",
              "59996      2012-08-30  License Re-Inspection   \n",
              "59997      2012-04-03   Short Form Complaint   \n",
              "59998      2016-02-23                License   \n",
              "59999      2019-06-12  Canvass Re-Inspection   \n",
              "\n",
              "                                              Violations   Latitude  \\\n",
              "0                                                    NaN  41.927577   \n",
              "1      34. FLOORS: CONSTRUCTED PER CODE, CLEANED, GOO...  41.881807   \n",
              "2      30. FOOD IN ORIGINAL CONTAINER, PROPERLY LABEL...  41.886377   \n",
              "3      33. FOOD AND NON-FOOD CONTACT EQUIPMENT UTENSI...  41.914990   \n",
              "4                                                    NaN  41.858996   \n",
              "...                                                  ...        ...   \n",
              "59995  55. PHYSICAL FACILITIES INSTALLED, MAINTAINED ...  41.706982   \n",
              "59996  34. FLOORS: CONSTRUCTED PER CODE, CLEANED, GOO...  41.851324   \n",
              "59997  33. FOOD AND NON-FOOD CONTACT EQUIPMENT UTENSI...  41.954067   \n",
              "59998                                                NaN  41.997876   \n",
              "59999  3. MANAGEMENT, FOOD EMPLOYEE AND CONDITIONAL E...  41.909353   \n",
              "\n",
              "       Longitude                                  Location  Inspection Fail  \n",
              "0     -87.651528   (-87.65152817242594, 41.92757677830966)                0  \n",
              "1     -87.629543   (-87.62954311539407, 41.88180696006542)                0  \n",
              "2     -87.624382   (-87.62438167043969, 41.88637740620821)                0  \n",
              "3     -87.654994   (-87.65499361162448, 41.91498953039437)                0  \n",
              "4     -87.624106   (-87.62410566978502, 41.85899630014676)                0  \n",
              "...          ...                                       ...              ...  \n",
              "59995 -87.647758  (-87.64775773310967, 41.706982259265786)                0  \n",
              "59996 -87.732192   (-87.73219217780218, 41.85132422344611)                0  \n",
              "59997 -87.701753  (-87.70175255165984, 41.954066875501354)                0  \n",
              "59998 -87.687764    (-87.6877635508729, 41.99787636318572)                0  \n",
              "59999 -87.758800   (-87.7587999518901, 41.909352603305415)                0  \n",
              "\n",
              "[60000 rows x 17 columns]"
            ],
            "text/html": [
              "\n",
              "  <div id=\"df-a2cdb223-6f92-4573-bdf7-6c3a34ebba25\">\n",
              "    <div class=\"colab-df-container\">\n",
              "      <div>\n",
              "<style scoped>\n",
              "    .dataframe tbody tr th:only-of-type {\n",
              "        vertical-align: middle;\n",
              "    }\n",
              "\n",
              "    .dataframe tbody tr th {\n",
              "        vertical-align: top;\n",
              "    }\n",
              "\n",
              "    .dataframe thead th {\n",
              "        text-align: right;\n",
              "    }\n",
              "</style>\n",
              "<table border=\"1\" class=\"dataframe\">\n",
              "  <thead>\n",
              "    <tr style=\"text-align: right;\">\n",
              "      <th></th>\n",
              "      <th>Inspection ID</th>\n",
              "      <th>DBA Name</th>\n",
              "      <th>AKA Name</th>\n",
              "      <th>License #</th>\n",
              "      <th>Facility Type</th>\n",
              "      <th>Risk</th>\n",
              "      <th>Address</th>\n",
              "      <th>City</th>\n",
              "      <th>State</th>\n",
              "      <th>Zip</th>\n",
              "      <th>Inspection Date</th>\n",
              "      <th>Inspection Type</th>\n",
              "      <th>Violations</th>\n",
              "      <th>Latitude</th>\n",
              "      <th>Longitude</th>\n",
              "      <th>Location</th>\n",
              "      <th>Inspection Fail</th>\n",
              "    </tr>\n",
              "  </thead>\n",
              "  <tbody>\n",
              "    <tr>\n",
              "      <th>0</th>\n",
              "      <td>2050629</td>\n",
              "      <td>MY SWEET STATION INC</td>\n",
              "      <td>MY SWEET STATION</td>\n",
              "      <td>2327223.0</td>\n",
              "      <td>Restaurant</td>\n",
              "      <td>Risk 1 (High)</td>\n",
              "      <td>2511 N LINCOLN AVE</td>\n",
              "      <td>CHICAGO</td>\n",
              "      <td>IL</td>\n",
              "      <td>60614.0</td>\n",
              "      <td>2017-05-18</td>\n",
              "      <td>Canvass</td>\n",
              "      <td>NaN</td>\n",
              "      <td>41.927577</td>\n",
              "      <td>-87.651528</td>\n",
              "      <td>(-87.65152817242594, 41.92757677830966)</td>\n",
              "      <td>0</td>\n",
              "    </tr>\n",
              "    <tr>\n",
              "      <th>1</th>\n",
              "      <td>2078428</td>\n",
              "      <td>OUTTAKES</td>\n",
              "      <td>RED MANGO</td>\n",
              "      <td>2125004.0</td>\n",
              "      <td>Restaurant</td>\n",
              "      <td>Risk 2 (Medium)</td>\n",
              "      <td>10 S DEARBORN ST FL</td>\n",
              "      <td>CHICAGO</td>\n",
              "      <td>IL</td>\n",
              "      <td>60603.0</td>\n",
              "      <td>2017-08-14</td>\n",
              "      <td>Canvass</td>\n",
              "      <td>34. FLOORS: CONSTRUCTED PER CODE, CLEANED, GOO...</td>\n",
              "      <td>41.881807</td>\n",
              "      <td>-87.629543</td>\n",
              "      <td>(-87.62954311539407, 41.88180696006542)</td>\n",
              "      <td>0</td>\n",
              "    </tr>\n",
              "    <tr>\n",
              "      <th>2</th>\n",
              "      <td>1591748</td>\n",
              "      <td>JAFFA BAGELS</td>\n",
              "      <td>JAFFA BAGELS</td>\n",
              "      <td>2278918.0</td>\n",
              "      <td>Restaurant</td>\n",
              "      <td>Risk 1 (High)</td>\n",
              "      <td>225 N MICHIGAN AVE</td>\n",
              "      <td>CHICAGO</td>\n",
              "      <td>IL</td>\n",
              "      <td>60601.0</td>\n",
              "      <td>2015-12-15</td>\n",
              "      <td>Complaint</td>\n",
              "      <td>30. FOOD IN ORIGINAL CONTAINER, PROPERLY LABEL...</td>\n",
              "      <td>41.886377</td>\n",
              "      <td>-87.624382</td>\n",
              "      <td>(-87.62438167043969, 41.88637740620821)</td>\n",
              "      <td>0</td>\n",
              "    </tr>\n",
              "    <tr>\n",
              "      <th>3</th>\n",
              "      <td>1230035</td>\n",
              "      <td>FRANKS 'N' DAWGS</td>\n",
              "      <td>FRANKS 'N' DAWGS</td>\n",
              "      <td>2094329.0</td>\n",
              "      <td>Restaurant</td>\n",
              "      <td>Risk 1 (High)</td>\n",
              "      <td>1863 N CLYBOURN AVE</td>\n",
              "      <td>CHICAGO</td>\n",
              "      <td>IL</td>\n",
              "      <td>60614.0</td>\n",
              "      <td>2012-07-10</td>\n",
              "      <td>Canvass</td>\n",
              "      <td>33. FOOD AND NON-FOOD CONTACT EQUIPMENT UTENSI...</td>\n",
              "      <td>41.914990</td>\n",
              "      <td>-87.654994</td>\n",
              "      <td>(-87.65499361162448, 41.91498953039437)</td>\n",
              "      <td>0</td>\n",
              "    </tr>\n",
              "    <tr>\n",
              "      <th>4</th>\n",
              "      <td>1228186</td>\n",
              "      <td>SOUTH COAST</td>\n",
              "      <td>SOUTH COAST SUSHI</td>\n",
              "      <td>1817424.0</td>\n",
              "      <td>Restaurant</td>\n",
              "      <td>Risk 1 (High)</td>\n",
              "      <td>1700 S MICHIGAN AVE</td>\n",
              "      <td>CHICAGO</td>\n",
              "      <td>IL</td>\n",
              "      <td>60616.0</td>\n",
              "      <td>2013-09-20</td>\n",
              "      <td>Canvass</td>\n",
              "      <td>NaN</td>\n",
              "      <td>41.858996</td>\n",
              "      <td>-87.624106</td>\n",
              "      <td>(-87.62410566978502, 41.85899630014676)</td>\n",
              "      <td>0</td>\n",
              "    </tr>\n",
              "    <tr>\n",
              "      <th>...</th>\n",
              "      <td>...</td>\n",
              "      <td>...</td>\n",
              "      <td>...</td>\n",
              "      <td>...</td>\n",
              "      <td>...</td>\n",
              "      <td>...</td>\n",
              "      <td>...</td>\n",
              "      <td>...</td>\n",
              "      <td>...</td>\n",
              "      <td>...</td>\n",
              "      <td>...</td>\n",
              "      <td>...</td>\n",
              "      <td>...</td>\n",
              "      <td>...</td>\n",
              "      <td>...</td>\n",
              "      <td>...</td>\n",
              "      <td>...</td>\n",
              "    </tr>\n",
              "    <tr>\n",
              "      <th>59995</th>\n",
              "      <td>2316057</td>\n",
              "      <td>LITTLE GENIUS COMMUNITY DAYCARE 11</td>\n",
              "      <td>LITTLE GENIUS COMMUNITY DAYCARE</td>\n",
              "      <td>2359451.0</td>\n",
              "      <td>Daycare (2 - 6 Years)</td>\n",
              "      <td>Risk 1 (High)</td>\n",
              "      <td>1000 W 103RD ST</td>\n",
              "      <td>CHICAGO</td>\n",
              "      <td>IL</td>\n",
              "      <td>60643.0</td>\n",
              "      <td>2019-10-18</td>\n",
              "      <td>License</td>\n",
              "      <td>55. PHYSICAL FACILITIES INSTALLED, MAINTAINED ...</td>\n",
              "      <td>41.706982</td>\n",
              "      <td>-87.647758</td>\n",
              "      <td>(-87.64775773310967, 41.706982259265786)</td>\n",
              "      <td>0</td>\n",
              "    </tr>\n",
              "    <tr>\n",
              "      <th>59996</th>\n",
              "      <td>1170444</td>\n",
              "      <td>A J FOOD &amp; LIQUOR INC.</td>\n",
              "      <td>FERAS FOOD &amp; LIQUOR</td>\n",
              "      <td>2157174.0</td>\n",
              "      <td>Grocery Store</td>\n",
              "      <td>Risk 3 (Low)</td>\n",
              "      <td>4265 W CERMAK RD</td>\n",
              "      <td>CHICAGO</td>\n",
              "      <td>IL</td>\n",
              "      <td>60623.0</td>\n",
              "      <td>2012-08-30</td>\n",
              "      <td>License Re-Inspection</td>\n",
              "      <td>34. FLOORS: CONSTRUCTED PER CODE, CLEANED, GOO...</td>\n",
              "      <td>41.851324</td>\n",
              "      <td>-87.732192</td>\n",
              "      <td>(-87.73219217780218, 41.85132422344611)</td>\n",
              "      <td>0</td>\n",
              "    </tr>\n",
              "    <tr>\n",
              "      <th>59997</th>\n",
              "      <td>1098317</td>\n",
              "      <td>PITCHFORK FOOD &amp; SALOON</td>\n",
              "      <td>PITCHFORK FOOD &amp; SALOON</td>\n",
              "      <td>1271831.0</td>\n",
              "      <td>Restaurant</td>\n",
              "      <td>Risk 1 (High)</td>\n",
              "      <td>2922-2924 W IRVING PARK RD</td>\n",
              "      <td>CHICAGO</td>\n",
              "      <td>IL</td>\n",
              "      <td>60618.0</td>\n",
              "      <td>2012-04-03</td>\n",
              "      <td>Short Form Complaint</td>\n",
              "      <td>33. FOOD AND NON-FOOD CONTACT EQUIPMENT UTENSI...</td>\n",
              "      <td>41.954067</td>\n",
              "      <td>-87.701753</td>\n",
              "      <td>(-87.70175255165984, 41.954066875501354)</td>\n",
              "      <td>0</td>\n",
              "    </tr>\n",
              "    <tr>\n",
              "      <th>59998</th>\n",
              "      <td>1632103</td>\n",
              "      <td>DATA RESTAURANT</td>\n",
              "      <td>DAATA DARBAR RESTAURANT</td>\n",
              "      <td>2446971.0</td>\n",
              "      <td>Restaurant</td>\n",
              "      <td>Risk 1 (High)</td>\n",
              "      <td>2306 W DEVON AVE</td>\n",
              "      <td>CHICAGO</td>\n",
              "      <td>IL</td>\n",
              "      <td>60659.0</td>\n",
              "      <td>2016-02-23</td>\n",
              "      <td>License</td>\n",
              "      <td>NaN</td>\n",
              "      <td>41.997876</td>\n",
              "      <td>-87.687764</td>\n",
              "      <td>(-87.6877635508729, 41.99787636318572)</td>\n",
              "      <td>0</td>\n",
              "    </tr>\n",
              "    <tr>\n",
              "      <th>59999</th>\n",
              "      <td>2293426</td>\n",
              "      <td>THREE D</td>\n",
              "      <td>THREE D'S JERK CHICKEN</td>\n",
              "      <td>1172336.0</td>\n",
              "      <td>Restaurant</td>\n",
              "      <td>Risk 1 (High)</td>\n",
              "      <td>5317 W North AVE</td>\n",
              "      <td>CHICAGO</td>\n",
              "      <td>IL</td>\n",
              "      <td>60639.0</td>\n",
              "      <td>2019-06-12</td>\n",
              "      <td>Canvass Re-Inspection</td>\n",
              "      <td>3. MANAGEMENT, FOOD EMPLOYEE AND CONDITIONAL E...</td>\n",
              "      <td>41.909353</td>\n",
              "      <td>-87.758800</td>\n",
              "      <td>(-87.7587999518901, 41.909352603305415)</td>\n",
              "      <td>0</td>\n",
              "    </tr>\n",
              "  </tbody>\n",
              "</table>\n",
              "<p>60000 rows × 17 columns</p>\n",
              "</div>\n",
              "      <button class=\"colab-df-convert\" onclick=\"convertToInteractive('df-a2cdb223-6f92-4573-bdf7-6c3a34ebba25')\"\n",
              "              title=\"Convert this dataframe to an interactive table.\"\n",
              "              style=\"display:none;\">\n",
              "        \n",
              "  <svg xmlns=\"http://www.w3.org/2000/svg\" height=\"24px\"viewBox=\"0 0 24 24\"\n",
              "       width=\"24px\">\n",
              "    <path d=\"M0 0h24v24H0V0z\" fill=\"none\"/>\n",
              "    <path d=\"M18.56 5.44l.94 2.06.94-2.06 2.06-.94-2.06-.94-.94-2.06-.94 2.06-2.06.94zm-11 1L8.5 8.5l.94-2.06 2.06-.94-2.06-.94L8.5 2.5l-.94 2.06-2.06.94zm10 10l.94 2.06.94-2.06 2.06-.94-2.06-.94-.94-2.06-.94 2.06-2.06.94z\"/><path d=\"M17.41 7.96l-1.37-1.37c-.4-.4-.92-.59-1.43-.59-.52 0-1.04.2-1.43.59L10.3 9.45l-7.72 7.72c-.78.78-.78 2.05 0 2.83L4 21.41c.39.39.9.59 1.41.59.51 0 1.02-.2 1.41-.59l7.78-7.78 2.81-2.81c.8-.78.8-2.07 0-2.86zM5.41 20L4 18.59l7.72-7.72 1.47 1.35L5.41 20z\"/>\n",
              "  </svg>\n",
              "      </button>\n",
              "      \n",
              "  <style>\n",
              "    .colab-df-container {\n",
              "      display:flex;\n",
              "      flex-wrap:wrap;\n",
              "      gap: 12px;\n",
              "    }\n",
              "\n",
              "    .colab-df-convert {\n",
              "      background-color: #E8F0FE;\n",
              "      border: none;\n",
              "      border-radius: 50%;\n",
              "      cursor: pointer;\n",
              "      display: none;\n",
              "      fill: #1967D2;\n",
              "      height: 32px;\n",
              "      padding: 0 0 0 0;\n",
              "      width: 32px;\n",
              "    }\n",
              "\n",
              "    .colab-df-convert:hover {\n",
              "      background-color: #E2EBFA;\n",
              "      box-shadow: 0px 1px 2px rgba(60, 64, 67, 0.3), 0px 1px 3px 1px rgba(60, 64, 67, 0.15);\n",
              "      fill: #174EA6;\n",
              "    }\n",
              "\n",
              "    [theme=dark] .colab-df-convert {\n",
              "      background-color: #3B4455;\n",
              "      fill: #D2E3FC;\n",
              "    }\n",
              "\n",
              "    [theme=dark] .colab-df-convert:hover {\n",
              "      background-color: #434B5C;\n",
              "      box-shadow: 0px 1px 3px 1px rgba(0, 0, 0, 0.15);\n",
              "      filter: drop-shadow(0px 1px 2px rgba(0, 0, 0, 0.3));\n",
              "      fill: #FFFFFF;\n",
              "    }\n",
              "  </style>\n",
              "\n",
              "      <script>\n",
              "        const buttonEl =\n",
              "          document.querySelector('#df-a2cdb223-6f92-4573-bdf7-6c3a34ebba25 button.colab-df-convert');\n",
              "        buttonEl.style.display =\n",
              "          google.colab.kernel.accessAllowed ? 'block' : 'none';\n",
              "\n",
              "        async function convertToInteractive(key) {\n",
              "          const element = document.querySelector('#df-a2cdb223-6f92-4573-bdf7-6c3a34ebba25');\n",
              "          const dataTable =\n",
              "            await google.colab.kernel.invokeFunction('convertToInteractive',\n",
              "                                                     [key], {});\n",
              "          if (!dataTable) return;\n",
              "\n",
              "          const docLinkHtml = 'Like what you see? Visit the ' +\n",
              "            '<a target=\"_blank\" href=https://colab.research.google.com/notebooks/data_table.ipynb>data table notebook</a>'\n",
              "            + ' to learn more about interactive tables.';\n",
              "          element.innerHTML = '';\n",
              "          dataTable['output_type'] = 'display_data';\n",
              "          await google.colab.output.renderOutput(dataTable, element);\n",
              "          const docLink = document.createElement('div');\n",
              "          docLink.innerHTML = docLinkHtml;\n",
              "          element.appendChild(docLink);\n",
              "        }\n",
              "      </script>\n",
              "    </div>\n",
              "  </div>\n",
              "  "
            ]
          },
          "metadata": {},
          "execution_count": 12
        }
      ]
    },
    {
      "cell_type": "code",
      "execution_count": 13,
      "id": "0db6ee42",
      "metadata": {
        "deletable": false,
        "nbgrader": {
          "cell_type": "code",
          "checksum": "fbdd1e318546f5ded4a4de13110416f4",
          "grade": false,
          "grade_id": "1-2",
          "locked": false,
          "schema_version": 3,
          "solution": true,
          "task": false
        },
        "id": "0db6ee42"
      },
      "outputs": [],
      "source": [
        "# import any libraries needed\n",
        "# YOUR CODE HERE\n",
        "\n",
        "# YOUR CODE ENDS HERE\n",
        "\n",
        "\n",
        "def eda_process(df):\n",
        "    # State 컬럼 처리 : 결측치 및 IL이 아닌 row 삭제\n",
        "    df.dropna(subset=[\"State\"], how=\"any\", axis=0, inplace=True)\n",
        "    df = df.query(\"State == 'IL'\")\n",
        "\n",
        "    # Risk : 결측치 및 All 삭제 > 1, 2, 3으로 바꾸어 줌\n",
        "    df.dropna(subset=[\"Risk\"], how=\"any\", axis=0, inplace=True)\n",
        "    df = df.query(\"Risk != 'All'\")\n",
        "    df.replace(\"Risk 1 (High)\", 1, inplace=True)\n",
        "    df.replace(\"Risk 2 (Medium)\", 2, inplace=True)\n",
        "    df.replace(\"Risk 3 (Low)\", 3, inplace=True)\n",
        "\n",
        "    # YOUR CODE HERE\n",
        "    for idx, row in df.iterrows():\n",
        "        if(pd.isna(row['AKA Name'])):\n",
        "            tmp = df[['DBA Name','AKA Name']].loc[(df['AKA Name'].notnull()) & (df['DBA Name'] == row['DBA Name'])]\n",
        "            if not tmp.empty:\n",
        "                df.loc[idx, 'AKA Name'] = tmp['AKA Name'].iloc[0]\n",
        "            \n",
        "\n",
        "        if(pd.isna(row['Facility Type'])):\n",
        "            tmp = df[['DBA Name','Facility Type']].loc[(df['Facility Type'].notnull()) & (df['DBA Name'] == row['DBA Name'])]\n",
        "            if not tmp.empty:\n",
        "                df.loc[idx, 'Facility Type'] = tmp['Facility Type'].iloc[0]\n",
        "    \n",
        "    \n",
        "    \n",
        "    df.fillna({'AKA Name':df['AKA Name'].mode()[0],\\\n",
        "               'Facility Type':df['Facility Type'].mode()[0],\\\n",
        "               'City':df['City'].mode()[0],\\\n",
        "               'Zip':df['Zip'].mode()[0]},inplace=True)\n",
        "    \n",
        "    df = df.drop(columns = ['State', 'Latitude','Longitude','Location'])\n",
        "\n",
        "    df['Violations'] = df['Violations'].str[:3]\n",
        "    df['Violations'] = df['Violations'].str.replace(',', '')\n",
        "    df['Violations'] = df['Violations'].str.replace(' ', '')\n",
        "    # YOUR CODE ENDS HERE\n",
        "\n",
        "    return df"
      ]
    },
    {
      "cell_type": "code",
      "execution_count": 14,
      "id": "e90106c9",
      "metadata": {
        "deletable": false,
        "editable": false,
        "nbgrader": {
          "cell_type": "code",
          "checksum": "c7156e0a4a76317407b3e2639f700b59",
          "grade": true,
          "grade_id": "1-2_test",
          "locked": true,
          "points": 1,
          "schema_version": 3,
          "solution": false,
          "task": false
        },
        "id": "e90106c9",
        "outputId": "1a6bac63-2697-41c8-95e3-44fa2f877529",
        "colab": {
          "base_uri": "https://localhost:8080/"
        }
      },
      "outputs": [
        {
          "output_type": "stream",
          "name": "stderr",
          "text": [
            "/usr/local/lib/python3.7/dist-packages/pandas/util/_decorators.py:311: SettingWithCopyWarning: \n",
            "A value is trying to be set on a copy of a slice from a DataFrame\n",
            "\n",
            "See the caveats in the documentation: https://pandas.pydata.org/pandas-docs/stable/user_guide/indexing.html#returning-a-view-versus-a-copy\n",
            "  return func(*args, **kwargs)\n",
            "/usr/local/lib/python3.7/dist-packages/pandas/core/frame.py:5244: SettingWithCopyWarning: \n",
            "A value is trying to be set on a copy of a slice from a DataFrame\n",
            "\n",
            "See the caveats in the documentation: https://pandas.pydata.org/pandas-docs/stable/user_guide/indexing.html#returning-a-view-versus-a-copy\n",
            "  method=method,\n",
            "/usr/local/lib/python3.7/dist-packages/pandas/core/indexing.py:1817: SettingWithCopyWarning: \n",
            "A value is trying to be set on a copy of a slice from a DataFrame.\n",
            "Try using .loc[row_indexer,col_indexer] = value instead\n",
            "\n",
            "See the caveats in the documentation: https://pandas.pydata.org/pandas-docs/stable/user_guide/indexing.html#returning-a-view-versus-a-copy\n",
            "  self._setitem_single_column(loc, value, pi)\n",
            "/usr/local/lib/python3.7/dist-packages/pandas/core/generic.py:6392: SettingWithCopyWarning: \n",
            "A value is trying to be set on a copy of a slice from a DataFrame\n",
            "\n",
            "See the caveats in the documentation: https://pandas.pydata.org/pandas-docs/stable/user_guide/indexing.html#returning-a-view-versus-a-copy\n",
            "  return self._update_inplace(result)\n"
          ]
        },
        {
          "output_type": "stream",
          "name": "stdout",
          "text": [
            "(59947, 13) (19994, 13)\n"
          ]
        }
      ],
      "source": [
        "train_processed = eda_process(train.copy())\n",
        "test_processed = eda_process(test.copy())\n",
        "print(train_processed.shape, test_processed.shape)\n",
        "assert len(train_processed) == 59947, \"train data 전처리가 잘못되었습니다. 조건을 다시 확인하세요.\"\n",
        "assert len(test_processed) == 19994, \"test data 전처리가 잘못되었습니다. 조건을 다시 확인하세요.\""
      ]
    },
    {
      "cell_type": "markdown",
      "id": "d37ba45b",
      "metadata": {
        "deletable": false,
        "editable": false,
        "nbgrader": {
          "cell_type": "markdown",
          "checksum": "137f3fecacaac450cc5af267124bc4ae",
          "grade": false,
          "grade_id": "cell-830432dc10ec8364",
          "locked": true,
          "schema_version": 3,
          "solution": false,
          "task": false
        },
        "id": "d37ba45b"
      },
      "source": [
        "### 전처리 후 target 분포의 변화를 다시 확인해 보세요."
      ]
    },
    {
      "cell_type": "code",
      "execution_count": 15,
      "id": "1442e4a1",
      "metadata": {
        "deletable": false,
        "editable": false,
        "nbgrader": {
          "cell_type": "code",
          "checksum": "0a1c5c3bce03dfc07374c687f70aa58a",
          "grade": false,
          "grade_id": "cell-3992c9dc381419fe",
          "locked": true,
          "schema_version": 3,
          "solution": false,
          "task": false
        },
        "id": "1442e4a1",
        "outputId": "91de477c-df2e-4741-a5e8-37b02e0281ff",
        "colab": {
          "base_uri": "https://localhost:8080/",
          "height": 533
        }
      },
      "outputs": [
        {
          "output_type": "display_data",
          "data": {
            "text/plain": [
              "<Figure size 432x288 with 1 Axes>"
            ],
            "image/png": "[encoded data removed]"
          },
          "metadata": {}
        },
        {
          "output_type": "display_data",
          "data": {
            "text/plain": [
              "<Figure size 432x288 with 1 Axes>"
            ],
            "image/png": "[encoded data removed]"
          },
          "metadata": {}
        },
        {
          "output_type": "execute_result",
          "data": {
            "text/plain": [
              "(16096, 3898)"
            ]
          },
          "metadata": {},
          "execution_count": 15
        }
      ],
      "source": [
        "analysis_on_target(train_processed)\n",
        "analysis_on_target(test_processed)"
      ]
    },
    {
      "cell_type": "markdown",
      "id": "90c22148",
      "metadata": {
        "deletable": false,
        "editable": false,
        "nbgrader": {
          "cell_type": "markdown",
          "checksum": "ff9d65d617880cdb3915f9d7530b4b35",
          "grade": false,
          "grade_id": "cell-061f9cf27e568eae",
          "locked": true,
          "schema_version": 3,
          "solution": false,
          "task": false
        },
        "id": "90c22148"
      },
      "source": [
        "# Part 2 - Modeling"
      ]
    },
    {
      "cell_type": "markdown",
      "id": "a003f3e1",
      "metadata": {
        "deletable": false,
        "editable": false,
        "nbgrader": {
          "cell_type": "markdown",
          "checksum": "db2ed4c110814a19df1426a9c2e007c6",
          "grade": false,
          "grade_id": "cell-74769ab837a16066",
          "locked": true,
          "schema_version": 3,
          "solution": false,
          "task": false
        },
        "id": "a003f3e1"
      },
      "source": [
        "## 2.1 데이터를 feature (X), label(y)로 분할하는 `divide_data` 함수를 작성하세요.\n",
        "- Target Column은 `Inspection Fail`입니다."
      ]
    },
    {
      "cell_type": "code",
      "execution_count": 2,
      "id": "a85431a9",
      "metadata": {
        "deletable": false,
        "nbgrader": {
          "cell_type": "code",
          "checksum": "755c04f081e54ada5549c1677d6b100b",
          "grade": false,
          "grade_id": "2-1",
          "locked": false,
          "schema_version": 3,
          "solution": true,
          "task": false
        },
        "id": "a85431a9"
      },
      "outputs": [],
      "source": [
        "def divide_data(df):\n",
        "    X = None\n",
        "    y = None\n",
        "\n",
        "    # YOUR CODE HERE\n",
        "    X = df.drop('Inspection Fail', axis = 1)\n",
        "    y = df['Inspection Fail']\n",
        "    # YOUR CODE ENDS HERE\n",
        "\n",
        "    return X, y"
      ]
    },
    {
      "cell_type": "code",
      "execution_count": 16,
      "id": "20ec9b5d",
      "metadata": {
        "deletable": false,
        "editable": false,
        "nbgrader": {
          "cell_type": "code",
          "checksum": "a97ad7c4d40a86a0201b92d5cc5b6f4f",
          "grade": true,
          "grade_id": "2-1_test",
          "locked": true,
          "points": 0.5,
          "schema_version": 3,
          "solution": false,
          "task": false
        },
        "id": "20ec9b5d",
        "outputId": "95e6bac0-3b4a-4738-c43b-027cd709a19a",
        "colab": {
          "base_uri": "https://localhost:8080/"
        }
      },
      "outputs": [
        {
          "output_type": "stream",
          "name": "stdout",
          "text": [
            "(59947, 12) (59947,) (19994, 12) (19994,)\n"
          ]
        }
      ],
      "source": [
        "X_train, y_train = divide_data(train_processed)\n",
        "X_test, y_test = divide_data(test_processed)\n",
        "print(X_train.shape, y_train.shape, X_test.shape, y_test.shape)"
      ]
    },
    {
      "cell_type": "markdown",
      "id": "819f167c",
      "metadata": {
        "deletable": false,
        "editable": false,
        "nbgrader": {
          "cell_type": "markdown",
          "checksum": "b6a426e2a8f1170007d06e405e09ae87",
          "grade": false,
          "grade_id": "cell-f54c8204c1a466c0",
          "locked": true,
          "schema_version": 3,
          "solution": false,
          "task": false
        },
        "id": "819f167c"
      },
      "source": [
        "## 2.2 모델을 생성하고 학습하는 `fit` 함수와 1일 확률을 반환하는 `predict` 함수를 작성하세요. \n",
        "- Scikit-learn의 `pipeline`을 활용하여 학습 파이프라인을 생성하세요.\n",
        "- Boosting 모델을 사용하고자 할 경우 XGBoost를 사용하세요.\n",
        "- `RandomizedSearchCV`를 사용해 CV를 진행하세요.\n",
        "    - 적어도 두 개 이상의 하이퍼파라미터에 대해 탐색을 진행하세요.\n",
        "    - **\bAUC score을 최대화하는 하이퍼파라미터 조합을 선택하세요.**\n",
        "- cv는 5 이하, n_iter은 10회 이하로 하세요."
      ]
    },
    {
      "cell_type": "code",
      "source": [
        "from sklearn.model_selection import RandomizedSearchCV\n",
        "from sklearn.pipeline import make_pipeline\n",
        "from sklearn.metrics import classification_report\n",
        "\n",
        "# import any libraries needed\n",
        "# YOUR CODE HERE\n",
        "from xgboost import XGBClassifier\n",
        "from category_encoders import BinaryEncoder\n",
        "from sklearn.impute import SimpleImputer\n",
        "from sklearn.metrics import roc_curve, auc\n",
        "# YOUR CODE ENDS HERE\n",
        "\n",
        "\n",
        "def fit(X_train, y_train):\n",
        "    pipeline = None  # pipeline = make_pipeline(...)\n",
        "    clf = None  # clf = RandomizedSearchCV(pipeline, ...)\n",
        "\n",
        "    # YOUR CODE HERE\n",
        "    pipeline = make_pipeline(\n",
        "        BinaryEncoder(),\n",
        "        SimpleImputer(),\n",
        "        XGBClassifier()\n",
        "        )\n",
        "    \n",
        "    dists = {'xgbclassifier__n_estimators': [10,25,50,75,100], \n",
        "             'xgbclassifier__max_depth': [5,10,15,20,None], \n",
        "             }\n",
        "\n",
        "    clf = RandomizedSearchCV(\n",
        "        pipeline, \n",
        "        n_iter=10, \n",
        "        cv=5,\n",
        "        param_distributions = dists, \n",
        "        scoring='roc_auc',\n",
        "        return_train_score = True,\n",
        "        verbose=1,\n",
        "        n_jobs=-1\n",
        "        )\n",
        "    # YOUR CODE ENDS HERE\n",
        "\n",
        "    clf.fit(X_train, y_train)\n",
        "    print(\"Optimal Hyperparameter:\", clf.best_params_)\n",
        "    print(\"AUC:\", clf.best_score_)\n",
        "\n",
        "    return clf\n",
        "\n",
        "\n",
        "def predict(X, y, best_estimator):\n",
        "    y_pred_proba = None\n",
        "\n",
        "    # YOUR CODE HERE\n",
        "    model = best_estimator\n",
        "    y_pred_proba = model.predict(X)\n",
        "    # YOUR CODE ENDS HERE\n",
        "\n",
        "    report = classification_report(y, y_pred_proba > 0.5)\n",
        "    return y_pred_proba, report"
      ],
      "metadata": {
        "id": "-larz-fPhFsZ"
      },
      "id": "-larz-fPhFsZ",
      "execution_count": 23,
      "outputs": []
    },
    {
      "cell_type": "code",
      "source": [
        "clf = fit(X_train, y_train)"
      ],
      "metadata": {
        "id": "MH8FDAVSdw2q",
        "outputId": "9b12c10d-b40f-4e1f-886a-d505f38cb7b9",
        "colab": {
          "base_uri": "https://localhost:8080/"
        }
      },
      "id": "MH8FDAVSdw2q",
      "execution_count": 24,
      "outputs": [
        {
          "output_type": "stream",
          "name": "stdout",
          "text": [
            "Fitting 5 folds for each of 10 candidates, totalling 50 fits\n"
          ]
        },
        {
          "output_type": "stream",
          "name": "stderr",
          "text": [
            "/usr/local/lib/python3.7/dist-packages/sklearn/model_selection/_validation.py:372: FitFailedWarning: \n",
            "15 fits failed out of a total of 50.\n",
            "The score on these train-test partitions for these parameters will be set to nan.\n",
            "If these failures are not expected, you can try to debug them by setting error_score='raise'.\n",
            "\n",
            "Below are more details about the failures:\n",
            "--------------------------------------------------------------------------------\n",
            "15 fits failed with the following error:\n",
            "Traceback (most recent call last):\n",
            "  File \"/usr/local/lib/python3.7/dist-packages/sklearn/model_selection/_validation.py\", line 680, in _fit_and_score\n",
            "    estimator.fit(X_train, y_train, **fit_params)\n",
            "  File \"/usr/local/lib/python3.7/dist-packages/sklearn/pipeline.py\", line 394, in fit\n",
            "    self._final_estimator.fit(Xt, y, **fit_params_last_step)\n",
            "  File \"/usr/local/lib/python3.7/dist-packages/xgboost/sklearn.py\", line 732, in fit\n",
            "    callbacks=callbacks)\n",
            "  File \"/usr/local/lib/python3.7/dist-packages/xgboost/training.py\", line 216, in train\n",
            "    xgb_model=xgb_model, callbacks=callbacks)\n",
            "  File \"/usr/local/lib/python3.7/dist-packages/xgboost/training.py\", line 74, in _train_internal\n",
            "    bst.update(dtrain, i, obj)\n",
            "  File \"/usr/local/lib/python3.7/dist-packages/xgboost/core.py\", line 1109, in update\n",
            "    dtrain.handle))\n",
            "  File \"/usr/local/lib/python3.7/dist-packages/xgboost/core.py\", line 176, in _check_call\n",
            "    raise XGBoostError(py_str(_LIB.XGBGetLastError()))\n",
            "xgboost.core.XGBoostError: Invalid Parameter format for max_depth expect int but value='None'\n",
            "\n",
            "  warnings.warn(some_fits_failed_message, FitFailedWarning)\n",
            "/usr/local/lib/python3.7/dist-packages/sklearn/model_selection/_search.py:972: UserWarning: One or more of the test scores are non-finite: [       nan 0.94886243 0.9516556  0.95023141 0.91600285 0.95012545\n",
            " 0.94745688 0.94762877        nan        nan]\n",
            "  category=UserWarning,\n",
            "/usr/local/lib/python3.7/dist-packages/sklearn/model_selection/_search.py:972: UserWarning: One or more of the train scores are non-finite: [       nan 0.99958261 0.99856565 0.99999903 0.91962084 0.99990356\n",
            " 0.99782616 0.99696405        nan        nan]\n",
            "  category=UserWarning,\n"
          ]
        },
        {
          "output_type": "stream",
          "name": "stdout",
          "text": [
            "Optimal Hyperparameter: {'xgbclassifier__n_estimators': 100, 'xgbclassifier__max_depth': 10}\n",
            "AUC: 0.9516556012463042\n"
          ]
        }
      ]
    },
    {
      "cell_type": "markdown",
      "id": "5f8bd689",
      "metadata": {
        "id": "5f8bd689"
      },
      "source": [
        "### 아래 셀을 실행시켜 모델의 Test score을 확인해 보세요.\n",
        "- auc_score > 0.65을 만족하면 기본 성능점수를 얻습니다.\n",
        "- (도전과제) auc_score > 0.8을 만족하면 성능점수 만점을 얻습니다.\n",
        "    - 도전과제까지 수행해야 스챌 3점을 얻습니다. \n",
        "    - 1.3으로 돌아가 다양한 특성 조합을 시도해 보세요. \n",
        "    - 2.2로 돌아가 SearchCV에서 다양한 하이퍼파라미터 옵션 조합을 선택해 보세요.\n",
        "        - 본인이 선택한 모델에서, 각 하이퍼파라미터가 어떤 의미를 가지나요?\n",
        "        - SearchCV가 더 다양한 하이퍼파라미터 조합을 시도하도록 하기 위해 SearchCV의 어떤 옵션을 조정해야 할까요?"
      ]
    },
    {
      "cell_type": "code",
      "execution_count": 25,
      "id": "89861706",
      "metadata": {
        "deletable": false,
        "editable": false,
        "nbgrader": {
          "cell_type": "code",
          "checksum": "a54fe57658ba1c12ddb13a9336b63653",
          "grade": false,
          "grade_id": "cell-get_auc",
          "locked": true,
          "schema_version": 3,
          "solution": false,
          "task": false
        },
        "id": "89861706",
        "outputId": "586a08ff-2a93-43ef-8505-e303b929b388",
        "colab": {
          "base_uri": "https://localhost:8080/",
          "height": 462
        }
      },
      "outputs": [
        {
          "output_type": "stream",
          "name": "stdout",
          "text": [
            "              precision    recall  f1-score   support\n",
            "\n",
            "           0       0.92      0.96      0.94     16096\n",
            "           1       0.81      0.65      0.72      3898\n",
            "\n",
            "    accuracy                           0.90     19994\n",
            "   macro avg       0.86      0.81      0.83     19994\n",
            "weighted avg       0.90      0.90      0.90     19994\n",
            "\n"
          ]
        },
        {
          "output_type": "display_data",
          "data": {
            "text/plain": [
              "<Figure size 432x288 with 1 Axes>"
            ],
            "image/png": "[encoded data removed]"
          },
          "metadata": {}
        }
      ],
      "source": [
        "from sklearn.metrics import roc_curve, roc_auc_score\n",
        "\n",
        "\n",
        "def plot_roc(y, y_pred_proba):\n",
        "    auc_score = roc_auc_score(y, y_pred_proba)\n",
        "    fpr, tpr, _ = roc_curve(y, y_pred_proba)\n",
        "    baseline_fpr, baseline_tpr, _ = roc_curve(y, [0] * len(y))\n",
        "\n",
        "    plt.style.use(\"ggplot\")\n",
        "    plt.plot(fpr, tpr, label=\"Model\")\n",
        "    plt.plot(baseline_fpr, baseline_tpr, linestyle=\"--\", label=\"Baseline\")\n",
        "    plt.xlabel(\"False Positive Rate\", size=12)\n",
        "    plt.ylabel(\"True Positive Rate\", size=12)\n",
        "    plt.title(\"Receiver Operating Characteristic\")\n",
        "    plt.legend(prop={\"size\": 12})\n",
        "    plt.show()\n",
        "    return auc_score\n",
        "\n",
        "\n",
        "y_test_pred_proba, report = predict(X_test, y_test, clf.best_estimator_)\n",
        "print(report)\n",
        "auc_score = plot_roc(y_test, y_test_pred_proba)"
      ]
    },
    {
      "cell_type": "code",
      "execution_count": 26,
      "id": "539e38c1",
      "metadata": {
        "deletable": false,
        "editable": false,
        "nbgrader": {
          "cell_type": "code",
          "checksum": "49a79adcd2c92191781e896457288885",
          "grade": true,
          "grade_id": "2-2_test_performance",
          "locked": true,
          "points": 1,
          "schema_version": 3,
          "solution": false,
          "task": false
        },
        "id": "539e38c1",
        "outputId": "bf07641c-8abb-488e-bee2-e5be882152de",
        "colab": {
          "base_uri": "https://localhost:8080/"
        }
      },
      "outputs": [
        {
          "output_type": "stream",
          "name": "stdout",
          "text": [
            "Test AUC: 0.8061708156652695\n"
          ]
        }
      ],
      "source": [
        "print(\"Test AUC:\", auc_score)"
      ]
    },
    {
      "cell_type": "code",
      "execution_count": 27,
      "id": "f769485e",
      "metadata": {
        "deletable": false,
        "editable": false,
        "nbgrader": {
          "cell_type": "code",
          "checksum": "e51a6068502d2588907b50ac3321425b",
          "grade": true,
          "grade_id": "challenge_2-3_test",
          "locked": true,
          "points": 1,
          "schema_version": 3,
          "solution": false,
          "task": false
        },
        "id": "f769485e",
        "outputId": "4ebd8f1b-47fe-4c5a-b299-3bcd76926035",
        "colab": {
          "base_uri": "https://localhost:8080/"
        }
      },
      "outputs": [
        {
          "output_type": "stream",
          "name": "stdout",
          "text": [
            "Test AUC > 0.8?: True\n"
          ]
        }
      ],
      "source": [
        "print(\"Test AUC > 0.8?:\", auc_score > 0.8)"
      ]
    },
    {
      "cell_type": "markdown",
      "id": "e6cb7e41",
      "metadata": {
        "deletable": false,
        "editable": false,
        "nbgrader": {
          "cell_type": "markdown",
          "checksum": "ca785473ae0459c3d5c2267f928eabac",
          "grade": false,
          "grade_id": "cell-0b8a22eeb09a60ef",
          "locked": true,
          "schema_version": 3,
          "solution": false,
          "task": false
        },
        "id": "e6cb7e41"
      },
      "source": [
        "# Part 3 - Visualization\n",
        "- `eli5`의 `PermutationImportance`, `pdpbox` 등의 라이브러리에서는 이미 전처리가 완료되어 수치형 자료로 변환된 독립변수들을 입력으로 받습니다.\n",
        "- 따라서, 2.2에서 생성한 pipeline을 **전처리를 위한 부분**과 **예측 모델**로 나눠 주어야 합니다.\n",
        "    - 전처리를 위한 부분을 거친 후에는 모든 특성들이 수치형이어야 합니다. \n",
        "- 아래 셀에서 해당 과정을 수행해 주세요.\n",
        "    1. `pipeline`을 `preprocess_pipeline`과 `model`로 나눠 주세요.\n",
        "    2. `preprocess_pipeline`으로 `X_test`를 transform하여 `X_test_preprocessed`를 생성하세요."
      ]
    },
    {
      "cell_type": "code",
      "execution_count": 30,
      "id": "6013dab3",
      "metadata": {
        "deletable": false,
        "nbgrader": {
          "cell_type": "code",
          "checksum": "29601a5ad69784a420bdd3d864156ebb",
          "grade": false,
          "grade_id": "p3_preprocess",
          "locked": false,
          "schema_version": 3,
          "solution": true,
          "task": false
        },
        "id": "6013dab3"
      },
      "outputs": [],
      "source": [
        "pipeline = clf.best_estimator_\n",
        "\n",
        "# TODO: pipeline을 preprocess_pipeline과 model로 나눠 주세요.\n",
        "preprocess_pipeline = None\n",
        "model = None\n",
        "# YOUR CODE HERE\n",
        "\n",
        "import warnings\n",
        "warnings.simplefilter(action='ignore', category=FutureWarning)\n",
        "\n",
        "from sklearn.pipeline import Pipeline\n",
        "import eli5\n",
        "from eli5.sklearn import PermutationImportance\n",
        "\n",
        "pipe = Pipeline([\n",
        "    ('preprocess_pipeline', make_pipeline( BinaryEncoder() )),\n",
        "    ('model', XGBClassifier())\n",
        "])\n",
        "\n",
        "pipe.fit(X_train, y_train)\n",
        "\n",
        "# YOUR CODE ENDS HERE\n",
        "\n",
        "# TODO: X_test를 preprocess_pipeline에 통과시켜 X_test_preprocessed를 만드세요.\n",
        "X_test_preprocessed = None\n",
        "# YOUR CODE HERE\n",
        "\n",
        "# print(pipe.named_steps)\n",
        "\n",
        "X_test_preprocessed = pipe.named_steps['preprocess_pipeline'].transform(X_test)\n",
        "\n",
        "tmp = X_test.copy()\n",
        "X_test = pipe.named_steps['preprocess_pipeline'].transform(X_test)\n",
        "\n",
        "# YOUR CODE ENDS HERE"
      ]
    },
    {
      "cell_type": "markdown",
      "id": "762689a6",
      "metadata": {
        "deletable": false,
        "editable": false,
        "nbgrader": {
          "cell_type": "markdown",
          "checksum": "fbe0d092dbf107a876b469ef12567988",
          "grade": false,
          "grade_id": "cell-82752ac26d440f73",
          "locked": true,
          "schema_version": 3,
          "solution": false,
          "task": false
        },
        "id": "762689a6"
      },
      "source": [
        "## 3.1 Permutation Importance를 계산하는 `get_permutation_importance` 함수를 작성하세요.\n",
        "- AUC score을 기준으로 Permutation Importance를 계산하는 permuter을 생성, fit하여 반환하세요.\n",
        "- `n_iter=5`로 하세요."
      ]
    },
    {
      "cell_type": "code",
      "execution_count": 31,
      "id": "c2bba75f",
      "metadata": {
        "deletable": false,
        "nbgrader": {
          "cell_type": "code",
          "checksum": "f677aec29eb277e214c999f8f47622d6",
          "grade": false,
          "grade_id": "3-1",
          "locked": false,
          "schema_version": 3,
          "solution": true,
          "task": false
        },
        "id": "c2bba75f"
      },
      "outputs": [],
      "source": [
        "import eli5\n",
        "from eli5.sklearn import PermutationImportance\n",
        "\n",
        "\n",
        "def get_permutation_importance(X, y, model):\n",
        "    permuter = None\n",
        "    # permuter = PermutationImportance(..., n_iter=5, random_state=42)\n",
        "\n",
        "    # YOUR CODE HERE\n",
        "    \n",
        "    permuter = PermutationImportance(\n",
        "        pipe.named_steps['model'],\n",
        "        scoring='roc_auc',\n",
        "        n_iter=5,\n",
        "        random_state=42,\n",
        "    )\n",
        "    # YOUR CODE ENDS HERE\n",
        "    permuter.fit(X, y)\n",
        "\n",
        "    return permuter"
      ]
    },
    {
      "cell_type": "code",
      "execution_count": 32,
      "id": "55f96610",
      "metadata": {
        "deletable": false,
        "editable": false,
        "nbgrader": {
          "cell_type": "code",
          "checksum": "82d2aed0210bf3dcdacd74d21f77ef9f",
          "grade": true,
          "grade_id": "3-1_test_code",
          "locked": true,
          "points": 1,
          "schema_version": 3,
          "solution": false,
          "task": false
        },
        "id": "55f96610",
        "outputId": "28833083-72f6-4f4b-8c74-1ba741f859a6",
        "colab": {
          "base_uri": "https://localhost:8080/"
        }
      },
      "outputs": [
        {
          "output_type": "stream",
          "name": "stdout",
          "text": [
            "Top3 Important Features:\n",
            "[('Violations_3', 0.2371098575300378), ('Violations_2', 0.07854145808830948), ('Violations_5', 0.06408738436492378)]\n"
          ]
        }
      ],
      "source": [
        "permuter = get_permutation_importance(X_test_preprocessed, y_test, model)\n",
        "eli5.show_weights(permuter, top=None, feature_names=X_test.columns.tolist())\n",
        "print(\"Top3 Important Features:\")\n",
        "p_i = sorted(\n",
        "    list(zip(X_test.columns.tolist(), permuter.feature_importances_)),\n",
        "    key=lambda x: x[1],\n",
        "    reverse=True,\n",
        ")\n",
        "print(p_i[:3])"
      ]
    },
    {
      "cell_type": "markdown",
      "id": "2d609bf4",
      "metadata": {
        "deletable": false,
        "editable": false,
        "nbgrader": {
          "cell_type": "markdown",
          "checksum": "4cca45cddb7c9b9ea1a9bbb31bd45755",
          "grade": false,
          "grade_id": "cell-fb46bd888a7b07fa",
          "locked": true,
          "schema_version": 3,
          "solution": false,
          "task": false
        },
        "id": "2d609bf4"
      },
      "source": [
        "### 위 결과를 기반으로, 아래의 질문에 답해 보세요. \n",
        "- 확인할 수 없으면 `\"모름\"`으로 답하세요.\n",
        "- 답이 하나이면 `String`, 여러 개이면 `List`로 답하세요.\n",
        "\n",
        "\n",
        "- **문제 1.** 평균적으로 모델의 성능에 가장 많은 영향을 주는 특성은 무엇인가요?\n",
        "- **문제 2.** 모델의 예측값과 양의 상관관계를 갖는 특성은 무엇인가요?\n",
        "- **문제 3.** 모델의 예측값과 음의 상관관계를 갖는 특성은 무엇인가요?\n"
      ]
    },
    {
      "cell_type": "code",
      "execution_count": 33,
      "id": "2512abd9",
      "metadata": {
        "deletable": false,
        "nbgrader": {
          "cell_type": "code",
          "checksum": "c5c72fbc887b7dc1726a0e7ec9f1237a",
          "grade": false,
          "grade_id": "3-1_interpretation",
          "locked": false,
          "schema_version": 3,
          "solution": true,
          "task": false
        },
        "id": "2512abd9"
      },
      "outputs": [],
      "source": [
        "answer_1 = None\n",
        "answer_2 = None\n",
        "answer_3 = None\n",
        "\n",
        "# YOUR CODE HERE\n",
        "answer_1 = 'Inspection Type_5'\n",
        "answer_2 = '모름'\n",
        "answer_3 = '모름'\n",
        "# YOUR CODE ENDS HERE"
      ]
    },
    {
      "cell_type": "code",
      "execution_count": 34,
      "id": "c1ad3372",
      "metadata": {
        "deletable": false,
        "editable": false,
        "nbgrader": {
          "cell_type": "code",
          "checksum": "0688166f61a756b36fed3e843766b45b",
          "grade": true,
          "grade_id": "3-1_test_interpretation",
          "locked": true,
          "points": 1,
          "schema_version": 3,
          "solution": false,
          "task": false
        },
        "id": "c1ad3372",
        "outputId": "a2af8815-47b1-4c56-a785-c23a50d71e3d",
        "colab": {
          "base_uri": "https://localhost:8080/"
        }
      },
      "outputs": [
        {
          "output_type": "stream",
          "name": "stdout",
          "text": [
            "A1: Inspection Type_5\n",
            "A2: 모름\n",
            "A3: 모름\n"
          ]
        }
      ],
      "source": [
        "print(\"A1:\", answer_1)\n",
        "print(\"A2:\", answer_2)\n",
        "print(\"A3:\", answer_3)\n"
      ]
    },
    {
      "cell_type": "markdown",
      "id": "1d422067",
      "metadata": {
        "deletable": false,
        "editable": false,
        "nbgrader": {
          "cell_type": "markdown",
          "checksum": "a31e42784a2ac4b15eeebbb2a3595030",
          "grade": false,
          "grade_id": "cell-9210d46ba9b06c13",
          "locked": true,
          "schema_version": 3,
          "solution": false,
          "task": false
        },
        "id": "1d422067"
      },
      "source": [
        "## 3.2 1변수 PDP Plot을 생성하는 `get_pdp_isolated` 함수를 작성하세요.\n",
        "- `feature`의 특성을 변수로 하는 1변수 PDP Plot을 생성합니다."
      ]
    },
    {
      "cell_type": "code",
      "execution_count": 35,
      "id": "fbaed864",
      "metadata": {
        "deletable": false,
        "nbgrader": {
          "cell_type": "code",
          "checksum": "0b3cfb5e55690b59ab816e776ed87321",
          "grade": false,
          "grade_id": "3-2",
          "locked": false,
          "schema_version": 3,
          "solution": true,
          "task": false
        },
        "id": "fbaed864"
      },
      "outputs": [],
      "source": [
        "from pdpbox.pdp import pdp_isolate, pdp_plot\n",
        "import matplotlib.pyplot as plt\n",
        "\n",
        "def get_pdp_isolated(dataset, model, feature):\n",
        "    pdp_isolated = None\n",
        "\n",
        "    # YOUR CODE HERE\n",
        "    plt.rcParams['figure.dpi'] = 144\n",
        "\n",
        "    model = permuter\n",
        "    \n",
        "    pdp_isolated = pdp_isolate(\n",
        "        model=model, \n",
        "        dataset=X_test_preprocessed, \n",
        "        model_features=X_test_preprocessed.columns, \n",
        "        feature=feature\n",
        "    )\n",
        "    # YOUR CODE ENDS HERE\n",
        "\n",
        "    return pdp_isolated"
      ]
    },
    {
      "cell_type": "code",
      "execution_count": 36,
      "id": "4938e383",
      "metadata": {
        "deletable": false,
        "editable": false,
        "nbgrader": {
          "cell_type": "code",
          "checksum": "6cf27ae4202841b1f2b901ef4e3ae200",
          "grade": true,
          "grade_id": "3-2_test_code",
          "locked": true,
          "points": 1,
          "schema_version": 3,
          "solution": false,
          "task": false
        },
        "id": "4938e383",
        "outputId": "38797afc-6460-4f33-f407-9b9a2d7ce528",
        "colab": {
          "base_uri": "https://localhost:8080/",
          "height": 945
        }
      },
      "outputs": [
        {
          "output_type": "execute_result",
          "data": {
            "text/plain": [
              "(<Figure size 2160x1368 with 2 Axes>,\n",
              " {'pdp_ax': <matplotlib.axes._subplots.AxesSubplot at 0x7f92e4f4c490>,\n",
              "  'title_ax': <matplotlib.axes._subplots.AxesSubplot at 0x7f92e5003e90>})"
            ]
          },
          "metadata": {},
          "execution_count": 36
        },
        {
          "output_type": "stream",
          "name": "stderr",
          "text": [
            "findfont: Font family ['Arial'] not found. Falling back to DejaVu Sans.\n",
            "findfont: Font family ['Arial'] not found. Falling back to DejaVu Sans.\n",
            "findfont: Font family ['Arial'] not found. Falling back to DejaVu Sans.\n",
            "findfont: Font family ['Arial'] not found. Falling back to DejaVu Sans.\n"
          ]
        },
        {
          "output_type": "display_data",
          "data": {
            "text/plain": [
              "<Figure size 2160x1368 with 2 Axes>"
            ],
            "image/png": "[encoded data removed]"
          },
          "metadata": {}
        }
      ],
      "source": [
        "X_test_preprocessed_df = pd.DataFrame(X_test_preprocessed, columns=X_test.columns)\n",
        "feature = sorted(p_i, key=lambda x: x[1], reverse=True)[0][0]\n",
        "pdp_isolated = get_pdp_isolated(X_test_preprocessed_df, model, feature)\n",
        "pdp_plot(pdp_isolated, feature_name=feature)"
      ]
    },
    {
      "cell_type": "markdown",
      "id": "e2e68510",
      "metadata": {
        "deletable": false,
        "editable": false,
        "nbgrader": {
          "cell_type": "markdown",
          "checksum": "d3c61fa4d103827da9b6c069b6990d87",
          "grade": false,
          "grade_id": "cell-7060a1b0a5f0cc81",
          "locked": true,
          "schema_version": 3,
          "solution": false,
          "task": false
        },
        "id": "e2e68510"
      },
      "source": [
        "### 위 결과를 기반으로, 아래의 질문에 답해 보세요. \n",
        "- `True`/`False`로 답하고 그 이유를 한 줄로 작성하세요.\n",
        "\n",
        "\n",
        "- **문제 1.** 위 Plot은 해당 특성에 따른 실제 label값의 양상을 나타낸 것이다.\n",
        "- **문제 2.** 위 Plot은 해당 특성에 따른 모델의 label 예측값의 양상을 나타낸 것이다.\n",
        "- **문제 3.** 선형회귀 모델(Linear Regression)에서 isolated PDP는 데이터의 분포와는 무관하게 항상 직선이다.\n",
        "- **문제 4.** 선형회귀 모델(Linear Regression)의 isolated PDP에서 여러 개의 서로 다른 ICE 곡선이 나올 수 있다.\n"
      ]
    },
    {
      "cell_type": "code",
      "execution_count": 37,
      "id": "3cd16341",
      "metadata": {
        "deletable": false,
        "nbgrader": {
          "cell_type": "code",
          "checksum": "3ffba2f6720ac2c45b6c365e891609bd",
          "grade": false,
          "grade_id": "3-2_interpretation",
          "locked": false,
          "schema_version": 3,
          "solution": true,
          "task": false
        },
        "id": "3cd16341"
      },
      "outputs": [],
      "source": [
        "answer_1 = False  # True / False\n",
        "reason_1 = \"\"\n",
        "answer_2 = True  # True / False\n",
        "reason_2 = \"\"\n",
        "answer_3 = True  # True / False\n",
        "reason_3 = \"\"\n",
        "answer_4 = False  # True / False\n",
        "reason_4 = \"\"\n",
        "\n",
        "# YOUR CODE HERE\n",
        "reason_1 = \"Plot은 해당 특성에 따른 모델의 label 예측값의 양상을 나타낸 것이기 때문이다.\"\n",
        "reason_2 = \"label 예측값의 양상\"\n",
        "reason_3 = \"항상 직선이다.\"\n",
        "reason_4 = \"선형회귀 모델(Linear Regression)에서 isolated PDP는 데이터의 분포와는 무관하게 항상 직선이기 때문이다\"\n",
        "# YOUR CODE ENDS HERE"
      ]
    },
    {
      "cell_type": "code",
      "execution_count": 38,
      "id": "d180ba2b",
      "metadata": {
        "deletable": false,
        "editable": false,
        "nbgrader": {
          "cell_type": "code",
          "checksum": "8bbc216676c7a58027c11e85bb76693b",
          "grade": true,
          "grade_id": "3-2_test_interpretation",
          "locked": true,
          "points": 1,
          "schema_version": 3,
          "solution": false,
          "task": false
        },
        "id": "d180ba2b",
        "outputId": "41c7f5bd-a40f-4c2a-8311-0b1a9b429931",
        "colab": {
          "base_uri": "https://localhost:8080/"
        }
      },
      "outputs": [
        {
          "output_type": "stream",
          "name": "stdout",
          "text": [
            "A1: False Why?: Plot은 해당 특성에 따른 모델의 label 예측값의 양상을 나타낸 것이기 때문이다.\n",
            "A2: True Why?: label 예측값의 양상\n",
            "A3: True Why?: 항상 직선이다.\n",
            "A4: False Why?: 선형회귀 모델(Linear Regression)에서 isolated PDP는 데이터의 분포와는 무관하게 항상 직선이기 때문이다\n"
          ]
        }
      ],
      "source": [
        "print(\"A1:\", answer_1, \"Why?:\", reason_1)\n",
        "print(\"A2:\", answer_2, \"Why?:\", reason_2)\n",
        "print(\"A3:\", answer_3, \"Why?:\", reason_3)\n",
        "print(\"A4:\", answer_4, \"Why?:\", reason_4)\n"
      ]
    },
    {
      "cell_type": "markdown",
      "id": "61531eeb",
      "metadata": {
        "deletable": false,
        "editable": false,
        "nbgrader": {
          "cell_type": "markdown",
          "checksum": "fa36836884b0c0169c1819131b895f55",
          "grade": false,
          "grade_id": "cell-724d9ce8534e3c8d",
          "locked": true,
          "schema_version": 3,
          "solution": false,
          "task": false
        },
        "id": "61531eeb"
      },
      "source": [
        "## 3.3 2변수 PDP Plot을 생성하는 `get_pdp_interaction` 함수를 작성하세요."
      ]
    },
    {
      "cell_type": "code",
      "execution_count": 39,
      "id": "16d17890",
      "metadata": {
        "deletable": false,
        "nbgrader": {
          "cell_type": "code",
          "checksum": "8874910b312630384fab2f9a5cd8571b",
          "grade": false,
          "grade_id": "3-3",
          "locked": false,
          "schema_version": 3,
          "solution": true,
          "task": false
        },
        "id": "16d17890"
      },
      "outputs": [],
      "source": [
        "from pdpbox.pdp import pdp_interact, pdp_interact_plot\n",
        "\n",
        "def get_pdp_interaction(dataset, model, features):\n",
        "    pdp_interaction = None\n",
        "\n",
        "    # YOUR CODE HERE\n",
        "    model = permuter\n",
        "    \n",
        "    pdp_interaction = pdp_interact(\n",
        "        model=model, \n",
        "        dataset=X_test_preprocessed,\n",
        "        model_features=X_test_preprocessed.columns, \n",
        "        features=features\n",
        "        )\n",
        "    # YOUR CODE ENDS HERE\n",
        "\n",
        "    return pdp_interaction"
      ]
    },
    {
      "cell_type": "code",
      "execution_count": 40,
      "id": "572813e8",
      "metadata": {
        "deletable": false,
        "editable": false,
        "nbgrader": {
          "cell_type": "code",
          "checksum": "04809c85a8110e63431c9419cdb9e5ea",
          "grade": true,
          "grade_id": "3-3_test_code",
          "locked": true,
          "points": 1,
          "schema_version": 3,
          "solution": false,
          "task": false
        },
        "id": "572813e8",
        "outputId": "eec94706-c37a-4acb-fdf9-5f32d7b458b2",
        "colab": {
          "base_uri": "https://localhost:8080/",
          "height": 1000
        }
      },
      "outputs": [
        {
          "output_type": "execute_result",
          "data": {
            "text/plain": [
              "(<Figure size 1080x1368 with 3 Axes>,\n",
              " {'pdp_inter_ax': <matplotlib.axes._subplots.AxesSubplot at 0x7f92e34df810>,\n",
              "  'title_ax': <matplotlib.axes._subplots.AxesSubplot at 0x7f92e34c0050>})"
            ]
          },
          "metadata": {},
          "execution_count": 40
        },
        {
          "output_type": "stream",
          "name": "stderr",
          "text": [
            "findfont: Font family ['Arial'] not found. Falling back to DejaVu Sans.\n"
          ]
        },
        {
          "output_type": "display_data",
          "data": {
            "text/plain": [
              "<Figure size 1080x1368 with 3 Axes>"
            ],
            "image/png": "[encoded data removed]"
          },
          "metadata": {}
        }
      ],
      "source": [
        "features = list(map(lambda x: x[0], sorted(p_i, key=lambda x: x[1], reverse=True)))[:2]\n",
        "pdp_interaction = get_pdp_interaction(X_test_preprocessed_df, model, features)\n",
        "pdp_interact_plot(pdp_interaction, feature_names=features, plot_type=\"grid\")"
      ]
    },
    {
      "cell_type": "markdown",
      "id": "0a2fdeb7",
      "metadata": {
        "id": "0a2fdeb7"
      },
      "source": [
        "---"
      ]
    },
    {
      "cell_type": "markdown",
      "id": "d8c06424",
      "metadata": {
        "id": "d8c06424"
      },
      "source": [
        "# 수고하셨습니다!"
      ]
    }
  ],
  "metadata": {
    "kernelspec": {
      "display_name": "Python 3 (ipykernel)",
      "language": "python",
      "name": "python3"
    },
    "language_info": {
      "codemirror_mode": {
        "name": "ipython",
        "version": 3
      },
      "file_extension": ".py",
      "mimetype": "text/x-python",
      "name": "python",
      "nbconvert_exporter": "python",
      "pygments_lexer": "ipython3",
      "version": "3.8.9"
    },
    "colab": {
      "name": "Part1_3.ipynb",
      "provenance": []
    }
  },
  "nbformat": 4,
  "nbformat_minor": 5
}