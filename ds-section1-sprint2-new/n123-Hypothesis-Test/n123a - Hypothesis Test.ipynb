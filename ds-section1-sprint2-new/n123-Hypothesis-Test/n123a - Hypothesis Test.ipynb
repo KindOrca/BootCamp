{
  "cells": [
    {
      "cell_type": "markdown",
      "metadata": {
        "id": "t_U_6S26AuYq"
      },
      "source": [
        "<img src='https://user-images.githubusercontent.com/6457691/89746244-a6e2a200-daf3-11ea-9314-7863d544d73c.png' width = '200' align = 'right'>\n",
        "\n",
        "## *DATA SCIENCE / SECTION 1 / SPRINT 2 / NOTE 3*\n",
        "\n",
        "---\n",
        "\n",
        "# 📝 Assignment"
      ]
    },
    {
      "cell_type": "code",
      "execution_count": 2,
      "metadata": {
        "colab": {
          "base_uri": "https://localhost:8080/",
          "height": 362
        },
        "id": "nxI0EC-X2fXp",
        "outputId": "d84c16df-3244-4a70-ce1e-60bb9fade543"
      },
      "outputs": [
        {
          "output_type": "stream",
          "name": "stdout",
          "text": [
            "Looking in indexes: https://pypi.org/simple, https://us-python.pkg.dev/colab-wheels/public/simple/\n",
            "Requirement already satisfied: scipy in /usr/local/lib/python3.7/dist-packages (1.4.1)\n",
            "Collecting scipy\n",
            "  Downloading scipy-1.7.3-cp37-cp37m-manylinux_2_12_x86_64.manylinux2010_x86_64.whl (38.1 MB)\n",
            "\u001b[K     |████████████████████████████████| 38.1 MB 1.2 MB/s \n",
            "\u001b[?25hRequirement already satisfied: numpy<1.23.0,>=1.16.5 in /usr/local/lib/python3.7/dist-packages (from scipy) (1.21.6)\n",
            "Installing collected packages: scipy\n",
            "  Attempting uninstall: scipy\n",
            "    Found existing installation: scipy 1.4.1\n",
            "    Uninstalling scipy-1.4.1:\n",
            "      Successfully uninstalled scipy-1.4.1\n",
            "\u001b[31mERROR: pip's dependency resolver does not currently take into account all the packages that are installed. This behaviour is the source of the following dependency conflicts.\n",
            "albumentations 0.1.12 requires imgaug<0.2.7,>=0.2.5, but you have imgaug 0.2.9 which is incompatible.\u001b[0m\n",
            "Successfully installed scipy-1.7.3\n"
          ]
        },
        {
          "output_type": "display_data",
          "data": {
            "application/vnd.colab-display-data+json": {
              "pip_warning": {
                "packages": [
                  "scipy"
                ]
              }
            }
          },
          "metadata": {}
        }
      ],
      "source": [
        "# 아래의 코드를 실행해 주세요. \n",
        "!pip install scipy --upgrade"
      ]
    },
    {
      "cell_type": "code",
      "execution_count": 3,
      "metadata": {
        "colab": {
          "base_uri": "https://localhost:8080/",
          "height": 35
        },
        "id": "2QLRviTlNmR7",
        "outputId": "46cc4b16-e1f6-4f99-b0d1-d863904fe099"
      },
      "outputs": [
        {
          "output_type": "execute_result",
          "data": {
            "text/plain": [
              "'1.4.1'"
            ],
            "application/vnd.google.colaboratory.intrinsic+json": {
              "type": "string"
            }
          },
          "metadata": {},
          "execution_count": 3
        }
      ],
      "source": [
        "# 버전 확인 \n",
        "import scipy\n",
        "\n",
        "scipy.__version__"
      ]
    },
    {
      "cell_type": "markdown",
      "metadata": {
        "id": "tevnGzYICcze"
      },
      "source": [
        "# 1. One-Sample T-test \n",
        "한 샘플의 평균값과 특정값(모수)을 비교하는 검정 방법입니다.\n",
        "\n",
        "$H_0$ : $\\mu_{sample} = \\mu_{population}$\n",
        "\n",
        "$H_a$ : $\\mu_{sample} ≠ \\mu_{population}$ \n",
        "\n",
        "- 데이터 불러오기 <br>\n",
        "  [서울시 가로수 데이터셋](https://data.seoul.go.kr/dataList/367/S/2/datasetView.do)을 사용합니다. 다음 링크를 참조하세요. <br>\n",
        "<https://ds-lecture-data.s3.ap-northeast-2.amazonaws.com/seoul_tree/seoul_tree.txt>\n",
        "\n",
        "- 서울시 구별 `이팝나무` 데이터를 모집단으로 하였을 때, 10개의 구를 샘플링한 `이팝나무` 수의 평균과 모집단의 평균을 비교하는 가설검정을 시행하세요.   \n",
        "  - `서울시`, `공원녹지사업소`, `시설관리공단` 데이터는 제외합니다. \n",
        "  - 10개의 구를 중복을 허용하여 샘플링합니다. \n",
        "    - seed는 123으로 설정하세요. \n",
        "  - scipy 라이브러리의 `.ttest_1samp()`를 사용합니다. <br>\n",
        "    https://docs.scipy.org/doc/scipy/reference/generated/scipy.stats.ttest_1samp.html\n",
        "  - 가설검정 결과의 p-value 값을 `pv1`에 저장하세요. (`.pvalue`를 사용합니다.)"
      ]
    },
    {
      "cell_type": "markdown",
      "source": [
        ""
      ],
      "metadata": {
        "id": "P99HIq0Nal_S"
      }
    },
    {
      "cell_type": "code",
      "execution_count": 73,
      "metadata": {
        "id": "93yujFxzQ6yN"
      },
      "outputs": [],
      "source": [
        "import pandas as pd\n",
        "import numpy as np\n",
        "from scipy import stats\n",
        "\n",
        "url = 'https://ds-lecture-data.s3.ap-northeast-2.amazonaws.com/seoul_tree/seoul_tree.txt'\n",
        "\n",
        "df = pd.read_csv(url, sep = '\\t', header = 1)\n",
        "df_yipop = df[['기간', '자치구','이팝나무']]\n",
        "df_yipop = df_yipop.query('자치구 not in [\\'서울시\\', \\'공원녹지사업소\\', \\'시설관리공단\\']')\n",
        "df_yipop['이팝나무'] = df_yipop['이팝나무'].str.replace(',','').astype(float)\n",
        "mean_yipop = df_yipop['이팝나무'].mean()\n",
        "\n",
        "\n",
        "sample_yipop = df_yipop.sample(10, random_state = 123, replace = True)\n",
        "\n",
        "result = stats.ttest_1samp(sample_yipop.이팝나무, mean_yipop)\n",
        "\n",
        "pv1 = result.pvalue"
      ]
    },
    {
      "cell_type": "markdown",
      "metadata": {
        "id": "cB3xOGTv2Q8d"
      },
      "source": [
        "# 2. Two-Sample T-test\n",
        "두 샘플의 평균값을 비교하는 검정 방법입니다. \n",
        "\n",
        "$H_0$ : $\\mu_1 = \\mu_2$\n",
        "\n",
        "$H_a$ : $\\mu_1 ≠ \\mu_2$\n",
        "\n",
        "- 단측 검정(One-tailed Test)을 사용하여 평균 `느티나무` 수와 평균 `왕벚나무` 수를 비교하는 가설검정을 시행하세요. \n",
        "  - `서울시`, `공원녹지사업소`, `시설관리공단` 데이터는 제외합니다. \n",
        "  - scipy 라이브러리의 `.ttest_ind()`를 사용합니다.\n",
        "\n",
        "    https://docs.scipy.org/doc/scipy/reference/generated/scipy.stats.ttest_ind.html\n",
        "  - '평균 느티나무 수가 왕벚나무 수보다 통계적으로 유의미하게 크다'는 가설검정 결과의 pvalue 값을 `pv2`에 저장하세요. \n",
        "  - '평균 왕벚나무 수가 느티나무 수보다 통계적으로 유의미하게 크다'는 가설검정 결과의 pvalue 값을 `pv3`에 저장하세요. \n",
        "  - 평균 `느티나무` 수와 평균 `왕벚나무` 수를 비교하는 가설검정 결과를 `ans`에 저장하세요. 이때 `ans`는 다음 세 가지 중 하나입니다. \n",
        "    - 느티나무 (평균 느티나무 수가 왕벚나무 수보다 통계적으로 유의하게 큰 경우)\n",
        "    - 왕벚나무 (평균 왕벚나무 수가 느티나무 수보다 통계적으로 유의하게 큰 경우)\n",
        "    - 같다. (통계적으로 유의미한 차이가 없다.) "
      ]
    },
    {
      "cell_type": "code",
      "source": [
        "df = df.query('자치구 not in [\\'서울시\\', \\'공원녹지사업소\\', \\'시설관리공단\\']')\n",
        "df['느티나무'] = df['느티나무'].str.replace(',','').astype(float)\n",
        "df['왕벚나무'] = df['왕벚나무'].str.replace(',','').astype(float)"
      ],
      "metadata": {
        "id": "GnHW9hmfnD4z",
        "outputId": "14fb9956-56ca-4cf3-a5c4-22496c5198cf",
        "colab": {
          "base_uri": "https://localhost:8080/"
        }
      },
      "execution_count": 76,
      "outputs": [
        {
          "output_type": "stream",
          "name": "stderr",
          "text": [
            "/usr/local/lib/python3.7/dist-packages/ipykernel_launcher.py:2: SettingWithCopyWarning: \n",
            "A value is trying to be set on a copy of a slice from a DataFrame.\n",
            "Try using .loc[row_indexer,col_indexer] = value instead\n",
            "\n",
            "See the caveats in the documentation: https://pandas.pydata.org/pandas-docs/stable/user_guide/indexing.html#returning-a-view-versus-a-copy\n",
            "  \n",
            "/usr/local/lib/python3.7/dist-packages/ipykernel_launcher.py:3: SettingWithCopyWarning: \n",
            "A value is trying to be set on a copy of a slice from a DataFrame.\n",
            "Try using .loc[row_indexer,col_indexer] = value instead\n",
            "\n",
            "See the caveats in the documentation: https://pandas.pydata.org/pandas-docs/stable/user_guide/indexing.html#returning-a-view-versus-a-copy\n",
            "  This is separate from the ipykernel package so we can avoid doing imports until\n"
          ]
        }
      ]
    },
    {
      "cell_type": "code",
      "execution_count": 77,
      "metadata": {
        "id": "ZbWBvbFaQ-0y",
        "outputId": "4e412204-c8c8-4021-cb24-a9fa3a68b63e",
        "colab": {
          "base_uri": "https://localhost:8080/"
        }
      },
      "outputs": [
        {
          "output_type": "stream",
          "name": "stdout",
          "text": [
            "0.32275484400428517 0.6772451559957149\n"
          ]
        }
      ],
      "source": [
        "pv2 = stats.ttest_ind(df['느티나무'], df['왕벚나무'], alternative = 'greater').pvalue\n",
        "pv3 = stats.ttest_ind(df['느티나무'], df['왕벚나무'], alternative = 'less').pvalue\n",
        "print(pv2, pv3)"
      ]
    },
    {
      "cell_type": "code",
      "source": [
        "pivot = 0.05\n",
        "\n",
        "if pv2 < pivot:\n",
        "    ans = '느티나무'\n",
        "elif pv3 < pivot:\n",
        "    ans = '왕벚나무'\n",
        "else:\n",
        "    ans = '같다.'\n",
        "\n",
        "ans"
      ],
      "metadata": {
        "id": "zx7VCiiSvo1U",
        "outputId": "a49a4b00-b53b-4cff-bd78-cf8472875012",
        "colab": {
          "base_uri": "https://localhost:8080/",
          "height": 35
        }
      },
      "execution_count": 122,
      "outputs": [
        {
          "output_type": "execute_result",
          "data": {
            "text/plain": [
              "'같다.'"
            ],
            "application/vnd.google.colaboratory.intrinsic+json": {
              "type": "string"
            }
          },
          "metadata": {},
          "execution_count": 122
        }
      ]
    },
    {
      "cell_type": "markdown",
      "metadata": {
        "id": "O0uBOhE-tej3"
      },
      "source": [
        "# 🔥 도전과제\n",
        "\n",
        "**다음은 대표적인 4가지 sampling 방식을 설명한 것입니다.**\n",
        "\n",
        "- Simple Random Sampling\n",
        "  \n",
        "    : 모집단에서 무작위로 추출하는 방식입니다.\n",
        "\n",
        "    <img src = 'https://i.imgur.com/VveWJJf.png' width=150>\n",
        "- Systematic Sampling\n",
        "\n",
        "    : 모집단에서 규칙을 가지고 추출하는 방식입니다. ex) 1, 6, 11, 16, ... 번째의 데이터 선택 \n",
        "\n",
        "    <img src = 'https://i.imgur.com/u5otXyy.png' width=150> \n",
        "- Stratified Random Sampling\n",
        "\n",
        "    : 모집단을 여러 그룹으로 나누고, 각 그룹에서 무작위로 추출하는 방식입니다. ex) 여론 조사에서 나이대별로 무작위 추출 \n",
        "\n",
        "    <img src = 'https://i.imgur.com/3KPzuDx.png' width=150>\n",
        "- Cluster Sampling\n",
        "\n",
        "    : 모집단을 여러 그룹으로 나누고, 특정 그룹을 무작위로 선택하는 방식입니다. \n",
        "\n",
        "    <img src = 'https://i.imgur.com/m9eJ3nN.png' width=150>"
      ]
    },
    {
      "cell_type": "markdown",
      "metadata": {
        "id": "BMjbHDYiRPBY"
      },
      "source": [
        "## Sampling\n",
        "\n",
        "- 위의 4가지 sampling 방식을 구현해 봅니다.\n",
        "\n",
        "  - 모집단은 1부터 100까지 담은 numpy array이며, Sampling 하는 데이터 수는 20개입니다.\n",
        "\n",
        "  - Stratified Random Sampling을 위한 그룹을 나누는 기준은 1-10, 11-20, ... 과 같은 방식입니다.\n",
        "\n",
        "  - Cluster Sampling에서 그룹을 나누는 기준은 5로 나눴을 때의 나머지 값입니다. (0,1,2,3,4)"
      ]
    },
    {
      "cell_type": "code",
      "execution_count": 121,
      "metadata": {
        "id": "s8Q6FblHTnSE",
        "outputId": "f7b68b5f-728b-403c-ad32-fa7de9b79d23",
        "colab": {
          "base_uri": "https://localhost:8080/"
        }
      },
      "outputs": [
        {
          "output_type": "execute_result",
          "data": {
            "text/plain": [
              "[3, 8, 13, 18, 23, 28, 33, 38, 43, 48, 53, 58, 63, 68, 73, 78, 83, 88, 93, 98]"
            ]
          },
          "metadata": {},
          "execution_count": 121
        }
      ],
      "source": [
        "pop = np.array([i for i in range(1,101)])\n",
        "from sklearn.model_selection import train_test_split\n",
        "# Simple Random Sampling\n",
        "sim_sample = np.random.choice(pop, 20)\n",
        "\n",
        "# Systematic Sampling\n",
        "def sys_sample(data, n):\n",
        "  sys_sample = []\n",
        "  K = len(data) // n\n",
        "  i = 0\n",
        "  while len(sys_sample) < n:\n",
        "    sys_sample.append(data[i])\n",
        "    i = i + K\n",
        "  return sys_sample\n",
        "sys_sample(pop, 20)\n",
        "\n",
        "# Stratified Random Sampling\n",
        "def str_sample(data):\n",
        "  str_sample = []\n",
        "  for i in range(10):\n",
        "    k = 10 * i\n",
        "    str_sample += list(np.random.choice(data[k:k+10], 2, replace = False))\n",
        "  return str_sample\n",
        "str_sample(pop)\n",
        "str_sample(pop)\n",
        "\n",
        "# Cluster Sampling\n",
        "def clu_sample(data):\n",
        "  clu_sample = []\n",
        "  i = np.random.choice(np.array([0,1,2,3,4]))\n",
        "  for t in range(100):\n",
        "    if t % 5 == i:\n",
        "      clu_sample.append(data[t])\n",
        "  return clu_sample\n",
        "clu_sample(pop)"
      ]
    }
  ],
  "metadata": {
    "colab": {
      "collapsed_sections": [],
      "name": "n123a - Hypothesis Test.ipynb",
      "provenance": []
    },
    "kernelspec": {
      "display_name": "Python 3",
      "name": "python3"
    },
    "language_info": {
      "name": "python"
    }
  },
  "nbformat": 4,
  "nbformat_minor": 0
}