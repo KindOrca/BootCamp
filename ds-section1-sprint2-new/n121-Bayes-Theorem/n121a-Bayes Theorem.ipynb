{
  "cells": [
    {
      "cell_type": "markdown",
      "metadata": {
        "id": "H7OLbevlbd_Z"
      },
      "source": [
        "<img src='https://i.imgur.com/RDAD11M.png' width = '200' align = 'right'>\n",
        "\n",
        "## *DATA SCIENCE / SECTION 1 / SPRINT 2 / NOTE 1*\n",
        "\n",
        "---\n",
        "\n",
        "# 📝 Assignment"
      ]
    },
    {
      "cell_type": "markdown",
      "metadata": {
        "id": "lPwZPpad3UOc"
      },
      "source": [
        "# 1. Multiple Choice Test\n",
        "\n",
        "객관식 문제를 푸는 과정에서, 학생은 답을 이미 알고 있거나 찍어야 합니다. \n",
        "\n",
        "학생이 답을 알 확률은 $p$이고, 답을 찍어서 맞출 확률은 $1\\over{m}$입니다. \n",
        "\n",
        "$m$과 $p$를 입력받아 학생이 문제의 답을 맞췄을 때 답을 알고 있었을 확률을 계산하는 함수를 작성하세요."
      ]
    },
    {
      "cell_type": "code",
      "execution_count": null,
      "metadata": {
        "id": "trk9r0Tc97Mc"
      },
      "outputs": [],
      "source": [
        "def correct(p, m):\n",
        "  return p/(p + 1/m * (1-p))"
      ]
    },
    {
      "cell_type": "markdown",
      "metadata": {
        "id": "MttKho9sgLdg"
      },
      "source": [
        "# 2. Blood Test\n",
        "\n",
        "특정 질병을 가지고 있는 경우 **`tpr`** 의 확률로 탐지할 수 있는 실험 방법이 있습니다.\n",
        "\n",
        "그러나 동시에 이 방법은 **`fpr`** 의 확률로 질병이 없지만 질병이 있다고 진단하는 경우도 있는데요.\n",
        "\n",
        "실제로 모든 인구 중 이 질병을 가지고 있을 확률은 **`\bprior`** 입니다.\n",
        "\n",
        "특정 사람이 이 방법을 통해 질병이 있다고 진단받았을 때, 실제로 질병을 가지고 있을 확률을 구하는 함수를 작성하세요."
      ]
    },
    {
      "cell_type": "code",
      "execution_count": null,
      "metadata": {
        "id": "qKYGZ5fkFjQ-"
      },
      "outputs": [],
      "source": [
        "def disease(prior, tpr, fpr):\n",
        "  return prior*tpr/(prior*tpr + (1-prior)*fpr)"
      ]
    },
    {
      "cell_type": "markdown",
      "metadata": {
        "id": "GP7Jv1XvwtkX"
      },
      "source": [
        "# 🔥 도전 과제:"
      ]
    },
    {
      "cell_type": "markdown",
      "metadata": {
        "id": "M3WuZEGM3UOd"
      },
      "source": [
        "## 다음 문제를 읽고 답을 구하세요 .\n",
        "> Source : Introduction to Probability and Statistics for Engineers and Scientists, 4th Ed.\n",
        "\n",
        "At a certain stage of a criminal investigation, the inspector in charge is **60%** convinced of the guilty of a certain suspect. <br>\n",
        "Suppose now that a new piece of evidence that shows that the criminal has a left-handedness is uncovered. <br>\n",
        "If **20% of population possesses this characteristic**, how certain of the guilt of the suspect should the inspector now be if it turns out that the suspect is among this group? <br>"
      ]
    },
    {
      "cell_type": "code",
      "execution_count": null,
      "metadata": {
        "id": "YznrYKFzgLdh"
      },
      "outputs": [],
      "source": [
        "# P(A) = 60% (3/5)\n",
        "# ans = P / (P + (1 - P)*(0.2)) = 0.6 / 0.68 = 0.8823\n",
        "# 88.23%"
      ]
    },
    {
      "cell_type": "markdown",
      "metadata": {
        "id": "fK2Kbs9UgLdi"
      },
      "source": [
        "After that, the new evidence is subject to different possible interpretations, and in fact only shows that it is **90% likely that the criminal possess this characteristic**.  \n",
        "In this case how likely would it be that the suspect is guilty?"
      ]
    },
    {
      "cell_type": "code",
      "execution_count": null,
      "metadata": {
        "id": "7Qq22-wDgLdi"
      },
      "outputs": [],
      "source": [
        "# P(A) = 60% (3/5)\n",
        "# 범인이 왼손잡이가 무조건 맞다고 생각한 이후 유죄일 가능성 88.23% (이전문제와 동일)  - [1]\n",
        "# 왼손잡이가 범인의 특성이 맞을 확률 : 90%  - [2]\n",
        "# 오른손잡이가 범인의 특성이 맞을 확률 : 10%  - [3]\n",
        "# ans = [1] * [2] + (범인이 오른손잡이가 무조건 맞다고 생각한 이후 유죄일 가능성) * [3]\n",
        "# 범인이 오른손 ~ : P / (P + (1 - P)*(0.8)) = 0.6 / 0.92 = 0.6522\n",
        "# ans = 0.8823 * 0.9 + 0.6522 * 0.1 = 0.8593\n",
        "# 85.93%"
      ]
    }
  ],
  "metadata": {
    "colab": {
      "collapsed_sections": [],
      "name": "n124a-bayesian-inference.ipynb",
      "provenance": []
    },
    "kernelspec": {
      "display_name": "Python 3",
      "language": "python",
      "name": "python3"
    },
    "language_info": {
      "codemirror_mode": {
        "name": "ipython",
        "version": 3
      },
      "file_extension": ".py",
      "mimetype": "text/x-python",
      "name": "python",
      "nbconvert_exporter": "python",
      "pygments_lexer": "ipython3",
      "version": "3.9.4"
    }
  },
  "nbformat": 4,
  "nbformat_minor": 0
}