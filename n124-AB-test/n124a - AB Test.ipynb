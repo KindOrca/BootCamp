{
  "nbformat": 4,
  "nbformat_minor": 0,
  "metadata": {
    "colab": {
      "name": "n124a - AB Test.ipynb",
      "provenance": [],
      "collapsed_sections": [
        "ItLEp1qk0qqy",
        "UF5wf3P9gBKb"
      ]
    },
    "kernelspec": {
      "name": "python3",
      "display_name": "Python 3"
    },
    "language_info": {
      "name": "python"
    }
  },
  "cells": [
    {
      "cell_type": "markdown",
      "source": [
        "<img src='https://user-images.githubusercontent.com/6457691/89746244-a6e2a200-daf3-11ea-9314-7863d544d73c.png' width = '200' align = 'right'>\n",
        "\n",
        "## *DATA SCIENCE / SECTION 1 / SPRINT 2 / NOTE 4*\n",
        "\n",
        "---\n",
        "\n",
        "# 📝 Assignment"
      ],
      "metadata": {
        "id": "WvoDZ4JU0j57"
      }
    },
    {
      "cell_type": "markdown",
      "source": [
        "# 1. EDA\n",
        "- kaggle의 marketing promotion campaign 데이터셋을 이용합니다. 다음 링크에서 다운받으세요.\n",
        "\n",
        "  https://www.kaggle.com/davinwijaya/customer-retention\n",
        "\n",
        "- 데이터셋을 불러옵니다. \n",
        "\n",
        "- 샘플 사이즈를 확인합니다. \n",
        "  - 샘플 사이즈가 충분한지 확인해 보세요. \n",
        "\n",
        "- 결측치 및 데이터 타입을 확인합니다. \n",
        "  - 데이터 타입이 적절한지 확인해 보세요. \n",
        "\n",
        "- 중복된 데이터를 확인 후 제거합니다. \n",
        "\n",
        "- `history` 컬럼에서 이상치를 확인합니다.\n",
        "  - box plot을 그려 보세요. \n",
        "  - histogram을 그려 보세요. \n",
        "  - 이상치를 제거합니다. \n",
        "\n",
        "- `used_bogo` 컬럼에서 이전에 1+1을 사용한 고객(1)과 사용하지 않은 고객(0)의 비율을 확인합니다. \n",
        "  - bar plot으로 나타내 보세요. "
      ],
      "metadata": {
        "id": "ItLEp1qk0qqy"
      }
    },
    {
      "cell_type": "code",
      "source": [
        "# 이 곳에 답안을 작성하시기 바랍니다."
      ],
      "metadata": {
        "id": "Y7ql8359onN2"
      },
      "execution_count": null,
      "outputs": []
    },
    {
      "cell_type": "markdown",
      "source": [
        "# 2. 가설검정 \n",
        "- 귀무가설과 대립가설을 설정하세요. \n",
        "- `used_bogo` 컬럼에 대해서 다음 전환율(CTR)을 확인하세요. \n",
        "  - 전체 데이터셋\n",
        "  - 대조군(control) 그룹 (`used_bogo==0`)\n",
        "  - 실험군(experiment) 그룹 (`used_bogo==1`) \n",
        "  - 두 그룹의 전환율 차이(실험군 CTR $-$ 대조군 CTR)를 변수 `ctr_diff`에 저장하세요. \n",
        "- choice method를 사용하여 가설검정을 진행한 후 결과를 해석하세요. \n",
        "  - 대조군 그룹의 귀무가설 simulate\n",
        "  - 실험군 그룹의 귀무가설 Simulate\n",
        "  - 실험군과 대조군 그룹 평균 차이의 귀무가설 simulate \n",
        "- binomial distribution을 사용하여 가설검정을 진행한 후 결과를 해석하세요. \n",
        "- z-test를 사용하여 가설검정을 진행한 후 결과를 해석하세요. \n"
      ],
      "metadata": {
        "id": "UF5wf3P9gBKb"
      }
    },
    {
      "cell_type": "code",
      "source": [
        "# 이 곳에 답안을 작성하시기 바랍니다."
      ],
      "metadata": {
        "id": "iXakiLOTovuu"
      },
      "execution_count": null,
      "outputs": []
    },
    {
      "cell_type": "markdown",
      "source": [
        "# 🔥 도전과제"
      ],
      "metadata": {
        "id": "xtkDFlwfbY59"
      }
    },
    {
      "cell_type": "markdown",
      "source": [
        "## ANOVA\n",
        "\n",
        "우리는 지금까지 한 표본 또는 두 표본에 대해서 가설검정을 시행해 보았습니다.\n",
        "\n",
        "그렇다면 표본이 세 개 이상일 때는 어떻게 가설검정을 할 수 있을까요? \n",
        "\n",
        "다음 링크를 통해 ANOVA에 대한 글을 읽고, 주어진 4개 그룹의 평균에 대하여 차이가 있는지 가설검정을 시행하세요. \n",
        "\n",
        "https://partrita.github.io/posts/ANOVA-python/\n",
        "\n",
        "```\n",
        "A : 38 33 35 92 76 97 88 41 11 9\n",
        "B : 18 52 62 48 30 40 87 12 97 82\n",
        "C : 28 90 5 49 66 73 96 80 4 17\n",
        "D : 8 99 4 12 7 64 18 10 9 20\n",
        "```"
      ],
      "metadata": {
        "id": "6pYRCJiZn1Fx"
      }
    },
    {
      "cell_type": "code",
      "source": [
        "# 이 곳에 답안을 작성하시기 바랍니다. "
      ],
      "metadata": {
        "id": "IMiYEXAuoaD9"
      },
      "execution_count": null,
      "outputs": []
    }
  ]
}